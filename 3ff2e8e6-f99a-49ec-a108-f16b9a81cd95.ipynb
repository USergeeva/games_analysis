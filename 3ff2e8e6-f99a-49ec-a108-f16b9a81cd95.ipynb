{
 "cells": [
  {
   "cell_type": "code",
   "execution_count": null,
   "metadata": {},
   "outputs": [],
   "source": []
  },
  {
   "cell_type": "markdown",
   "metadata": {},
   "source": [
    "# 1.Изучение данных из файлов"
   ]
  },
  {
   "cell_type": "code",
   "execution_count": 1,
   "metadata": {},
   "outputs": [],
   "source": [
    "#Импортируем нужные нам библиотеки\n",
    "import pandas as pd\n",
    "import numpy as np\n",
    "import seaborn as sns\n",
    "from scipy import stats as st\n",
    "import matplotlib.pyplot as plt"
   ]
  },
  {
   "cell_type": "code",
   "execution_count": 2,
   "metadata": {},
   "outputs": [],
   "source": [
    "#Читаем датафрейм\n",
    "games_df = pd.read_csv('/datasets/games.csv')"
   ]
  },
  {
   "cell_type": "code",
   "execution_count": 3,
   "metadata": {},
   "outputs": [
    {
     "data": {
      "text/html": [
       "<div>\n",
       "<style scoped>\n",
       "    .dataframe tbody tr th:only-of-type {\n",
       "        vertical-align: middle;\n",
       "    }\n",
       "\n",
       "    .dataframe tbody tr th {\n",
       "        vertical-align: top;\n",
       "    }\n",
       "\n",
       "    .dataframe thead th {\n",
       "        text-align: right;\n",
       "    }\n",
       "</style>\n",
       "<table border=\"1\" class=\"dataframe\">\n",
       "  <thead>\n",
       "    <tr style=\"text-align: right;\">\n",
       "      <th></th>\n",
       "      <th>Name</th>\n",
       "      <th>Platform</th>\n",
       "      <th>Year_of_Release</th>\n",
       "      <th>Genre</th>\n",
       "      <th>NA_sales</th>\n",
       "      <th>EU_sales</th>\n",
       "      <th>JP_sales</th>\n",
       "      <th>Other_sales</th>\n",
       "      <th>Critic_Score</th>\n",
       "      <th>User_Score</th>\n",
       "      <th>Rating</th>\n",
       "    </tr>\n",
       "  </thead>\n",
       "  <tbody>\n",
       "    <tr>\n",
       "      <th>0</th>\n",
       "      <td>Wii Sports</td>\n",
       "      <td>Wii</td>\n",
       "      <td>2006.0</td>\n",
       "      <td>Sports</td>\n",
       "      <td>41.36</td>\n",
       "      <td>28.96</td>\n",
       "      <td>3.77</td>\n",
       "      <td>8.45</td>\n",
       "      <td>76.0</td>\n",
       "      <td>8</td>\n",
       "      <td>E</td>\n",
       "    </tr>\n",
       "    <tr>\n",
       "      <th>1</th>\n",
       "      <td>Super Mario Bros.</td>\n",
       "      <td>NES</td>\n",
       "      <td>1985.0</td>\n",
       "      <td>Platform</td>\n",
       "      <td>29.08</td>\n",
       "      <td>3.58</td>\n",
       "      <td>6.81</td>\n",
       "      <td>0.77</td>\n",
       "      <td>NaN</td>\n",
       "      <td>NaN</td>\n",
       "      <td>NaN</td>\n",
       "    </tr>\n",
       "    <tr>\n",
       "      <th>2</th>\n",
       "      <td>Mario Kart Wii</td>\n",
       "      <td>Wii</td>\n",
       "      <td>2008.0</td>\n",
       "      <td>Racing</td>\n",
       "      <td>15.68</td>\n",
       "      <td>12.76</td>\n",
       "      <td>3.79</td>\n",
       "      <td>3.29</td>\n",
       "      <td>82.0</td>\n",
       "      <td>8.3</td>\n",
       "      <td>E</td>\n",
       "    </tr>\n",
       "    <tr>\n",
       "      <th>3</th>\n",
       "      <td>Wii Sports Resort</td>\n",
       "      <td>Wii</td>\n",
       "      <td>2009.0</td>\n",
       "      <td>Sports</td>\n",
       "      <td>15.61</td>\n",
       "      <td>10.93</td>\n",
       "      <td>3.28</td>\n",
       "      <td>2.95</td>\n",
       "      <td>80.0</td>\n",
       "      <td>8</td>\n",
       "      <td>E</td>\n",
       "    </tr>\n",
       "    <tr>\n",
       "      <th>4</th>\n",
       "      <td>Pokemon Red/Pokemon Blue</td>\n",
       "      <td>GB</td>\n",
       "      <td>1996.0</td>\n",
       "      <td>Role-Playing</td>\n",
       "      <td>11.27</td>\n",
       "      <td>8.89</td>\n",
       "      <td>10.22</td>\n",
       "      <td>1.00</td>\n",
       "      <td>NaN</td>\n",
       "      <td>NaN</td>\n",
       "      <td>NaN</td>\n",
       "    </tr>\n",
       "  </tbody>\n",
       "</table>\n",
       "</div>"
      ],
      "text/plain": [
       "                       Name Platform  Year_of_Release         Genre  NA_sales  \\\n",
       "0                Wii Sports      Wii           2006.0        Sports     41.36   \n",
       "1         Super Mario Bros.      NES           1985.0      Platform     29.08   \n",
       "2            Mario Kart Wii      Wii           2008.0        Racing     15.68   \n",
       "3         Wii Sports Resort      Wii           2009.0        Sports     15.61   \n",
       "4  Pokemon Red/Pokemon Blue       GB           1996.0  Role-Playing     11.27   \n",
       "\n",
       "   EU_sales  JP_sales  Other_sales  Critic_Score User_Score Rating  \n",
       "0     28.96      3.77         8.45          76.0          8      E  \n",
       "1      3.58      6.81         0.77           NaN        NaN    NaN  \n",
       "2     12.76      3.79         3.29          82.0        8.3      E  \n",
       "3     10.93      3.28         2.95          80.0          8      E  \n",
       "4      8.89     10.22         1.00           NaN        NaN    NaN  "
      ]
     },
     "metadata": {},
     "output_type": "display_data"
    }
   ],
   "source": [
    "#Выводим датафрейм\n",
    "display(games_df.head(5))"
   ]
  },
  {
   "cell_type": "markdown",
   "metadata": {},
   "source": [
    "Первым делом нам бросается в глаза написание названий колонок в верхнем регистре, в следующем шаге исправим это"
   ]
  },
  {
   "cell_type": "markdown",
   "metadata": {},
   "source": [
    "# 2.Предобработка данных"
   ]
  },
  {
   "cell_type": "code",
   "execution_count": 4,
   "metadata": {},
   "outputs": [],
   "source": [
    "#Исправляем регистр с помощью str.lower()\n",
    "games_df.columns = games_df.columns.str.lower()"
   ]
  },
  {
   "cell_type": "markdown",
   "metadata": {},
   "source": [
    "Нужно проверить значения на уникальность (отсутсвие неявных дубликатов) в нескольких столбцах"
   ]
  },
  {
   "cell_type": "code",
   "execution_count": 5,
   "metadata": {},
   "outputs": [
    {
     "data": {
      "text/plain": [
       "array(['Sports', 'Platform', 'Racing', 'Role-Playing', 'Puzzle', 'Misc',\n",
       "       'Shooter', 'Simulation', 'Action', 'Fighting', 'Adventure',\n",
       "       'Strategy', nan], dtype=object)"
      ]
     },
     "execution_count": 5,
     "metadata": {},
     "output_type": "execute_result"
    }
   ],
   "source": [
    "games_df['genre'].unique()"
   ]
  },
  {
   "cell_type": "code",
   "execution_count": 6,
   "metadata": {},
   "outputs": [
    {
     "data": {
      "text/plain": [
       "array(['Wii', 'NES', 'GB', 'DS', 'X360', 'PS3', 'PS2', 'SNES', 'GBA',\n",
       "       'PS4', '3DS', 'N64', 'PS', 'XB', 'PC', '2600', 'PSP', 'XOne',\n",
       "       'WiiU', 'GC', 'GEN', 'DC', 'PSV', 'SAT', 'SCD', 'WS', 'NG', 'TG16',\n",
       "       '3DO', 'GG', 'PCFX'], dtype=object)"
      ]
     },
     "execution_count": 6,
     "metadata": {},
     "output_type": "execute_result"
    }
   ],
   "source": [
    "games_df['platform'].unique()"
   ]
  },
  {
   "cell_type": "code",
   "execution_count": 7,
   "metadata": {},
   "outputs": [
    {
     "data": {
      "text/plain": [
       "array(['E', nan, 'M', 'T', 'E10+', 'K-A', 'AO', 'EC', 'RP'], dtype=object)"
      ]
     },
     "execution_count": 7,
     "metadata": {},
     "output_type": "execute_result"
    }
   ],
   "source": [
    "games_df['rating'].unique()"
   ]
  },
  {
   "cell_type": "code",
   "execution_count": 8,
   "metadata": {},
   "outputs": [
    {
     "name": "stdout",
     "output_type": "stream",
     "text": [
      "<class 'pandas.core.frame.DataFrame'>\n",
      "RangeIndex: 16715 entries, 0 to 16714\n",
      "Data columns (total 11 columns):\n",
      " #   Column           Non-Null Count  Dtype  \n",
      "---  ------           --------------  -----  \n",
      " 0   name             16713 non-null  object \n",
      " 1   platform         16715 non-null  object \n",
      " 2   year_of_release  16446 non-null  float64\n",
      " 3   genre            16713 non-null  object \n",
      " 4   na_sales         16715 non-null  float64\n",
      " 5   eu_sales         16715 non-null  float64\n",
      " 6   jp_sales         16715 non-null  float64\n",
      " 7   other_sales      16715 non-null  float64\n",
      " 8   critic_score     8137 non-null   float64\n",
      " 9   user_score       10014 non-null  object \n",
      " 10  rating           9949 non-null   object \n",
      "dtypes: float64(6), object(5)\n",
      "memory usage: 1.4+ MB\n"
     ]
    }
   ],
   "source": [
    "#Посмотрим общую информацию по датафрейму, обратим внимание на отличиные количества значений и типы данных\n",
    "games_df.info()"
   ]
  },
  {
   "cell_type": "markdown",
   "metadata": {},
   "source": [
    "Тут я обратила внимание на то, что при визуализации первых строк датафрейма в колонке critic_score видны только целые значения, несмотря на тип данных float, далее нужно будет проверить так ли это. Возможно, такой тип данных существует из-за пропущенных значений."
   ]
  },
  {
   "cell_type": "code",
   "execution_count": 9,
   "metadata": {},
   "outputs": [
    {
     "data": {
      "text/plain": [
       "name                  2\n",
       "platform              0\n",
       "year_of_release     269\n",
       "genre                 2\n",
       "na_sales              0\n",
       "eu_sales              0\n",
       "jp_sales              0\n",
       "other_sales           0\n",
       "critic_score       8578\n",
       "user_score         6701\n",
       "rating             6766\n",
       "dtype: int64"
      ]
     },
     "execution_count": 9,
     "metadata": {},
     "output_type": "execute_result"
    }
   ],
   "source": [
    "#Посмотрим на количество пропущенных значений по столбцам\n",
    "games_df.isnull().sum()"
   ]
  },
  {
   "cell_type": "code",
   "execution_count": 10,
   "metadata": {},
   "outputs": [
    {
     "data": {
      "text/plain": [
       "(16715, 11)"
      ]
     },
     "execution_count": 10,
     "metadata": {},
     "output_type": "execute_result"
    }
   ],
   "source": [
    "games_df.shape"
   ]
  },
  {
   "cell_type": "markdown",
   "metadata": {},
   "source": [
    "В некоторых столбцах(например, critic_score, user_score, rating, year_of_release, name) есть пропущенные значения,больше всего их в оценках критиков/ пользователей и в столбце с рейтингом ESRB.\n",
    "По моим предположениям, пропуски в столбце с рейтингом могут быть потому что возрастной рейтинг выставляет Американское агентсво, но не все игры идут на Американский рынок и, соответственно, агентсво может не заниматься, например, играми, которые идут только на Европейский рынок или только на Японский."
   ]
  },
  {
   "cell_type": "markdown",
   "metadata": {},
   "source": [
    "Не считаю это обязательным, но заменю nan на absent в 'rating'"
   ]
  },
  {
   "cell_type": "code",
   "execution_count": 11,
   "metadata": {},
   "outputs": [],
   "source": [
    "games_df['rating'] = games_df['rating'].fillna('absent')"
   ]
  },
  {
   "cell_type": "code",
   "execution_count": 12,
   "metadata": {},
   "outputs": [
    {
     "data": {
      "text/plain": [
       "array([76., nan, 82., 80., 89., 58., 87., 91., 61., 97., 95., 77., 88.,\n",
       "       83., 94., 93., 85., 86., 98., 96., 90., 84., 73., 74., 78., 92.,\n",
       "       71., 72., 68., 62., 49., 67., 81., 66., 56., 79., 70., 59., 64.,\n",
       "       75., 60., 63., 69., 50., 25., 42., 44., 55., 48., 57., 29., 47.,\n",
       "       65., 54., 20., 53., 37., 38., 33., 52., 30., 32., 43., 45., 51.,\n",
       "       40., 46., 39., 34., 35., 41., 36., 28., 31., 27., 26., 19., 23.,\n",
       "       24., 21., 17., 22., 13.])"
      ]
     },
     "execution_count": 12,
     "metadata": {},
     "output_type": "execute_result"
    }
   ],
   "source": [
    "#Посмотрим на все значения по столбцу critic_score\n",
    "games_df['critic_score'].unique()"
   ]
  },
  {
   "cell_type": "markdown",
   "metadata": {},
   "source": [
    "Все значения оказались целочисленными, а значит нужно перевести их в соответствующий тип данных, но мы помним о большом количестве пропусков в столбце, а значит сначала должны устранить их и лучшим решением, на мой скромный взгляд, будет решение о замене отсутствующих значений на 0."
   ]
  },
  {
   "cell_type": "code",
   "execution_count": 13,
   "metadata": {},
   "outputs": [],
   "source": [
    "#Производим замену nan на 0\n",
    "games_df['critic_score'] = games_df['critic_score'].fillna(0)"
   ]
  },
  {
   "cell_type": "code",
   "execution_count": 14,
   "metadata": {},
   "outputs": [],
   "source": [
    "#Меняем тип данных\n",
    "games_df['critic_score'] = games_df['critic_score'].astype(int)"
   ]
  },
  {
   "cell_type": "code",
   "execution_count": 15,
   "metadata": {},
   "outputs": [
    {
     "name": "stdout",
     "output_type": "stream",
     "text": [
      "<class 'pandas.core.frame.DataFrame'>\n",
      "RangeIndex: 16715 entries, 0 to 16714\n",
      "Data columns (total 11 columns):\n",
      " #   Column           Non-Null Count  Dtype  \n",
      "---  ------           --------------  -----  \n",
      " 0   name             16713 non-null  object \n",
      " 1   platform         16715 non-null  object \n",
      " 2   year_of_release  16446 non-null  float64\n",
      " 3   genre            16713 non-null  object \n",
      " 4   na_sales         16715 non-null  float64\n",
      " 5   eu_sales         16715 non-null  float64\n",
      " 6   jp_sales         16715 non-null  float64\n",
      " 7   other_sales      16715 non-null  float64\n",
      " 8   critic_score     16715 non-null  int64  \n",
      " 9   user_score       10014 non-null  object \n",
      " 10  rating           16715 non-null  object \n",
      "dtypes: float64(5), int64(1), object(5)\n",
      "memory usage: 1.4+ MB\n"
     ]
    }
   ],
   "source": [
    "#Проверка\n",
    "games_df.info()"
   ]
  },
  {
   "cell_type": "markdown",
   "metadata": {},
   "source": [
    "К сожалению, мы не можем записать год выхода в формате даты, имея только год, но мы можем хотя бы поменять тип данных на целочисленный. Опять же, первым делом заполним пропуски."
   ]
  },
  {
   "cell_type": "code",
   "execution_count": 16,
   "metadata": {},
   "outputs": [],
   "source": [
    "games_df['year_of_release'] = games_df['year_of_release'].fillna(0)"
   ]
  },
  {
   "cell_type": "code",
   "execution_count": 17,
   "metadata": {},
   "outputs": [],
   "source": [
    "games_df['year_of_release'] = games_df['year_of_release'].astype(int)"
   ]
  },
  {
   "cell_type": "markdown",
   "metadata": {},
   "source": [
    "Методом проб и ошибок я пыталась перевести 'user_score' в более подходящий тип данный и выяснила наличие абревиатуры tbd (\"Будет объявлено позднее\" в переводе) в данном столбце, она видна в списке уникальных значений ниже."
   ]
  },
  {
   "cell_type": "code",
   "execution_count": 18,
   "metadata": {},
   "outputs": [
    {
     "data": {
      "text/plain": [
       "array(['8', nan, '8.3', '8.5', '6.6', '8.4', '8.6', '7.7', '6.3', '7.4',\n",
       "       '8.2', '9', '7.9', '8.1', '8.7', '7.1', '3.4', '5.3', '4.8', '3.2',\n",
       "       '8.9', '6.4', '7.8', '7.5', '2.6', '7.2', '9.2', '7', '7.3', '4.3',\n",
       "       '7.6', '5.7', '5', '9.1', '6.5', 'tbd', '8.8', '6.9', '9.4', '6.8',\n",
       "       '6.1', '6.7', '5.4', '4', '4.9', '4.5', '9.3', '6.2', '4.2', '6',\n",
       "       '3.7', '4.1', '5.8', '5.6', '5.5', '4.4', '4.6', '5.9', '3.9',\n",
       "       '3.1', '2.9', '5.2', '3.3', '4.7', '5.1', '3.5', '2.5', '1.9', '3',\n",
       "       '2.7', '2.2', '2', '9.5', '2.1', '3.6', '2.8', '1.8', '3.8', '0',\n",
       "       '1.6', '9.6', '2.4', '1.7', '1.1', '0.3', '1.5', '0.7', '1.2',\n",
       "       '2.3', '0.5', '1.3', '0.2', '0.6', '1.4', '0.9', '1', '9.7'],\n",
       "      dtype=object)"
      ]
     },
     "execution_count": 18,
     "metadata": {},
     "output_type": "execute_result"
    }
   ],
   "source": [
    "games_df['user_score'].unique()"
   ]
  },
  {
   "cell_type": "markdown",
   "metadata": {},
   "source": [
    "Перед тем, как добавить заглушки в 'user_score' нужно посмотреть сколько 0 уже есть в данных в этом столбце"
   ]
  },
  {
   "cell_type": "code",
   "execution_count": 19,
   "metadata": {},
   "outputs": [
    {
     "data": {
      "text/plain": [
       "tbd    2424\n",
       "7.8     324\n",
       "8       290\n",
       "8.2     282\n",
       "8.3     254\n",
       "       ... \n",
       "0.5       2\n",
       "1.5       2\n",
       "1         2\n",
       "0         1\n",
       "9.7       1\n",
       "Name: user_score, Length: 96, dtype: int64"
      ]
     },
     "execution_count": 19,
     "metadata": {},
     "output_type": "execute_result"
    }
   ],
   "source": [
    "games_df['user_score'].value_counts()"
   ]
  },
  {
   "cell_type": "markdown",
   "metadata": {},
   "source": [
    "В данных по столбцу всего лишь один 0, я думаю мы можем добавить заглушки, а перед подсчётом корреляции удалить все строки с 0 "
   ]
  },
  {
   "cell_type": "code",
   "execution_count": 20,
   "metadata": {},
   "outputs": [],
   "source": [
    "#Заменим tbd на nan\n",
    "games_df.loc[games_df['user_score'] == 'tbd', 'user_score'] = np.nan"
   ]
  },
  {
   "cell_type": "code",
   "execution_count": 21,
   "metadata": {},
   "outputs": [],
   "source": [
    "#Nan заменим на 0\n",
    "games_df['user_score'] = games_df['user_score'].fillna(0)"
   ]
  },
  {
   "cell_type": "code",
   "execution_count": 22,
   "metadata": {},
   "outputs": [],
   "source": [
    "#Меняем тип данных\n",
    "games_df['user_score'] = games_df['user_score'].astype(float)"
   ]
  },
  {
   "cell_type": "code",
   "execution_count": 23,
   "metadata": {},
   "outputs": [
    {
     "name": "stdout",
     "output_type": "stream",
     "text": [
      "<class 'pandas.core.frame.DataFrame'>\n",
      "RangeIndex: 16715 entries, 0 to 16714\n",
      "Data columns (total 11 columns):\n",
      " #   Column           Non-Null Count  Dtype  \n",
      "---  ------           --------------  -----  \n",
      " 0   name             16713 non-null  object \n",
      " 1   platform         16715 non-null  object \n",
      " 2   year_of_release  16715 non-null  int64  \n",
      " 3   genre            16713 non-null  object \n",
      " 4   na_sales         16715 non-null  float64\n",
      " 5   eu_sales         16715 non-null  float64\n",
      " 6   jp_sales         16715 non-null  float64\n",
      " 7   other_sales      16715 non-null  float64\n",
      " 8   critic_score     16715 non-null  int64  \n",
      " 9   user_score       16715 non-null  float64\n",
      " 10  rating           16715 non-null  object \n",
      "dtypes: float64(5), int64(2), object(4)\n",
      "memory usage: 1.4+ MB\n"
     ]
    }
   ],
   "source": [
    "#Проверка всех замен (user_score с float на int, critic_score с float на int, year_of_release  с float на int)\n",
    "games_df.info()"
   ]
  },
  {
   "cell_type": "code",
   "execution_count": 24,
   "metadata": {},
   "outputs": [
    {
     "data": {
      "text/plain": [
       "0"
      ]
     },
     "execution_count": 24,
     "metadata": {},
     "output_type": "execute_result"
    }
   ],
   "source": [
    "#Проверка на строки-дубликаты\n",
    "games_df.duplicated().sum()"
   ]
  },
  {
   "cell_type": "code",
   "execution_count": 25,
   "metadata": {},
   "outputs": [
    {
     "data": {
      "text/plain": [
       "5"
      ]
     },
     "execution_count": 25,
     "metadata": {},
     "output_type": "execute_result"
    }
   ],
   "source": [
    "#Смотрим на количество игр с одинаковым названием и консолью\n",
    "games_df.duplicated(subset = ['name', 'platform']).sum()"
   ]
  },
  {
   "cell_type": "code",
   "execution_count": 26,
   "metadata": {},
   "outputs": [
    {
     "data": {
      "text/html": [
       "<div>\n",
       "<style scoped>\n",
       "    .dataframe tbody tr th:only-of-type {\n",
       "        vertical-align: middle;\n",
       "    }\n",
       "\n",
       "    .dataframe tbody tr th {\n",
       "        vertical-align: top;\n",
       "    }\n",
       "\n",
       "    .dataframe thead th {\n",
       "        text-align: right;\n",
       "    }\n",
       "</style>\n",
       "<table border=\"1\" class=\"dataframe\">\n",
       "  <thead>\n",
       "    <tr style=\"text-align: right;\">\n",
       "      <th></th>\n",
       "      <th>name</th>\n",
       "      <th>platform</th>\n",
       "      <th>year_of_release</th>\n",
       "      <th>genre</th>\n",
       "      <th>na_sales</th>\n",
       "      <th>eu_sales</th>\n",
       "      <th>jp_sales</th>\n",
       "      <th>other_sales</th>\n",
       "      <th>critic_score</th>\n",
       "      <th>user_score</th>\n",
       "      <th>rating</th>\n",
       "    </tr>\n",
       "  </thead>\n",
       "  <tbody>\n",
       "    <tr>\n",
       "      <th>604</th>\n",
       "      <td>Madden NFL 13</td>\n",
       "      <td>PS3</td>\n",
       "      <td>2012</td>\n",
       "      <td>Sports</td>\n",
       "      <td>2.11</td>\n",
       "      <td>0.22</td>\n",
       "      <td>0.00</td>\n",
       "      <td>0.23</td>\n",
       "      <td>83</td>\n",
       "      <td>5.5</td>\n",
       "      <td>E</td>\n",
       "    </tr>\n",
       "    <tr>\n",
       "      <th>659</th>\n",
       "      <td>NaN</td>\n",
       "      <td>GEN</td>\n",
       "      <td>1993</td>\n",
       "      <td>NaN</td>\n",
       "      <td>1.78</td>\n",
       "      <td>0.53</td>\n",
       "      <td>0.00</td>\n",
       "      <td>0.08</td>\n",
       "      <td>0</td>\n",
       "      <td>0.0</td>\n",
       "      <td>absent</td>\n",
       "    </tr>\n",
       "    <tr>\n",
       "      <th>1190</th>\n",
       "      <td>Need for Speed: Most Wanted</td>\n",
       "      <td>X360</td>\n",
       "      <td>2012</td>\n",
       "      <td>Racing</td>\n",
       "      <td>0.62</td>\n",
       "      <td>0.78</td>\n",
       "      <td>0.01</td>\n",
       "      <td>0.15</td>\n",
       "      <td>83</td>\n",
       "      <td>8.5</td>\n",
       "      <td>T</td>\n",
       "    </tr>\n",
       "    <tr>\n",
       "      <th>1591</th>\n",
       "      <td>Need for Speed: Most Wanted</td>\n",
       "      <td>X360</td>\n",
       "      <td>2005</td>\n",
       "      <td>Racing</td>\n",
       "      <td>1.00</td>\n",
       "      <td>0.13</td>\n",
       "      <td>0.02</td>\n",
       "      <td>0.10</td>\n",
       "      <td>83</td>\n",
       "      <td>8.5</td>\n",
       "      <td>T</td>\n",
       "    </tr>\n",
       "    <tr>\n",
       "      <th>1745</th>\n",
       "      <td>Sonic the Hedgehog</td>\n",
       "      <td>PS3</td>\n",
       "      <td>2006</td>\n",
       "      <td>Platform</td>\n",
       "      <td>0.41</td>\n",
       "      <td>0.06</td>\n",
       "      <td>0.04</td>\n",
       "      <td>0.66</td>\n",
       "      <td>43</td>\n",
       "      <td>4.1</td>\n",
       "      <td>E10+</td>\n",
       "    </tr>\n",
       "    <tr>\n",
       "      <th>4127</th>\n",
       "      <td>Sonic the Hedgehog</td>\n",
       "      <td>PS3</td>\n",
       "      <td>0</td>\n",
       "      <td>Platform</td>\n",
       "      <td>0.00</td>\n",
       "      <td>0.48</td>\n",
       "      <td>0.00</td>\n",
       "      <td>0.00</td>\n",
       "      <td>43</td>\n",
       "      <td>4.1</td>\n",
       "      <td>E10+</td>\n",
       "    </tr>\n",
       "    <tr>\n",
       "      <th>5972</th>\n",
       "      <td>Need for Speed: Most Wanted</td>\n",
       "      <td>PC</td>\n",
       "      <td>2005</td>\n",
       "      <td>Racing</td>\n",
       "      <td>0.02</td>\n",
       "      <td>0.23</td>\n",
       "      <td>0.00</td>\n",
       "      <td>0.04</td>\n",
       "      <td>82</td>\n",
       "      <td>8.5</td>\n",
       "      <td>T</td>\n",
       "    </tr>\n",
       "    <tr>\n",
       "      <th>11715</th>\n",
       "      <td>Need for Speed: Most Wanted</td>\n",
       "      <td>PC</td>\n",
       "      <td>2012</td>\n",
       "      <td>Racing</td>\n",
       "      <td>0.00</td>\n",
       "      <td>0.06</td>\n",
       "      <td>0.00</td>\n",
       "      <td>0.02</td>\n",
       "      <td>82</td>\n",
       "      <td>8.5</td>\n",
       "      <td>T</td>\n",
       "    </tr>\n",
       "    <tr>\n",
       "      <th>14244</th>\n",
       "      <td>NaN</td>\n",
       "      <td>GEN</td>\n",
       "      <td>1993</td>\n",
       "      <td>NaN</td>\n",
       "      <td>0.00</td>\n",
       "      <td>0.00</td>\n",
       "      <td>0.03</td>\n",
       "      <td>0.00</td>\n",
       "      <td>0</td>\n",
       "      <td>0.0</td>\n",
       "      <td>absent</td>\n",
       "    </tr>\n",
       "    <tr>\n",
       "      <th>16230</th>\n",
       "      <td>Madden NFL 13</td>\n",
       "      <td>PS3</td>\n",
       "      <td>2012</td>\n",
       "      <td>Sports</td>\n",
       "      <td>0.00</td>\n",
       "      <td>0.01</td>\n",
       "      <td>0.00</td>\n",
       "      <td>0.00</td>\n",
       "      <td>83</td>\n",
       "      <td>5.5</td>\n",
       "      <td>E</td>\n",
       "    </tr>\n",
       "  </tbody>\n",
       "</table>\n",
       "</div>"
      ],
      "text/plain": [
       "                              name platform  year_of_release     genre  \\\n",
       "604                  Madden NFL 13      PS3             2012    Sports   \n",
       "659                            NaN      GEN             1993       NaN   \n",
       "1190   Need for Speed: Most Wanted     X360             2012    Racing   \n",
       "1591   Need for Speed: Most Wanted     X360             2005    Racing   \n",
       "1745            Sonic the Hedgehog      PS3             2006  Platform   \n",
       "4127            Sonic the Hedgehog      PS3                0  Platform   \n",
       "5972   Need for Speed: Most Wanted       PC             2005    Racing   \n",
       "11715  Need for Speed: Most Wanted       PC             2012    Racing   \n",
       "14244                          NaN      GEN             1993       NaN   \n",
       "16230                Madden NFL 13      PS3             2012    Sports   \n",
       "\n",
       "       na_sales  eu_sales  jp_sales  other_sales  critic_score  user_score  \\\n",
       "604        2.11      0.22      0.00         0.23            83         5.5   \n",
       "659        1.78      0.53      0.00         0.08             0         0.0   \n",
       "1190       0.62      0.78      0.01         0.15            83         8.5   \n",
       "1591       1.00      0.13      0.02         0.10            83         8.5   \n",
       "1745       0.41      0.06      0.04         0.66            43         4.1   \n",
       "4127       0.00      0.48      0.00         0.00            43         4.1   \n",
       "5972       0.02      0.23      0.00         0.04            82         8.5   \n",
       "11715      0.00      0.06      0.00         0.02            82         8.5   \n",
       "14244      0.00      0.00      0.03         0.00             0         0.0   \n",
       "16230      0.00      0.01      0.00         0.00            83         5.5   \n",
       "\n",
       "       rating  \n",
       "604         E  \n",
       "659    absent  \n",
       "1190        T  \n",
       "1591        T  \n",
       "1745     E10+  \n",
       "4127     E10+  \n",
       "5972        T  \n",
       "11715       T  \n",
       "14244  absent  \n",
       "16230       E  "
      ]
     },
     "execution_count": 26,
     "metadata": {},
     "output_type": "execute_result"
    }
   ],
   "source": [
    "#Выведем строки-дубликаты по имени и названию консоли\n",
    "games_df[games_df.duplicated(subset = ['name', 'platform'], keep=False) == True]"
   ]
  },
  {
   "cell_type": "markdown",
   "metadata": {},
   "source": [
    "Задача осложнена тем, что нам не понятно какие строки удалять, а какие оставлять, разберём каждый случай отдельно.\n",
    "1)В случае игры Madden NFL 13 я удалю строку, где продажи игры почти отсутствуют\n",
    "2)В случае Need for Speed: Most Wanted я обратила внимание на разные годы выхода игр, краткий гуглинг подтвердил, что действительно игра выходила и в 2005, и в 2012. На экране у нас выведены аж 4 подобных игры, но там, где одинаковы платформы- отличны годы выхода игр, и, наоборот. Это не неявнные дубликаты, оставляем.\n",
    "3)Строки с пропусками в названии игры нам вообще не нужны, однозначно удаляем.\n",
    "4)В одной из строк с игрой Sonic the Hedgehog не указан год выхода игры, удалим её ибо мы не можем идентифицировать её как дубликат или не дубликат."
   ]
  },
  {
   "cell_type": "code",
   "execution_count": 27,
   "metadata": {},
   "outputs": [],
   "source": [
    "games_df = games_df.query('name != \"Sonic the Hedgehog\" and year_of_release != 0')"
   ]
  },
  {
   "cell_type": "code",
   "execution_count": 28,
   "metadata": {},
   "outputs": [],
   "source": [
    "games_df = games_df.query('name != \"Madden NFL 13\" and platform != \"PS3\" and na_sales != 0.00')"
   ]
  },
  {
   "cell_type": "code",
   "execution_count": 29,
   "metadata": {},
   "outputs": [],
   "source": [
    "games_df = games_df.dropna()"
   ]
  },
  {
   "cell_type": "code",
   "execution_count": 30,
   "metadata": {},
   "outputs": [
    {
     "data": {
      "text/plain": [
       "name               0\n",
       "platform           0\n",
       "year_of_release    0\n",
       "genre              0\n",
       "na_sales           0\n",
       "eu_sales           0\n",
       "jp_sales           0\n",
       "other_sales        0\n",
       "critic_score       0\n",
       "user_score         0\n",
       "rating             0\n",
       "dtype: int64"
      ]
     },
     "execution_count": 30,
     "metadata": {},
     "output_type": "execute_result"
    }
   ],
   "source": [
    "#Посмотрим где остались пропущенные значения\n",
    "games_df.isnull().sum()"
   ]
  },
  {
   "cell_type": "code",
   "execution_count": 31,
   "metadata": {},
   "outputs": [],
   "source": [
    "#Nan заменим на absent\n",
    "games_df['genre'] = games_df['genre'].fillna('absent')"
   ]
  },
  {
   "cell_type": "code",
   "execution_count": 32,
   "metadata": {},
   "outputs": [
    {
     "name": "stdout",
     "output_type": "stream",
     "text": [
      "<class 'pandas.core.frame.DataFrame'>\n",
      "Int64Index: 10997 entries, 0 to 16713\n",
      "Data columns (total 11 columns):\n",
      " #   Column           Non-Null Count  Dtype  \n",
      "---  ------           --------------  -----  \n",
      " 0   name             10997 non-null  object \n",
      " 1   platform         10997 non-null  object \n",
      " 2   year_of_release  10997 non-null  int64  \n",
      " 3   genre            10997 non-null  object \n",
      " 4   na_sales         10997 non-null  float64\n",
      " 5   eu_sales         10997 non-null  float64\n",
      " 6   jp_sales         10997 non-null  float64\n",
      " 7   other_sales      10997 non-null  float64\n",
      " 8   critic_score     10997 non-null  int64  \n",
      " 9   user_score       10997 non-null  float64\n",
      " 10  rating           10997 non-null  object \n",
      "dtypes: float64(5), int64(2), object(4)\n",
      "memory usage: 1.0+ MB\n"
     ]
    }
   ],
   "source": [
    "#Проверяем\n",
    "games_df.info()"
   ]
  },
  {
   "cell_type": "code",
   "execution_count": 33,
   "metadata": {},
   "outputs": [],
   "source": [
    "games_df['total_sales_sum'] = games_df[[\"eu_sales\", \"jp_sales\", \"na_sales\", \"other_sales\"]].sum(axis=1)"
   ]
  },
  {
   "cell_type": "markdown",
   "metadata": {},
   "source": [
    "# Просмотр основных показателей"
   ]
  },
  {
   "cell_type": "code",
   "execution_count": 34,
   "metadata": {},
   "outputs": [
    {
     "data": {
      "text/plain": [
       "name                Fire Emblem Fates\n",
       "platform                         2600\n",
       "year_of_release                  1980\n",
       "genre                          Action\n",
       "na_sales                         0.01\n",
       "eu_sales                          0.0\n",
       "jp_sales                          0.0\n",
       "other_sales                       0.0\n",
       "critic_score                        0\n",
       "user_score                        0.0\n",
       "rating                             AO\n",
       "total_sales_sum                  0.01\n",
       "dtype: object"
      ]
     },
     "execution_count": 34,
     "metadata": {},
     "output_type": "execute_result"
    }
   ],
   "source": [
    "#Посмотрим минимальные значения по датафрейму\n",
    "games_df.min()"
   ]
  },
  {
   "cell_type": "markdown",
   "metadata": {},
   "source": [
    "Подозрительно выглядит нулевой год выхода игры (он появился после замены Nan), посмотрим на эти строки"
   ]
  },
  {
   "cell_type": "code",
   "execution_count": 35,
   "metadata": {},
   "outputs": [
    {
     "data": {
      "text/html": [
       "<div>\n",
       "<style scoped>\n",
       "    .dataframe tbody tr th:only-of-type {\n",
       "        vertical-align: middle;\n",
       "    }\n",
       "\n",
       "    .dataframe tbody tr th {\n",
       "        vertical-align: top;\n",
       "    }\n",
       "\n",
       "    .dataframe thead th {\n",
       "        text-align: right;\n",
       "    }\n",
       "</style>\n",
       "<table border=\"1\" class=\"dataframe\">\n",
       "  <thead>\n",
       "    <tr style=\"text-align: right;\">\n",
       "      <th></th>\n",
       "      <th>name</th>\n",
       "      <th>platform</th>\n",
       "      <th>year_of_release</th>\n",
       "      <th>genre</th>\n",
       "      <th>na_sales</th>\n",
       "      <th>eu_sales</th>\n",
       "      <th>jp_sales</th>\n",
       "      <th>other_sales</th>\n",
       "      <th>critic_score</th>\n",
       "      <th>user_score</th>\n",
       "      <th>rating</th>\n",
       "      <th>total_sales_sum</th>\n",
       "    </tr>\n",
       "  </thead>\n",
       "  <tbody>\n",
       "  </tbody>\n",
       "</table>\n",
       "</div>"
      ],
      "text/plain": [
       "Empty DataFrame\n",
       "Columns: [name, platform, year_of_release, genre, na_sales, eu_sales, jp_sales, other_sales, critic_score, user_score, rating, total_sales_sum]\n",
       "Index: []"
      ]
     },
     "execution_count": 35,
     "metadata": {},
     "output_type": "execute_result"
    }
   ],
   "source": [
    "#Посмотрим на строки с нулевым годом выхода игр\n",
    "games_df.query('year_of_release == 0')"
   ]
  },
  {
   "cell_type": "code",
   "execution_count": 36,
   "metadata": {},
   "outputs": [],
   "source": [
    "#Удалим строчки игр с нулевым годом выпуска\n",
    "games_df = games_df.query('year_of_release != 0')"
   ]
  },
  {
   "cell_type": "code",
   "execution_count": 37,
   "metadata": {},
   "outputs": [
    {
     "data": {
      "text/plain": [
       "name               uDraw Studio: Instant Artist\n",
       "platform                                   XOne\n",
       "year_of_release                            2016\n",
       "genre                                  Strategy\n",
       "na_sales                                  41.36\n",
       "eu_sales                                  28.96\n",
       "jp_sales                                  10.22\n",
       "other_sales                               10.57\n",
       "critic_score                                 98\n",
       "user_score                                  9.6\n",
       "rating                                   absent\n",
       "total_sales_sum                           82.54\n",
       "dtype: object"
      ]
     },
     "execution_count": 37,
     "metadata": {},
     "output_type": "execute_result"
    }
   ],
   "source": [
    "#Посмотрим на максимальные значения по строкам датафрейма\n",
    "games_df.max()"
   ]
  },
  {
   "cell_type": "code",
   "execution_count": 38,
   "metadata": {},
   "outputs": [
    {
     "data": {
      "text/plain": [
       "year_of_release    2005.751841\n",
       "na_sales              0.358673\n",
       "eu_sales              0.181378\n",
       "jp_sales              0.066334\n",
       "other_sales           0.057105\n",
       "critic_score         41.046831\n",
       "user_score            3.891052\n",
       "total_sales_sum       0.663489\n",
       "dtype: float64"
      ]
     },
     "execution_count": 38,
     "metadata": {},
     "output_type": "execute_result"
    }
   ],
   "source": [
    "#Посмотрим на средние значения по строкам датафрейма\n",
    "games_df.mean()"
   ]
  },
  {
   "cell_type": "code",
   "execution_count": 39,
   "metadata": {},
   "outputs": [
    {
     "data": {
      "text/plain": [
       "year_of_release    2006.00\n",
       "na_sales              0.13\n",
       "eu_sales              0.04\n",
       "jp_sales              0.00\n",
       "other_sales           0.01\n",
       "critic_score         55.00\n",
       "user_score            4.80\n",
       "total_sales_sum       0.23\n",
       "dtype: float64"
      ]
     },
     "execution_count": 39,
     "metadata": {},
     "output_type": "execute_result"
    }
   ],
   "source": [
    "#Посмотрим на медианные значения по строкам датафрейма\n",
    "games_df.median()"
   ]
  },
  {
   "cell_type": "markdown",
   "metadata": {},
   "source": [
    "На мой взгляд,  многие медианные значения выглядят странно, потому что  отлчаются от среднего по датафрейму, особенно сильно у нас выделяется столбец critic_score. Посмотрим на стандартное отклонение и димперсию."
   ]
  },
  {
   "cell_type": "code",
   "execution_count": 40,
   "metadata": {},
   "outputs": [
    {
     "data": {
      "text/plain": [
       "year_of_release      32.366079\n",
       "na_sales              0.924598\n",
       "eu_sales              0.330523\n",
       "jp_sales              0.118948\n",
       "other_sales           0.044955\n",
       "critic_score       1243.790023\n",
       "user_score           14.008402\n",
       "total_sales_sum       3.292344\n",
       "dtype: float64"
      ]
     },
     "execution_count": 40,
     "metadata": {},
     "output_type": "execute_result"
    }
   ],
   "source": [
    "np.var(games_df)"
   ]
  },
  {
   "cell_type": "code",
   "execution_count": 41,
   "metadata": {},
   "outputs": [
    {
     "data": {
      "text/plain": [
       "year_of_release     5.689378\n",
       "na_sales            0.961604\n",
       "eu_sales            0.574937\n",
       "jp_sales            0.344904\n",
       "other_sales         0.212036\n",
       "critic_score       35.269011\n",
       "user_score          3.742950\n",
       "total_sales_sum     1.814564\n",
       "dtype: float64"
      ]
     },
     "execution_count": 41,
     "metadata": {},
     "output_type": "execute_result"
    }
   ],
   "source": [
    "games_df.std()"
   ]
  },
  {
   "cell_type": "markdown",
   "metadata": {},
   "source": [
    "Стандартное отклонение и дисперсия более наглядно показывают нам разброс в наших данных. Постараемся выяснить природу этого разброса"
   ]
  },
  {
   "cell_type": "code",
   "execution_count": 42,
   "metadata": {},
   "outputs": [
    {
     "data": {
      "text/plain": [
       "0     4406\n",
       "71     213\n",
       "70     205\n",
       "73     198\n",
       "68     195\n",
       "      ... \n",
       "24       4\n",
       "20       3\n",
       "29       3\n",
       "98       2\n",
       "21       1\n",
       "Name: critic_score, Length: 80, dtype: int64"
      ]
     },
     "execution_count": 42,
     "metadata": {},
     "output_type": "execute_result"
    }
   ],
   "source": [
    "#Посмотрим количества уникальных значений по столбцу critic_score\n",
    "games_df['critic_score'].value_counts()"
   ]
  },
  {
   "cell_type": "code",
   "execution_count": 43,
   "metadata": {},
   "outputs": [
    {
     "data": {
      "text/plain": [
       "0.0    5036\n",
       "7.8     266\n",
       "8.0     238\n",
       "8.5     221\n",
       "8.2     219\n",
       "       ... \n",
       "1.3       2\n",
       "0.5       1\n",
       "0.2       1\n",
       "1.0       1\n",
       "1.9       1\n",
       "Name: user_score, Length: 94, dtype: int64"
      ]
     },
     "execution_count": 43,
     "metadata": {},
     "output_type": "execute_result"
    }
   ],
   "source": [
    "#Посмотрим количества уникальных значений по столбцу user_score\n",
    "games_df['user_score'].value_counts()"
   ]
  },
  {
   "cell_type": "markdown",
   "metadata": {},
   "source": [
    "Но мы помним, что изначально выяснили отсутствие пользовательской оценки или оценки критиков во многих столбцах и заменили nan на 0,поэтому ничего подозрительного в таком количестве нулей нет.\n",
    "Перейдем к продажам, помня о том, что в продажах у нас не было пропусков. Также, сможем оценить правдоподобность максимальных значений, которые мы выводили выше. \n",
    "Я предлагаю построить диаграммы размаха для оценки правдоподобности данных:"
   ]
  },
  {
   "cell_type": "code",
   "execution_count": 44,
   "metadata": {},
   "outputs": [
    {
     "data": {
      "text/plain": [
       "<AxesSubplot:title={'center':'na_sales'}>"
      ]
     },
     "execution_count": 44,
     "metadata": {},
     "output_type": "execute_result"
    },
    {
     "data": {
      "image/png": "[encoded data removed]",
      "text/plain": [
       "<Figure size 360x360 with 1 Axes>"
      ]
     },
     "metadata": {
      "needs_background": "light"
     },
     "output_type": "display_data"
    }
   ],
   "source": [
    "#Построим диаграмму размаха, она же ящик с усами\n",
    "plt.figure(figsize=(5,5))\n",
    "games_df['na_sales'].plot.box(title = 'na_sales')"
   ]
  },
  {
   "cell_type": "code",
   "execution_count": 45,
   "metadata": {},
   "outputs": [
    {
     "data": {
      "text/plain": [
       "<AxesSubplot:title={'center':'na_sales'}>"
      ]
     },
     "execution_count": 45,
     "metadata": {},
     "output_type": "execute_result"
    },
    {
     "data": {
      "image/png": "[encoded data removed]",
      "text/plain": [
       "<Figure size 360x360 with 1 Axes>"
      ]
     },
     "metadata": {
      "needs_background": "light"
     },
     "output_type": "display_data"
    }
   ],
   "source": [
    "#Ограничим значения, чтобы из диаграммы размаха было видно сам ящик\n",
    "games_na_less_than_seven = games_df.query('na_sales < 7')\n",
    "plt.figure(figsize=(5,5))\n",
    "games_na_less_than_seven['na_sales'].plot.box(title = 'na_sales')"
   ]
  },
  {
   "cell_type": "markdown",
   "metadata": {},
   "source": [
    "Как мы можем заметить из ящика с усами, большая часть значений лежит в промежутке менее единицы (это не удивительно, ведь подсчёт ведётся в миллионах проданных копий), при этом разброс данных довольно большой. "
   ]
  },
  {
   "cell_type": "code",
   "execution_count": 46,
   "metadata": {},
   "outputs": [
    {
     "data": {
      "text/plain": [
       "0.02    539\n",
       "0.03    535\n",
       "0.04    522\n",
       "0.01    511\n",
       "0.05    496\n",
       "       ... \n",
       "3.19      1\n",
       "8.92      1\n",
       "2.13      1\n",
       "6.82      1\n",
       "4.12      1\n",
       "Name: na_sales, Length: 386, dtype: int64"
      ]
     },
     "execution_count": 46,
     "metadata": {},
     "output_type": "execute_result"
    }
   ],
   "source": [
    "#Посмотрим количества уникальных значений по столбцу na_sales\n",
    "games_df['na_sales'].value_counts()"
   ]
  },
  {
   "cell_type": "markdown",
   "metadata": {},
   "source": [
    "Скорее всего, игры порой не продавалась на территории Северной Америки и отсюда вытекает такое внушительное количество нулей."
   ]
  },
  {
   "cell_type": "code",
   "execution_count": 47,
   "metadata": {},
   "outputs": [
    {
     "data": {
      "text/html": [
       "<div>\n",
       "<style scoped>\n",
       "    .dataframe tbody tr th:only-of-type {\n",
       "        vertical-align: middle;\n",
       "    }\n",
       "\n",
       "    .dataframe tbody tr th {\n",
       "        vertical-align: top;\n",
       "    }\n",
       "\n",
       "    .dataframe thead th {\n",
       "        text-align: right;\n",
       "    }\n",
       "</style>\n",
       "<table border=\"1\" class=\"dataframe\">\n",
       "  <thead>\n",
       "    <tr style=\"text-align: right;\">\n",
       "      <th></th>\n",
       "      <th>name</th>\n",
       "      <th>platform</th>\n",
       "      <th>year_of_release</th>\n",
       "      <th>genre</th>\n",
       "      <th>na_sales</th>\n",
       "      <th>eu_sales</th>\n",
       "      <th>jp_sales</th>\n",
       "      <th>other_sales</th>\n",
       "      <th>critic_score</th>\n",
       "      <th>user_score</th>\n",
       "      <th>rating</th>\n",
       "      <th>total_sales_sum</th>\n",
       "    </tr>\n",
       "  </thead>\n",
       "  <tbody>\n",
       "    <tr>\n",
       "      <th>0</th>\n",
       "      <td>Wii Sports</td>\n",
       "      <td>Wii</td>\n",
       "      <td>2006</td>\n",
       "      <td>Sports</td>\n",
       "      <td>41.36</td>\n",
       "      <td>28.96</td>\n",
       "      <td>3.77</td>\n",
       "      <td>8.45</td>\n",
       "      <td>76</td>\n",
       "      <td>8.0</td>\n",
       "      <td>E</td>\n",
       "      <td>82.54</td>\n",
       "    </tr>\n",
       "    <tr>\n",
       "      <th>1</th>\n",
       "      <td>Super Mario Bros.</td>\n",
       "      <td>NES</td>\n",
       "      <td>1985</td>\n",
       "      <td>Platform</td>\n",
       "      <td>29.08</td>\n",
       "      <td>3.58</td>\n",
       "      <td>6.81</td>\n",
       "      <td>0.77</td>\n",
       "      <td>0</td>\n",
       "      <td>0.0</td>\n",
       "      <td>absent</td>\n",
       "      <td>40.24</td>\n",
       "    </tr>\n",
       "    <tr>\n",
       "      <th>5</th>\n",
       "      <td>Tetris</td>\n",
       "      <td>GB</td>\n",
       "      <td>1989</td>\n",
       "      <td>Puzzle</td>\n",
       "      <td>23.20</td>\n",
       "      <td>2.26</td>\n",
       "      <td>4.22</td>\n",
       "      <td>0.58</td>\n",
       "      <td>0</td>\n",
       "      <td>0.0</td>\n",
       "      <td>absent</td>\n",
       "      <td>30.26</td>\n",
       "    </tr>\n",
       "    <tr>\n",
       "      <th>9</th>\n",
       "      <td>Duck Hunt</td>\n",
       "      <td>NES</td>\n",
       "      <td>1984</td>\n",
       "      <td>Shooter</td>\n",
       "      <td>26.93</td>\n",
       "      <td>0.63</td>\n",
       "      <td>0.28</td>\n",
       "      <td>0.47</td>\n",
       "      <td>0</td>\n",
       "      <td>0.0</td>\n",
       "      <td>absent</td>\n",
       "      <td>28.31</td>\n",
       "    </tr>\n",
       "  </tbody>\n",
       "</table>\n",
       "</div>"
      ],
      "text/plain": [
       "                name platform  year_of_release     genre  na_sales  eu_sales  \\\n",
       "0         Wii Sports      Wii             2006    Sports     41.36     28.96   \n",
       "1  Super Mario Bros.      NES             1985  Platform     29.08      3.58   \n",
       "5             Tetris       GB             1989    Puzzle     23.20      2.26   \n",
       "9          Duck Hunt      NES             1984   Shooter     26.93      0.63   \n",
       "\n",
       "   jp_sales  other_sales  critic_score  user_score  rating  total_sales_sum  \n",
       "0      3.77         8.45            76         8.0       E            82.54  \n",
       "1      6.81         0.77             0         0.0  absent            40.24  \n",
       "5      4.22         0.58             0         0.0  absent            30.26  \n",
       "9      0.28         0.47             0         0.0  absent            28.31  "
      ]
     },
     "execution_count": 47,
     "metadata": {},
     "output_type": "execute_result"
    }
   ],
   "source": [
    "#Посмотрим на строки с максимальными значениями по столбцу\n",
    "games_df.query('na_sales >= 20')"
   ]
  },
  {
   "cell_type": "markdown",
   "metadata": {},
   "source": [
    "Ничего подозрительного в строках по столбцу na_sales со значениями, которые имеют большой отрыв от данных в других строках по этому же столбцу, нет. Кроме того, все эти игры мне известны и они действительно очень популярны."
   ]
  },
  {
   "cell_type": "code",
   "execution_count": 48,
   "metadata": {},
   "outputs": [
    {
     "data": {
      "text/plain": [
       "<AxesSubplot:title={'center':'eu_sales'}>"
      ]
     },
     "execution_count": 48,
     "metadata": {},
     "output_type": "execute_result"
    },
    {
     "data": {
      "image/png": "[encoded data removed]",
      "text/plain": [
       "<Figure size 360x360 with 1 Axes>"
      ]
     },
     "metadata": {
      "needs_background": "light"
     },
     "output_type": "display_data"
    }
   ],
   "source": [
    "#Построим диаграмму размаха, она же ящик с усами\n",
    "plt.figure(figsize=(5,5))\n",
    "games_df['eu_sales'].plot.box(title = 'eu_sales')"
   ]
  },
  {
   "cell_type": "code",
   "execution_count": 49,
   "metadata": {},
   "outputs": [
    {
     "data": {
      "text/plain": [
       "<AxesSubplot:title={'center':'eu_sales'}>"
      ]
     },
     "execution_count": 49,
     "metadata": {},
     "output_type": "execute_result"
    },
    {
     "data": {
      "image/png": "[encoded data removed]",
      "text/plain": [
       "<Figure size 360x360 with 1 Axes>"
      ]
     },
     "metadata": {
      "needs_background": "light"
     },
     "output_type": "display_data"
    }
   ],
   "source": [
    "#Ограничим значения, чтобы из диаграммы размаха было видно сам ящик\n",
    "games_eu_less_than_five = games_df.query('eu_sales < 5')\n",
    "plt.figure(figsize=(5,5))\n",
    "games_eu_less_than_five['eu_sales'].plot.box(title = 'eu_sales')"
   ]
  },
  {
   "cell_type": "markdown",
   "metadata": {},
   "source": [
    "Ситуация по продажам в Европе не сильно отличается от предыдущего кейса, основная часть значений всё также лежит в промежутке 0-менее единицы, а если быть точнее, то менее 0.5. Визуально видно, что медианное значение меньше, чем в предыдущем случае"
   ]
  },
  {
   "cell_type": "code",
   "execution_count": 50,
   "metadata": {},
   "outputs": [
    {
     "data": {
      "text/plain": [
       "0.00    2272\n",
       "0.01    1177\n",
       "0.02     994\n",
       "0.03     705\n",
       "0.04     570\n",
       "        ... \n",
       "4.19       1\n",
       "1.62       1\n",
       "1.49       1\n",
       "2.05       1\n",
       "2.89       1\n",
       "Name: eu_sales, Length: 284, dtype: int64"
      ]
     },
     "execution_count": 50,
     "metadata": {},
     "output_type": "execute_result"
    }
   ],
   "source": [
    "#Посмотрим количества уникальных значений по столбцу eu_sales\n",
    "games_df['eu_sales'].value_counts()"
   ]
  },
  {
   "cell_type": "code",
   "execution_count": 51,
   "metadata": {},
   "outputs": [
    {
     "data": {
      "text/html": [
       "<div>\n",
       "<style scoped>\n",
       "    .dataframe tbody tr th:only-of-type {\n",
       "        vertical-align: middle;\n",
       "    }\n",
       "\n",
       "    .dataframe tbody tr th {\n",
       "        vertical-align: top;\n",
       "    }\n",
       "\n",
       "    .dataframe thead th {\n",
       "        text-align: right;\n",
       "    }\n",
       "</style>\n",
       "<table border=\"1\" class=\"dataframe\">\n",
       "  <thead>\n",
       "    <tr style=\"text-align: right;\">\n",
       "      <th></th>\n",
       "      <th>name</th>\n",
       "      <th>platform</th>\n",
       "      <th>year_of_release</th>\n",
       "      <th>genre</th>\n",
       "      <th>na_sales</th>\n",
       "      <th>eu_sales</th>\n",
       "      <th>jp_sales</th>\n",
       "      <th>other_sales</th>\n",
       "      <th>critic_score</th>\n",
       "      <th>user_score</th>\n",
       "      <th>rating</th>\n",
       "      <th>total_sales_sum</th>\n",
       "    </tr>\n",
       "  </thead>\n",
       "  <tbody>\n",
       "    <tr>\n",
       "      <th>0</th>\n",
       "      <td>Wii Sports</td>\n",
       "      <td>Wii</td>\n",
       "      <td>2006</td>\n",
       "      <td>Sports</td>\n",
       "      <td>41.36</td>\n",
       "      <td>28.96</td>\n",
       "      <td>3.77</td>\n",
       "      <td>8.45</td>\n",
       "      <td>76</td>\n",
       "      <td>8.0</td>\n",
       "      <td>E</td>\n",
       "      <td>82.54</td>\n",
       "    </tr>\n",
       "    <tr>\n",
       "      <th>2</th>\n",
       "      <td>Mario Kart Wii</td>\n",
       "      <td>Wii</td>\n",
       "      <td>2008</td>\n",
       "      <td>Racing</td>\n",
       "      <td>15.68</td>\n",
       "      <td>12.76</td>\n",
       "      <td>3.79</td>\n",
       "      <td>3.29</td>\n",
       "      <td>82</td>\n",
       "      <td>8.3</td>\n",
       "      <td>E</td>\n",
       "      <td>35.52</td>\n",
       "    </tr>\n",
       "    <tr>\n",
       "      <th>3</th>\n",
       "      <td>Wii Sports Resort</td>\n",
       "      <td>Wii</td>\n",
       "      <td>2009</td>\n",
       "      <td>Sports</td>\n",
       "      <td>15.61</td>\n",
       "      <td>10.93</td>\n",
       "      <td>3.28</td>\n",
       "      <td>2.95</td>\n",
       "      <td>80</td>\n",
       "      <td>8.0</td>\n",
       "      <td>E</td>\n",
       "      <td>32.77</td>\n",
       "    </tr>\n",
       "    <tr>\n",
       "      <th>10</th>\n",
       "      <td>Nintendogs</td>\n",
       "      <td>DS</td>\n",
       "      <td>2005</td>\n",
       "      <td>Simulation</td>\n",
       "      <td>9.05</td>\n",
       "      <td>10.95</td>\n",
       "      <td>1.93</td>\n",
       "      <td>2.74</td>\n",
       "      <td>0</td>\n",
       "      <td>0.0</td>\n",
       "      <td>absent</td>\n",
       "      <td>24.67</td>\n",
       "    </tr>\n",
       "  </tbody>\n",
       "</table>\n",
       "</div>"
      ],
      "text/plain": [
       "                 name platform  year_of_release       genre  na_sales  \\\n",
       "0          Wii Sports      Wii             2006      Sports     41.36   \n",
       "2      Mario Kart Wii      Wii             2008      Racing     15.68   \n",
       "3   Wii Sports Resort      Wii             2009      Sports     15.61   \n",
       "10         Nintendogs       DS             2005  Simulation      9.05   \n",
       "\n",
       "    eu_sales  jp_sales  other_sales  critic_score  user_score  rating  \\\n",
       "0      28.96      3.77         8.45            76         8.0       E   \n",
       "2      12.76      3.79         3.29            82         8.3       E   \n",
       "3      10.93      3.28         2.95            80         8.0       E   \n",
       "10     10.95      1.93         2.74             0         0.0  absent   \n",
       "\n",
       "    total_sales_sum  \n",
       "0             82.54  \n",
       "2             35.52  \n",
       "3             32.77  \n",
       "10            24.67  "
      ]
     },
     "execution_count": 51,
     "metadata": {},
     "output_type": "execute_result"
    }
   ],
   "source": [
    "#Посмотрим на строки с максимальными значениями по столбцу\n",
    "games_df.query('eu_sales >= 10')"
   ]
  },
  {
   "cell_type": "markdown",
   "metadata": {},
   "source": [
    "Опять же, не вижу ничего подозрительного"
   ]
  },
  {
   "cell_type": "code",
   "execution_count": 52,
   "metadata": {},
   "outputs": [
    {
     "data": {
      "text/plain": [
       "<AxesSubplot:title={'center':'jp_sales'}>"
      ]
     },
     "execution_count": 52,
     "metadata": {},
     "output_type": "execute_result"
    },
    {
     "data": {
      "image/png": "[encoded data removed]",
      "text/plain": [
       "<Figure size 360x360 with 1 Axes>"
      ]
     },
     "metadata": {
      "needs_background": "light"
     },
     "output_type": "display_data"
    }
   ],
   "source": [
    "#Построим диаграмму размаха, она же ящик с усами\n",
    "plt.figure(figsize=(5,5))\n",
    "games_df['jp_sales'].plot.box(title = 'jp_sales')"
   ]
  },
  {
   "cell_type": "code",
   "execution_count": 53,
   "metadata": {},
   "outputs": [
    {
     "data": {
      "text/plain": [
       "<AxesSubplot:title={'center':'jp_sales'}>"
      ]
     },
     "execution_count": 53,
     "metadata": {},
     "output_type": "execute_result"
    },
    {
     "data": {
      "image/png": "[encoded data removed]",
      "text/plain": [
       "<Figure size 360x360 with 1 Axes>"
      ]
     },
     "metadata": {
      "needs_background": "light"
     },
     "output_type": "display_data"
    }
   ],
   "source": [
    "#Ограничим значения, чтобы из диаграммы размаха было видно сам ящик\n",
    "games_jp_less_than_four = games_df.query('jp_sales < 4')\n",
    "plt.figure(figsize=(5,5))\n",
    "games_jp_less_than_four['jp_sales'].plot.box(title = 'jp_sales')"
   ]
  },
  {
   "cell_type": "markdown",
   "metadata": {},
   "source": [
    "Тут видно, что основная часть значений лежит даже в ещё более маленьком промежутке, чем предыдущие, метод value_counts() должен подтвердить нам это:"
   ]
  },
  {
   "cell_type": "code",
   "execution_count": 54,
   "metadata": {},
   "outputs": [
    {
     "data": {
      "text/plain": [
       "0.00    8757\n",
       "0.01     304\n",
       "0.02     207\n",
       "0.03     158\n",
       "0.04     128\n",
       "        ... \n",
       "2.87       1\n",
       "2.12       1\n",
       "2.66       1\n",
       "1.97       1\n",
       "3.03       1\n",
       "Name: jp_sales, Length: 221, dtype: int64"
      ]
     },
     "execution_count": 54,
     "metadata": {},
     "output_type": "execute_result"
    }
   ],
   "source": [
    "#Посмотрим количества уникальных значений по столбцу jp_sales\n",
    "games_df['jp_sales'].value_counts()"
   ]
  },
  {
   "cell_type": "markdown",
   "metadata": {},
   "source": [
    "Япония является самыми непопулярным регионом для продаж компьютерных игр из трёх указанных."
   ]
  },
  {
   "cell_type": "code",
   "execution_count": 55,
   "metadata": {},
   "outputs": [
    {
     "data": {
      "text/html": [
       "<div>\n",
       "<style scoped>\n",
       "    .dataframe tbody tr th:only-of-type {\n",
       "        vertical-align: middle;\n",
       "    }\n",
       "\n",
       "    .dataframe tbody tr th {\n",
       "        vertical-align: top;\n",
       "    }\n",
       "\n",
       "    .dataframe thead th {\n",
       "        text-align: right;\n",
       "    }\n",
       "</style>\n",
       "<table border=\"1\" class=\"dataframe\">\n",
       "  <thead>\n",
       "    <tr style=\"text-align: right;\">\n",
       "      <th></th>\n",
       "      <th>name</th>\n",
       "      <th>platform</th>\n",
       "      <th>year_of_release</th>\n",
       "      <th>genre</th>\n",
       "      <th>na_sales</th>\n",
       "      <th>eu_sales</th>\n",
       "      <th>jp_sales</th>\n",
       "      <th>other_sales</th>\n",
       "      <th>critic_score</th>\n",
       "      <th>user_score</th>\n",
       "      <th>rating</th>\n",
       "      <th>total_sales_sum</th>\n",
       "    </tr>\n",
       "  </thead>\n",
       "  <tbody>\n",
       "    <tr>\n",
       "      <th>4</th>\n",
       "      <td>Pokemon Red/Pokemon Blue</td>\n",
       "      <td>GB</td>\n",
       "      <td>1996</td>\n",
       "      <td>Role-Playing</td>\n",
       "      <td>11.27</td>\n",
       "      <td>8.89</td>\n",
       "      <td>10.22</td>\n",
       "      <td>1.00</td>\n",
       "      <td>0</td>\n",
       "      <td>0.0</td>\n",
       "      <td>absent</td>\n",
       "      <td>31.38</td>\n",
       "    </tr>\n",
       "    <tr>\n",
       "      <th>12</th>\n",
       "      <td>Pokemon Gold/Pokemon Silver</td>\n",
       "      <td>GB</td>\n",
       "      <td>1999</td>\n",
       "      <td>Role-Playing</td>\n",
       "      <td>9.00</td>\n",
       "      <td>6.18</td>\n",
       "      <td>7.20</td>\n",
       "      <td>0.71</td>\n",
       "      <td>0</td>\n",
       "      <td>0.0</td>\n",
       "      <td>absent</td>\n",
       "      <td>23.09</td>\n",
       "    </tr>\n",
       "  </tbody>\n",
       "</table>\n",
       "</div>"
      ],
      "text/plain": [
       "                           name platform  year_of_release         genre  \\\n",
       "4      Pokemon Red/Pokemon Blue       GB             1996  Role-Playing   \n",
       "12  Pokemon Gold/Pokemon Silver       GB             1999  Role-Playing   \n",
       "\n",
       "    na_sales  eu_sales  jp_sales  other_sales  critic_score  user_score  \\\n",
       "4      11.27      8.89     10.22         1.00             0         0.0   \n",
       "12      9.00      6.18      7.20         0.71             0         0.0   \n",
       "\n",
       "    rating  total_sales_sum  \n",
       "4   absent            31.38  \n",
       "12  absent            23.09  "
      ]
     },
     "execution_count": 55,
     "metadata": {},
     "output_type": "execute_result"
    }
   ],
   "source": [
    "#Посмотрим на строки с максимальными значениями по столбцу\n",
    "games_df.query('jp_sales >= 7')"
   ]
  },
  {
   "cell_type": "markdown",
   "metadata": {},
   "source": [
    "Выбросов в столбце jp_sales нет."
   ]
  },
  {
   "cell_type": "code",
   "execution_count": 56,
   "metadata": {},
   "outputs": [
    {
     "data": {
      "text/plain": [
       "<AxesSubplot:title={'center':'other_sales'}>"
      ]
     },
     "execution_count": 56,
     "metadata": {},
     "output_type": "execute_result"
    },
    {
     "data": {
      "image/png": "[encoded data removed]",
      "text/plain": [
       "<Figure size 360x360 with 1 Axes>"
      ]
     },
     "metadata": {
      "needs_background": "light"
     },
     "output_type": "display_data"
    }
   ],
   "source": [
    "#Построим диаграмму размаха, она же ящик с усами\n",
    "plt.figure(figsize=(5,5))\n",
    "games_df['other_sales'].plot.box(title = 'other_sales')"
   ]
  },
  {
   "cell_type": "code",
   "execution_count": 57,
   "metadata": {},
   "outputs": [
    {
     "data": {
      "text/plain": [
       "<AxesSubplot:title={'center':'other_sales'}>"
      ]
     },
     "execution_count": 57,
     "metadata": {},
     "output_type": "execute_result"
    },
    {
     "data": {
      "image/png": "[encoded data removed]",
      "text/plain": [
       "<Figure size 360x360 with 1 Axes>"
      ]
     },
     "metadata": {
      "needs_background": "light"
     },
     "output_type": "display_data"
    }
   ],
   "source": [
    "#Ограничим значения, чтобы из диаграммы размаха было видно сам ящик\n",
    "games_other_less_than_two = games_df.query('other_sales < 2')\n",
    "plt.figure(figsize=(5,5))\n",
    "games_other_less_than_two['other_sales'].plot.box(title = 'other_sales')"
   ]
  },
  {
   "cell_type": "markdown",
   "metadata": {},
   "source": [
    "Ситуация аналогична предыдущим, вместе с тем можно заметить и снижение размера промежутка, где лежит основная часть значений"
   ]
  },
  {
   "cell_type": "code",
   "execution_count": 58,
   "metadata": {},
   "outputs": [
    {
     "data": {
      "text/plain": [
       "0.01    2826\n",
       "0.00    2726\n",
       "0.02    1355\n",
       "0.03     778\n",
       "0.04     554\n",
       "        ... \n",
       "1.06       1\n",
       "2.84       1\n",
       "0.81       1\n",
       "1.68       1\n",
       "1.93       1\n",
       "Name: other_sales, Length: 143, dtype: int64"
      ]
     },
     "execution_count": 58,
     "metadata": {},
     "output_type": "execute_result"
    }
   ],
   "source": [
    "#Посмотрим количества уникальных значений по столбцу other_sales\n",
    "games_df['other_sales'].value_counts()"
   ]
  },
  {
   "cell_type": "code",
   "execution_count": 59,
   "metadata": {},
   "outputs": [
    {
     "data": {
      "text/html": [
       "<div>\n",
       "<style scoped>\n",
       "    .dataframe tbody tr th:only-of-type {\n",
       "        vertical-align: middle;\n",
       "    }\n",
       "\n",
       "    .dataframe tbody tr th {\n",
       "        vertical-align: top;\n",
       "    }\n",
       "\n",
       "    .dataframe thead th {\n",
       "        text-align: right;\n",
       "    }\n",
       "</style>\n",
       "<table border=\"1\" class=\"dataframe\">\n",
       "  <thead>\n",
       "    <tr style=\"text-align: right;\">\n",
       "      <th></th>\n",
       "      <th>name</th>\n",
       "      <th>platform</th>\n",
       "      <th>year_of_release</th>\n",
       "      <th>genre</th>\n",
       "      <th>na_sales</th>\n",
       "      <th>eu_sales</th>\n",
       "      <th>jp_sales</th>\n",
       "      <th>other_sales</th>\n",
       "      <th>critic_score</th>\n",
       "      <th>user_score</th>\n",
       "      <th>rating</th>\n",
       "      <th>total_sales_sum</th>\n",
       "    </tr>\n",
       "  </thead>\n",
       "  <tbody>\n",
       "    <tr>\n",
       "      <th>0</th>\n",
       "      <td>Wii Sports</td>\n",
       "      <td>Wii</td>\n",
       "      <td>2006</td>\n",
       "      <td>Sports</td>\n",
       "      <td>41.36</td>\n",
       "      <td>28.96</td>\n",
       "      <td>3.77</td>\n",
       "      <td>8.45</td>\n",
       "      <td>76</td>\n",
       "      <td>8.0</td>\n",
       "      <td>E</td>\n",
       "      <td>82.54</td>\n",
       "    </tr>\n",
       "    <tr>\n",
       "      <th>17</th>\n",
       "      <td>Grand Theft Auto: San Andreas</td>\n",
       "      <td>PS2</td>\n",
       "      <td>2004</td>\n",
       "      <td>Action</td>\n",
       "      <td>9.43</td>\n",
       "      <td>0.40</td>\n",
       "      <td>0.41</td>\n",
       "      <td>10.57</td>\n",
       "      <td>95</td>\n",
       "      <td>9.0</td>\n",
       "      <td>M</td>\n",
       "      <td>20.81</td>\n",
       "    </tr>\n",
       "    <tr>\n",
       "      <th>48</th>\n",
       "      <td>Gran Turismo 4</td>\n",
       "      <td>PS2</td>\n",
       "      <td>2004</td>\n",
       "      <td>Racing</td>\n",
       "      <td>3.01</td>\n",
       "      <td>0.01</td>\n",
       "      <td>1.10</td>\n",
       "      <td>7.53</td>\n",
       "      <td>89</td>\n",
       "      <td>8.5</td>\n",
       "      <td>E</td>\n",
       "      <td>11.65</td>\n",
       "    </tr>\n",
       "  </tbody>\n",
       "</table>\n",
       "</div>"
      ],
      "text/plain": [
       "                             name platform  year_of_release   genre  na_sales  \\\n",
       "0                      Wii Sports      Wii             2006  Sports     41.36   \n",
       "17  Grand Theft Auto: San Andreas      PS2             2004  Action      9.43   \n",
       "48                 Gran Turismo 4      PS2             2004  Racing      3.01   \n",
       "\n",
       "    eu_sales  jp_sales  other_sales  critic_score  user_score rating  \\\n",
       "0      28.96      3.77         8.45            76         8.0      E   \n",
       "17      0.40      0.41        10.57            95         9.0      M   \n",
       "48      0.01      1.10         7.53            89         8.5      E   \n",
       "\n",
       "    total_sales_sum  \n",
       "0             82.54  \n",
       "17            20.81  \n",
       "48            11.65  "
      ]
     },
     "execution_count": 59,
     "metadata": {},
     "output_type": "execute_result"
    }
   ],
   "source": [
    "#Посмотрим на строки с максимальными значениями по столбцу\n",
    "games_df.query('other_sales >= 6')"
   ]
  },
  {
   "cell_type": "markdown",
   "metadata": {},
   "source": [
    "Тоже нет ничего подозрительно, а значит можно переходить к следующему шагу."
   ]
  },
  {
   "cell_type": "markdown",
   "metadata": {},
   "source": [
    "# 3.Исследовательский анализ данных"
   ]
  },
  {
   "cell_type": "markdown",
   "metadata": {},
   "source": [
    "## Посмотрите, сколько игр выпускалось в разные годы. Важны ли данные за все периоды?"
   ]
  },
  {
   "cell_type": "markdown",
   "metadata": {},
   "source": [
    "Определенная игра может выйти в определенный год, но сразу на нескольких платформах, но нам нужно распределение именно уникальных игр по годам. Поищем дубликаты по названию и году выхода, оценим их визуально:"
   ]
  },
  {
   "cell_type": "code",
   "execution_count": 60,
   "metadata": {},
   "outputs": [
    {
     "data": {
      "text/html": [
       "<div>\n",
       "<style scoped>\n",
       "    .dataframe tbody tr th:only-of-type {\n",
       "        vertical-align: middle;\n",
       "    }\n",
       "\n",
       "    .dataframe tbody tr th {\n",
       "        vertical-align: top;\n",
       "    }\n",
       "\n",
       "    .dataframe thead th {\n",
       "        text-align: right;\n",
       "    }\n",
       "</style>\n",
       "<table border=\"1\" class=\"dataframe\">\n",
       "  <thead>\n",
       "    <tr style=\"text-align: right;\">\n",
       "      <th></th>\n",
       "      <th>name</th>\n",
       "      <th>platform</th>\n",
       "      <th>year_of_release</th>\n",
       "      <th>genre</th>\n",
       "      <th>na_sales</th>\n",
       "      <th>eu_sales</th>\n",
       "      <th>jp_sales</th>\n",
       "      <th>other_sales</th>\n",
       "      <th>critic_score</th>\n",
       "      <th>user_score</th>\n",
       "      <th>rating</th>\n",
       "      <th>total_sales_sum</th>\n",
       "    </tr>\n",
       "  </thead>\n",
       "  <tbody>\n",
       "    <tr>\n",
       "      <th>99</th>\n",
       "      <td>Call of Duty: Black Ops 3</td>\n",
       "      <td>XOne</td>\n",
       "      <td>2015</td>\n",
       "      <td>Shooter</td>\n",
       "      <td>4.59</td>\n",
       "      <td>2.11</td>\n",
       "      <td>0.01</td>\n",
       "      <td>0.68</td>\n",
       "      <td>0</td>\n",
       "      <td>0.0</td>\n",
       "      <td>absent</td>\n",
       "      <td>7.39</td>\n",
       "    </tr>\n",
       "    <tr>\n",
       "      <th>165</th>\n",
       "      <td>Grand Theft Auto V</td>\n",
       "      <td>XOne</td>\n",
       "      <td>2014</td>\n",
       "      <td>Action</td>\n",
       "      <td>2.81</td>\n",
       "      <td>2.19</td>\n",
       "      <td>0.00</td>\n",
       "      <td>0.47</td>\n",
       "      <td>97</td>\n",
       "      <td>7.9</td>\n",
       "      <td>M</td>\n",
       "      <td>5.47</td>\n",
       "    </tr>\n",
       "    <tr>\n",
       "      <th>179</th>\n",
       "      <td>Call of Duty: Advanced Warfare</td>\n",
       "      <td>XOne</td>\n",
       "      <td>2014</td>\n",
       "      <td>Shooter</td>\n",
       "      <td>3.22</td>\n",
       "      <td>1.55</td>\n",
       "      <td>0.01</td>\n",
       "      <td>0.48</td>\n",
       "      <td>81</td>\n",
       "      <td>5.4</td>\n",
       "      <td>M</td>\n",
       "      <td>5.26</td>\n",
       "    </tr>\n",
       "    <tr>\n",
       "      <th>216</th>\n",
       "      <td>Super Smash Bros. for Wii U and 3DS</td>\n",
       "      <td>WiiU</td>\n",
       "      <td>2014</td>\n",
       "      <td>Fighting</td>\n",
       "      <td>2.60</td>\n",
       "      <td>1.08</td>\n",
       "      <td>0.81</td>\n",
       "      <td>0.38</td>\n",
       "      <td>0</td>\n",
       "      <td>0.0</td>\n",
       "      <td>absent</td>\n",
       "      <td>4.87</td>\n",
       "    </tr>\n",
       "    <tr>\n",
       "      <th>222</th>\n",
       "      <td>LEGO Star Wars: The Complete Saga</td>\n",
       "      <td>DS</td>\n",
       "      <td>2007</td>\n",
       "      <td>Action</td>\n",
       "      <td>2.83</td>\n",
       "      <td>1.48</td>\n",
       "      <td>0.00</td>\n",
       "      <td>0.45</td>\n",
       "      <td>80</td>\n",
       "      <td>5.4</td>\n",
       "      <td>E</td>\n",
       "      <td>4.76</td>\n",
       "    </tr>\n",
       "    <tr>\n",
       "      <th>...</th>\n",
       "      <td>...</td>\n",
       "      <td>...</td>\n",
       "      <td>...</td>\n",
       "      <td>...</td>\n",
       "      <td>...</td>\n",
       "      <td>...</td>\n",
       "      <td>...</td>\n",
       "      <td>...</td>\n",
       "      <td>...</td>\n",
       "      <td>...</td>\n",
       "      <td>...</td>\n",
       "      <td>...</td>\n",
       "    </tr>\n",
       "    <tr>\n",
       "      <th>16633</th>\n",
       "      <td>SBK Superbike World Championship</td>\n",
       "      <td>PSP</td>\n",
       "      <td>2008</td>\n",
       "      <td>Racing</td>\n",
       "      <td>0.01</td>\n",
       "      <td>0.00</td>\n",
       "      <td>0.00</td>\n",
       "      <td>0.00</td>\n",
       "      <td>0</td>\n",
       "      <td>0.0</td>\n",
       "      <td>E10+</td>\n",
       "      <td>0.01</td>\n",
       "    </tr>\n",
       "    <tr>\n",
       "      <th>16660</th>\n",
       "      <td>Prison Architect</td>\n",
       "      <td>XOne</td>\n",
       "      <td>2016</td>\n",
       "      <td>Action</td>\n",
       "      <td>0.01</td>\n",
       "      <td>0.00</td>\n",
       "      <td>0.00</td>\n",
       "      <td>0.00</td>\n",
       "      <td>74</td>\n",
       "      <td>6.7</td>\n",
       "      <td>absent</td>\n",
       "      <td>0.01</td>\n",
       "    </tr>\n",
       "    <tr>\n",
       "      <th>16672</th>\n",
       "      <td>Metal Gear Solid V: The Definitive Experience</td>\n",
       "      <td>XOne</td>\n",
       "      <td>2016</td>\n",
       "      <td>Action</td>\n",
       "      <td>0.01</td>\n",
       "      <td>0.00</td>\n",
       "      <td>0.00</td>\n",
       "      <td>0.00</td>\n",
       "      <td>0</td>\n",
       "      <td>0.0</td>\n",
       "      <td>M</td>\n",
       "      <td>0.01</td>\n",
       "    </tr>\n",
       "    <tr>\n",
       "      <th>16673</th>\n",
       "      <td>Mortal Kombat: Deadly Alliance</td>\n",
       "      <td>GBA</td>\n",
       "      <td>2002</td>\n",
       "      <td>Fighting</td>\n",
       "      <td>0.01</td>\n",
       "      <td>0.00</td>\n",
       "      <td>0.00</td>\n",
       "      <td>0.00</td>\n",
       "      <td>81</td>\n",
       "      <td>8.8</td>\n",
       "      <td>M</td>\n",
       "      <td>0.01</td>\n",
       "    </tr>\n",
       "    <tr>\n",
       "      <th>16713</th>\n",
       "      <td>Spirits &amp; Spells</td>\n",
       "      <td>GBA</td>\n",
       "      <td>2003</td>\n",
       "      <td>Platform</td>\n",
       "      <td>0.01</td>\n",
       "      <td>0.00</td>\n",
       "      <td>0.00</td>\n",
       "      <td>0.00</td>\n",
       "      <td>0</td>\n",
       "      <td>0.0</td>\n",
       "      <td>absent</td>\n",
       "      <td>0.01</td>\n",
       "    </tr>\n",
       "  </tbody>\n",
       "</table>\n",
       "<p>2847 rows × 12 columns</p>\n",
       "</div>"
      ],
      "text/plain": [
       "                                                name platform  \\\n",
       "99                         Call of Duty: Black Ops 3     XOne   \n",
       "165                               Grand Theft Auto V     XOne   \n",
       "179                   Call of Duty: Advanced Warfare     XOne   \n",
       "216              Super Smash Bros. for Wii U and 3DS     WiiU   \n",
       "222                LEGO Star Wars: The Complete Saga       DS   \n",
       "...                                              ...      ...   \n",
       "16633               SBK Superbike World Championship      PSP   \n",
       "16660                               Prison Architect     XOne   \n",
       "16672  Metal Gear Solid V: The Definitive Experience     XOne   \n",
       "16673                 Mortal Kombat: Deadly Alliance      GBA   \n",
       "16713                               Spirits & Spells      GBA   \n",
       "\n",
       "       year_of_release     genre  na_sales  eu_sales  jp_sales  other_sales  \\\n",
       "99                2015   Shooter      4.59      2.11      0.01         0.68   \n",
       "165               2014    Action      2.81      2.19      0.00         0.47   \n",
       "179               2014   Shooter      3.22      1.55      0.01         0.48   \n",
       "216               2014  Fighting      2.60      1.08      0.81         0.38   \n",
       "222               2007    Action      2.83      1.48      0.00         0.45   \n",
       "...                ...       ...       ...       ...       ...          ...   \n",
       "16633             2008    Racing      0.01      0.00      0.00         0.00   \n",
       "16660             2016    Action      0.01      0.00      0.00         0.00   \n",
       "16672             2016    Action      0.01      0.00      0.00         0.00   \n",
       "16673             2002  Fighting      0.01      0.00      0.00         0.00   \n",
       "16713             2003  Platform      0.01      0.00      0.00         0.00   \n",
       "\n",
       "       critic_score  user_score  rating  total_sales_sum  \n",
       "99                0         0.0  absent             7.39  \n",
       "165              97         7.9       M             5.47  \n",
       "179              81         5.4       M             5.26  \n",
       "216               0         0.0  absent             4.87  \n",
       "222              80         5.4       E             4.76  \n",
       "...             ...         ...     ...              ...  \n",
       "16633             0         0.0    E10+             0.01  \n",
       "16660            74         6.7  absent             0.01  \n",
       "16672             0         0.0       M             0.01  \n",
       "16673            81         8.8       M             0.01  \n",
       "16713             0         0.0  absent             0.01  \n",
       "\n",
       "[2847 rows x 12 columns]"
      ]
     },
     "execution_count": 60,
     "metadata": {},
     "output_type": "execute_result"
    }
   ],
   "source": [
    "games_df[games_df.duplicated(subset = ['name', 'year_of_release']) == True]"
   ]
  },
  {
   "cell_type": "code",
   "execution_count": 61,
   "metadata": {},
   "outputs": [],
   "source": [
    "#Удалим найденные дубликаты\n",
    "unique_games_df = games_df.drop_duplicates(subset = ['name', 'year_of_release'])"
   ]
  },
  {
   "cell_type": "code",
   "execution_count": 62,
   "metadata": {},
   "outputs": [],
   "source": [
    "#Посчитаем количество выпущенных игр по годам путём группировки\n",
    "games_by_years = unique_games_df.groupby('year_of_release', as_index=False)['name'].count()"
   ]
  },
  {
   "cell_type": "code",
   "execution_count": 63,
   "metadata": {},
   "outputs": [],
   "source": [
    "#Меняем название столбца для более логичной передачи смысла \n",
    "games_by_years = games_by_years.rename(columns = {'name': 'count_of_games'})"
   ]
  },
  {
   "cell_type": "code",
   "execution_count": 64,
   "metadata": {},
   "outputs": [
    {
     "data": {
      "text/html": [
       "<div>\n",
       "<style scoped>\n",
       "    .dataframe tbody tr th:only-of-type {\n",
       "        vertical-align: middle;\n",
       "    }\n",
       "\n",
       "    .dataframe tbody tr th {\n",
       "        vertical-align: top;\n",
       "    }\n",
       "\n",
       "    .dataframe thead th {\n",
       "        text-align: right;\n",
       "    }\n",
       "</style>\n",
       "<table border=\"1\" class=\"dataframe\">\n",
       "  <thead>\n",
       "    <tr style=\"text-align: right;\">\n",
       "      <th></th>\n",
       "      <th>year_of_release</th>\n",
       "      <th>count_of_games</th>\n",
       "    </tr>\n",
       "  </thead>\n",
       "  <tbody>\n",
       "    <tr>\n",
       "      <th>0</th>\n",
       "      <td>1980</td>\n",
       "      <td>9</td>\n",
       "    </tr>\n",
       "    <tr>\n",
       "      <th>1</th>\n",
       "      <td>1981</td>\n",
       "      <td>46</td>\n",
       "    </tr>\n",
       "    <tr>\n",
       "      <th>2</th>\n",
       "      <td>1982</td>\n",
       "      <td>36</td>\n",
       "    </tr>\n",
       "    <tr>\n",
       "      <th>3</th>\n",
       "      <td>1983</td>\n",
       "      <td>17</td>\n",
       "    </tr>\n",
       "    <tr>\n",
       "      <th>4</th>\n",
       "      <td>1984</td>\n",
       "      <td>10</td>\n",
       "    </tr>\n",
       "  </tbody>\n",
       "</table>\n",
       "</div>"
      ],
      "text/plain": [
       "   year_of_release  count_of_games\n",
       "0             1980               9\n",
       "1             1981              46\n",
       "2             1982              36\n",
       "3             1983              17\n",
       "4             1984              10"
      ]
     },
     "metadata": {},
     "output_type": "display_data"
    }
   ],
   "source": [
    "#Смотрим на датафрейм\n",
    "display(games_by_years.head(5))"
   ]
  },
  {
   "cell_type": "code",
   "execution_count": 65,
   "metadata": {},
   "outputs": [],
   "source": [
    "#Удаляем нулевой индекс\n",
    "games_by_years = games_by_years.query('index != 0')"
   ]
  },
  {
   "cell_type": "code",
   "execution_count": 66,
   "metadata": {},
   "outputs": [
    {
     "data": {
      "image/png": "[encoded data removed]",
      "text/plain": [
       "<Figure size 1080x432 with 1 Axes>"
      ]
     },
     "metadata": {
      "needs_background": "light"
     },
     "output_type": "display_data"
    }
   ],
   "source": [
    "#Строим столбчатую диаграмму по датафрейму games_by_years с вертикальной осью \n",
    "#из значений year_of_release и горизонтальной name\n",
    "plt.figure(figsize=(15,6))\n",
    "games_by_years_graph = sns.barplot(data = games_by_years, x = 'year_of_release', y = 'count_of_games')\n",
    "#Установим названия осей\n",
    "games_by_years_graph.set(xlabel = 'years of release', ylabel = 'count of games')\n",
    "#Чтобы года были видны, нам нужно немного повернуть их\n",
    "for item in games_by_years_graph.get_xticklabels():\n",
    "    item.set_rotation(45)"
   ]
  },
  {
   "cell_type": "markdown",
   "metadata": {},
   "source": [
    "Как мы видим из графика выше, количество выпущенных игр росло в среднем до 2011 года, потом произошёл резкий спад до уровня ниже уровня начала века. У меня есть предположение, что с развитием производства смартфонов, люди стали меньше играть в компьютерные игры, некоторые перешли на игры в своих смартфонах, соответственно с упадком спроса упало и предложение.\n",
    "На мой взгляд, актуальный период для будущих исследований-это период последних 3 лет, с 2014 по 2016."
   ]
  },
  {
   "cell_type": "markdown",
   "metadata": {},
   "source": [
    "## Посмотрите, как менялись продажи по платформам. Выберите платформы с наибольшими суммарными продажами и постройте распределение по годам. За какой характерный срок появляются новые и исчезают старые платформы?"
   ]
  },
  {
   "cell_type": "markdown",
   "metadata": {},
   "source": [
    "Тут мы возвращаемся к использованиб games_df вместо unique_games_df по причине того, что нам, наоборот, нужны не уникальные игры, а все платформы, даже если игры на них повторяются:"
   ]
  },
  {
   "cell_type": "code",
   "execution_count": 67,
   "metadata": {},
   "outputs": [],
   "source": [
    "#Сгрупируем датафрейм по количеству продаж на платформах\n",
    "platform_sum_df = games_df.groupby('platform', as_index=False)['total_sales_sum'].sum()"
   ]
  },
  {
   "cell_type": "code",
   "execution_count": 68,
   "metadata": {},
   "outputs": [
    {
     "data": {
      "text/html": [
       "<div>\n",
       "<style scoped>\n",
       "    .dataframe tbody tr th:only-of-type {\n",
       "        vertical-align: middle;\n",
       "    }\n",
       "\n",
       "    .dataframe tbody tr th {\n",
       "        vertical-align: top;\n",
       "    }\n",
       "\n",
       "    .dataframe thead th {\n",
       "        text-align: right;\n",
       "    }\n",
       "</style>\n",
       "<table border=\"1\" class=\"dataframe\">\n",
       "  <thead>\n",
       "    <tr style=\"text-align: right;\">\n",
       "      <th></th>\n",
       "      <th>platform</th>\n",
       "      <th>total_sales_sum</th>\n",
       "    </tr>\n",
       "  </thead>\n",
       "  <tbody>\n",
       "    <tr>\n",
       "      <th>12</th>\n",
       "      <td>PS2</td>\n",
       "      <td>1159.23</td>\n",
       "    </tr>\n",
       "    <tr>\n",
       "      <th>21</th>\n",
       "      <td>X360</td>\n",
       "      <td>953.55</td>\n",
       "    </tr>\n",
       "    <tr>\n",
       "      <th>19</th>\n",
       "      <td>Wii</td>\n",
       "      <td>869.79</td>\n",
       "    </tr>\n",
       "    <tr>\n",
       "      <th>3</th>\n",
       "      <td>DS</td>\n",
       "      <td>734.82</td>\n",
       "    </tr>\n",
       "    <tr>\n",
       "      <th>11</th>\n",
       "      <td>PS</td>\n",
       "      <td>665.31</td>\n",
       "    </tr>\n",
       "  </tbody>\n",
       "</table>\n",
       "</div>"
      ],
      "text/plain": [
       "   platform  total_sales_sum\n",
       "12      PS2          1159.23\n",
       "21     X360           953.55\n",
       "19      Wii           869.79\n",
       "3        DS           734.82\n",
       "11       PS           665.31"
      ]
     },
     "execution_count": 68,
     "metadata": {},
     "output_type": "execute_result"
    }
   ],
   "source": [
    "#Выведем топ 5 платформ по количеству продаж\n",
    "platform_sum_df.nlargest(5, 'total_sales_sum')"
   ]
  },
  {
   "cell_type": "code",
   "execution_count": 69,
   "metadata": {},
   "outputs": [],
   "source": [
    "#Создадим датафрейм с самыми популярными по количеству продаж платформами\n",
    "top_platforms = games_df.query('platform == \"PS2\" or platform == \"X360\" or platform == \"PS3\" or platform == \"Wii\" or platform == \"DS\"')"
   ]
  },
  {
   "cell_type": "code",
   "execution_count": 70,
   "metadata": {},
   "outputs": [],
   "source": [
    "#Делаем сводную таблицу, где посчитаны продажи с топовых платформ по годам, \n",
    "#T меняет строки местами со столбцами, fill_value=0 - заменяет Nan на 0\n",
    "platforms_by_years = top_platforms.pivot_table(index = 'year_of_release', \n",
    "                                               columns = 'platform', values = 'total_sales_sum', \n",
    "                                               aggfunc = \"sum\",  fill_value=0).T"
   ]
  },
  {
   "cell_type": "code",
   "execution_count": 71,
   "metadata": {},
   "outputs": [
    {
     "data": {
      "text/html": [
       "<div>\n",
       "<style scoped>\n",
       "    .dataframe tbody tr th:only-of-type {\n",
       "        vertical-align: middle;\n",
       "    }\n",
       "\n",
       "    .dataframe tbody tr th {\n",
       "        vertical-align: top;\n",
       "    }\n",
       "\n",
       "    .dataframe thead th {\n",
       "        text-align: right;\n",
       "    }\n",
       "</style>\n",
       "<table border=\"1\" class=\"dataframe\">\n",
       "  <thead>\n",
       "    <tr style=\"text-align: right;\">\n",
       "      <th>year_of_release</th>\n",
       "      <th>2000</th>\n",
       "      <th>2001</th>\n",
       "      <th>2002</th>\n",
       "      <th>2003</th>\n",
       "      <th>2004</th>\n",
       "      <th>2005</th>\n",
       "      <th>2006</th>\n",
       "      <th>2007</th>\n",
       "      <th>2008</th>\n",
       "      <th>2009</th>\n",
       "      <th>2010</th>\n",
       "      <th>2011</th>\n",
       "      <th>2012</th>\n",
       "      <th>2013</th>\n",
       "      <th>2014</th>\n",
       "      <th>2015</th>\n",
       "      <th>2016</th>\n",
       "    </tr>\n",
       "    <tr>\n",
       "      <th>platform</th>\n",
       "      <th></th>\n",
       "      <th></th>\n",
       "      <th></th>\n",
       "      <th></th>\n",
       "      <th></th>\n",
       "      <th></th>\n",
       "      <th></th>\n",
       "      <th></th>\n",
       "      <th></th>\n",
       "      <th></th>\n",
       "      <th></th>\n",
       "      <th></th>\n",
       "      <th></th>\n",
       "      <th></th>\n",
       "      <th></th>\n",
       "      <th></th>\n",
       "      <th></th>\n",
       "    </tr>\n",
       "  </thead>\n",
       "  <tbody>\n",
       "    <tr>\n",
       "      <th>DS</th>\n",
       "      <td>0.0</td>\n",
       "      <td>0.00</td>\n",
       "      <td>0.00</td>\n",
       "      <td>0.00</td>\n",
       "      <td>16.82</td>\n",
       "      <td>127.64</td>\n",
       "      <td>106.18</td>\n",
       "      <td>134.83</td>\n",
       "      <td>133.85</td>\n",
       "      <td>107.40</td>\n",
       "      <td>74.83</td>\n",
       "      <td>21.62</td>\n",
       "      <td>10.47</td>\n",
       "      <td>1.18</td>\n",
       "      <td>0.00</td>\n",
       "      <td>0.00</td>\n",
       "      <td>0.00</td>\n",
       "    </tr>\n",
       "    <tr>\n",
       "      <th>PS2</th>\n",
       "      <td>36.0</td>\n",
       "      <td>161.99</td>\n",
       "      <td>196.84</td>\n",
       "      <td>175.81</td>\n",
       "      <td>201.35</td>\n",
       "      <td>152.48</td>\n",
       "      <td>90.75</td>\n",
       "      <td>67.84</td>\n",
       "      <td>47.94</td>\n",
       "      <td>22.96</td>\n",
       "      <td>4.99</td>\n",
       "      <td>0.28</td>\n",
       "      <td>0.00</td>\n",
       "      <td>0.00</td>\n",
       "      <td>0.00</td>\n",
       "      <td>0.00</td>\n",
       "      <td>0.00</td>\n",
       "    </tr>\n",
       "    <tr>\n",
       "      <th>Wii</th>\n",
       "      <td>0.0</td>\n",
       "      <td>0.00</td>\n",
       "      <td>0.00</td>\n",
       "      <td>0.00</td>\n",
       "      <td>0.00</td>\n",
       "      <td>0.00</td>\n",
       "      <td>136.93</td>\n",
       "      <td>151.61</td>\n",
       "      <td>168.11</td>\n",
       "      <td>201.62</td>\n",
       "      <td>124.04</td>\n",
       "      <td>55.70</td>\n",
       "      <td>18.78</td>\n",
       "      <td>8.02</td>\n",
       "      <td>3.70</td>\n",
       "      <td>1.10</td>\n",
       "      <td>0.18</td>\n",
       "    </tr>\n",
       "    <tr>\n",
       "      <th>X360</th>\n",
       "      <td>0.0</td>\n",
       "      <td>0.00</td>\n",
       "      <td>0.00</td>\n",
       "      <td>0.00</td>\n",
       "      <td>0.00</td>\n",
       "      <td>8.24</td>\n",
       "      <td>50.45</td>\n",
       "      <td>95.30</td>\n",
       "      <td>135.12</td>\n",
       "      <td>119.70</td>\n",
       "      <td>169.01</td>\n",
       "      <td>142.68</td>\n",
       "      <td>96.56</td>\n",
       "      <td>88.47</td>\n",
       "      <td>34.69</td>\n",
       "      <td>11.83</td>\n",
       "      <td>1.50</td>\n",
       "    </tr>\n",
       "  </tbody>\n",
       "</table>\n",
       "</div>"
      ],
      "text/plain": [
       "year_of_release  2000    2001    2002    2003    2004    2005    2006    2007  \\\n",
       "platform                                                                        \n",
       "DS                0.0    0.00    0.00    0.00   16.82  127.64  106.18  134.83   \n",
       "PS2              36.0  161.99  196.84  175.81  201.35  152.48   90.75   67.84   \n",
       "Wii               0.0    0.00    0.00    0.00    0.00    0.00  136.93  151.61   \n",
       "X360              0.0    0.00    0.00    0.00    0.00    8.24   50.45   95.30   \n",
       "\n",
       "year_of_release    2008    2009    2010    2011   2012   2013   2014   2015  \\\n",
       "platform                                                                      \n",
       "DS               133.85  107.40   74.83   21.62  10.47   1.18   0.00   0.00   \n",
       "PS2               47.94   22.96    4.99    0.28   0.00   0.00   0.00   0.00   \n",
       "Wii              168.11  201.62  124.04   55.70  18.78   8.02   3.70   1.10   \n",
       "X360             135.12  119.70  169.01  142.68  96.56  88.47  34.69  11.83   \n",
       "\n",
       "year_of_release  2016  \n",
       "platform               \n",
       "DS               0.00  \n",
       "PS2              0.00  \n",
       "Wii              0.18  \n",
       "X360             1.50  "
      ]
     },
     "metadata": {},
     "output_type": "display_data"
    }
   ],
   "source": [
    "#Выведем получившийся датафрейм\n",
    "display(platforms_by_years)"
   ]
  },
  {
   "cell_type": "code",
   "execution_count": 72,
   "metadata": {},
   "outputs": [
    {
     "data": {
      "text/plain": [
       "<AxesSubplot:xlabel='year_of_release'>"
      ]
     },
     "execution_count": 72,
     "metadata": {},
     "output_type": "execute_result"
    },
    {
     "data": {
      "image/png": "[encoded data removed]",
      "text/plain": [
       "<Figure size 1440x720 with 1 Axes>"
      ]
     },
     "metadata": {
      "needs_background": "light"
     },
     "output_type": "display_data"
    }
   ],
   "source": [
    "#Сделаем график распределения продаж самых популярных платформ по годам.\n",
    "platforms_by_years.T.plot(figsize=(20,10))"
   ]
  },
  {
   "cell_type": "markdown",
   "metadata": {},
   "source": [
    "Как мы видим выше, все самые популярные платформы стали таковыми в разные периоды времени. Платформа PS2 успешно существовала дольше остальных платформ, X360 тоже существовала долгий период, с 1985 года, но на протяжении всего периода до 2005 года не продавала игры. Остальные три платформы появились позднее, что впрочем никак не сказалось на их популярности. Пик популярности платформы PS2 начался раньше всех и закончился тоже раньше. На период 2015 года, самыми актуальными в плане популярности платформами являлись X360, несмотря на своё долгое существование и PS3. Назвать платформы Wii, DS и PS2 популярными в 2015 году мы не можем, их продажи близки к 0 копий. Пик популярности платформ длится не очень долгий период, визуально, за 10 или менее лет платформа становится не популярной, пик продаж откатывается до нулевых или малых значений."
   ]
  },
  {
   "cell_type": "markdown",
   "metadata": {},
   "source": [
    "Ранее мы выяснили, что актуальная информация-это информация старше 2013 года. Соответственно, далее мы будем использовать более актуальную информацию."
   ]
  },
  {
   "cell_type": "code",
   "execution_count": 73,
   "metadata": {},
   "outputs": [],
   "source": [
    "#Создадим датафрейм, состоящий из исключительно актуальной информации\n",
    "games_actual_df = games_df.query('year_of_release >= 2014')"
   ]
  },
  {
   "cell_type": "markdown",
   "metadata": {},
   "source": [
    "## Какие платформы лидируют по продажам, растут или падают? Выберите несколько потенциально прибыльных платформ."
   ]
  },
  {
   "cell_type": "code",
   "execution_count": 74,
   "metadata": {},
   "outputs": [],
   "source": [
    "#Создадим новый датафрейм путём группировки датафрейма games_actul_df \n",
    "#по количеству продаж на разных платформах\n",
    "platforms_actual_df = games_actual_df.groupby('platform', as_index=False)['total_sales_sum'].count()"
   ]
  },
  {
   "cell_type": "code",
   "execution_count": 75,
   "metadata": {},
   "outputs": [
    {
     "data": {
      "text/html": [
       "<div>\n",
       "<style scoped>\n",
       "    .dataframe tbody tr th:only-of-type {\n",
       "        vertical-align: middle;\n",
       "    }\n",
       "\n",
       "    .dataframe tbody tr th {\n",
       "        vertical-align: top;\n",
       "    }\n",
       "\n",
       "    .dataframe thead th {\n",
       "        text-align: right;\n",
       "    }\n",
       "</style>\n",
       "<table border=\"1\" class=\"dataframe\">\n",
       "  <thead>\n",
       "    <tr style=\"text-align: right;\">\n",
       "      <th></th>\n",
       "      <th>platform</th>\n",
       "      <th>total_sales_sum</th>\n",
       "    </tr>\n",
       "  </thead>\n",
       "  <tbody>\n",
       "    <tr>\n",
       "      <th>2</th>\n",
       "      <td>PS4</td>\n",
       "      <td>278</td>\n",
       "    </tr>\n",
       "    <tr>\n",
       "      <th>7</th>\n",
       "      <td>XOne</td>\n",
       "      <td>208</td>\n",
       "    </tr>\n",
       "    <tr>\n",
       "      <th>6</th>\n",
       "      <td>X360</td>\n",
       "      <td>103</td>\n",
       "    </tr>\n",
       "    <tr>\n",
       "      <th>0</th>\n",
       "      <td>3DS</td>\n",
       "      <td>85</td>\n",
       "    </tr>\n",
       "    <tr>\n",
       "      <th>1</th>\n",
       "      <td>PC</td>\n",
       "      <td>63</td>\n",
       "    </tr>\n",
       "  </tbody>\n",
       "</table>\n",
       "</div>"
      ],
      "text/plain": [
       "  platform  total_sales_sum\n",
       "2      PS4              278\n",
       "7     XOne              208\n",
       "6     X360              103\n",
       "0      3DS               85\n",
       "1       PC               63"
      ]
     },
     "metadata": {},
     "output_type": "display_data"
    }
   ],
   "source": [
    "#Выведем таблицу с топ-5 платформами по количеству продаж\n",
    "top_platforms = platforms_actual_df.nlargest(5, 'total_sales_sum')\n",
    "display(top_platforms)"
   ]
  },
  {
   "cell_type": "code",
   "execution_count": 76,
   "metadata": {},
   "outputs": [
    {
     "data": {
      "text/html": [
       "<div>\n",
       "<style scoped>\n",
       "    .dataframe tbody tr th:only-of-type {\n",
       "        vertical-align: middle;\n",
       "    }\n",
       "\n",
       "    .dataframe tbody tr th {\n",
       "        vertical-align: top;\n",
       "    }\n",
       "\n",
       "    .dataframe thead th {\n",
       "        text-align: right;\n",
       "    }\n",
       "</style>\n",
       "<table border=\"1\" class=\"dataframe\">\n",
       "  <thead>\n",
       "    <tr style=\"text-align: right;\">\n",
       "      <th></th>\n",
       "      <th>platform</th>\n",
       "      <th>total_sales_sum</th>\n",
       "    </tr>\n",
       "  </thead>\n",
       "  <tbody>\n",
       "    <tr>\n",
       "      <th>4</th>\n",
       "      <td>Wii</td>\n",
       "      <td>7</td>\n",
       "    </tr>\n",
       "    <tr>\n",
       "      <th>5</th>\n",
       "      <td>WiiU</td>\n",
       "      <td>56</td>\n",
       "    </tr>\n",
       "    <tr>\n",
       "      <th>3</th>\n",
       "      <td>PSV</td>\n",
       "      <td>61</td>\n",
       "    </tr>\n",
       "    <tr>\n",
       "      <th>1</th>\n",
       "      <td>PC</td>\n",
       "      <td>63</td>\n",
       "    </tr>\n",
       "    <tr>\n",
       "      <th>0</th>\n",
       "      <td>3DS</td>\n",
       "      <td>85</td>\n",
       "    </tr>\n",
       "  </tbody>\n",
       "</table>\n",
       "</div>"
      ],
      "text/plain": [
       "  platform  total_sales_sum\n",
       "4      Wii                7\n",
       "5     WiiU               56\n",
       "3      PSV               61\n",
       "1       PC               63\n",
       "0      3DS               85"
      ]
     },
     "execution_count": 76,
     "metadata": {},
     "output_type": "execute_result"
    }
   ],
   "source": [
    "#Выведем таблицу с самыми плохими пятью платформами по количеству продаж\n",
    "platforms_actual_df.nsmallest(5, 'total_sales_sum')"
   ]
  },
  {
   "cell_type": "code",
   "execution_count": 77,
   "metadata": {},
   "outputs": [],
   "source": [
    "platforms_by_years_dynamics = games_actual_df.pivot_table(index = 'year_of_release', columns = 'platform', values = 'total_sales_sum', aggfunc = \"sum\",  fill_value=0).T"
   ]
  },
  {
   "cell_type": "code",
   "execution_count": 78,
   "metadata": {},
   "outputs": [
    {
     "data": {
      "text/html": [
       "<div>\n",
       "<style scoped>\n",
       "    .dataframe tbody tr th:only-of-type {\n",
       "        vertical-align: middle;\n",
       "    }\n",
       "\n",
       "    .dataframe tbody tr th {\n",
       "        vertical-align: top;\n",
       "    }\n",
       "\n",
       "    .dataframe thead th {\n",
       "        text-align: right;\n",
       "    }\n",
       "</style>\n",
       "<table border=\"1\" class=\"dataframe\">\n",
       "  <thead>\n",
       "    <tr style=\"text-align: right;\">\n",
       "      <th>year_of_release</th>\n",
       "      <th>2014</th>\n",
       "      <th>2015</th>\n",
       "      <th>2016</th>\n",
       "    </tr>\n",
       "    <tr>\n",
       "      <th>platform</th>\n",
       "      <th></th>\n",
       "      <th></th>\n",
       "      <th></th>\n",
       "    </tr>\n",
       "  </thead>\n",
       "  <tbody>\n",
       "    <tr>\n",
       "      <th>3DS</th>\n",
       "      <td>36.55</td>\n",
       "      <td>19.85</td>\n",
       "      <td>10.73</td>\n",
       "    </tr>\n",
       "    <tr>\n",
       "      <th>PC</th>\n",
       "      <td>11.38</td>\n",
       "      <td>6.73</td>\n",
       "      <td>4.11</td>\n",
       "    </tr>\n",
       "    <tr>\n",
       "      <th>PS4</th>\n",
       "      <td>99.31</td>\n",
       "      <td>116.44</td>\n",
       "      <td>65.74</td>\n",
       "    </tr>\n",
       "    <tr>\n",
       "      <th>PSV</th>\n",
       "      <td>8.20</td>\n",
       "      <td>1.72</td>\n",
       "      <td>0.84</td>\n",
       "    </tr>\n",
       "    <tr>\n",
       "      <th>Wii</th>\n",
       "      <td>3.70</td>\n",
       "      <td>1.10</td>\n",
       "      <td>0.18</td>\n",
       "    </tr>\n",
       "    <tr>\n",
       "      <th>WiiU</th>\n",
       "      <td>21.59</td>\n",
       "      <td>16.21</td>\n",
       "      <td>4.55</td>\n",
       "    </tr>\n",
       "    <tr>\n",
       "      <th>X360</th>\n",
       "      <td>34.69</td>\n",
       "      <td>11.83</td>\n",
       "      <td>1.50</td>\n",
       "    </tr>\n",
       "    <tr>\n",
       "      <th>XOne</th>\n",
       "      <td>54.01</td>\n",
       "      <td>59.96</td>\n",
       "      <td>26.07</td>\n",
       "    </tr>\n",
       "  </tbody>\n",
       "</table>\n",
       "</div>"
      ],
      "text/plain": [
       "year_of_release   2014    2015   2016\n",
       "platform                             \n",
       "3DS              36.55   19.85  10.73\n",
       "PC               11.38    6.73   4.11\n",
       "PS4              99.31  116.44  65.74\n",
       "PSV               8.20    1.72   0.84\n",
       "Wii               3.70    1.10   0.18\n",
       "WiiU             21.59   16.21   4.55\n",
       "X360             34.69   11.83   1.50\n",
       "XOne             54.01   59.96  26.07"
      ]
     },
     "metadata": {},
     "output_type": "display_data"
    }
   ],
   "source": [
    "display(platforms_by_years_dynamics)"
   ]
  },
  {
   "cell_type": "code",
   "execution_count": 79,
   "metadata": {},
   "outputs": [
    {
     "data": {
      "text/plain": [
       "<matplotlib.legend.Legend at 0x7fe4193b2070>"
      ]
     },
     "execution_count": 79,
     "metadata": {},
     "output_type": "execute_result"
    },
    {
     "data": {
      "image/png": "[encoded data removed]",
      "text/plain": [
       "<Figure size 1080x720 with 1 Axes>"
      ]
     },
     "metadata": {
      "needs_background": "light"
     },
     "output_type": "display_data"
    }
   ],
   "source": [
    "#Сделаем график распределения продаж актуальных платформ по годам.\n",
    "sales_by_years_graph = platforms_by_years_dynamics.T.plot(figsize = (15, 10))\n",
    "#Установим названия осей\n",
    "sales_by_years_graph.set(xlabel = 'years of release', ylabel = 'count of sales')\n",
    "plt.legend(fontsize=9, shadow=False, framealpha=1, facecolor='y', edgecolor='r', title='Легенда')\n",
    "plt.legend(bbox_to_anchor = (1.02, 1), loc = 'upper left', borderaxespad = 0)"
   ]
  },
  {
   "cell_type": "code",
   "execution_count": 80,
   "metadata": {},
   "outputs": [
    {
     "data": {
      "text/plain": [
       "<matplotlib.legend.Legend at 0x7fe4193a4ca0>"
      ]
     },
     "execution_count": 80,
     "metadata": {},
     "output_type": "execute_result"
    },
    {
     "data": {
      "image/png": "[encoded data removed]",
      "text/plain": [
       "<Figure size 1080x720 with 1 Axes>"
      ]
     },
     "metadata": {
      "needs_background": "light"
     },
     "output_type": "display_data"
    }
   ],
   "source": [
    "ticks = np.arange(2014, 2017, 1)\n",
    "\n",
    "#Сделаем график распределения продаж актуальных платформ по годам.\n",
    "sales_by_years_graph = platforms_by_years_dynamics.T.plot(figsize = (15, 10))\n",
    "\n",
    "#Установим названия осей\n",
    "sales_by_years_graph.set(xlabel = 'years of release', ylabel = 'count of sales', xticks=ticks)\n",
    "\n",
    "plt.legend(fontsize=9, shadow=False, framealpha=1, facecolor='y', edgecolor='r', title='Легенда')\n",
    "\n",
    "plt.legend(bbox_to_anchor = (1.02, 1), loc = 'upper left', borderaxespad = 0)"
   ]
  },
  {
   "cell_type": "markdown",
   "metadata": {},
   "source": [
    "<div class=\"alert alert-danger\">\n",
    "<b>**КОД РЕВЬЮЕРА. КОНЕЦ**</b></div>"
   ]
  },
  {
   "cell_type": "code",
   "execution_count": null,
   "metadata": {},
   "outputs": [],
   "source": []
  },
  {
   "cell_type": "markdown",
   "metadata": {},
   "source": [
    "На мой взгляд, платформы PS4 и Xone находятся в стадии постепенного роста и могут быть потенциально прибыльными, но из-за неполных данных 2016 года на графике это выглядит немного по-другому. Продажи на остальных платформах находятся в стадии регрессии."
   ]
  },
  {
   "cell_type": "markdown",
   "metadata": {},
   "source": [
    "## Постройте график «ящик с усами» по глобальным продажам игр в разбивке по платформам. Опишите результат"
   ]
  },
  {
   "cell_type": "code",
   "execution_count": 81,
   "metadata": {},
   "outputs": [
    {
     "data": {
      "image/png": "[encoded data removed]",
      "text/plain": [
       "<Figure size 720x720 with 1 Axes>"
      ]
     },
     "metadata": {
      "needs_background": "light"
     },
     "output_type": "display_data"
    }
   ],
   "source": [
    "plt.figure(figsize=(10,10))\n",
    "sns.boxplot(data = games_actual_df, x = 'platform', y = 'total_sales_sum')\n",
    "#Установка диапазона оси \n",
    "plt.ylim([0,2])\n",
    "plt.show()"
   ]
  },
  {
   "cell_type": "markdown",
   "metadata": {},
   "source": [
    "Как мы видим, в данных по всем платформам за исключением PS2 есть расконцентрация числовых значений, так называемые, выбросы- у каких-то платформ их больше, у каких-то меньше."
   ]
  },
  {
   "cell_type": "markdown",
   "metadata": {},
   "source": [
    "## Посмотрите на общее распределение игр по жанрам. Что можно сказать о самых прибыльных жанрах? Выделяются ли жанры с высокими и низкими продажами?"
   ]
  },
  {
   "cell_type": "code",
   "execution_count": 82,
   "metadata": {
    "scrolled": true
   },
   "outputs": [],
   "source": [
    "#Создадим новый датафрейм путём группировки датафрейма games_actual_df по медианному значению продаж во всех регионах\n",
    "genre_actual_df = games_actual_df.groupby('genre', as_index=False)['total_sales_sum'].median().nlargest(11, 'total_sales_sum')"
   ]
  },
  {
   "cell_type": "code",
   "execution_count": 83,
   "metadata": {},
   "outputs": [
    {
     "data": {
      "text/html": [
       "<div>\n",
       "<style scoped>\n",
       "    .dataframe tbody tr th:only-of-type {\n",
       "        vertical-align: middle;\n",
       "    }\n",
       "\n",
       "    .dataframe tbody tr th {\n",
       "        vertical-align: top;\n",
       "    }\n",
       "\n",
       "    .dataframe thead th {\n",
       "        text-align: right;\n",
       "    }\n",
       "</style>\n",
       "<table border=\"1\" class=\"dataframe\">\n",
       "  <thead>\n",
       "    <tr style=\"text-align: right;\">\n",
       "      <th></th>\n",
       "      <th>genre</th>\n",
       "      <th>total_sales_sum</th>\n",
       "    </tr>\n",
       "  </thead>\n",
       "  <tbody>\n",
       "    <tr>\n",
       "      <th>8</th>\n",
       "      <td>Shooter</td>\n",
       "      <td>0.590</td>\n",
       "    </tr>\n",
       "    <tr>\n",
       "      <th>5</th>\n",
       "      <td>Puzzle</td>\n",
       "      <td>0.480</td>\n",
       "    </tr>\n",
       "    <tr>\n",
       "      <th>10</th>\n",
       "      <td>Sports</td>\n",
       "      <td>0.450</td>\n",
       "    </tr>\n",
       "    <tr>\n",
       "      <th>3</th>\n",
       "      <td>Misc</td>\n",
       "      <td>0.320</td>\n",
       "    </tr>\n",
       "    <tr>\n",
       "      <th>7</th>\n",
       "      <td>Role-Playing</td>\n",
       "      <td>0.250</td>\n",
       "    </tr>\n",
       "    <tr>\n",
       "      <th>6</th>\n",
       "      <td>Racing</td>\n",
       "      <td>0.235</td>\n",
       "    </tr>\n",
       "    <tr>\n",
       "      <th>2</th>\n",
       "      <td>Fighting</td>\n",
       "      <td>0.225</td>\n",
       "    </tr>\n",
       "    <tr>\n",
       "      <th>11</th>\n",
       "      <td>Strategy</td>\n",
       "      <td>0.225</td>\n",
       "    </tr>\n",
       "    <tr>\n",
       "      <th>0</th>\n",
       "      <td>Action</td>\n",
       "      <td>0.210</td>\n",
       "    </tr>\n",
       "    <tr>\n",
       "      <th>9</th>\n",
       "      <td>Simulation</td>\n",
       "      <td>0.210</td>\n",
       "    </tr>\n",
       "    <tr>\n",
       "      <th>4</th>\n",
       "      <td>Platform</td>\n",
       "      <td>0.150</td>\n",
       "    </tr>\n",
       "  </tbody>\n",
       "</table>\n",
       "</div>"
      ],
      "text/plain": [
       "           genre  total_sales_sum\n",
       "8        Shooter            0.590\n",
       "5         Puzzle            0.480\n",
       "10        Sports            0.450\n",
       "3           Misc            0.320\n",
       "7   Role-Playing            0.250\n",
       "6         Racing            0.235\n",
       "2       Fighting            0.225\n",
       "11      Strategy            0.225\n",
       "0         Action            0.210\n",
       "9     Simulation            0.210\n",
       "4       Platform            0.150"
      ]
     },
     "metadata": {},
     "output_type": "display_data"
    }
   ],
   "source": [
    "#Выведим на экран датафрейм\n",
    "display(genre_actual_df)"
   ]
  },
  {
   "cell_type": "markdown",
   "metadata": {},
   "source": [
    "Как мы видим из таблицы, согласно актуальным данным, абсолютно лидирует по медианному значению продаж по всем регионам среди игровых жанров жанр шутер, далее геймеры любят жанр пазлов и спортс жанр. \n",
    "А вот самыми непопулярными оказались игры в жанре экшн, платформеры и симуляции."
   ]
  },
  {
   "cell_type": "markdown",
   "metadata": {},
   "source": [
    "## Посмотрите, как влияют на продажи внутри одной популярной платформы отзывы пользователей и критиков. Постройте диаграмму рассеяния и посчитайте корреляцию между отзывами и продажами. Сформулируйте выводы. Соотнесите выводы с продажами игр на других платформах."
   ]
  },
  {
   "cell_type": "markdown",
   "metadata": {},
   "source": [
    "В качестве платформы я выбрала PS4-она абсолютно лидирует по количеству продаж, хотя в последнее время находится в регрессивном состоянии, как было видно из графика"
   ]
  },
  {
   "cell_type": "code",
   "execution_count": 84,
   "metadata": {},
   "outputs": [],
   "source": [
    "#Создаём датафрейм по платформе PS4\n",
    "ps4_df = games_actual_df.query('platform == \"PS4\"')"
   ]
  },
  {
   "cell_type": "code",
   "execution_count": 85,
   "metadata": {},
   "outputs": [
    {
     "data": {
      "text/plain": [
       "1.0125539568345323"
      ]
     },
     "execution_count": 85,
     "metadata": {},
     "output_type": "execute_result"
    }
   ],
   "source": [
    "#Посмотрим на среднюю сумму продаж игр на этой платформе\n",
    "ps4_df['total_sales_sum'].mean()"
   ]
  },
  {
   "cell_type": "markdown",
   "metadata": {},
   "source": [
    "До добавления заглушек в столбец critic_score нулей там не было, значит мы можем убрать все значения с нулями (ранее значения там отсутствовали) и посчитать корреляцию, а также построить для нее график. В столбце с оценками пользователей был всего лишь один 0, так что сделаем тоже самое."
   ]
  },
  {
   "cell_type": "code",
   "execution_count": 86,
   "metadata": {},
   "outputs": [],
   "source": [
    "ps4_without_nan = ps4_df.query('critic_score != 0 & user_score != 0')"
   ]
  },
  {
   "cell_type": "code",
   "execution_count": 87,
   "metadata": {},
   "outputs": [
    {
     "data": {
      "text/plain": [
       "Text(0, 0.5, 'total sales sum')"
      ]
     },
     "execution_count": 87,
     "metadata": {},
     "output_type": "execute_result"
    },
    {
     "data": {
      "image/png": "[encoded data removed]",
      "text/plain": [
       "<Figure size 720x576 with 1 Axes>"
      ]
     },
     "metadata": {
      "needs_background": "light"
     },
     "output_type": "display_data"
    }
   ],
   "source": [
    "#Построим диаграмму рассения,чтобы увидеть взаимосвязь оценки критиков ('critic_score') с суммой количества продаж\n",
    "fig, ax = plt.subplots(figsize=(10, 8))\n",
    "ax.scatter(x = ps4_without_nan['critic_score'], y = ps4_without_nan['total_sales_sum'])\n",
    "#Установим названия для оосей\n",
    "plt.xlabel('critic score')\n",
    "plt.ylabel('total sales sum')"
   ]
  },
  {
   "cell_type": "code",
   "execution_count": 88,
   "metadata": {},
   "outputs": [
    {
     "name": "stdout",
     "output_type": "stream",
     "text": [
      "0.41034617087804137\n"
     ]
    }
   ],
   "source": [
    "#Выведем корреляцию между оценкой критиков и суммой количества продаж\n",
    "print(ps4_without_nan['critic_score'].corr(ps4_without_nan['total_sales_sum']))"
   ]
  },
  {
   "cell_type": "markdown",
   "metadata": {},
   "source": [
    "Оценки критиков демонстрируют прямую, средне-слабую корреляцию с \"цифрами\" продаж."
   ]
  },
  {
   "cell_type": "code",
   "execution_count": 89,
   "metadata": {},
   "outputs": [
    {
     "data": {
      "text/plain": [
       "Text(0, 0.5, 'total sales sum')"
      ]
     },
     "execution_count": 89,
     "metadata": {},
     "output_type": "execute_result"
    },
    {
     "data": {
      "image/png": "[encoded data removed]",
      "text/plain": [
       "<Figure size 720x432 with 1 Axes>"
      ]
     },
     "metadata": {
      "needs_background": "light"
     },
     "output_type": "display_data"
    }
   ],
   "source": [
    "#Построим диаграмму рассения,чтобы увидеть взаимосвязь пользовательской оценки ('user_score') с суммой \n",
    "#количества продаж\n",
    "fig, ax = plt.subplots(figsize=(10, 6))\n",
    "ax.scatter(x = ps4_without_nan['user_score'], y = ps4_without_nan['total_sales_sum'])\n",
    "#Установим названия для осей\n",
    "plt.xlabel('user score')\n",
    "plt.ylabel('total sales sum')"
   ]
  },
  {
   "cell_type": "code",
   "execution_count": 90,
   "metadata": {},
   "outputs": [
    {
     "name": "stdout",
     "output_type": "stream",
     "text": [
      "-0.05040921218905368\n"
     ]
    }
   ],
   "source": [
    "#Выведем корреляцию между пользовательской оценкой и суммой количества продаж\n",
    "print(ps4_without_nan['user_score'].corr(ps4_without_nan['total_sales_sum']))"
   ]
  },
  {
   "cell_type": "markdown",
   "metadata": {},
   "source": [
    "Оценки пользователей корреляции с продажами не имеют, линейная взаимосвязь почти отсутствует"
   ]
  },
  {
   "cell_type": "markdown",
   "metadata": {},
   "source": [
    "Теперь-наша задача посчитать аналогичные корреляции, но для других платформ, напомним их названия:"
   ]
  },
  {
   "cell_type": "code",
   "execution_count": 91,
   "metadata": {},
   "outputs": [
    {
     "data": {
      "text/plain": [
       "array(['PS4', '3DS', 'XOne', 'WiiU', 'X360', 'PC', 'Wii', 'PSV'],\n",
       "      dtype=object)"
      ]
     },
     "execution_count": 91,
     "metadata": {},
     "output_type": "execute_result"
    }
   ],
   "source": [
    "games_actual_df['platform'].unique()"
   ]
  },
  {
   "cell_type": "code",
   "execution_count": 92,
   "metadata": {},
   "outputs": [],
   "source": [
    "xone_platform_df = games_actual_df.query('platform == \"XOne\"')"
   ]
  },
  {
   "cell_type": "code",
   "execution_count": 93,
   "metadata": {},
   "outputs": [],
   "source": [
    "xone_platform_df = xone_platform_df.query('critic_score != 0 & user_score != 0')"
   ]
  },
  {
   "cell_type": "code",
   "execution_count": 94,
   "metadata": {},
   "outputs": [
    {
     "name": "stdout",
     "output_type": "stream",
     "text": [
      "-0.08477256681667301\n"
     ]
    }
   ],
   "source": [
    "#Выведем корреляцию между пользовательской оценкой и суммой количества продаж\n",
    "print(xone_platform_df['user_score'].corr(xone_platform_df['total_sales_sum']))"
   ]
  },
  {
   "cell_type": "markdown",
   "metadata": {},
   "source": [
    "Корреляция, как и в случае с платформой лидером PS4 очень низкая. Кроме того, у двух корреляций совсем небольшое числовое отличие"
   ]
  },
  {
   "cell_type": "code",
   "execution_count": 95,
   "metadata": {},
   "outputs": [
    {
     "name": "stdout",
     "output_type": "stream",
     "text": [
      "0.41626518382102634\n"
     ]
    }
   ],
   "source": [
    "#Выведем корреляцию между оценкой критиков и суммой количества продаж\n",
    "print(xone_platform_df['critic_score'].corr(xone_platform_df['total_sales_sum']))"
   ]
  },
  {
   "cell_type": "markdown",
   "metadata": {},
   "source": [
    "Корреляция, как и в случае с платформой лидером PS4 средне-низкая. Кроме того, у двух корреляций совсем небольшое числовое отличие"
   ]
  },
  {
   "cell_type": "markdown",
   "metadata": {},
   "source": [
    "Посчитаем корреляции для платформы 3DS:"
   ]
  },
  {
   "cell_type": "code",
   "execution_count": 96,
   "metadata": {},
   "outputs": [],
   "source": [
    "three_ds_platform_df = games_actual_df.query('platform == \"3DS\"')"
   ]
  },
  {
   "cell_type": "code",
   "execution_count": 97,
   "metadata": {},
   "outputs": [],
   "source": [
    "three_ds_platform_df = three_ds_platform_df.query('critic_score != 0 & user_score != 0')"
   ]
  },
  {
   "cell_type": "code",
   "execution_count": 98,
   "metadata": {},
   "outputs": [
    {
     "name": "stdout",
     "output_type": "stream",
     "text": [
      "0.2929137802289638\n"
     ]
    }
   ],
   "source": [
    "#Выведем корреляцию между пользовательской оценкой и суммой количества продаж\n",
    "print(three_ds_platform_df['user_score'].corr(three_ds_platform_df['total_sales_sum']))"
   ]
  },
  {
   "cell_type": "markdown",
   "metadata": {},
   "source": [
    "Корреляция выше, чем в случае платформы-лидера, но всё также считается низкой"
   ]
  },
  {
   "cell_type": "code",
   "execution_count": 99,
   "metadata": {},
   "outputs": [
    {
     "name": "stdout",
     "output_type": "stream",
     "text": [
      "0.2870345456592367\n"
     ]
    }
   ],
   "source": [
    "#Выведем корреляцию между оценкой критиков и суммой количества продаж\n",
    "print(three_ds_platform_df['critic_score'].corr(three_ds_platform_df['total_sales_sum']))"
   ]
  },
  {
   "cell_type": "markdown",
   "metadata": {},
   "source": [
    "Корреляция незначительно ниже, чем в случае с платформой-лидером."
   ]
  },
  {
   "cell_type": "markdown",
   "metadata": {},
   "source": [
    "Аналогичная работа для платформы X360:"
   ]
  },
  {
   "cell_type": "code",
   "execution_count": 100,
   "metadata": {},
   "outputs": [],
   "source": [
    "x_platform_df = games_actual_df.query('platform == \"X360\"')"
   ]
  },
  {
   "cell_type": "code",
   "execution_count": 101,
   "metadata": {},
   "outputs": [],
   "source": [
    "x_platform_df = x_platform_df.query('critic_score != 0 & user_score != 0')"
   ]
  },
  {
   "cell_type": "code",
   "execution_count": 102,
   "metadata": {},
   "outputs": [
    {
     "name": "stdout",
     "output_type": "stream",
     "text": [
      "0.3772036398549073\n"
     ]
    }
   ],
   "source": [
    "#Выведем корреляцию между пользовательской оценкой и суммой количества продаж\n",
    "print(x_platform_df['user_score'].corr(x_platform_df['total_sales_sum']))"
   ]
  },
  {
   "cell_type": "markdown",
   "metadata": {},
   "source": [
    "Корреляция выше, чем в случае платформы-лидера, но всё также считается низкой"
   ]
  },
  {
   "cell_type": "code",
   "execution_count": 103,
   "metadata": {},
   "outputs": [
    {
     "name": "stdout",
     "output_type": "stream",
     "text": [
      "0.5215784225421515\n"
     ]
    }
   ],
   "source": [
    "#Выведем корреляцию между оценкой критиков и суммой количества продаж\n",
    "print(x_platform_df['critic_score'].corr(x_platform_df['total_sales_sum']))"
   ]
  },
  {
   "cell_type": "markdown",
   "metadata": {},
   "source": [
    "Корреляция выше, чем в случае с платформой-лидером и мы можем считать её средней"
   ]
  },
  {
   "cell_type": "markdown",
   "metadata": {},
   "source": [
    "Корреляции для платформы PC:"
   ]
  },
  {
   "cell_type": "code",
   "execution_count": 104,
   "metadata": {},
   "outputs": [],
   "source": [
    "pc_platform_df = games_actual_df.query('platform == \"PC\"')"
   ]
  },
  {
   "cell_type": "code",
   "execution_count": 105,
   "metadata": {},
   "outputs": [],
   "source": [
    "pc_platform_df = pc_platform_df.query('critic_score != 0 & user_score != 0')"
   ]
  },
  {
   "cell_type": "code",
   "execution_count": 106,
   "metadata": {},
   "outputs": [
    {
     "name": "stdout",
     "output_type": "stream",
     "text": [
      "-0.12355745623401564\n"
     ]
    }
   ],
   "source": [
    "#Выведем корреляцию между пользовательской оценкой и суммой количества продаж\n",
    "print(pc_platform_df['user_score'].corr(pc_platform_df['total_sales_sum']))"
   ]
  },
  {
   "cell_type": "code",
   "execution_count": 107,
   "metadata": {},
   "outputs": [
    {
     "name": "stdout",
     "output_type": "stream",
     "text": [
      "0.09588667357471549\n"
     ]
    }
   ],
   "source": [
    "#Выведем корреляцию между оценкой критиков и суммой количества продаж\n",
    "print(pc_platform_df['critic_score'].corr(pc_platform_df['total_sales_sum']))"
   ]
  },
  {
   "cell_type": "markdown",
   "metadata": {},
   "source": [
    "Корреляция очень низкая, ниже, чем в случае с платформой-лидером"
   ]
  },
  {
   "cell_type": "markdown",
   "metadata": {},
   "source": [
    "Для PSV:"
   ]
  },
  {
   "cell_type": "code",
   "execution_count": 108,
   "metadata": {},
   "outputs": [],
   "source": [
    "psv_platform_df = games_actual_df.query('platform == \"PSV\"')"
   ]
  },
  {
   "cell_type": "code",
   "execution_count": 109,
   "metadata": {},
   "outputs": [],
   "source": [
    "psv_platform_df = psv_platform_df.query('critic_score != 0 & user_score != 0')"
   ]
  },
  {
   "cell_type": "code",
   "execution_count": 110,
   "metadata": {},
   "outputs": [
    {
     "name": "stdout",
     "output_type": "stream",
     "text": [
      "0.05586403410040143\n"
     ]
    }
   ],
   "source": [
    "#Выведем корреляцию между пользовательской оценкой и суммой количества продаж\n",
    "print(psv_platform_df['user_score'].corr(psv_platform_df['total_sales_sum']))"
   ]
  },
  {
   "cell_type": "markdown",
   "metadata": {},
   "source": [
    "Корреляция низкая, показатель по модулю близок к показателю PS4"
   ]
  },
  {
   "cell_type": "code",
   "execution_count": 111,
   "metadata": {},
   "outputs": [
    {
     "name": "stdout",
     "output_type": "stream",
     "text": [
      "-0.01982732973755746\n"
     ]
    }
   ],
   "source": [
    "#Выведем корреляцию между оценкой критиков и суммой количества продаж\n",
    "print(psv_platform_df['critic_score'].corr(psv_platform_df['total_sales_sum']))"
   ]
  },
  {
   "cell_type": "markdown",
   "metadata": {},
   "source": [
    "Корреляция очень низкая, ниже, чем в случае с платформой-лидером"
   ]
  },
  {
   "cell_type": "markdown",
   "metadata": {},
   "source": [
    "Для платформы Wii:"
   ]
  },
  {
   "cell_type": "code",
   "execution_count": 112,
   "metadata": {},
   "outputs": [],
   "source": [
    "wii_platform_df = games_actual_df.query('platform == \"Wii\"')"
   ]
  },
  {
   "cell_type": "code",
   "execution_count": 113,
   "metadata": {},
   "outputs": [],
   "source": [
    "wii_platform_df = wii_platform_df.query('critic_score != 0 & user_score != 0')"
   ]
  },
  {
   "cell_type": "code",
   "execution_count": 114,
   "metadata": {},
   "outputs": [
    {
     "name": "stdout",
     "output_type": "stream",
     "text": [
      "nan\n"
     ]
    }
   ],
   "source": [
    "#Выведем корреляцию между пользовательской оценкой и суммой количества продаж\n",
    "print(wii_platform_df['user_score'].corr(wii_platform_df['total_sales_sum']))"
   ]
  },
  {
   "cell_type": "code",
   "execution_count": 115,
   "metadata": {},
   "outputs": [
    {
     "name": "stdout",
     "output_type": "stream",
     "text": [
      "nan\n"
     ]
    }
   ],
   "source": [
    "#Выведем корреляцию между оценкой критиков и суммой количества продаж\n",
    "print(wii_platform_df['critic_score'].corr(wii_platform_df['total_sales_sum']))"
   ]
  },
  {
   "cell_type": "markdown",
   "metadata": {},
   "source": [
    "А теперь возьмём одну из самых неуспешных в плане продаж платформу и сравним. В роле такой платформы я возьму WiiU:"
   ]
  },
  {
   "cell_type": "code",
   "execution_count": 116,
   "metadata": {},
   "outputs": [],
   "source": [
    "wiiu_df = games_actual_df.query('platform == \"WiiU\"')"
   ]
  },
  {
   "cell_type": "code",
   "execution_count": 117,
   "metadata": {},
   "outputs": [
    {
     "name": "stdout",
     "output_type": "stream",
     "text": [
      "0.26027154328814406\n"
     ]
    }
   ],
   "source": [
    "#Выведем корреляцию между пользовательской оценкой и суммой количества продаж\n",
    "print(wiiu_df['user_score'].corr(wiiu_df['total_sales_sum']))"
   ]
  },
  {
   "cell_type": "code",
   "execution_count": 118,
   "metadata": {},
   "outputs": [
    {
     "name": "stdout",
     "output_type": "stream",
     "text": [
      "0.2762117085021089\n"
     ]
    }
   ],
   "source": [
    "#Выведем корреляцию между оценкой критиков и суммой количества продаж\n",
    "print(wiiu_df['critic_score'].corr(wiiu_df['total_sales_sum']))"
   ]
  },
  {
   "cell_type": "markdown",
   "metadata": {},
   "source": [
    "Корреляция пользовательской оценки и суммы количества продаж для платформы wiiU выше, чем для платформы PS4, а вот корреляция между оценками критиков и суммой количества продаж для платформы wiiU почти равна аналогичному показателю платформы PS4. Обе взаимосвязи в данном случае средне-слабы."
   ]
  },
  {
   "cell_type": "markdown",
   "metadata": {},
   "source": [
    "В целом между показателями корреляции у разных платформ есть различия, но я не могу назвать их абсолютно противоположными, есть погрешности, например, в виде средней корреляции между пользовательской оценкой и продажами для платформы-аутсайдера WiiU и низкого уровня корреляции для платформы лидера PS4. Но нет ни одной платформы, где корреляция между двумя показателями высока."
   ]
  },
  {
   "cell_type": "markdown",
   "metadata": {},
   "source": [
    "# 4.Портрет пользователя по регионам"
   ]
  },
  {
   "cell_type": "markdown",
   "metadata": {},
   "source": [
    "## Продажи по регионам"
   ]
  },
  {
   "cell_type": "code",
   "execution_count": 119,
   "metadata": {},
   "outputs": [
    {
     "data": {
      "text/plain": [
       "47.46000000000001"
      ]
     },
     "execution_count": 119,
     "metadata": {},
     "output_type": "execute_result"
    }
   ],
   "source": [
    "games_actual_df['jp_sales'].sum()"
   ]
  },
  {
   "cell_type": "code",
   "execution_count": 120,
   "metadata": {},
   "outputs": [
    {
     "data": {
      "text/plain": [
       "262.01"
      ]
     },
     "execution_count": 120,
     "metadata": {},
     "output_type": "execute_result"
    }
   ],
   "source": [
    "games_actual_df['na_sales'].sum()"
   ]
  },
  {
   "cell_type": "code",
   "execution_count": 121,
   "metadata": {},
   "outputs": [
    {
     "data": {
      "text/plain": [
       "236.06000000000003"
      ]
     },
     "execution_count": 121,
     "metadata": {},
     "output_type": "execute_result"
    }
   ],
   "source": [
    "games_actual_df['eu_sales'].sum()"
   ]
  },
  {
   "cell_type": "markdown",
   "metadata": {},
   "source": [
    "Как мы видим, Северо-Американский регион приносит больший доход, но это не значит что люди, живущие в данном регионе больше покупают игр. Во всех регионах количество жителей очень различно. "
   ]
  },
  {
   "cell_type": "markdown",
   "metadata": {},
   "source": [
    "## Платформы по регионам"
   ]
  },
  {
   "cell_type": "markdown",
   "metadata": {},
   "source": [
    "Самые популярные платформы (топ-5). Опишите различия в долях продаж."
   ]
  },
  {
   "cell_type": "markdown",
   "metadata": {},
   "source": [
    "Создадим сводные таблицы по суммам количества продаж на платформах в каждом регионе:"
   ]
  },
  {
   "cell_type": "code",
   "execution_count": 122,
   "metadata": {
    "scrolled": true
   },
   "outputs": [],
   "source": [
    "na_df = games_actual_df.pivot_table(columns = 'platform', values = 'na_sales', aggfunc = \"sum\").T"
   ]
  },
  {
   "cell_type": "code",
   "execution_count": 123,
   "metadata": {},
   "outputs": [],
   "source": [
    "eu_df = games_actual_df.pivot_table(columns = 'platform', values = 'eu_sales', aggfunc = \"sum\").T"
   ]
  },
  {
   "cell_type": "code",
   "execution_count": 124,
   "metadata": {},
   "outputs": [],
   "source": [
    "jp_df = games_actual_df.pivot_table(columns = 'platform', values = 'jp_sales', aggfunc = \"sum\").T"
   ]
  },
  {
   "cell_type": "markdown",
   "metadata": {},
   "source": [
    "Сделаем датафреймы с самыми популярными (=с большей суммой количества продаж) платформами по каждому региону"
   ]
  },
  {
   "cell_type": "code",
   "execution_count": 125,
   "metadata": {},
   "outputs": [],
   "source": [
    "na_df_top = na_df.nlargest(5, 'na_sales')"
   ]
  },
  {
   "cell_type": "code",
   "execution_count": 126,
   "metadata": {},
   "outputs": [],
   "source": [
    "eu_df_top = eu_df.nlargest(5, 'eu_sales')"
   ]
  },
  {
   "cell_type": "code",
   "execution_count": 127,
   "metadata": {},
   "outputs": [],
   "source": [
    "jp_df_top = jp_df.nlargest(5, 'jp_sales')"
   ]
  },
  {
   "cell_type": "markdown",
   "metadata": {},
   "source": [
    "Выведем топ-5 платформ по каждому региону на экран:"
   ]
  },
  {
   "cell_type": "code",
   "execution_count": 128,
   "metadata": {},
   "outputs": [
    {
     "data": {
      "text/html": [
       "<div>\n",
       "<style scoped>\n",
       "    .dataframe tbody tr th:only-of-type {\n",
       "        vertical-align: middle;\n",
       "    }\n",
       "\n",
       "    .dataframe tbody tr th {\n",
       "        vertical-align: top;\n",
       "    }\n",
       "\n",
       "    .dataframe thead th {\n",
       "        text-align: right;\n",
       "    }\n",
       "</style>\n",
       "<table border=\"1\" class=\"dataframe\">\n",
       "  <thead>\n",
       "    <tr style=\"text-align: right;\">\n",
       "      <th></th>\n",
       "      <th>na_sales</th>\n",
       "    </tr>\n",
       "    <tr>\n",
       "      <th>platform</th>\n",
       "      <th></th>\n",
       "    </tr>\n",
       "  </thead>\n",
       "  <tbody>\n",
       "    <tr>\n",
       "      <th>PS4</th>\n",
       "      <td>98.61</td>\n",
       "    </tr>\n",
       "    <tr>\n",
       "      <th>XOne</th>\n",
       "      <td>81.27</td>\n",
       "    </tr>\n",
       "    <tr>\n",
       "      <th>X360</th>\n",
       "      <td>28.30</td>\n",
       "    </tr>\n",
       "    <tr>\n",
       "      <th>3DS</th>\n",
       "      <td>22.64</td>\n",
       "    </tr>\n",
       "    <tr>\n",
       "      <th>WiiU</th>\n",
       "      <td>19.36</td>\n",
       "    </tr>\n",
       "  </tbody>\n",
       "</table>\n",
       "</div>"
      ],
      "text/plain": [
       "          na_sales\n",
       "platform          \n",
       "PS4          98.61\n",
       "XOne         81.27\n",
       "X360         28.30\n",
       "3DS          22.64\n",
       "WiiU         19.36"
      ]
     },
     "metadata": {},
     "output_type": "display_data"
    }
   ],
   "source": [
    "display(na_df_top)"
   ]
  },
  {
   "cell_type": "code",
   "execution_count": 129,
   "metadata": {},
   "outputs": [
    {
     "data": {
      "text/html": [
       "<div>\n",
       "<style scoped>\n",
       "    .dataframe tbody tr th:only-of-type {\n",
       "        vertical-align: middle;\n",
       "    }\n",
       "\n",
       "    .dataframe tbody tr th {\n",
       "        vertical-align: top;\n",
       "    }\n",
       "\n",
       "    .dataframe thead th {\n",
       "        text-align: right;\n",
       "    }\n",
       "</style>\n",
       "<table border=\"1\" class=\"dataframe\">\n",
       "  <thead>\n",
       "    <tr style=\"text-align: right;\">\n",
       "      <th></th>\n",
       "      <th>eu_sales</th>\n",
       "    </tr>\n",
       "    <tr>\n",
       "      <th>platform</th>\n",
       "      <th></th>\n",
       "    </tr>\n",
       "  </thead>\n",
       "  <tbody>\n",
       "    <tr>\n",
       "      <th>PS4</th>\n",
       "      <td>127.61</td>\n",
       "    </tr>\n",
       "    <tr>\n",
       "      <th>XOne</th>\n",
       "      <td>45.94</td>\n",
       "    </tr>\n",
       "    <tr>\n",
       "      <th>3DS</th>\n",
       "      <td>15.51</td>\n",
       "    </tr>\n",
       "    <tr>\n",
       "      <th>X360</th>\n",
       "      <td>15.29</td>\n",
       "    </tr>\n",
       "    <tr>\n",
       "      <th>PC</th>\n",
       "      <td>13.33</td>\n",
       "    </tr>\n",
       "  </tbody>\n",
       "</table>\n",
       "</div>"
      ],
      "text/plain": [
       "          eu_sales\n",
       "platform          \n",
       "PS4         127.61\n",
       "XOne         45.94\n",
       "3DS          15.51\n",
       "X360         15.29\n",
       "PC           13.33"
      ]
     },
     "metadata": {},
     "output_type": "display_data"
    }
   ],
   "source": [
    "display(eu_df_top)"
   ]
  },
  {
   "cell_type": "code",
   "execution_count": 130,
   "metadata": {},
   "outputs": [
    {
     "data": {
      "text/html": [
       "<div>\n",
       "<style scoped>\n",
       "    .dataframe tbody tr th:only-of-type {\n",
       "        vertical-align: middle;\n",
       "    }\n",
       "\n",
       "    .dataframe tbody tr th {\n",
       "        vertical-align: top;\n",
       "    }\n",
       "\n",
       "    .dataframe thead th {\n",
       "        text-align: right;\n",
       "    }\n",
       "</style>\n",
       "<table border=\"1\" class=\"dataframe\">\n",
       "  <thead>\n",
       "    <tr style=\"text-align: right;\">\n",
       "      <th></th>\n",
       "      <th>jp_sales</th>\n",
       "    </tr>\n",
       "    <tr>\n",
       "      <th>platform</th>\n",
       "      <th></th>\n",
       "    </tr>\n",
       "  </thead>\n",
       "  <tbody>\n",
       "    <tr>\n",
       "      <th>3DS</th>\n",
       "      <td>25.31</td>\n",
       "    </tr>\n",
       "    <tr>\n",
       "      <th>PS4</th>\n",
       "      <td>11.19</td>\n",
       "    </tr>\n",
       "    <tr>\n",
       "      <th>WiiU</th>\n",
       "      <td>6.82</td>\n",
       "    </tr>\n",
       "    <tr>\n",
       "      <th>PSV</th>\n",
       "      <td>3.75</td>\n",
       "    </tr>\n",
       "    <tr>\n",
       "      <th>XOne</th>\n",
       "      <td>0.31</td>\n",
       "    </tr>\n",
       "  </tbody>\n",
       "</table>\n",
       "</div>"
      ],
      "text/plain": [
       "          jp_sales\n",
       "platform          \n",
       "3DS          25.31\n",
       "PS4          11.19\n",
       "WiiU          6.82\n",
       "PSV           3.75\n",
       "XOne          0.31"
      ]
     },
     "metadata": {},
     "output_type": "display_data"
    }
   ],
   "source": [
    "display(jp_df_top)"
   ]
  },
  {
   "cell_type": "markdown",
   "metadata": {},
   "source": [
    "Создаём столбчатые диаграммы для каждого региона, чтобы увидеть долю продаж платформы от общего количества продаж топовых платформ:"
   ]
  },
  {
   "cell_type": "code",
   "execution_count": 131,
   "metadata": {},
   "outputs": [
    {
     "data": {
      "text/plain": [
       "Text(0.5, 1.0, 'jp_sales')"
      ]
     },
     "execution_count": 131,
     "metadata": {},
     "output_type": "execute_result"
    },
    {
     "data": {
      "image/png": "[encoded data removed]",
      "text/plain": [
       "<Figure size 432x288 with 1 Axes>"
      ]
     },
     "metadata": {
      "needs_background": "light"
     },
     "output_type": "display_data"
    },
    {
     "data": {
      "image/png": "[encoded data removed]",
      "text/plain": [
       "<Figure size 432x288 with 1 Axes>"
      ]
     },
     "metadata": {
      "needs_background": "light"
     },
     "output_type": "display_data"
    },
    {
     "data": {
      "image/png": "[encoded data removed]",
      "text/plain": [
       "<Figure size 432x288 with 1 Axes>"
      ]
     },
     "metadata": {
      "needs_background": "light"
     },
     "output_type": "display_data"
    }
   ],
   "source": [
    "#Создадим переменную, в которой будут содержаться цвета для наших столбчатых диаграмм\n",
    "colors = [\"plum\", \"magenta\", \"lightsalmon\", 'oldlace', 'palegreen']\n",
    "#Построим столбчатую диаграмму по столбцу, назначим цвета \n",
    "na_df_top.plot(kind = 'bar', y = 'na_sales', color = colors, label = 'sales')\n",
    "#Установим подпись оси х\n",
    "plt.xlabel('platform', fontsize=15, color='slateblue')\n",
    "#Установим подпись оси y\n",
    "plt.ylabel('sales', fontsize=15, color='slateblue')\n",
    "#Установим размер отметок по осям х и y\n",
    "plt.xticks(fontsize=12)\n",
    "plt.yticks(fontsize=12)\n",
    "plt.title('na_sales', fontsize=15, color='slateblue')\n",
    "\n",
    "eu_df_top.plot(kind = 'bar', y = 'eu_sales', color = colors, label = 'sales')\n",
    "plt.xlabel('platform', fontsize=15, color='slateblue')\n",
    "plt.ylabel('sales', fontsize=15, color='slateblue')\n",
    "plt.xticks(fontsize=12)\n",
    "plt.yticks(fontsize=12)\n",
    "plt.title('eu_sales', fontsize=15, color='slateblue')\n",
    "\n",
    "jp_df_top.plot(kind = 'bar', y = 'jp_sales', color = colors, label = 'sales')\n",
    "plt.xlabel('platform', fontsize=15, color='slateblue')\n",
    "plt.ylabel('sales', fontsize=15, color='slateblue')\n",
    "plt.xticks(fontsize=12)\n",
    "plt.yticks(fontsize=12)\n",
    "plt.title('jp_sales', fontsize=15, color='slateblue')"
   ]
  },
  {
   "cell_type": "code",
   "execution_count": 132,
   "metadata": {},
   "outputs": [
    {
     "data": {
      "text/plain": [
       "Text(0.5, 1.0, 'jp_sales')"
      ]
     },
     "execution_count": 132,
     "metadata": {},
     "output_type": "execute_result"
    },
    {
     "data": {
      "image/png": "[encoded data removed]",
      "text/plain": [
       "<Figure size 432x288 with 1 Axes>"
      ]
     },
     "metadata": {
      "needs_background": "light"
     },
     "output_type": "display_data"
    }
   ],
   "source": [
    "jp_df_top.plot(kind = 'bar', y = 'jp_sales', color = colors, label = 'sales', legend=False)\n",
    "plt.xlabel('platform', fontsize=15, color='slateblue')\n",
    "plt.ylabel('sales', fontsize=15, color='slateblue')\n",
    "plt.xticks(fontsize=12)\n",
    "plt.yticks(fontsize=12)\n",
    "plt.title('jp_sales', fontsize=15, color='slateblue')"
   ]
  },
  {
   "cell_type": "markdown",
   "metadata": {},
   "source": [
    "В Северной Америке и Европе внушительную долю рынка заняла платформа PS4, но в Северной Америке отрыв между платформой-лидером и второй платформой Xone совсем не велик по сравнению с отрывом в двух других регионах. В Японии лидирует 3DS. В Европе и Северной Америке кроме лидеров одинаковы и платформы, занимающие второе место. Рынки Северной Америки и Европы имеют больше сходств между собой, чем с Японским рынком. В Европе три платформы с конца не имеют большого отрыва друг от друга. Сильнее всего заметен отрыв между тремя последними платформами в Японии."
   ]
  },
  {
   "cell_type": "markdown",
   "metadata": {},
   "source": [
    "## Жанры по регионам"
   ]
  },
  {
   "cell_type": "markdown",
   "metadata": {},
   "source": [
    "Самые популярные жанры (топ-5). Поясните разницу.\n",
    "Влияет ли рейтинг ESRB на продажи в отдельном регионе?"
   ]
  },
  {
   "cell_type": "code",
   "execution_count": 133,
   "metadata": {},
   "outputs": [],
   "source": [
    "#Создадим сводную таблицу для оценки популярности жанров игр по Северной Америке\n",
    "na_genre_df = games_actual_df.pivot_table(index = 'genre', values = 'na_sales', aggfunc = 'sum')"
   ]
  },
  {
   "cell_type": "code",
   "execution_count": 134,
   "metadata": {},
   "outputs": [
    {
     "data": {
      "text/html": [
       "<div>\n",
       "<style scoped>\n",
       "    .dataframe tbody tr th:only-of-type {\n",
       "        vertical-align: middle;\n",
       "    }\n",
       "\n",
       "    .dataframe tbody tr th {\n",
       "        vertical-align: top;\n",
       "    }\n",
       "\n",
       "    .dataframe thead th {\n",
       "        text-align: right;\n",
       "    }\n",
       "</style>\n",
       "<table border=\"1\" class=\"dataframe\">\n",
       "  <thead>\n",
       "    <tr style=\"text-align: right;\">\n",
       "      <th></th>\n",
       "      <th>na_sales</th>\n",
       "    </tr>\n",
       "    <tr>\n",
       "      <th>genre</th>\n",
       "      <th></th>\n",
       "    </tr>\n",
       "  </thead>\n",
       "  <tbody>\n",
       "    <tr>\n",
       "      <th>Action</th>\n",
       "      <td>67.37</td>\n",
       "    </tr>\n",
       "    <tr>\n",
       "      <th>Adventure</th>\n",
       "      <td>4.96</td>\n",
       "    </tr>\n",
       "    <tr>\n",
       "      <th>Fighting</th>\n",
       "      <td>11.66</td>\n",
       "    </tr>\n",
       "    <tr>\n",
       "      <th>Misc</th>\n",
       "      <td>12.58</td>\n",
       "    </tr>\n",
       "    <tr>\n",
       "      <th>Platform</th>\n",
       "      <td>6.57</td>\n",
       "    </tr>\n",
       "    <tr>\n",
       "      <th>Puzzle</th>\n",
       "      <td>0.65</td>\n",
       "    </tr>\n",
       "    <tr>\n",
       "      <th>Racing</th>\n",
       "      <td>8.46</td>\n",
       "    </tr>\n",
       "    <tr>\n",
       "      <th>Role-Playing</th>\n",
       "      <td>31.46</td>\n",
       "    </tr>\n",
       "    <tr>\n",
       "      <th>Shooter</th>\n",
       "      <td>74.76</td>\n",
       "    </tr>\n",
       "    <tr>\n",
       "      <th>Simulation</th>\n",
       "      <td>2.52</td>\n",
       "    </tr>\n",
       "    <tr>\n",
       "      <th>Sports</th>\n",
       "      <td>40.04</td>\n",
       "    </tr>\n",
       "    <tr>\n",
       "      <th>Strategy</th>\n",
       "      <td>0.98</td>\n",
       "    </tr>\n",
       "  </tbody>\n",
       "</table>\n",
       "</div>"
      ],
      "text/plain": [
       "              na_sales\n",
       "genre                 \n",
       "Action           67.37\n",
       "Adventure         4.96\n",
       "Fighting         11.66\n",
       "Misc             12.58\n",
       "Platform          6.57\n",
       "Puzzle            0.65\n",
       "Racing            8.46\n",
       "Role-Playing     31.46\n",
       "Shooter          74.76\n",
       "Simulation        2.52\n",
       "Sports           40.04\n",
       "Strategy          0.98"
      ]
     },
     "metadata": {},
     "output_type": "display_data"
    }
   ],
   "source": [
    "#Выводим сводную таблицу\n",
    "display(na_genre_df)"
   ]
  },
  {
   "cell_type": "code",
   "execution_count": 135,
   "metadata": {},
   "outputs": [],
   "source": [
    "#Создадим\n",
    "na_genre_df_top = na_genre_df.nlargest(5, 'na_sales')"
   ]
  },
  {
   "cell_type": "code",
   "execution_count": 136,
   "metadata": {},
   "outputs": [
    {
     "data": {
      "text/html": [
       "<div>\n",
       "<style scoped>\n",
       "    .dataframe tbody tr th:only-of-type {\n",
       "        vertical-align: middle;\n",
       "    }\n",
       "\n",
       "    .dataframe tbody tr th {\n",
       "        vertical-align: top;\n",
       "    }\n",
       "\n",
       "    .dataframe thead th {\n",
       "        text-align: right;\n",
       "    }\n",
       "</style>\n",
       "<table border=\"1\" class=\"dataframe\">\n",
       "  <thead>\n",
       "    <tr style=\"text-align: right;\">\n",
       "      <th></th>\n",
       "      <th>na_sales</th>\n",
       "    </tr>\n",
       "    <tr>\n",
       "      <th>genre</th>\n",
       "      <th></th>\n",
       "    </tr>\n",
       "  </thead>\n",
       "  <tbody>\n",
       "    <tr>\n",
       "      <th>Shooter</th>\n",
       "      <td>74.76</td>\n",
       "    </tr>\n",
       "    <tr>\n",
       "      <th>Action</th>\n",
       "      <td>67.37</td>\n",
       "    </tr>\n",
       "    <tr>\n",
       "      <th>Sports</th>\n",
       "      <td>40.04</td>\n",
       "    </tr>\n",
       "    <tr>\n",
       "      <th>Role-Playing</th>\n",
       "      <td>31.46</td>\n",
       "    </tr>\n",
       "    <tr>\n",
       "      <th>Misc</th>\n",
       "      <td>12.58</td>\n",
       "    </tr>\n",
       "  </tbody>\n",
       "</table>\n",
       "</div>"
      ],
      "text/plain": [
       "              na_sales\n",
       "genre                 \n",
       "Shooter          74.76\n",
       "Action           67.37\n",
       "Sports           40.04\n",
       "Role-Playing     31.46\n",
       "Misc             12.58"
      ]
     },
     "metadata": {},
     "output_type": "display_data"
    }
   ],
   "source": [
    "#Выводим сводную таблицу\n",
    "display(na_genre_df_top)"
   ]
  },
  {
   "cell_type": "code",
   "execution_count": 137,
   "metadata": {},
   "outputs": [],
   "source": [
    "eu_genre_df = games_actual_df.pivot_table(index = 'genre', values = 'eu_sales', aggfunc = 'sum')"
   ]
  },
  {
   "cell_type": "code",
   "execution_count": 138,
   "metadata": {},
   "outputs": [
    {
     "data": {
      "text/html": [
       "<div>\n",
       "<style scoped>\n",
       "    .dataframe tbody tr th:only-of-type {\n",
       "        vertical-align: middle;\n",
       "    }\n",
       "\n",
       "    .dataframe tbody tr th {\n",
       "        vertical-align: top;\n",
       "    }\n",
       "\n",
       "    .dataframe thead th {\n",
       "        text-align: right;\n",
       "    }\n",
       "</style>\n",
       "<table border=\"1\" class=\"dataframe\">\n",
       "  <thead>\n",
       "    <tr style=\"text-align: right;\">\n",
       "      <th></th>\n",
       "      <th>eu_sales</th>\n",
       "    </tr>\n",
       "    <tr>\n",
       "      <th>genre</th>\n",
       "      <th></th>\n",
       "    </tr>\n",
       "  </thead>\n",
       "  <tbody>\n",
       "    <tr>\n",
       "      <th>Action</th>\n",
       "      <td>66.14</td>\n",
       "    </tr>\n",
       "    <tr>\n",
       "      <th>Adventure</th>\n",
       "      <td>5.33</td>\n",
       "    </tr>\n",
       "    <tr>\n",
       "      <th>Fighting</th>\n",
       "      <td>5.86</td>\n",
       "    </tr>\n",
       "    <tr>\n",
       "      <th>Misc</th>\n",
       "      <td>9.83</td>\n",
       "    </tr>\n",
       "    <tr>\n",
       "      <th>Platform</th>\n",
       "      <td>6.40</td>\n",
       "    </tr>\n",
       "    <tr>\n",
       "      <th>Puzzle</th>\n",
       "      <td>0.45</td>\n",
       "    </tr>\n",
       "    <tr>\n",
       "      <th>Racing</th>\n",
       "      <td>12.73</td>\n",
       "    </tr>\n",
       "    <tr>\n",
       "      <th>Role-Playing</th>\n",
       "      <td>25.97</td>\n",
       "    </tr>\n",
       "    <tr>\n",
       "      <th>Shooter</th>\n",
       "      <td>59.55</td>\n",
       "    </tr>\n",
       "    <tr>\n",
       "      <th>Simulation</th>\n",
       "      <td>5.74</td>\n",
       "    </tr>\n",
       "    <tr>\n",
       "      <th>Sports</th>\n",
       "      <td>36.75</td>\n",
       "    </tr>\n",
       "    <tr>\n",
       "      <th>Strategy</th>\n",
       "      <td>1.31</td>\n",
       "    </tr>\n",
       "  </tbody>\n",
       "</table>\n",
       "</div>"
      ],
      "text/plain": [
       "              eu_sales\n",
       "genre                 \n",
       "Action           66.14\n",
       "Adventure         5.33\n",
       "Fighting          5.86\n",
       "Misc              9.83\n",
       "Platform          6.40\n",
       "Puzzle            0.45\n",
       "Racing           12.73\n",
       "Role-Playing     25.97\n",
       "Shooter          59.55\n",
       "Simulation        5.74\n",
       "Sports           36.75\n",
       "Strategy          1.31"
      ]
     },
     "metadata": {},
     "output_type": "display_data"
    }
   ],
   "source": [
    "#Выводим сводную таблицу\n",
    "display(eu_genre_df)"
   ]
  },
  {
   "cell_type": "code",
   "execution_count": 139,
   "metadata": {},
   "outputs": [],
   "source": [
    "eu_genre_df_top = eu_genre_df.nlargest(5, 'eu_sales')"
   ]
  },
  {
   "cell_type": "code",
   "execution_count": 140,
   "metadata": {},
   "outputs": [
    {
     "data": {
      "text/html": [
       "<div>\n",
       "<style scoped>\n",
       "    .dataframe tbody tr th:only-of-type {\n",
       "        vertical-align: middle;\n",
       "    }\n",
       "\n",
       "    .dataframe tbody tr th {\n",
       "        vertical-align: top;\n",
       "    }\n",
       "\n",
       "    .dataframe thead th {\n",
       "        text-align: right;\n",
       "    }\n",
       "</style>\n",
       "<table border=\"1\" class=\"dataframe\">\n",
       "  <thead>\n",
       "    <tr style=\"text-align: right;\">\n",
       "      <th></th>\n",
       "      <th>eu_sales</th>\n",
       "    </tr>\n",
       "    <tr>\n",
       "      <th>genre</th>\n",
       "      <th></th>\n",
       "    </tr>\n",
       "  </thead>\n",
       "  <tbody>\n",
       "    <tr>\n",
       "      <th>Action</th>\n",
       "      <td>66.14</td>\n",
       "    </tr>\n",
       "    <tr>\n",
       "      <th>Shooter</th>\n",
       "      <td>59.55</td>\n",
       "    </tr>\n",
       "    <tr>\n",
       "      <th>Sports</th>\n",
       "      <td>36.75</td>\n",
       "    </tr>\n",
       "    <tr>\n",
       "      <th>Role-Playing</th>\n",
       "      <td>25.97</td>\n",
       "    </tr>\n",
       "    <tr>\n",
       "      <th>Racing</th>\n",
       "      <td>12.73</td>\n",
       "    </tr>\n",
       "  </tbody>\n",
       "</table>\n",
       "</div>"
      ],
      "text/plain": [
       "              eu_sales\n",
       "genre                 \n",
       "Action           66.14\n",
       "Shooter          59.55\n",
       "Sports           36.75\n",
       "Role-Playing     25.97\n",
       "Racing           12.73"
      ]
     },
     "metadata": {},
     "output_type": "display_data"
    }
   ],
   "source": [
    "#Выводим сводную таблицу\n",
    "display(eu_genre_df_top)"
   ]
  },
  {
   "cell_type": "code",
   "execution_count": 141,
   "metadata": {},
   "outputs": [],
   "source": [
    "jp_genre_df = games_actual_df.pivot_table(index = 'genre', values = 'jp_sales', aggfunc = 'sum')"
   ]
  },
  {
   "cell_type": "code",
   "execution_count": 142,
   "metadata": {},
   "outputs": [
    {
     "data": {
      "text/html": [
       "<div>\n",
       "<style scoped>\n",
       "    .dataframe tbody tr th:only-of-type {\n",
       "        vertical-align: middle;\n",
       "    }\n",
       "\n",
       "    .dataframe tbody tr th {\n",
       "        vertical-align: top;\n",
       "    }\n",
       "\n",
       "    .dataframe thead th {\n",
       "        text-align: right;\n",
       "    }\n",
       "</style>\n",
       "<table border=\"1\" class=\"dataframe\">\n",
       "  <thead>\n",
       "    <tr style=\"text-align: right;\">\n",
       "      <th></th>\n",
       "      <th>jp_sales</th>\n",
       "    </tr>\n",
       "    <tr>\n",
       "      <th>genre</th>\n",
       "      <th></th>\n",
       "    </tr>\n",
       "  </thead>\n",
       "  <tbody>\n",
       "    <tr>\n",
       "      <th>Action</th>\n",
       "      <td>10.42</td>\n",
       "    </tr>\n",
       "    <tr>\n",
       "      <th>Adventure</th>\n",
       "      <td>0.37</td>\n",
       "    </tr>\n",
       "    <tr>\n",
       "      <th>Fighting</th>\n",
       "      <td>4.35</td>\n",
       "    </tr>\n",
       "    <tr>\n",
       "      <th>Misc</th>\n",
       "      <td>2.57</td>\n",
       "    </tr>\n",
       "    <tr>\n",
       "      <th>Platform</th>\n",
       "      <td>2.63</td>\n",
       "    </tr>\n",
       "    <tr>\n",
       "      <th>Puzzle</th>\n",
       "      <td>0.53</td>\n",
       "    </tr>\n",
       "    <tr>\n",
       "      <th>Racing</th>\n",
       "      <td>1.52</td>\n",
       "    </tr>\n",
       "    <tr>\n",
       "      <th>Role-Playing</th>\n",
       "      <td>18.23</td>\n",
       "    </tr>\n",
       "    <tr>\n",
       "      <th>Shooter</th>\n",
       "      <td>4.24</td>\n",
       "    </tr>\n",
       "    <tr>\n",
       "      <th>Simulation</th>\n",
       "      <td>1.56</td>\n",
       "    </tr>\n",
       "    <tr>\n",
       "      <th>Sports</th>\n",
       "      <td>1.03</td>\n",
       "    </tr>\n",
       "    <tr>\n",
       "      <th>Strategy</th>\n",
       "      <td>0.01</td>\n",
       "    </tr>\n",
       "  </tbody>\n",
       "</table>\n",
       "</div>"
      ],
      "text/plain": [
       "              jp_sales\n",
       "genre                 \n",
       "Action           10.42\n",
       "Adventure         0.37\n",
       "Fighting          4.35\n",
       "Misc              2.57\n",
       "Platform          2.63\n",
       "Puzzle            0.53\n",
       "Racing            1.52\n",
       "Role-Playing     18.23\n",
       "Shooter           4.24\n",
       "Simulation        1.56\n",
       "Sports            1.03\n",
       "Strategy          0.01"
      ]
     },
     "metadata": {},
     "output_type": "display_data"
    }
   ],
   "source": [
    "#Выводим сводную таблицу\n",
    "display(jp_genre_df)"
   ]
  },
  {
   "cell_type": "code",
   "execution_count": 143,
   "metadata": {},
   "outputs": [],
   "source": [
    "jp_genre_df_top = jp_genre_df.nlargest(5, 'jp_sales')"
   ]
  },
  {
   "cell_type": "code",
   "execution_count": 144,
   "metadata": {},
   "outputs": [
    {
     "data": {
      "text/html": [
       "<div>\n",
       "<style scoped>\n",
       "    .dataframe tbody tr th:only-of-type {\n",
       "        vertical-align: middle;\n",
       "    }\n",
       "\n",
       "    .dataframe tbody tr th {\n",
       "        vertical-align: top;\n",
       "    }\n",
       "\n",
       "    .dataframe thead th {\n",
       "        text-align: right;\n",
       "    }\n",
       "</style>\n",
       "<table border=\"1\" class=\"dataframe\">\n",
       "  <thead>\n",
       "    <tr style=\"text-align: right;\">\n",
       "      <th></th>\n",
       "      <th>jp_sales</th>\n",
       "    </tr>\n",
       "    <tr>\n",
       "      <th>genre</th>\n",
       "      <th></th>\n",
       "    </tr>\n",
       "  </thead>\n",
       "  <tbody>\n",
       "    <tr>\n",
       "      <th>Role-Playing</th>\n",
       "      <td>18.23</td>\n",
       "    </tr>\n",
       "    <tr>\n",
       "      <th>Action</th>\n",
       "      <td>10.42</td>\n",
       "    </tr>\n",
       "    <tr>\n",
       "      <th>Fighting</th>\n",
       "      <td>4.35</td>\n",
       "    </tr>\n",
       "    <tr>\n",
       "      <th>Shooter</th>\n",
       "      <td>4.24</td>\n",
       "    </tr>\n",
       "    <tr>\n",
       "      <th>Platform</th>\n",
       "      <td>2.63</td>\n",
       "    </tr>\n",
       "  </tbody>\n",
       "</table>\n",
       "</div>"
      ],
      "text/plain": [
       "              jp_sales\n",
       "genre                 \n",
       "Role-Playing     18.23\n",
       "Action           10.42\n",
       "Fighting          4.35\n",
       "Shooter           4.24\n",
       "Platform          2.63"
      ]
     },
     "metadata": {},
     "output_type": "display_data"
    }
   ],
   "source": [
    "display(jp_genre_df_top)"
   ]
  },
  {
   "cell_type": "code",
   "execution_count": 145,
   "metadata": {},
   "outputs": [
    {
     "data": {
      "text/plain": [
       "Text(0.5, 1.0, 'jp_sales')"
      ]
     },
     "execution_count": 145,
     "metadata": {},
     "output_type": "execute_result"
    },
    {
     "data": {
      "image/png": "[encoded data removed]",
      "text/plain": [
       "<Figure size 432x288 with 1 Axes>"
      ]
     },
     "metadata": {
      "needs_background": "light"
     },
     "output_type": "display_data"
    },
    {
     "data": {
      "image/png": "[encoded data removed]",
      "text/plain": [
       "<Figure size 432x288 with 1 Axes>"
      ]
     },
     "metadata": {
      "needs_background": "light"
     },
     "output_type": "display_data"
    },
    {
     "data": {
      "image/png": "[encoded data removed]",
      "text/plain": [
       "<Figure size 432x288 with 1 Axes>"
      ]
     },
     "metadata": {
      "needs_background": "light"
     },
     "output_type": "display_data"
    }
   ],
   "source": [
    "#Создадим переменную, в которой будут содержаться цвета для наших столбчатых диаграмм\n",
    "colors = [\"plum\", \"magenta\", \"lightsalmon\", 'oldlace', 'palegreen']\n",
    "#Построим столбчатую диаграмму по столбцу, назначим цвета \n",
    "na_genre_df_top.plot(kind = 'bar', y = 'na_sales', color = colors, label = 'sales')\n",
    "#Установим подпись оси х\n",
    "plt.xlabel('genre', fontsize=15, color='slateblue')\n",
    "#Установим подпись оси y\n",
    "plt.ylabel('sales', fontsize=15, color='slateblue')\n",
    "#Установим размер отметок по осям х и y\n",
    "plt.xticks(fontsize=12)\n",
    "plt.yticks(fontsize=12)\n",
    "plt.title('na_sales', fontsize=15, color='slateblue')\n",
    "eu_genre_df_top.plot(kind = 'bar', y = 'eu_sales', color = colors, label = 'sales')\n",
    "plt.xlabel('genre', fontsize=15, color='slateblue')\n",
    "plt.ylabel('sales', fontsize=15, color='slateblue')\n",
    "plt.xticks(fontsize=12)\n",
    "plt.yticks(fontsize=12)\n",
    "plt.title('eu_sales', fontsize=15, color='slateblue')\n",
    "jp_genre_df_top.plot(kind = 'bar', y = 'jp_sales', color = colors, label = 'sales')\n",
    "plt.xlabel('genre', fontsize=15, color='slateblue')\n",
    "plt.ylabel('sales', fontsize=15, color='slateblue')\n",
    "plt.xticks(fontsize=12)\n",
    "plt.yticks(fontsize=12)\n",
    "plt.title('jp_sales', fontsize=15, color='slateblue')"
   ]
  },
  {
   "cell_type": "markdown",
   "metadata": {},
   "source": [
    "В каждом регионе лидируют разные жанры. Для Северной Америки лидером является шутер, для Европы- экшн, для Японии- ролевые игры. Опять же, топы-5 популярных жанров в Европе и Северной Америке похожи между собой, а вот геймеры в Японии, вероятно, имеют иные предпочтения. В это же время, есть относительное сходство в популярности жанра экшен во всех трёх регионах..\n",
    "Кроме того, по графикам мы можем в очередной раз убедиться в различиях размеров рынков."
   ]
  },
  {
   "cell_type": "markdown",
   "metadata": {},
   "source": [
    "## Влияет ли рейтинг ESRB на продажи в отдельном регионе?"
   ]
  },
  {
   "cell_type": "markdown",
   "metadata": {},
   "source": [
    "Краткий экскурс по абревиатурам ESRB (источник: https://ru.wikipedia.org/wiki/Entertainment_Software_Rating_Board#%D0%94%D0%B5%D0%B9%D1%81%D1%82%D0%B2%D1%83%D1%8E%D1%89%D0%B8%D0%B5):\n",
    "«EC» («Early childhood») — «Для детей младшего возраста»,\n",
    "«E» («Everyone») — «Для всех»,\n",
    "«E10+» («Everyone 10 and older») — «Для всех от 10 лет и старше»,\n",
    "«T» («Teen») — «Подросткам»,\n",
    "«M» («Mature») — «Для взрослых»,\n",
    "«AO» («Adults Only 18+») — «Только для взрослых»,\n",
    "«RP» («Rating Pending») — «Рейтинг ожидается»."
   ]
  },
  {
   "cell_type": "code",
   "execution_count": 146,
   "metadata": {},
   "outputs": [
    {
     "data": {
      "text/plain": [
       "array(['absent', 'M', 'E', 'T', 'E10+'], dtype=object)"
      ]
     },
     "execution_count": 146,
     "metadata": {},
     "output_type": "execute_result"
    }
   ],
   "source": [
    "#Посмотрим какие абревиатуры есть в нашем датафрейме\n",
    "games_actual_df['rating'].unique()"
   ]
  },
  {
   "cell_type": "markdown",
   "metadata": {},
   "source": [
    "Как мы видим, в нашем датафрейме есть не все типы игры по шкале ESRB. Если быть точнее, то у нас присутствуют игры для взрослых, игры для всех, игры для людей от 10 лет,игры для подростков и также есть пропущенные значения."
   ]
  },
  {
   "cell_type": "code",
   "execution_count": 147,
   "metadata": {},
   "outputs": [],
   "source": [
    "na_games = games_actual_df.groupby('rating')['na_sales'].sum()"
   ]
  },
  {
   "cell_type": "code",
   "execution_count": 148,
   "metadata": {},
   "outputs": [
    {
     "data": {
      "text/plain": [
       "rating\n",
       "E         45.08\n",
       "E10+      30.54\n",
       "M         90.85\n",
       "T         35.94\n",
       "absent    59.60\n",
       "Name: na_sales, dtype: float64"
      ]
     },
     "metadata": {},
     "output_type": "display_data"
    }
   ],
   "source": [
    "display(na_games)"
   ]
  },
  {
   "cell_type": "markdown",
   "metadata": {},
   "source": [
    "В Северной Америке с большим отрывом лидируют игры для взрослых, пользуются спросом игры без конкретной возрастной маркировки(=для всех). На игры для подростков и для детей от 10 лет тоже есть спрос."
   ]
  },
  {
   "cell_type": "code",
   "execution_count": 149,
   "metadata": {},
   "outputs": [],
   "source": [
    "eu_games = games_actual_df.groupby('rating')['eu_sales'].sum()"
   ]
  },
  {
   "cell_type": "code",
   "execution_count": 150,
   "metadata": {},
   "outputs": [
    {
     "data": {
      "text/plain": [
       "rating\n",
       "E         47.90\n",
       "E10+      22.56\n",
       "M         85.57\n",
       "T         29.84\n",
       "absent    50.19\n",
       "Name: eu_sales, dtype: float64"
      ]
     },
     "metadata": {},
     "output_type": "display_data"
    }
   ],
   "source": [
    "display(eu_games)"
   ]
  },
  {
   "cell_type": "markdown",
   "metadata": {},
   "source": [
    "В Европейском сегменте, также как и в северо-американском популярны игры для взрослых-они беспрецендетно лидируют. На втором месте игры для всех, опять же, такая же ситуация и в север.Америке. Игры для подростков и детей от 10 лет имеют не большой отрыв между собой."
   ]
  },
  {
   "cell_type": "code",
   "execution_count": 151,
   "metadata": {},
   "outputs": [],
   "source": [
    "jp_games = games_actual_df.groupby('rating')['jp_sales'].sum()"
   ]
  },
  {
   "cell_type": "code",
   "execution_count": 152,
   "metadata": {},
   "outputs": [
    {
     "data": {
      "text/plain": [
       "rating\n",
       "E          8.17\n",
       "E10+       3.68\n",
       "M          5.99\n",
       "T          7.96\n",
       "absent    21.66\n",
       "Name: jp_sales, dtype: float64"
      ]
     },
     "metadata": {},
     "output_type": "display_data"
    }
   ],
   "source": [
    "display(jp_games)"
   ]
  },
  {
   "cell_type": "markdown",
   "metadata": {},
   "source": [
    "Как мы видим, самую большую часть японского рынка заняли игры без данного возрастного рейтинга, скорее всего агентство не оценивало данные игры. Возможно, это игры японских разработчиков, существующие только на азиатском рынке и агентство не занимается оценкой таких локальных игр.\n",
    "Ситуация с лидерством тут отличается от двух преддущих регионов, многие покупатели предпочитают игры для всех, с небольшим отрывом виден интерес к играм для подростков, и только на третьем месте стоят игры для взрослых. Спрос на игры для детей от 10 лет есть, но меньше."
   ]
  },
  {
   "cell_type": "markdown",
   "metadata": {},
   "source": [
    "В целом можно сделать вывод, что данный рейтинг влияет на продажи в отдельных регионах. Какие-то игры с возрастными маркировками популярнее других и распределение отличается от региона к региону. Особенно в очередной раз отличился Японский рынок игр, но из-за большого количества игр с неуказанной маркировкой мы не можем выделять игры по возрастным сегментам с большой точностью."
   ]
  },
  {
   "cell_type": "markdown",
   "metadata": {},
   "source": [
    "# 5.Проверка гипотез"
   ]
  },
  {
   "cell_type": "markdown",
   "metadata": {},
   "source": [
    "## Первая гипотеза"
   ]
  },
  {
   "cell_type": "markdown",
   "metadata": {},
   "source": [
    "Средние пользовательские рейтинги платформ Xbox One и PC одинаковые."
   ]
  },
  {
   "cell_type": "markdown",
   "metadata": {},
   "source": [
    "\"Средние пользовательские рейтинги платформ Xbox One и PC одинаковые.\"-эта гипотеза Н0 является двусторонней. Н1 будет звучать так: \"Средние пользовательские рейтинги платформ Xbox One и PC отличны друг от друга'. Нам подойдет метод проверки гипотез о равенстве среднего двух генеральных совокупностей по взятым из них выборкам."
   ]
  },
  {
   "cell_type": "code",
   "execution_count": 153,
   "metadata": {},
   "outputs": [],
   "source": [
    "xone_df = games_actual_df.query('platform == \"XOne\"')"
   ]
  },
  {
   "cell_type": "code",
   "execution_count": 154,
   "metadata": {},
   "outputs": [],
   "source": [
    "#Удалим заглушки по аналогии с удалением перед вычислением корреляций\n",
    "xone_df = xone_df.query('user_score != 0')"
   ]
  },
  {
   "cell_type": "code",
   "execution_count": 155,
   "metadata": {},
   "outputs": [],
   "source": [
    "pc_df = games_actual_df.query('platform == \"PC\"')"
   ]
  },
  {
   "cell_type": "code",
   "execution_count": 156,
   "metadata": {},
   "outputs": [],
   "source": [
    "#Удалим заглушки по аналогии с удалением перед вычислением корреляций\n",
    "pc_df = pc_df.query('user_score != 0')"
   ]
  },
  {
   "cell_type": "code",
   "execution_count": 157,
   "metadata": {},
   "outputs": [],
   "source": [
    "xone_score = xone_df['user_score']\n",
    "xone_score = xone_score.tolist()"
   ]
  },
  {
   "cell_type": "code",
   "execution_count": 158,
   "metadata": {},
   "outputs": [
    {
     "name": "stdout",
     "output_type": "stream",
     "text": [
      "Средний пользовательский рейтинг платформы Xbox One равен: 6.573026315789474\n"
     ]
    }
   ],
   "source": [
    "print('Средний пользовательский рейтинг платформы Xbox One равен:', xone_df['user_score'].mean())"
   ]
  },
  {
   "cell_type": "code",
   "execution_count": 159,
   "metadata": {},
   "outputs": [],
   "source": [
    "pc_score = pc_df['user_score']\n",
    "pc_score = pc_score.tolist()"
   ]
  },
  {
   "cell_type": "code",
   "execution_count": 160,
   "metadata": {},
   "outputs": [
    {
     "name": "stdout",
     "output_type": "stream",
     "text": [
      "Средний пользовательский рейтинг платформы PC равен: 6.301724137931035\n"
     ]
    }
   ],
   "source": [
    "print('Средний пользовательский рейтинг платформы PC равен:', pc_df['user_score'].mean())"
   ]
  },
  {
   "cell_type": "code",
   "execution_count": 161,
   "metadata": {},
   "outputs": [
    {
     "name": "stdout",
     "output_type": "stream",
     "text": [
      "p-значение: 0.2297988401146674\n",
      "Не получилось отвергнуть нулевую гипотезу\n"
     ]
    }
   ],
   "source": [
    "alpha = .01 #задаём критический уровень статистической значимости\n",
    "# если p-value окажется меньше него - отвергнем гипотезу\n",
    "\n",
    "results = st.ttest_ind(\n",
    "    xone_score, pc_score)\n",
    "#проверка гипотезу о равенстве средних двух независимых совокупностей\n",
    "\n",
    "print('p-значение:', results.pvalue) #выводим на экран получившеся p-значение\n",
    "\n",
    "if results.pvalue < alpha:\n",
    "    #сравниваем получившееся p-значение с заданным уровнем статистической значимости:\n",
    "    print(\"Отвергаем нулевую гипотезу\")\n",
    "else:\n",
    "    print(\"Не получилось отвергнуть нулевую гипотезу\")"
   ]
  },
  {
   "cell_type": "markdown",
   "metadata": {},
   "source": [
    "Средние пользовательские рейтинги этих двух платформ не равны, т.е нулевая гипотеза была отвергнута выше. Причины произошедшего видны и по p-value, и по результатам выведения на экран пользовательских рейтингов."
   ]
  },
  {
   "cell_type": "markdown",
   "metadata": {},
   "source": [
    "## Вторая гипотеза"
   ]
  },
  {
   "cell_type": "markdown",
   "metadata": {},
   "source": [
    "Средние пользовательские рейтинги жанров Action (англ. «действие», экшен-игры) и Sports (англ. «спортивные соревнования») разные."
   ]
  },
  {
   "cell_type": "code",
   "execution_count": 162,
   "metadata": {},
   "outputs": [],
   "source": [
    "action_df = games_actual_df.query('genre == \"Action\"')"
   ]
  },
  {
   "cell_type": "code",
   "execution_count": 163,
   "metadata": {},
   "outputs": [],
   "source": [
    "#Удалим заглушки по аналогии с удалением перед вычислением корреляций\n",
    "action_df = action_df.query('user_score != 0')"
   ]
  },
  {
   "cell_type": "code",
   "execution_count": 164,
   "metadata": {},
   "outputs": [],
   "source": [
    "sports_df = games_actual_df.query('genre == \"Sports\"')"
   ]
  },
  {
   "cell_type": "code",
   "execution_count": 165,
   "metadata": {},
   "outputs": [],
   "source": [
    "#Удалим заглушки по аналогии с удалением перед вычислением корреляций\n",
    "sports_df = sports_df.query('user_score != 0')"
   ]
  },
  {
   "cell_type": "code",
   "execution_count": 166,
   "metadata": {},
   "outputs": [],
   "source": [
    "action_score = action_df['user_score']\n",
    "action_score = action_score.tolist()"
   ]
  },
  {
   "cell_type": "code",
   "execution_count": 167,
   "metadata": {},
   "outputs": [],
   "source": [
    "sports_score = sports_df['user_score']\n",
    "sports_score = sports_score.tolist()"
   ]
  },
  {
   "cell_type": "code",
   "execution_count": 168,
   "metadata": {},
   "outputs": [
    {
     "name": "stdout",
     "output_type": "stream",
     "text": [
      "Средний пользовательский рейтинг жанра Action равен: 6.720093457943925\n",
      "Средний пользовательский рейтинг жанра Sports равен: 5.480459770114942\n"
     ]
    }
   ],
   "source": [
    "print('Средний пользовательский рейтинг жанра Action равен:', action_df['user_score'].mean())\n",
    "print('Средний пользовательский рейтинг жанра Sports равен:', sports_df['user_score'].mean())"
   ]
  },
  {
   "cell_type": "code",
   "execution_count": 169,
   "metadata": {},
   "outputs": [
    {
     "name": "stdout",
     "output_type": "stream",
     "text": [
      "p-значение: 3.754076007605816e-10\n",
      "Отвергаем нулевую гипотезу\n"
     ]
    }
   ],
   "source": [
    "alpha = .05 #задаём критический уровень статистической значимости\n",
    "# если p-value окажется меньше него - отвергнем гипотезу\n",
    "\n",
    "results = st.ttest_ind(\n",
    "    sports_score, action_score)\n",
    "#проверка гипотезу о равенстве средних двух независимых совокупностей\n",
    "\n",
    "print('p-значение:', results.pvalue) #выводим на экран получившеся p-значение\n",
    "\n",
    "if results.pvalue < alpha:\n",
    "    #сравниваем получившееся p-значение с заданным уровнем статистической значимости:\n",
    "    print(\"Отвергаем нулевую гипотезу\")\n",
    "else:\n",
    "    print(\"Не получилось отвергнуть нулевую гипотезу\")"
   ]
  },
  {
   "cell_type": "markdown",
   "metadata": {},
   "source": [
    "Разницами между средними пользовательскими рейтингами двух жанров действительно слишком велика, чтобы подтверждать гипотезу об их равенстве."
   ]
  },
  {
   "cell_type": "markdown",
   "metadata": {},
   "source": [
    "# Общий вывод"
   ]
  },
  {
   "cell_type": "markdown",
   "metadata": {},
   "source": [
    "В результате исследования мы можем выделить пару интересных наблюдений:\n",
    "1)Японский рынок сильно отличается от Северо-Американского и от Европейского. Прежде всего отличие состоит в предпочтениях жанров. При этом рынки Европы и Северной Америки похожи в этом вопросе, но не идентичны.\n",
    "2)С 2011 года наблюдается спад интереса к компьютерным играм, в соответсутвующем пункте я написала свои предположения,связанные с ростом доступности смартфонов и расширением их функционала."
   ]
  },
  {
   "cell_type": "markdown",
   "metadata": {},
   "source": [
    "Было обнаружено пару закономерностей и на их основе были сделаны определенные выводы: \n",
    "1)Нужно делать упор на популярные жанры, ибо жанр игры тесно взаимосвязан с количеством продаж. Популярность жанра зависит от региона.\n",
    "2)Есть более популярные платформы, есть менее. Вероятно, игры лучших платформ более качественны и более ожидаемы пользователями. Нужно обеспечить наличие новинок популярных платформ и засчёт этого повышать спрос покупателей к магазину \"Стримчик\".\n",
    "3)Оценки критиков и пользователей не имеют ярко выраженной корреляции с успехом в продажах игр. Прослеживаются слабые, средне-слабые и средние взаимосвязи между одним из написанных выше показателей и суммой продаж."
   ]
  },
  {
   "cell_type": "markdown",
   "metadata": {},
   "source": [
    "Если мы говорим про европейские страны, то идеальной игрой является игра с рейтингом по ESRB 'для взрослых' и жанром экшен от платформы PS4.\n",
    "Если речь идёт о Северной Америке, то для населения этого региона предпочтительнее игры жанра шутер с рейтингом по ESRB 'для взрослых' и от платформы PS4.\n",
    "На Японском рынке с высокой вероятностью будет успешна игра \"для всех\" по рейтингу ESRB в жанре ролевой игры от платформы 3DS."
   ]
  }
 ],
 "metadata": {
  "ExecuteTimeLog": [
   {
    "duration": 4,
    "start_time": "2022-06-29T20:51:29.724Z"
   },
   {
    "duration": 1220,
    "start_time": "2022-06-29T20:52:05.762Z"
   },
   {
    "duration": 146,
    "start_time": "2022-06-29T20:52:06.984Z"
   },
   {
    "duration": 25,
    "start_time": "2022-06-29T20:52:25.290Z"
   },
   {
    "duration": 15,
    "start_time": "2022-06-29T20:54:52.872Z"
   },
   {
    "duration": 9,
    "start_time": "2022-06-29T20:55:23.714Z"
   },
   {
    "duration": 857,
    "start_time": "2022-06-29T20:56:19.814Z"
   },
   {
    "duration": 3,
    "start_time": "2022-06-29T20:59:26.841Z"
   },
   {
    "duration": 5,
    "start_time": "2022-06-29T20:59:30.917Z"
   },
   {
    "duration": 45,
    "start_time": "2022-06-29T22:52:33.581Z"
   },
   {
    "duration": 1117,
    "start_time": "2022-06-29T22:52:38.986Z"
   },
   {
    "duration": 129,
    "start_time": "2022-06-29T22:52:40.105Z"
   },
   {
    "duration": 25,
    "start_time": "2022-06-29T22:52:40.235Z"
   },
   {
    "duration": 13,
    "start_time": "2022-06-29T22:52:40.262Z"
   },
   {
    "duration": 8,
    "start_time": "2022-06-29T22:52:40.348Z"
   },
   {
    "duration": 3,
    "start_time": "2022-06-29T22:52:40.765Z"
   },
   {
    "duration": 5,
    "start_time": "2022-06-29T22:52:41.485Z"
   },
   {
    "duration": 5,
    "start_time": "2022-06-29T22:52:41.860Z"
   },
   {
    "duration": 7,
    "start_time": "2022-06-29T22:53:23.805Z"
   },
   {
    "duration": 5,
    "start_time": "2022-06-29T22:54:42.197Z"
   },
   {
    "duration": 15,
    "start_time": "2022-06-29T22:55:07.901Z"
   },
   {
    "duration": 683,
    "start_time": "2022-06-29T23:00:41.037Z"
   },
   {
    "duration": 5,
    "start_time": "2022-06-29T23:00:47.003Z"
   },
   {
    "duration": 23,
    "start_time": "2022-06-29T23:01:01.536Z"
   },
   {
    "duration": 9,
    "start_time": "2022-06-29T23:01:59.380Z"
   },
   {
    "duration": 17,
    "start_time": "2022-06-29T23:02:23.846Z"
   },
   {
    "duration": 53,
    "start_time": "2022-06-29T23:02:45.193Z"
   },
   {
    "duration": 251,
    "start_time": "2022-06-29T23:02:47.489Z"
   },
   {
    "duration": 385,
    "start_time": "2022-06-29T23:03:09.847Z"
   },
   {
    "duration": 569,
    "start_time": "2022-06-29T23:03:10.484Z"
   },
   {
    "duration": 2,
    "start_time": "2022-06-29T23:03:33.063Z"
   },
   {
    "duration": 4,
    "start_time": "2022-06-29T23:04:44.642Z"
   },
   {
    "duration": 15,
    "start_time": "2022-06-29T23:05:23.802Z"
   },
   {
    "duration": 2,
    "start_time": "2022-06-29T23:07:48.195Z"
   },
   {
    "duration": 5,
    "start_time": "2022-06-29T23:08:41.864Z"
   },
   {
    "duration": 5,
    "start_time": "2022-06-29T23:09:03.082Z"
   },
   {
    "duration": 4,
    "start_time": "2022-06-29T23:10:53.958Z"
   },
   {
    "duration": 4,
    "start_time": "2022-06-29T23:11:31.851Z"
   },
   {
    "duration": 15,
    "start_time": "2022-06-29T23:25:43.178Z"
   },
   {
    "duration": 21,
    "start_time": "2022-06-29T23:26:25.024Z"
   },
   {
    "duration": 629,
    "start_time": "2022-06-29T23:30:30.706Z"
   },
   {
    "duration": 592,
    "start_time": "2022-06-29T23:30:36.631Z"
   },
   {
    "duration": 12,
    "start_time": "2022-06-29T23:30:55.694Z"
   },
   {
    "duration": 594,
    "start_time": "2022-06-29T23:30:56.602Z"
   },
   {
    "duration": 284,
    "start_time": "2022-06-29T23:32:08.414Z"
   },
   {
    "duration": 3,
    "start_time": "2022-06-29T23:32:27.669Z"
   },
   {
    "duration": 38,
    "start_time": "2022-06-29T23:32:27.858Z"
   },
   {
    "duration": 19,
    "start_time": "2022-06-29T23:32:28.039Z"
   },
   {
    "duration": 3,
    "start_time": "2022-06-29T23:32:28.354Z"
   },
   {
    "duration": 5,
    "start_time": "2022-06-29T23:32:28.970Z"
   },
   {
    "duration": 5,
    "start_time": "2022-06-29T23:32:29.249Z"
   },
   {
    "duration": 4,
    "start_time": "2022-06-29T23:32:29.529Z"
   },
   {
    "duration": 15,
    "start_time": "2022-06-29T23:32:29.846Z"
   },
   {
    "duration": 10,
    "start_time": "2022-06-29T23:32:30.588Z"
   },
   {
    "duration": 5,
    "start_time": "2022-06-29T23:32:31.049Z"
   },
   {
    "duration": 4,
    "start_time": "2022-06-29T23:32:32.299Z"
   },
   {
    "duration": 4,
    "start_time": "2022-06-29T23:32:32.751Z"
   },
   {
    "duration": 12,
    "start_time": "2022-06-29T23:32:34.343Z"
   },
   {
    "duration": 3,
    "start_time": "2022-06-29T23:32:36.181Z"
   },
   {
    "duration": 3,
    "start_time": "2022-06-29T23:32:36.579Z"
   },
   {
    "duration": 4,
    "start_time": "2022-06-29T23:32:37.105Z"
   },
   {
    "duration": 13,
    "start_time": "2022-06-29T23:32:50.823Z"
   },
   {
    "duration": 6,
    "start_time": "2022-06-29T23:39:26.851Z"
   },
   {
    "duration": 15,
    "start_time": "2022-06-29T23:40:48.625Z"
   },
   {
    "duration": 5,
    "start_time": "2022-06-29T23:41:04.004Z"
   },
   {
    "duration": 5,
    "start_time": "2022-06-29T23:41:10.899Z"
   },
   {
    "duration": 7,
    "start_time": "2022-06-29T23:47:01.624Z"
   },
   {
    "duration": 13,
    "start_time": "2022-06-29T23:47:04.554Z"
   },
   {
    "duration": 5,
    "start_time": "2022-06-29T23:50:37.025Z"
   },
   {
    "duration": 3,
    "start_time": "2022-06-29T23:52:45.502Z"
   },
   {
    "duration": 40,
    "start_time": "2022-06-29T23:52:45.681Z"
   },
   {
    "duration": 20,
    "start_time": "2022-06-29T23:52:45.865Z"
   },
   {
    "duration": 3,
    "start_time": "2022-06-29T23:52:46.181Z"
   },
   {
    "duration": 5,
    "start_time": "2022-06-29T23:52:46.502Z"
   },
   {
    "duration": 4,
    "start_time": "2022-06-29T23:52:46.676Z"
   },
   {
    "duration": 5,
    "start_time": "2022-06-29T23:52:46.837Z"
   },
   {
    "duration": 12,
    "start_time": "2022-06-29T23:52:47.011Z"
   },
   {
    "duration": 10,
    "start_time": "2022-06-29T23:52:47.363Z"
   },
   {
    "duration": 4,
    "start_time": "2022-06-29T23:52:47.749Z"
   },
   {
    "duration": 5,
    "start_time": "2022-06-29T23:52:47.955Z"
   },
   {
    "duration": 3,
    "start_time": "2022-06-29T23:52:48.384Z"
   },
   {
    "duration": 3,
    "start_time": "2022-06-29T23:52:48.581Z"
   },
   {
    "duration": 13,
    "start_time": "2022-06-29T23:52:48.780Z"
   },
   {
    "duration": 3,
    "start_time": "2022-06-29T23:52:49.171Z"
   },
   {
    "duration": 4,
    "start_time": "2022-06-29T23:52:49.395Z"
   },
   {
    "duration": 5,
    "start_time": "2022-06-29T23:52:49.789Z"
   },
   {
    "duration": 4,
    "start_time": "2022-06-29T23:52:50.266Z"
   },
   {
    "duration": 4,
    "start_time": "2022-06-29T23:52:50.574Z"
   },
   {
    "duration": 5,
    "start_time": "2022-06-29T23:52:50.799Z"
   },
   {
    "duration": 13,
    "start_time": "2022-06-29T23:52:51.015Z"
   },
   {
    "duration": 15,
    "start_time": "2022-06-29T23:52:51.224Z"
   },
   {
    "duration": 21,
    "start_time": "2022-06-29T23:52:51.452Z"
   },
   {
    "duration": 9,
    "start_time": "2022-06-29T23:52:51.665Z"
   },
   {
    "duration": 4,
    "start_time": "2022-06-29T23:53:57.371Z"
   },
   {
    "duration": 6,
    "start_time": "2022-06-29T23:55:50.896Z"
   },
   {
    "duration": 10,
    "start_time": "2022-06-29T23:55:54.426Z"
   },
   {
    "duration": 27,
    "start_time": "2022-06-29T23:56:52.067Z"
   },
   {
    "duration": 13,
    "start_time": "2022-06-29T23:57:11.081Z"
   },
   {
    "duration": 4,
    "start_time": "2022-06-30T00:35:08.083Z"
   },
   {
    "duration": 21,
    "start_time": "2022-06-30T00:36:17.514Z"
   },
   {
    "duration": 3,
    "start_time": "2022-06-30T00:36:55.704Z"
   },
   {
    "duration": 7835,
    "start_time": "2022-06-30T00:36:56.078Z"
   },
   {
    "duration": 7857,
    "start_time": "2022-06-30T00:37:16.122Z"
   },
   {
    "duration": 4,
    "start_time": "2022-06-30T00:37:59.268Z"
   },
   {
    "duration": 17,
    "start_time": "2022-06-30T00:37:59.900Z"
   },
   {
    "duration": 3,
    "start_time": "2022-06-30T00:38:24.569Z"
   },
   {
    "duration": 7663,
    "start_time": "2022-06-30T00:38:25.950Z"
   },
   {
    "duration": 221,
    "start_time": "2022-06-30T00:40:32.278Z"
   },
   {
    "duration": 18,
    "start_time": "2022-06-30T00:51:58.662Z"
   },
   {
    "duration": 11,
    "start_time": "2022-06-30T00:52:44.865Z"
   },
   {
    "duration": 8,
    "start_time": "2022-06-30T00:54:37.074Z"
   },
   {
    "duration": 10,
    "start_time": "2022-06-30T00:54:43.119Z"
   },
   {
    "duration": 646,
    "start_time": "2022-06-30T00:54:43.461Z"
   },
   {
    "duration": 11,
    "start_time": "2022-06-30T00:55:06.672Z"
   },
   {
    "duration": 24389,
    "start_time": "2022-06-30T00:55:49.581Z"
   },
   {
    "duration": 656,
    "start_time": "2022-06-30T01:01:34.494Z"
   },
   {
    "duration": 18,
    "start_time": "2022-06-30T01:01:55.608Z"
   },
   {
    "duration": 600,
    "start_time": "2022-06-30T01:02:17.560Z"
   },
   {
    "duration": 606,
    "start_time": "2022-06-30T01:02:33.149Z"
   },
   {
    "duration": 575,
    "start_time": "2022-06-30T01:02:53.403Z"
   },
   {
    "duration": 19,
    "start_time": "2022-06-30T01:04:04.477Z"
   },
   {
    "duration": 19,
    "start_time": "2022-06-30T01:04:30.398Z"
   },
   {
    "duration": 11,
    "start_time": "2022-06-30T01:04:50.798Z"
   },
   {
    "duration": 8,
    "start_time": "2022-06-30T01:07:19.003Z"
   },
   {
    "duration": 8,
    "start_time": "2022-06-30T01:07:58.966Z"
   },
   {
    "duration": 12,
    "start_time": "2022-06-30T01:08:13.318Z"
   },
   {
    "duration": 5,
    "start_time": "2022-06-30T01:08:22.088Z"
   },
   {
    "duration": 6,
    "start_time": "2022-06-30T01:08:22.596Z"
   },
   {
    "duration": 800,
    "start_time": "2022-06-30T01:08:23.477Z"
   },
   {
    "duration": 753,
    "start_time": "2022-06-30T01:08:31.626Z"
   },
   {
    "duration": 783,
    "start_time": "2022-06-30T01:09:24.212Z"
   },
   {
    "duration": 12,
    "start_time": "2022-06-30T01:11:32.612Z"
   },
   {
    "duration": 9,
    "start_time": "2022-06-30T01:15:51.304Z"
   },
   {
    "duration": 2629,
    "start_time": "2022-06-30T01:18:00.417Z"
   },
   {
    "duration": 123,
    "start_time": "2022-06-30T01:18:06.490Z"
   },
   {
    "duration": 123,
    "start_time": "2022-06-30T01:18:09.736Z"
   },
   {
    "duration": 114,
    "start_time": "2022-06-30T01:20:18.371Z"
   },
   {
    "duration": 14,
    "start_time": "2022-06-30T01:20:37.620Z"
   },
   {
    "duration": 6,
    "start_time": "2022-06-30T01:25:16.390Z"
   },
   {
    "duration": 7,
    "start_time": "2022-06-30T01:25:18.019Z"
   },
   {
    "duration": 12,
    "start_time": "2022-06-30T01:25:43.801Z"
   },
   {
    "duration": 7,
    "start_time": "2022-06-30T01:25:44.357Z"
   },
   {
    "duration": 7,
    "start_time": "2022-06-30T01:26:02.377Z"
   },
   {
    "duration": 8,
    "start_time": "2022-06-30T01:26:03.281Z"
   },
   {
    "duration": 344,
    "start_time": "2022-06-30T01:26:28.158Z"
   },
   {
    "duration": 141,
    "start_time": "2022-06-30T01:27:08.157Z"
   },
   {
    "duration": 348,
    "start_time": "2022-06-30T01:28:37.468Z"
   },
   {
    "duration": 11,
    "start_time": "2022-06-30T01:29:30.533Z"
   },
   {
    "duration": 8,
    "start_time": "2022-06-30T01:29:31.095Z"
   },
   {
    "duration": 5,
    "start_time": "2022-06-30T01:29:49.573Z"
   },
   {
    "duration": 9,
    "start_time": "2022-06-30T01:30:07.214Z"
   },
   {
    "duration": 8,
    "start_time": "2022-06-30T01:30:13.252Z"
   },
   {
    "duration": 4,
    "start_time": "2022-06-30T01:31:26.175Z"
   },
   {
    "duration": 445,
    "start_time": "2022-06-30T01:32:39.556Z"
   },
   {
    "duration": 4,
    "start_time": "2022-06-30T01:34:35.892Z"
   },
   {
    "duration": 6,
    "start_time": "2022-06-30T01:34:36.593Z"
   },
   {
    "duration": 348,
    "start_time": "2022-06-30T01:34:46.648Z"
   },
   {
    "duration": 6,
    "start_time": "2022-06-30T01:34:52.380Z"
   },
   {
    "duration": 342,
    "start_time": "2022-06-30T01:34:52.840Z"
   },
   {
    "duration": 30,
    "start_time": "2022-06-30T01:58:59.932Z"
   },
   {
    "duration": 5,
    "start_time": "2022-06-30T01:59:42.171Z"
   },
   {
    "duration": 6,
    "start_time": "2022-06-30T01:59:58.627Z"
   },
   {
    "duration": 8,
    "start_time": "2022-06-30T02:00:08.219Z"
   },
   {
    "duration": 7,
    "start_time": "2022-06-30T02:03:57.596Z"
   },
   {
    "duration": 2,
    "start_time": "2022-06-30T02:04:15.431Z"
   },
   {
    "duration": 350,
    "start_time": "2022-06-30T02:05:56.241Z"
   },
   {
    "duration": 10,
    "start_time": "2022-06-30T02:08:35.820Z"
   },
   {
    "duration": 84,
    "start_time": "2022-06-30T02:10:29.949Z"
   },
   {
    "duration": 19,
    "start_time": "2022-06-30T02:11:04.665Z"
   },
   {
    "duration": 16,
    "start_time": "2022-06-30T02:11:11.586Z"
   },
   {
    "duration": 71,
    "start_time": "2022-06-30T02:11:44.371Z"
   },
   {
    "duration": 26,
    "start_time": "2022-06-30T02:13:08.604Z"
   },
   {
    "duration": 861,
    "start_time": "2022-06-30T02:13:27.314Z"
   },
   {
    "duration": 58,
    "start_time": "2022-06-30T02:13:53.166Z"
   },
   {
    "duration": 24,
    "start_time": "2022-06-30T02:14:54.991Z"
   },
   {
    "duration": 867,
    "start_time": "2022-06-30T02:15:19.699Z"
   },
   {
    "duration": 53,
    "start_time": "2022-06-30T02:17:31.577Z"
   },
   {
    "duration": 56,
    "start_time": "2022-06-30T02:17:42.876Z"
   },
   {
    "duration": 12,
    "start_time": "2022-06-30T02:17:59.847Z"
   },
   {
    "duration": 17,
    "start_time": "2022-06-30T02:19:14.579Z"
   },
   {
    "duration": 74,
    "start_time": "2022-06-30T02:19:21.527Z"
   },
   {
    "duration": 172,
    "start_time": "2022-06-30T02:19:30.857Z"
   },
   {
    "duration": 24,
    "start_time": "2022-06-30T02:19:34.878Z"
   },
   {
    "duration": 189,
    "start_time": "2022-06-30T02:20:14.866Z"
   },
   {
    "duration": 171,
    "start_time": "2022-06-30T02:20:34.375Z"
   },
   {
    "duration": 179,
    "start_time": "2022-06-30T02:20:48.135Z"
   },
   {
    "duration": 67,
    "start_time": "2022-06-30T02:21:30.121Z"
   },
   {
    "duration": 189,
    "start_time": "2022-06-30T02:22:11.906Z"
   },
   {
    "duration": 178,
    "start_time": "2022-06-30T02:22:48.796Z"
   },
   {
    "duration": 185,
    "start_time": "2022-06-30T02:23:21.138Z"
   },
   {
    "duration": 180,
    "start_time": "2022-06-30T02:23:30.783Z"
   },
   {
    "duration": 25,
    "start_time": "2022-06-30T02:23:31.550Z"
   },
   {
    "duration": 8,
    "start_time": "2022-06-30T02:23:52.000Z"
   },
   {
    "duration": 8,
    "start_time": "2022-06-30T02:24:03.703Z"
   },
   {
    "duration": 26,
    "start_time": "2022-06-30T02:24:07.992Z"
   },
   {
    "duration": 10,
    "start_time": "2022-06-30T02:25:20.641Z"
   },
   {
    "duration": 40,
    "start_time": "2022-06-30T02:25:27.744Z"
   },
   {
    "duration": 621,
    "start_time": "2022-06-30T02:32:33.014Z"
   },
   {
    "duration": 780,
    "start_time": "2022-06-30T02:38:53.592Z"
   },
   {
    "duration": 166,
    "start_time": "2022-06-30T02:40:40.502Z"
   },
   {
    "duration": 19,
    "start_time": "2022-06-30T02:40:42.874Z"
   },
   {
    "duration": 264,
    "start_time": "2022-06-30T02:41:27.666Z"
   },
   {
    "duration": 2,
    "start_time": "2022-06-30T02:41:28.104Z"
   },
   {
    "duration": 18,
    "start_time": "2022-06-30T02:41:28.767Z"
   },
   {
    "duration": 5,
    "start_time": "2022-06-30T02:41:42.250Z"
   },
   {
    "duration": 19,
    "start_time": "2022-06-30T02:41:42.892Z"
   },
   {
    "duration": 164,
    "start_time": "2022-06-30T02:41:57.896Z"
   },
   {
    "duration": 20,
    "start_time": "2022-06-30T02:41:58.328Z"
   },
   {
    "duration": 185,
    "start_time": "2022-06-30T02:46:32.724Z"
   },
   {
    "duration": 20,
    "start_time": "2022-06-30T02:46:33.334Z"
   },
   {
    "duration": 162,
    "start_time": "2022-06-30T02:46:52.149Z"
   },
   {
    "duration": 19,
    "start_time": "2022-06-30T02:46:52.622Z"
   },
   {
    "duration": 889,
    "start_time": "2022-06-30T02:47:07.927Z"
   },
   {
    "duration": 3,
    "start_time": "2022-06-30T02:47:08.818Z"
   },
   {
    "duration": 170,
    "start_time": "2022-06-30T02:47:23.047Z"
   },
   {
    "duration": 20,
    "start_time": "2022-06-30T02:47:24.738Z"
   },
   {
    "duration": 667,
    "start_time": "2022-06-30T02:47:42.983Z"
   },
   {
    "duration": 709,
    "start_time": "2022-06-30T02:48:03.710Z"
   },
   {
    "duration": 654,
    "start_time": "2022-06-30T02:48:18.182Z"
   },
   {
    "duration": 960,
    "start_time": "2022-06-30T02:49:49.024Z"
   },
   {
    "duration": 839,
    "start_time": "2022-06-30T02:50:04.456Z"
   },
   {
    "duration": 2,
    "start_time": "2022-06-30T02:50:13.705Z"
   },
   {
    "duration": 180,
    "start_time": "2022-06-30T02:51:22.568Z"
   },
   {
    "duration": 4,
    "start_time": "2022-06-30T02:51:26.844Z"
   },
   {
    "duration": 3,
    "start_time": "2022-06-30T02:51:35.756Z"
   },
   {
    "duration": 164,
    "start_time": "2022-06-30T02:51:42.650Z"
   },
   {
    "duration": 196,
    "start_time": "2022-06-30T02:52:04.496Z"
   },
   {
    "duration": 25,
    "start_time": "2022-06-30T02:52:05.046Z"
   },
   {
    "duration": 6,
    "start_time": "2022-06-30T02:52:13.795Z"
   },
   {
    "duration": 713,
    "start_time": "2022-06-30T02:52:25.617Z"
   },
   {
    "duration": 194,
    "start_time": "2022-06-30T02:53:40.070Z"
   },
   {
    "duration": 24,
    "start_time": "2022-06-30T02:53:40.727Z"
   },
   {
    "duration": 3,
    "start_time": "2022-06-30T02:53:46.102Z"
   },
   {
    "duration": 485,
    "start_time": "2022-06-30T02:53:46.453Z"
   },
   {
    "duration": 18,
    "start_time": "2022-06-30T02:54:11.165Z"
   },
   {
    "duration": 55,
    "start_time": "2022-06-30T02:54:11.490Z"
   },
   {
    "duration": 2,
    "start_time": "2022-06-30T02:54:12.411Z"
   },
   {
    "duration": 650,
    "start_time": "2022-06-30T02:54:13.161Z"
   },
   {
    "duration": 467,
    "start_time": "2022-06-30T02:54:41.977Z"
   },
   {
    "duration": 465,
    "start_time": "2022-06-30T02:54:50.549Z"
   },
   {
    "duration": 503,
    "start_time": "2022-06-30T02:55:29.162Z"
   },
   {
    "duration": 477,
    "start_time": "2022-06-30T02:55:37.582Z"
   },
   {
    "duration": 6,
    "start_time": "2022-06-30T02:56:58.893Z"
   },
   {
    "duration": 11,
    "start_time": "2022-06-30T02:57:05.654Z"
   },
   {
    "duration": 203,
    "start_time": "2022-06-30T02:58:33.298Z"
   },
   {
    "duration": 24,
    "start_time": "2022-06-30T02:58:33.743Z"
   },
   {
    "duration": 1226,
    "start_time": "2022-06-30T21:41:15.610Z"
   },
   {
    "duration": 74,
    "start_time": "2022-06-30T21:41:16.838Z"
   },
   {
    "duration": 23,
    "start_time": "2022-06-30T21:41:16.914Z"
   },
   {
    "duration": 3,
    "start_time": "2022-06-30T21:41:17.880Z"
   },
   {
    "duration": 6,
    "start_time": "2022-06-30T21:41:18.313Z"
   },
   {
    "duration": 5,
    "start_time": "2022-06-30T21:41:18.537Z"
   },
   {
    "duration": 6,
    "start_time": "2022-06-30T21:41:18.769Z"
   },
   {
    "duration": 14,
    "start_time": "2022-06-30T21:41:19.024Z"
   },
   {
    "duration": 9,
    "start_time": "2022-06-30T21:41:19.481Z"
   },
   {
    "duration": 5,
    "start_time": "2022-06-30T21:41:19.972Z"
   },
   {
    "duration": 5,
    "start_time": "2022-06-30T21:41:20.374Z"
   },
   {
    "duration": 4,
    "start_time": "2022-06-30T21:41:20.762Z"
   },
   {
    "duration": 3,
    "start_time": "2022-06-30T21:41:20.962Z"
   },
   {
    "duration": 13,
    "start_time": "2022-06-30T21:41:21.236Z"
   },
   {
    "duration": 3,
    "start_time": "2022-06-30T21:41:21.688Z"
   },
   {
    "duration": 4,
    "start_time": "2022-06-30T21:41:21.908Z"
   },
   {
    "duration": 5,
    "start_time": "2022-06-30T21:41:22.357Z"
   },
   {
    "duration": 5,
    "start_time": "2022-06-30T21:41:22.612Z"
   },
   {
    "duration": 5,
    "start_time": "2022-06-30T21:41:22.830Z"
   },
   {
    "duration": 5,
    "start_time": "2022-06-30T21:41:23.108Z"
   },
   {
    "duration": 13,
    "start_time": "2022-06-30T21:41:23.369Z"
   },
   {
    "duration": 14,
    "start_time": "2022-06-30T21:41:23.647Z"
   },
   {
    "duration": 8,
    "start_time": "2022-06-30T21:41:23.891Z"
   },
   {
    "duration": 4,
    "start_time": "2022-06-30T21:41:24.167Z"
   },
   {
    "duration": 4,
    "start_time": "2022-06-30T21:41:24.711Z"
   },
   {
    "duration": 10,
    "start_time": "2022-06-30T21:41:25.005Z"
   },
   {
    "duration": 14,
    "start_time": "2022-06-30T21:41:25.228Z"
   },
   {
    "duration": 235,
    "start_time": "2022-06-30T21:41:25.516Z"
   },
   {
    "duration": 8,
    "start_time": "2022-06-30T21:41:26.371Z"
   },
   {
    "duration": 4,
    "start_time": "2022-06-30T21:41:26.675Z"
   },
   {
    "duration": 7,
    "start_time": "2022-06-30T21:41:26.914Z"
   },
   {
    "duration": 7,
    "start_time": "2022-06-30T21:41:27.247Z"
   },
   {
    "duration": 361,
    "start_time": "2022-06-30T21:41:27.505Z"
   },
   {
    "duration": 214,
    "start_time": "2022-06-30T21:41:28.697Z"
   },
   {
    "duration": 1002,
    "start_time": "2022-06-30T21:43:24.334Z"
   },
   {
    "duration": 788,
    "start_time": "2022-06-30T21:44:10.671Z"
   },
   {
    "duration": 0,
    "start_time": "2022-06-30T21:44:11.461Z"
   },
   {
    "duration": 25,
    "start_time": "2022-06-30T21:44:24.602Z"
   },
   {
    "duration": 8,
    "start_time": "2022-06-30T21:53:07.102Z"
   },
   {
    "duration": 6,
    "start_time": "2022-06-30T21:57:03.943Z"
   },
   {
    "duration": 24,
    "start_time": "2022-06-30T21:57:38.870Z"
   },
   {
    "duration": 6,
    "start_time": "2022-06-30T21:59:49.984Z"
   },
   {
    "duration": 32,
    "start_time": "2022-06-30T21:59:50.708Z"
   },
   {
    "duration": 7,
    "start_time": "2022-06-30T22:00:01.236Z"
   },
   {
    "duration": 25,
    "start_time": "2022-06-30T22:00:01.500Z"
   },
   {
    "duration": 26,
    "start_time": "2022-06-30T22:02:47.887Z"
   },
   {
    "duration": 11,
    "start_time": "2022-06-30T22:04:08.702Z"
   },
   {
    "duration": 11,
    "start_time": "2022-06-30T22:04:09.829Z"
   },
   {
    "duration": 9,
    "start_time": "2022-06-30T22:04:16.332Z"
   },
   {
    "duration": 8,
    "start_time": "2022-06-30T22:04:17.062Z"
   },
   {
    "duration": 10,
    "start_time": "2022-06-30T22:04:36.471Z"
   },
   {
    "duration": 13,
    "start_time": "2022-06-30T22:06:31.236Z"
   },
   {
    "duration": 10,
    "start_time": "2022-06-30T22:06:40.716Z"
   },
   {
    "duration": 4,
    "start_time": "2022-06-30T22:27:14.549Z"
   },
   {
    "duration": 9,
    "start_time": "2022-06-30T22:28:38.436Z"
   },
   {
    "duration": 133,
    "start_time": "2022-06-30T22:29:17.284Z"
   },
   {
    "duration": 103,
    "start_time": "2022-06-30T22:34:48.769Z"
   },
   {
    "duration": 111,
    "start_time": "2022-06-30T22:37:59.805Z"
   },
   {
    "duration": 49,
    "start_time": "2022-06-30T22:38:11.982Z"
   },
   {
    "duration": 101,
    "start_time": "2022-06-30T22:38:17.336Z"
   },
   {
    "duration": 119,
    "start_time": "2022-06-30T22:40:06.480Z"
   },
   {
    "duration": 91,
    "start_time": "2022-06-30T22:40:18.707Z"
   },
   {
    "duration": 96,
    "start_time": "2022-06-30T22:41:00.822Z"
   },
   {
    "duration": 110,
    "start_time": "2022-06-30T22:41:31.483Z"
   },
   {
    "duration": 867,
    "start_time": "2022-06-30T22:42:09.901Z"
   },
   {
    "duration": 7,
    "start_time": "2022-06-30T22:42:29.024Z"
   },
   {
    "duration": 11,
    "start_time": "2022-06-30T22:43:23.387Z"
   },
   {
    "duration": 7,
    "start_time": "2022-06-30T22:43:23.860Z"
   },
   {
    "duration": 4,
    "start_time": "2022-06-30T22:43:34.200Z"
   },
   {
    "duration": 17,
    "start_time": "2022-06-30T22:43:38.007Z"
   },
   {
    "duration": 10,
    "start_time": "2022-06-30T22:43:44.209Z"
   },
   {
    "duration": 4,
    "start_time": "2022-06-30T22:43:44.718Z"
   },
   {
    "duration": 8,
    "start_time": "2022-06-30T22:43:46.175Z"
   },
   {
    "duration": 926,
    "start_time": "2022-06-30T22:43:56.639Z"
   },
   {
    "duration": 124,
    "start_time": "2022-06-30T22:46:58.236Z"
   },
   {
    "duration": 99,
    "start_time": "2022-06-30T22:47:13.996Z"
   },
   {
    "duration": 94,
    "start_time": "2022-06-30T22:47:20.629Z"
   },
   {
    "duration": 728,
    "start_time": "2022-06-30T22:48:54.389Z"
   },
   {
    "duration": 10,
    "start_time": "2022-06-30T22:49:55.780Z"
   },
   {
    "duration": 137,
    "start_time": "2022-06-30T22:50:12.335Z"
   },
   {
    "duration": 10,
    "start_time": "2022-06-30T22:51:54.797Z"
   },
   {
    "duration": 4,
    "start_time": "2022-06-30T22:52:21.587Z"
   },
   {
    "duration": 6,
    "start_time": "2022-06-30T22:52:43.063Z"
   },
   {
    "duration": 273,
    "start_time": "2022-06-30T22:53:20.741Z"
   },
   {
    "duration": 10,
    "start_time": "2022-06-30T22:54:50.604Z"
   },
   {
    "duration": 4,
    "start_time": "2022-06-30T22:55:17.758Z"
   },
   {
    "duration": 8,
    "start_time": "2022-06-30T22:55:35.982Z"
   },
   {
    "duration": 402,
    "start_time": "2022-06-30T22:55:55.973Z"
   },
   {
    "duration": 437,
    "start_time": "2022-06-30T22:57:35.750Z"
   },
   {
    "duration": 440,
    "start_time": "2022-06-30T22:59:27.370Z"
   },
   {
    "duration": 20,
    "start_time": "2022-06-30T23:04:21.758Z"
   },
   {
    "duration": 63,
    "start_time": "2022-06-30T23:06:06.365Z"
   },
   {
    "duration": 23,
    "start_time": "2022-06-30T23:06:16.804Z"
   },
   {
    "duration": 8,
    "start_time": "2022-06-30T23:06:52.984Z"
   },
   {
    "duration": 47,
    "start_time": "2022-06-30T23:07:58.677Z"
   },
   {
    "duration": 6,
    "start_time": "2022-06-30T23:07:59.334Z"
   },
   {
    "duration": 5,
    "start_time": "2022-06-30T23:08:08.241Z"
   },
   {
    "duration": 3,
    "start_time": "2022-06-30T23:09:34.360Z"
   },
   {
    "duration": 3,
    "start_time": "2022-06-30T23:09:58.977Z"
   },
   {
    "duration": 5,
    "start_time": "2022-06-30T23:13:07.145Z"
   },
   {
    "duration": 3,
    "start_time": "2022-06-30T23:14:38.153Z"
   },
   {
    "duration": 3,
    "start_time": "2022-06-30T23:14:46.085Z"
   },
   {
    "duration": 39,
    "start_time": "2022-06-30T23:14:46.333Z"
   },
   {
    "duration": 18,
    "start_time": "2022-06-30T23:14:46.581Z"
   },
   {
    "duration": 3,
    "start_time": "2022-06-30T23:14:48.131Z"
   },
   {
    "duration": 5,
    "start_time": "2022-06-30T23:14:48.582Z"
   },
   {
    "duration": 5,
    "start_time": "2022-06-30T23:14:48.897Z"
   },
   {
    "duration": 4,
    "start_time": "2022-06-30T23:14:49.180Z"
   },
   {
    "duration": 13,
    "start_time": "2022-06-30T23:14:49.430Z"
   },
   {
    "duration": 10,
    "start_time": "2022-06-30T23:14:49.880Z"
   },
   {
    "duration": 5,
    "start_time": "2022-06-30T23:14:50.337Z"
   },
   {
    "duration": 5,
    "start_time": "2022-06-30T23:14:50.574Z"
   },
   {
    "duration": 3,
    "start_time": "2022-06-30T23:14:51.053Z"
   },
   {
    "duration": 4,
    "start_time": "2022-06-30T23:14:51.247Z"
   },
   {
    "duration": 13,
    "start_time": "2022-06-30T23:14:51.466Z"
   },
   {
    "duration": 4,
    "start_time": "2022-06-30T23:14:51.914Z"
   },
   {
    "duration": 3,
    "start_time": "2022-06-30T23:14:52.173Z"
   },
   {
    "duration": 4,
    "start_time": "2022-06-30T23:14:52.615Z"
   },
   {
    "duration": 4,
    "start_time": "2022-06-30T23:14:52.857Z"
   },
   {
    "duration": 4,
    "start_time": "2022-06-30T23:14:53.072Z"
   },
   {
    "duration": 5,
    "start_time": "2022-06-30T23:14:53.340Z"
   },
   {
    "duration": 15,
    "start_time": "2022-06-30T23:14:53.552Z"
   },
   {
    "duration": 15,
    "start_time": "2022-06-30T23:14:53.790Z"
   },
   {
    "duration": 10,
    "start_time": "2022-06-30T23:14:54.044Z"
   },
   {
    "duration": 5,
    "start_time": "2022-06-30T23:14:54.297Z"
   },
   {
    "duration": 5,
    "start_time": "2022-06-30T23:14:54.767Z"
   },
   {
    "duration": 8,
    "start_time": "2022-06-30T23:14:54.990Z"
   },
   {
    "duration": 13,
    "start_time": "2022-06-30T23:14:55.241Z"
   },
   {
    "duration": 224,
    "start_time": "2022-06-30T23:14:55.507Z"
   },
   {
    "duration": 8,
    "start_time": "2022-06-30T23:14:56.244Z"
   },
   {
    "duration": 3,
    "start_time": "2022-06-30T23:14:56.643Z"
   },
   {
    "duration": 7,
    "start_time": "2022-06-30T23:14:56.942Z"
   },
   {
    "duration": 6,
    "start_time": "2022-06-30T23:14:57.219Z"
   },
   {
    "duration": 574,
    "start_time": "2022-06-30T23:14:57.525Z"
   },
   {
    "duration": 191,
    "start_time": "2022-06-30T23:14:58.730Z"
   },
   {
    "duration": 23,
    "start_time": "2022-06-30T23:14:59.049Z"
   },
   {
    "duration": 2,
    "start_time": "2022-06-30T23:14:59.363Z"
   },
   {
    "duration": 497,
    "start_time": "2022-06-30T23:14:59.689Z"
   },
   {
    "duration": 10,
    "start_time": "2022-06-30T23:15:02.166Z"
   },
   {
    "duration": 11,
    "start_time": "2022-06-30T23:15:02.473Z"
   },
   {
    "duration": 11,
    "start_time": "2022-06-30T23:15:02.751Z"
   },
   {
    "duration": 5,
    "start_time": "2022-06-30T23:15:03.028Z"
   },
   {
    "duration": 4,
    "start_time": "2022-06-30T23:15:03.285Z"
   },
   {
    "duration": 5,
    "start_time": "2022-06-30T23:15:03.585Z"
   },
   {
    "duration": 7,
    "start_time": "2022-06-30T23:15:03.925Z"
   },
   {
    "duration": 7,
    "start_time": "2022-06-30T23:15:04.452Z"
   },
   {
    "duration": 6,
    "start_time": "2022-06-30T23:15:04.916Z"
   },
   {
    "duration": 434,
    "start_time": "2022-06-30T23:15:05.400Z"
   },
   {
    "duration": 5,
    "start_time": "2022-06-30T23:15:08.692Z"
   },
   {
    "duration": 6,
    "start_time": "2022-06-30T23:15:09.015Z"
   },
   {
    "duration": 3,
    "start_time": "2022-06-30T23:15:09.247Z"
   },
   {
    "duration": 4,
    "start_time": "2022-06-30T23:15:09.473Z"
   },
   {
    "duration": 3,
    "start_time": "2022-06-30T23:15:09.737Z"
   },
   {
    "duration": 9,
    "start_time": "2022-06-30T23:15:50.693Z"
   },
   {
    "duration": 7,
    "start_time": "2022-06-30T23:16:17.047Z"
   },
   {
    "duration": 10,
    "start_time": "2022-06-30T23:16:17.272Z"
   },
   {
    "duration": 6,
    "start_time": "2022-06-30T23:17:24.486Z"
   },
   {
    "duration": 6,
    "start_time": "2022-06-30T23:17:24.791Z"
   },
   {
    "duration": 3,
    "start_time": "2022-06-30T23:17:25.060Z"
   },
   {
    "duration": 4,
    "start_time": "2022-06-30T23:17:25.414Z"
   },
   {
    "duration": 23,
    "start_time": "2022-06-30T23:18:13.018Z"
   },
   {
    "duration": 8,
    "start_time": "2022-06-30T23:19:38.872Z"
   },
   {
    "duration": 4,
    "start_time": "2022-06-30T23:19:58.873Z"
   },
   {
    "duration": 8,
    "start_time": "2022-06-30T23:20:53.899Z"
   },
   {
    "duration": 6,
    "start_time": "2022-06-30T23:21:08.393Z"
   },
   {
    "duration": 5,
    "start_time": "2022-06-30T23:21:08.952Z"
   },
   {
    "duration": 4,
    "start_time": "2022-06-30T23:21:09.474Z"
   },
   {
    "duration": 4,
    "start_time": "2022-06-30T23:21:09.706Z"
   },
   {
    "duration": 3,
    "start_time": "2022-06-30T23:21:09.928Z"
   },
   {
    "duration": 3,
    "start_time": "2022-06-30T23:21:10.143Z"
   },
   {
    "duration": 5,
    "start_time": "2022-06-30T23:21:10.401Z"
   },
   {
    "duration": 6,
    "start_time": "2022-07-01T00:11:53.693Z"
   },
   {
    "duration": 6,
    "start_time": "2022-07-01T00:14:50.768Z"
   },
   {
    "duration": 9,
    "start_time": "2022-07-01T00:14:51.001Z"
   },
   {
    "duration": 3,
    "start_time": "2022-07-01T00:14:51.280Z"
   },
   {
    "duration": 2,
    "start_time": "2022-07-01T00:15:03.218Z"
   },
   {
    "duration": 2,
    "start_time": "2022-07-01T00:15:03.736Z"
   },
   {
    "duration": 4,
    "start_time": "2022-07-01T00:15:04.194Z"
   },
   {
    "duration": 5,
    "start_time": "2022-07-01T00:15:44.712Z"
   },
   {
    "duration": 5,
    "start_time": "2022-07-01T00:16:00.691Z"
   },
   {
    "duration": 829,
    "start_time": "2022-07-01T00:19:34.272Z"
   },
   {
    "duration": 24,
    "start_time": "2022-07-01T00:19:35.112Z"
   },
   {
    "duration": 2,
    "start_time": "2022-07-01T00:20:31.295Z"
   },
   {
    "duration": 27,
    "start_time": "2022-07-01T00:22:20.833Z"
   },
   {
    "duration": 6,
    "start_time": "2022-07-01T00:23:10.765Z"
   },
   {
    "duration": 4,
    "start_time": "2022-07-01T00:37:57.864Z"
   },
   {
    "duration": 4,
    "start_time": "2022-07-01T00:38:35.812Z"
   },
   {
    "duration": 2475,
    "start_time": "2022-07-01T00:40:33.329Z"
   },
   {
    "duration": 2617,
    "start_time": "2022-07-01T00:43:34.168Z"
   },
   {
    "duration": 120,
    "start_time": "2022-07-01T00:45:02.025Z"
   },
   {
    "duration": 106,
    "start_time": "2022-07-01T00:45:43.570Z"
   },
   {
    "duration": 4,
    "start_time": "2022-07-01T00:46:25.586Z"
   },
   {
    "duration": 22,
    "start_time": "2022-07-01T00:47:05.918Z"
   },
   {
    "duration": 111,
    "start_time": "2022-07-01T00:49:12.220Z"
   },
   {
    "duration": 104,
    "start_time": "2022-07-01T00:49:46.812Z"
   },
   {
    "duration": 15,
    "start_time": "2022-07-01T00:51:33.420Z"
   },
   {
    "duration": 6,
    "start_time": "2022-07-01T00:52:25.954Z"
   },
   {
    "duration": 11,
    "start_time": "2022-07-01T00:52:44.172Z"
   },
   {
    "duration": 11,
    "start_time": "2022-07-01T00:53:26.296Z"
   },
   {
    "duration": 34,
    "start_time": "2022-07-01T00:54:41.600Z"
   },
   {
    "duration": 28,
    "start_time": "2022-07-01T00:54:47.749Z"
   },
   {
    "duration": 22,
    "start_time": "2022-07-01T00:54:56.162Z"
   },
   {
    "duration": 72,
    "start_time": "2022-07-01T01:43:34.860Z"
   },
   {
    "duration": 70,
    "start_time": "2022-07-01T01:43:46.165Z"
   },
   {
    "duration": 10,
    "start_time": "2022-07-01T01:43:55.597Z"
   },
   {
    "duration": 71,
    "start_time": "2022-07-01T01:44:13.937Z"
   },
   {
    "duration": 18,
    "start_time": "2022-07-01T01:44:14.920Z"
   },
   {
    "duration": 3,
    "start_time": "2022-07-01T01:46:52.190Z"
   },
   {
    "duration": 4,
    "start_time": "2022-07-01T01:46:52.680Z"
   },
   {
    "duration": 3,
    "start_time": "2022-07-01T01:47:20.076Z"
   },
   {
    "duration": 3,
    "start_time": "2022-07-01T01:47:20.572Z"
   },
   {
    "duration": 5,
    "start_time": "2022-07-01T01:47:36.829Z"
   },
   {
    "duration": 7,
    "start_time": "2022-07-01T01:47:37.170Z"
   },
   {
    "duration": 5,
    "start_time": "2022-07-01T01:48:05.022Z"
   },
   {
    "duration": 5,
    "start_time": "2022-07-01T01:48:05.269Z"
   },
   {
    "duration": 9,
    "start_time": "2022-07-01T01:49:10.437Z"
   },
   {
    "duration": 5,
    "start_time": "2022-07-01T01:49:15.293Z"
   },
   {
    "duration": 4,
    "start_time": "2022-07-01T01:49:15.768Z"
   },
   {
    "duration": 35,
    "start_time": "2022-07-01T01:50:47.772Z"
   },
   {
    "duration": 28,
    "start_time": "2022-07-01T01:51:14.377Z"
   },
   {
    "duration": 14,
    "start_time": "2022-07-01T01:56:44.575Z"
   },
   {
    "duration": 12,
    "start_time": "2022-07-01T01:57:11.594Z"
   },
   {
    "duration": 14,
    "start_time": "2022-07-01T01:57:52.574Z"
   },
   {
    "duration": 13,
    "start_time": "2022-07-01T01:58:00.381Z"
   },
   {
    "duration": 13,
    "start_time": "2022-07-01T01:58:12.395Z"
   },
   {
    "duration": 13,
    "start_time": "2022-07-01T01:58:32.515Z"
   },
   {
    "duration": 13,
    "start_time": "2022-07-01T01:58:49.533Z"
   },
   {
    "duration": 5,
    "start_time": "2022-07-01T01:59:53.442Z"
   },
   {
    "duration": 9,
    "start_time": "2022-07-01T02:00:04.342Z"
   },
   {
    "duration": 7,
    "start_time": "2022-07-01T02:00:05.018Z"
   },
   {
    "duration": 9,
    "start_time": "2022-07-01T02:00:14.186Z"
   },
   {
    "duration": 7,
    "start_time": "2022-07-01T02:00:36.479Z"
   },
   {
    "duration": 10,
    "start_time": "2022-07-01T02:00:50.578Z"
   },
   {
    "duration": 7,
    "start_time": "2022-07-01T02:01:00.885Z"
   },
   {
    "duration": 4,
    "start_time": "2022-07-01T02:04:58.989Z"
   },
   {
    "duration": 7,
    "start_time": "2022-07-01T02:05:12.597Z"
   },
   {
    "duration": 4,
    "start_time": "2022-07-01T02:06:56.899Z"
   },
   {
    "duration": 7,
    "start_time": "2022-07-01T02:07:13.470Z"
   },
   {
    "duration": 8,
    "start_time": "2022-07-01T02:08:32.907Z"
   },
   {
    "duration": 4,
    "start_time": "2022-07-01T02:08:38.543Z"
   },
   {
    "duration": 6,
    "start_time": "2022-07-01T02:08:39.776Z"
   },
   {
    "duration": 491,
    "start_time": "2022-07-01T02:10:57.548Z"
   },
   {
    "duration": 388,
    "start_time": "2022-07-01T02:13:14.881Z"
   },
   {
    "duration": 11,
    "start_time": "2022-07-01T02:14:07.635Z"
   },
   {
    "duration": 11,
    "start_time": "2022-07-01T02:15:04.083Z"
   },
   {
    "duration": 134,
    "start_time": "2022-07-01T02:17:48.026Z"
   },
   {
    "duration": 2,
    "start_time": "2022-07-01T02:18:19.366Z"
   },
   {
    "duration": 1293,
    "start_time": "2022-07-01T02:19:10.167Z"
   },
   {
    "duration": 206,
    "start_time": "2022-07-01T02:19:23.973Z"
   },
   {
    "duration": 996,
    "start_time": "2022-07-01T02:19:24.503Z"
   },
   {
    "duration": 19,
    "start_time": "2022-07-01T02:19:28.838Z"
   },
   {
    "duration": 12,
    "start_time": "2022-07-01T02:19:54.664Z"
   },
   {
    "duration": 2,
    "start_time": "2022-07-01T02:20:36.322Z"
   },
   {
    "duration": 191,
    "start_time": "2022-07-01T02:20:59.958Z"
   },
   {
    "duration": 3,
    "start_time": "2022-07-01T02:21:00.537Z"
   },
   {
    "duration": 25,
    "start_time": "2022-07-01T02:21:01.180Z"
   },
   {
    "duration": 194,
    "start_time": "2022-07-01T02:21:20.930Z"
   },
   {
    "duration": 187,
    "start_time": "2022-07-01T02:21:33.605Z"
   },
   {
    "duration": 9,
    "start_time": "2022-07-01T02:21:44.620Z"
   },
   {
    "duration": 25,
    "start_time": "2022-07-01T02:21:47.699Z"
   },
   {
    "duration": 5,
    "start_time": "2022-07-01T02:23:29.164Z"
   },
   {
    "duration": 23,
    "start_time": "2022-07-01T02:23:29.679Z"
   },
   {
    "duration": 30,
    "start_time": "2022-07-01T02:23:55.520Z"
   },
   {
    "duration": 204,
    "start_time": "2022-07-01T02:24:19.219Z"
   },
   {
    "duration": 5,
    "start_time": "2022-07-01T02:24:19.548Z"
   },
   {
    "duration": 12,
    "start_time": "2022-07-01T02:24:19.956Z"
   },
   {
    "duration": 17,
    "start_time": "2022-07-01T02:24:20.872Z"
   },
   {
    "duration": 15,
    "start_time": "2022-07-01T02:25:51.527Z"
   },
   {
    "duration": 11,
    "start_time": "2022-07-01T02:25:56.109Z"
   },
   {
    "duration": 31,
    "start_time": "2022-07-01T02:26:46.804Z"
   },
   {
    "duration": 10,
    "start_time": "2022-07-01T02:27:08.329Z"
   },
   {
    "duration": 16,
    "start_time": "2022-07-01T02:27:51.816Z"
   },
   {
    "duration": 567,
    "start_time": "2022-07-01T02:28:10.098Z"
   },
   {
    "duration": 32,
    "start_time": "2022-07-01T02:28:16.852Z"
   },
   {
    "duration": 17,
    "start_time": "2022-07-01T02:29:17.404Z"
   },
   {
    "duration": 17,
    "start_time": "2022-07-01T02:29:22.097Z"
   },
   {
    "duration": 15,
    "start_time": "2022-07-01T02:30:05.778Z"
   },
   {
    "duration": 566,
    "start_time": "2022-07-01T02:30:13.562Z"
   },
   {
    "duration": 29,
    "start_time": "2022-07-01T02:30:19.181Z"
   },
   {
    "duration": 559,
    "start_time": "2022-07-01T02:30:41.067Z"
   },
   {
    "duration": 36,
    "start_time": "2022-07-01T02:30:45.488Z"
   },
   {
    "duration": 565,
    "start_time": "2022-07-01T02:30:59.268Z"
   },
   {
    "duration": 41,
    "start_time": "2022-07-01T02:31:04.403Z"
   },
   {
    "duration": 16,
    "start_time": "2022-07-01T02:31:42.432Z"
   },
   {
    "duration": 11,
    "start_time": "2022-07-01T02:31:47.081Z"
   },
   {
    "duration": 43,
    "start_time": "2022-07-01T02:32:03.489Z"
   },
   {
    "duration": 7,
    "start_time": "2022-07-01T02:32:07.900Z"
   },
   {
    "duration": 16,
    "start_time": "2022-07-01T02:32:33.559Z"
   },
   {
    "duration": 15,
    "start_time": "2022-07-01T02:32:51.013Z"
   },
   {
    "duration": 45,
    "start_time": "2022-07-01T02:33:19.248Z"
   },
   {
    "duration": 9,
    "start_time": "2022-07-01T02:33:21.987Z"
   },
   {
    "duration": 8,
    "start_time": "2022-07-01T02:33:22.866Z"
   },
   {
    "duration": 579,
    "start_time": "2022-07-01T02:49:24.947Z"
   },
   {
    "duration": 32,
    "start_time": "2022-07-01T02:49:30.319Z"
   },
   {
    "duration": 582,
    "start_time": "2022-07-01T02:50:05.669Z"
   },
   {
    "duration": 43,
    "start_time": "2022-07-01T02:50:08.945Z"
   },
   {
    "duration": 27,
    "start_time": "2022-07-01T02:51:01.039Z"
   },
   {
    "duration": 6,
    "start_time": "2022-07-01T02:52:52.499Z"
   },
   {
    "duration": 10,
    "start_time": "2022-07-01T02:53:12.611Z"
   },
   {
    "duration": 560,
    "start_time": "2022-07-01T02:53:39.673Z"
   },
   {
    "duration": 23,
    "start_time": "2022-07-01T02:53:44.007Z"
   },
   {
    "duration": 35,
    "start_time": "2022-07-01T02:53:59.289Z"
   },
   {
    "duration": 16,
    "start_time": "2022-07-01T02:55:42.438Z"
   },
   {
    "duration": 53,
    "start_time": "2022-07-01T02:55:47.507Z"
   },
   {
    "duration": 17,
    "start_time": "2022-07-01T02:56:03.792Z"
   },
   {
    "duration": 58,
    "start_time": "2022-07-01T02:56:05.872Z"
   },
   {
    "duration": 27,
    "start_time": "2022-07-01T02:57:28.268Z"
   },
   {
    "duration": 19,
    "start_time": "2022-07-01T02:57:44.520Z"
   },
   {
    "duration": 29,
    "start_time": "2022-07-01T02:57:55.151Z"
   },
   {
    "duration": 7,
    "start_time": "2022-07-01T02:58:55.826Z"
   },
   {
    "duration": 17,
    "start_time": "2022-07-01T02:59:24.113Z"
   },
   {
    "duration": 5,
    "start_time": "2022-07-01T03:01:13.341Z"
   },
   {
    "duration": 7,
    "start_time": "2022-07-01T03:01:34.919Z"
   },
   {
    "duration": 13,
    "start_time": "2022-07-01T03:02:26.702Z"
   },
   {
    "duration": 10,
    "start_time": "2022-07-01T03:02:41.957Z"
   },
   {
    "duration": 5,
    "start_time": "2022-07-01T03:03:13.680Z"
   },
   {
    "duration": 2,
    "start_time": "2022-07-01T03:03:41.521Z"
   },
   {
    "duration": 8,
    "start_time": "2022-07-01T03:03:58.573Z"
   },
   {
    "duration": 26,
    "start_time": "2022-07-01T03:07:00.857Z"
   },
   {
    "duration": 55,
    "start_time": "2022-07-01T03:07:25.737Z"
   },
   {
    "duration": 1231,
    "start_time": "2022-07-01T03:07:48.687Z"
   },
   {
    "duration": 84,
    "start_time": "2022-07-01T03:08:06.517Z"
   },
   {
    "duration": 9,
    "start_time": "2022-07-01T03:08:21.664Z"
   },
   {
    "duration": 69,
    "start_time": "2022-07-01T03:09:02.453Z"
   },
   {
    "duration": 21,
    "start_time": "2022-07-01T03:09:03.347Z"
   },
   {
    "duration": 63,
    "start_time": "2022-07-01T03:09:34.180Z"
   },
   {
    "duration": 22,
    "start_time": "2022-07-01T03:09:34.689Z"
   },
   {
    "duration": 125,
    "start_time": "2022-07-01T03:10:08.333Z"
   },
   {
    "duration": 51,
    "start_time": "2022-07-01T03:10:08.732Z"
   },
   {
    "duration": 15,
    "start_time": "2022-07-01T03:10:42.902Z"
   },
   {
    "duration": 48,
    "start_time": "2022-07-01T03:10:45.128Z"
   },
   {
    "duration": 29,
    "start_time": "2022-07-01T03:11:39.239Z"
   },
   {
    "duration": 21,
    "start_time": "2022-07-01T03:11:39.938Z"
   },
   {
    "duration": 303,
    "start_time": "2022-07-01T03:12:35.356Z"
   },
   {
    "duration": 152,
    "start_time": "2022-07-01T03:12:44.711Z"
   },
   {
    "duration": 159,
    "start_time": "2022-07-01T03:13:43.677Z"
   },
   {
    "duration": 153,
    "start_time": "2022-07-01T03:14:04.720Z"
   },
   {
    "duration": 305,
    "start_time": "2022-07-01T03:14:30.579Z"
   },
   {
    "duration": 149,
    "start_time": "2022-07-01T03:14:41.083Z"
   },
   {
    "duration": 1743,
    "start_time": "2022-07-01T03:15:14.874Z"
   },
   {
    "duration": 2613,
    "start_time": "2022-07-01T03:15:44.608Z"
   },
   {
    "duration": 172,
    "start_time": "2022-07-01T03:15:53.059Z"
   },
   {
    "duration": 6,
    "start_time": "2022-07-01T03:17:45.778Z"
   },
   {
    "duration": 814,
    "start_time": "2022-07-01T03:17:59.838Z"
   },
   {
    "duration": 0,
    "start_time": "2022-07-01T03:18:00.654Z"
   },
   {
    "duration": 995,
    "start_time": "2022-07-01T03:18:50.323Z"
   },
   {
    "duration": 9,
    "start_time": "2022-07-01T03:19:30.408Z"
   },
   {
    "duration": 1292,
    "start_time": "2022-07-02T00:43:57.841Z"
   },
   {
    "duration": 87,
    "start_time": "2022-07-02T00:43:59.135Z"
   },
   {
    "duration": 24,
    "start_time": "2022-07-02T00:43:59.223Z"
   },
   {
    "duration": 8,
    "start_time": "2022-07-02T00:43:59.249Z"
   },
   {
    "duration": 6,
    "start_time": "2022-07-02T00:43:59.484Z"
   },
   {
    "duration": 5,
    "start_time": "2022-07-02T00:43:59.698Z"
   },
   {
    "duration": 6,
    "start_time": "2022-07-02T00:43:59.826Z"
   },
   {
    "duration": 14,
    "start_time": "2022-07-02T00:44:00.122Z"
   },
   {
    "duration": 10,
    "start_time": "2022-07-02T00:44:00.477Z"
   },
   {
    "duration": 5,
    "start_time": "2022-07-02T00:44:00.888Z"
   },
   {
    "duration": 5,
    "start_time": "2022-07-02T00:44:01.080Z"
   },
   {
    "duration": 4,
    "start_time": "2022-07-02T00:44:01.486Z"
   },
   {
    "duration": 3,
    "start_time": "2022-07-02T00:44:01.744Z"
   },
   {
    "duration": 12,
    "start_time": "2022-07-02T00:44:01.928Z"
   },
   {
    "duration": 4,
    "start_time": "2022-07-02T00:44:02.292Z"
   },
   {
    "duration": 3,
    "start_time": "2022-07-02T00:44:02.493Z"
   },
   {
    "duration": 8,
    "start_time": "2022-07-02T00:44:02.878Z"
   },
   {
    "duration": 8,
    "start_time": "2022-07-02T00:44:03.046Z"
   },
   {
    "duration": 4,
    "start_time": "2022-07-02T00:44:03.241Z"
   },
   {
    "duration": 9,
    "start_time": "2022-07-02T00:44:03.448Z"
   },
   {
    "duration": 14,
    "start_time": "2022-07-02T00:44:03.675Z"
   },
   {
    "duration": 14,
    "start_time": "2022-07-02T00:44:03.881Z"
   },
   {
    "duration": 12,
    "start_time": "2022-07-02T00:44:04.071Z"
   },
   {
    "duration": 4,
    "start_time": "2022-07-02T00:44:04.244Z"
   },
   {
    "duration": 5,
    "start_time": "2022-07-02T00:44:04.599Z"
   },
   {
    "duration": 9,
    "start_time": "2022-07-02T00:44:04.804Z"
   },
   {
    "duration": 13,
    "start_time": "2022-07-02T00:44:05.015Z"
   },
   {
    "duration": 268,
    "start_time": "2022-07-02T00:44:05.231Z"
   },
   {
    "duration": 14,
    "start_time": "2022-07-02T00:44:05.653Z"
   },
   {
    "duration": 16,
    "start_time": "2022-07-02T00:44:05.992Z"
   },
   {
    "duration": 7,
    "start_time": "2022-07-02T00:44:06.492Z"
   },
   {
    "duration": 24,
    "start_time": "2022-07-02T00:44:06.678Z"
   },
   {
    "duration": 7,
    "start_time": "2022-07-02T00:44:06.888Z"
   },
   {
    "duration": 26,
    "start_time": "2022-07-02T00:44:07.145Z"
   },
   {
    "duration": 350,
    "start_time": "2022-07-02T00:44:07.340Z"
   },
   {
    "duration": 10,
    "start_time": "2022-07-02T00:44:07.693Z"
   },
   {
    "duration": 11,
    "start_time": "2022-07-02T00:44:07.879Z"
   },
   {
    "duration": 6,
    "start_time": "2022-07-02T00:44:09.530Z"
   },
   {
    "duration": 3,
    "start_time": "2022-07-02T00:44:09.725Z"
   },
   {
    "duration": 9,
    "start_time": "2022-07-02T00:44:09.972Z"
   },
   {
    "duration": 5,
    "start_time": "2022-07-02T00:44:10.243Z"
   },
   {
    "duration": 364,
    "start_time": "2022-07-02T00:44:10.468Z"
   },
   {
    "duration": 2,
    "start_time": "2022-07-02T00:44:10.891Z"
   },
   {
    "duration": 8,
    "start_time": "2022-07-02T00:44:11.370Z"
   },
   {
    "duration": 8,
    "start_time": "2022-07-02T00:44:11.581Z"
   },
   {
    "duration": 9,
    "start_time": "2022-07-02T00:44:11.813Z"
   },
   {
    "duration": 30,
    "start_time": "2022-07-02T00:44:12.097Z"
   },
   {
    "duration": 20,
    "start_time": "2022-07-02T00:44:12.507Z"
   },
   {
    "duration": 6,
    "start_time": "2022-07-02T00:48:02.425Z"
   },
   {
    "duration": 23,
    "start_time": "2022-07-02T00:53:04.445Z"
   },
   {
    "duration": 9,
    "start_time": "2022-07-02T00:53:37.594Z"
   },
   {
    "duration": 20,
    "start_time": "2022-07-02T00:55:30.141Z"
   },
   {
    "duration": 11,
    "start_time": "2022-07-02T00:55:49.900Z"
   },
   {
    "duration": 15,
    "start_time": "2022-07-02T00:58:14.387Z"
   },
   {
    "duration": 9,
    "start_time": "2022-07-02T00:58:15.319Z"
   },
   {
    "duration": 6,
    "start_time": "2022-07-02T00:58:27.379Z"
   },
   {
    "duration": 9,
    "start_time": "2022-07-02T00:58:44.509Z"
   },
   {
    "duration": 19,
    "start_time": "2022-07-02T01:10:29.447Z"
   },
   {
    "duration": 90,
    "start_time": "2022-07-02T01:12:00.508Z"
   },
   {
    "duration": 9,
    "start_time": "2022-07-02T01:12:07.486Z"
   },
   {
    "duration": 11,
    "start_time": "2022-07-02T01:13:06.640Z"
   },
   {
    "duration": 8,
    "start_time": "2022-07-02T01:13:50.100Z"
   },
   {
    "duration": 6,
    "start_time": "2022-07-02T01:13:52.817Z"
   },
   {
    "duration": 6,
    "start_time": "2022-07-02T01:13:53.662Z"
   },
   {
    "duration": 1452,
    "start_time": "2022-07-03T02:22:21.850Z"
   },
   {
    "duration": 93,
    "start_time": "2022-07-03T02:22:23.305Z"
   },
   {
    "duration": 26,
    "start_time": "2022-07-03T02:22:23.399Z"
   },
   {
    "duration": 4,
    "start_time": "2022-07-03T02:22:23.426Z"
   },
   {
    "duration": 9,
    "start_time": "2022-07-03T02:22:23.431Z"
   },
   {
    "duration": 47,
    "start_time": "2022-07-03T02:22:23.441Z"
   },
   {
    "duration": 18,
    "start_time": "2022-07-03T02:22:23.490Z"
   },
   {
    "duration": 26,
    "start_time": "2022-07-03T02:22:23.646Z"
   },
   {
    "duration": 9,
    "start_time": "2022-07-03T02:22:24.038Z"
   },
   {
    "duration": 6,
    "start_time": "2022-07-03T02:22:24.413Z"
   },
   {
    "duration": 6,
    "start_time": "2022-07-03T02:22:24.590Z"
   },
   {
    "duration": 4,
    "start_time": "2022-07-03T02:22:24.925Z"
   },
   {
    "duration": 4,
    "start_time": "2022-07-03T02:22:25.079Z"
   },
   {
    "duration": 15,
    "start_time": "2022-07-03T02:22:25.268Z"
   },
   {
    "duration": 4,
    "start_time": "2022-07-03T02:22:25.682Z"
   },
   {
    "duration": 4,
    "start_time": "2022-07-03T02:22:25.823Z"
   },
   {
    "duration": 14,
    "start_time": "2022-07-03T02:22:26.147Z"
   },
   {
    "duration": 5,
    "start_time": "2022-07-03T02:22:26.347Z"
   },
   {
    "duration": 5,
    "start_time": "2022-07-03T02:22:26.565Z"
   },
   {
    "duration": 6,
    "start_time": "2022-07-03T02:22:26.792Z"
   },
   {
    "duration": 18,
    "start_time": "2022-07-03T02:22:26.974Z"
   },
   {
    "duration": 22,
    "start_time": "2022-07-03T02:22:27.226Z"
   },
   {
    "duration": 10,
    "start_time": "2022-07-03T02:22:27.485Z"
   },
   {
    "duration": 5,
    "start_time": "2022-07-03T02:22:27.679Z"
   },
   {
    "duration": 5,
    "start_time": "2022-07-03T02:22:28.052Z"
   },
   {
    "duration": 9,
    "start_time": "2022-07-03T02:22:28.246Z"
   },
   {
    "duration": 12,
    "start_time": "2022-07-03T02:22:28.416Z"
   },
   {
    "duration": 242,
    "start_time": "2022-07-03T02:22:28.626Z"
   },
   {
    "duration": 10,
    "start_time": "2022-07-03T02:22:28.993Z"
   },
   {
    "duration": 17,
    "start_time": "2022-07-03T02:22:29.378Z"
   },
   {
    "duration": 10,
    "start_time": "2022-07-03T02:22:29.958Z"
   },
   {
    "duration": 26,
    "start_time": "2022-07-03T02:22:30.170Z"
   },
   {
    "duration": 10,
    "start_time": "2022-07-03T02:22:30.358Z"
   },
   {
    "duration": 18,
    "start_time": "2022-07-03T02:22:30.550Z"
   },
   {
    "duration": 323,
    "start_time": "2022-07-03T02:22:30.750Z"
   },
   {
    "duration": 15,
    "start_time": "2022-07-03T02:22:31.076Z"
   },
   {
    "duration": 11,
    "start_time": "2022-07-03T02:22:31.098Z"
   },
   {
    "duration": 6,
    "start_time": "2022-07-03T02:22:31.944Z"
   },
   {
    "duration": 3,
    "start_time": "2022-07-03T02:22:32.234Z"
   },
   {
    "duration": 6,
    "start_time": "2022-07-03T02:22:32.522Z"
   },
   {
    "duration": 6,
    "start_time": "2022-07-03T02:22:33.166Z"
   },
   {
    "duration": 355,
    "start_time": "2022-07-03T02:22:33.579Z"
   },
   {
    "duration": 8,
    "start_time": "2022-07-03T02:22:34.388Z"
   },
   {
    "duration": 6,
    "start_time": "2022-07-03T02:22:35.329Z"
   },
   {
    "duration": 10,
    "start_time": "2022-07-03T02:22:36.367Z"
   },
   {
    "duration": 9,
    "start_time": "2022-07-03T02:22:38.029Z"
   },
   {
    "duration": 8,
    "start_time": "2022-07-03T02:22:39.253Z"
   },
   {
    "duration": 11,
    "start_time": "2022-07-03T02:22:39.973Z"
   },
   {
    "duration": 2,
    "start_time": "2022-07-03T02:22:41.883Z"
   },
   {
    "duration": 7,
    "start_time": "2022-07-03T02:22:43.024Z"
   },
   {
    "duration": 11,
    "start_time": "2022-07-03T02:22:44.666Z"
   },
   {
    "duration": 10,
    "start_time": "2022-07-03T02:22:45.621Z"
   },
   {
    "duration": 30,
    "start_time": "2022-07-03T02:22:46.202Z"
   },
   {
    "duration": 27,
    "start_time": "2022-07-03T02:22:49.749Z"
   },
   {
    "duration": 100,
    "start_time": "2022-07-03T02:22:51.681Z"
   },
   {
    "duration": 176,
    "start_time": "2022-07-03T02:22:52.416Z"
   },
   {
    "duration": 29,
    "start_time": "2022-07-03T02:37:25.343Z"
   },
   {
    "duration": 35,
    "start_time": "2022-07-03T02:37:25.894Z"
   },
   {
    "duration": 20,
    "start_time": "2022-07-03T02:47:15.485Z"
   },
   {
    "duration": 10,
    "start_time": "2022-07-03T02:47:16.118Z"
   },
   {
    "duration": 5,
    "start_time": "2022-07-03T02:47:29.379Z"
   },
   {
    "duration": 7,
    "start_time": "2022-07-03T02:47:39.339Z"
   },
   {
    "duration": 8,
    "start_time": "2022-07-03T02:47:39.735Z"
   },
   {
    "duration": 9,
    "start_time": "2022-07-03T02:47:41.127Z"
   },
   {
    "duration": 8,
    "start_time": "2022-07-03T02:47:42.169Z"
   },
   {
    "duration": 40,
    "start_time": "2022-07-03T02:47:43.011Z"
   },
   {
    "duration": 20,
    "start_time": "2022-07-03T02:47:43.741Z"
   },
   {
    "duration": 11,
    "start_time": "2022-07-03T02:54:22.151Z"
   },
   {
    "duration": 6,
    "start_time": "2022-07-03T02:55:44.291Z"
   },
   {
    "duration": 3,
    "start_time": "2022-07-03T02:55:54.197Z"
   },
   {
    "duration": 52,
    "start_time": "2022-07-03T02:55:54.377Z"
   },
   {
    "duration": 28,
    "start_time": "2022-07-03T02:55:54.609Z"
   },
   {
    "duration": 3,
    "start_time": "2022-07-03T02:55:55.277Z"
   },
   {
    "duration": 6,
    "start_time": "2022-07-03T02:55:55.697Z"
   },
   {
    "duration": 6,
    "start_time": "2022-07-03T02:55:55.918Z"
   },
   {
    "duration": 6,
    "start_time": "2022-07-03T02:55:56.206Z"
   },
   {
    "duration": 19,
    "start_time": "2022-07-03T02:55:56.397Z"
   },
   {
    "duration": 13,
    "start_time": "2022-07-03T02:55:56.850Z"
   },
   {
    "duration": 6,
    "start_time": "2022-07-03T02:55:58.025Z"
   },
   {
    "duration": 5,
    "start_time": "2022-07-03T02:56:00.462Z"
   },
   {
    "duration": 4,
    "start_time": "2022-07-03T02:56:01.215Z"
   },
   {
    "duration": 5,
    "start_time": "2022-07-03T02:56:01.654Z"
   },
   {
    "duration": 12,
    "start_time": "2022-07-03T02:56:01.993Z"
   },
   {
    "duration": 3,
    "start_time": "2022-07-03T02:56:03.321Z"
   },
   {
    "duration": 4,
    "start_time": "2022-07-03T02:56:03.705Z"
   },
   {
    "duration": 5,
    "start_time": "2022-07-03T02:56:04.666Z"
   },
   {
    "duration": 6,
    "start_time": "2022-07-03T02:56:05.158Z"
   },
   {
    "duration": 5,
    "start_time": "2022-07-03T02:56:05.637Z"
   },
   {
    "duration": 5,
    "start_time": "2022-07-03T02:56:06.092Z"
   },
   {
    "duration": 18,
    "start_time": "2022-07-03T02:56:06.434Z"
   },
   {
    "duration": 17,
    "start_time": "2022-07-03T02:56:27.438Z"
   },
   {
    "duration": 9,
    "start_time": "2022-07-03T02:56:27.780Z"
   },
   {
    "duration": 4,
    "start_time": "2022-07-03T02:56:28.143Z"
   },
   {
    "duration": 4,
    "start_time": "2022-07-03T02:56:29.675Z"
   },
   {
    "duration": 8,
    "start_time": "2022-07-03T02:56:30.044Z"
   },
   {
    "duration": 12,
    "start_time": "2022-07-03T02:56:30.366Z"
   },
   {
    "duration": 220,
    "start_time": "2022-07-03T02:56:31.666Z"
   },
   {
    "duration": 10,
    "start_time": "2022-07-03T02:56:33.509Z"
   },
   {
    "duration": 15,
    "start_time": "2022-07-03T02:56:38.387Z"
   },
   {
    "duration": 7,
    "start_time": "2022-07-03T02:56:39.574Z"
   },
   {
    "duration": 25,
    "start_time": "2022-07-03T02:56:40.272Z"
   },
   {
    "duration": 7,
    "start_time": "2022-07-03T02:56:41.096Z"
   },
   {
    "duration": 10,
    "start_time": "2022-07-03T02:56:42.026Z"
   },
   {
    "duration": 317,
    "start_time": "2022-07-03T02:56:43.225Z"
   },
   {
    "duration": 10,
    "start_time": "2022-07-03T02:56:43.846Z"
   },
   {
    "duration": 5,
    "start_time": "2022-07-03T02:56:46.677Z"
   },
   {
    "duration": 11,
    "start_time": "2022-07-03T02:56:48.571Z"
   },
   {
    "duration": 108,
    "start_time": "2022-07-03T02:59:32.579Z"
   },
   {
    "duration": 104,
    "start_time": "2022-07-03T03:00:26.630Z"
   },
   {
    "duration": 86,
    "start_time": "2022-07-03T03:00:38.100Z"
   },
   {
    "duration": 95,
    "start_time": "2022-07-03T03:03:52.627Z"
   },
   {
    "duration": 112,
    "start_time": "2022-07-03T03:04:05.581Z"
   },
   {
    "duration": 104,
    "start_time": "2022-07-03T03:04:30.089Z"
   },
   {
    "duration": 178,
    "start_time": "2022-07-03T03:04:56.981Z"
   },
   {
    "duration": 96,
    "start_time": "2022-07-03T03:05:51.912Z"
   },
   {
    "duration": 5,
    "start_time": "2022-07-03T03:07:38.689Z"
   },
   {
    "duration": 98,
    "start_time": "2022-07-03T03:09:31.504Z"
   },
   {
    "duration": 110,
    "start_time": "2022-07-03T03:20:36.233Z"
   },
   {
    "duration": 1490,
    "start_time": "2022-07-04T00:40:30.076Z"
   },
   {
    "duration": 122,
    "start_time": "2022-07-04T00:40:31.571Z"
   },
   {
    "duration": 31,
    "start_time": "2022-07-04T00:40:31.696Z"
   },
   {
    "duration": 3,
    "start_time": "2022-07-04T00:40:33.672Z"
   },
   {
    "duration": 5,
    "start_time": "2022-07-04T00:40:37.717Z"
   },
   {
    "duration": 7,
    "start_time": "2022-07-04T00:40:38.810Z"
   },
   {
    "duration": 5,
    "start_time": "2022-07-04T00:40:39.526Z"
   },
   {
    "duration": 15,
    "start_time": "2022-07-04T00:40:40.304Z"
   },
   {
    "duration": 11,
    "start_time": "2022-07-04T00:40:42.282Z"
   },
   {
    "duration": 5,
    "start_time": "2022-07-04T00:40:43.722Z"
   },
   {
    "duration": 7,
    "start_time": "2022-07-04T00:40:47.168Z"
   },
   {
    "duration": 3,
    "start_time": "2022-07-04T00:40:48.624Z"
   },
   {
    "duration": 4,
    "start_time": "2022-07-04T00:40:49.510Z"
   },
   {
    "duration": 20,
    "start_time": "2022-07-04T00:41:08.288Z"
   },
   {
    "duration": 4,
    "start_time": "2022-07-04T00:41:12.220Z"
   },
   {
    "duration": 7,
    "start_time": "2022-07-04T00:41:12.879Z"
   },
   {
    "duration": 6,
    "start_time": "2022-07-04T00:41:16.286Z"
   },
   {
    "duration": 6,
    "start_time": "2022-07-04T00:41:17.634Z"
   },
   {
    "duration": 9,
    "start_time": "2022-07-04T00:41:19.192Z"
   },
   {
    "duration": 14,
    "start_time": "2022-07-04T00:41:19.951Z"
   },
   {
    "duration": 17,
    "start_time": "2022-07-04T00:41:20.726Z"
   },
   {
    "duration": 23,
    "start_time": "2022-07-04T00:41:21.531Z"
   },
   {
    "duration": 18,
    "start_time": "2022-07-04T00:41:23.254Z"
   },
   {
    "duration": 6,
    "start_time": "2022-07-04T00:41:24.801Z"
   },
   {
    "duration": 18,
    "start_time": "2022-07-04T00:44:12.980Z"
   },
   {
    "duration": 296,
    "start_time": "2022-07-04T00:44:13.345Z"
   },
   {
    "duration": 17,
    "start_time": "2022-07-04T00:44:14.880Z"
   },
   {
    "duration": 4,
    "start_time": "2022-07-04T00:44:23.026Z"
   },
   {
    "duration": 17,
    "start_time": "2022-07-04T00:44:23.346Z"
   },
   {
    "duration": 18,
    "start_time": "2022-07-04T00:44:23.678Z"
   },
   {
    "duration": 304,
    "start_time": "2022-07-04T00:44:24.404Z"
   },
   {
    "duration": 15,
    "start_time": "2022-07-04T00:44:25.407Z"
   },
   {
    "duration": 24,
    "start_time": "2022-07-04T00:44:28.579Z"
   },
   {
    "duration": 7,
    "start_time": "2022-07-04T00:44:32.480Z"
   },
   {
    "duration": 32,
    "start_time": "2022-07-04T00:44:33.740Z"
   },
   {
    "duration": 7,
    "start_time": "2022-07-04T00:44:36.471Z"
   },
   {
    "duration": 14,
    "start_time": "2022-07-04T00:44:38.650Z"
   },
   {
    "duration": 339,
    "start_time": "2022-07-04T00:44:39.315Z"
   },
   {
    "duration": 10,
    "start_time": "2022-07-04T00:44:40.219Z"
   },
   {
    "duration": 9,
    "start_time": "2022-07-04T00:44:41.020Z"
   },
   {
    "duration": 151,
    "start_time": "2022-07-04T00:44:42.878Z"
   },
   {
    "duration": 7,
    "start_time": "2022-07-04T00:44:44.099Z"
   },
   {
    "duration": 154,
    "start_time": "2022-07-04T00:44:45.271Z"
   },
   {
    "duration": 126,
    "start_time": "2022-07-04T00:44:46.382Z"
   },
   {
    "duration": 136,
    "start_time": "2022-07-04T00:44:48.951Z"
   },
   {
    "duration": 10,
    "start_time": "2022-07-04T00:49:39.765Z"
   },
   {
    "duration": 16,
    "start_time": "2022-07-04T00:58:45.426Z"
   },
   {
    "duration": 115,
    "start_time": "2022-07-04T01:04:56.884Z"
   },
   {
    "duration": 118,
    "start_time": "2022-07-04T01:05:01.324Z"
   },
   {
    "duration": 7,
    "start_time": "2022-07-04T01:07:45.826Z"
   },
   {
    "duration": 16,
    "start_time": "2022-07-04T01:12:28.617Z"
   },
   {
    "duration": 11,
    "start_time": "2022-07-04T01:17:59.289Z"
   },
   {
    "duration": 20,
    "start_time": "2022-07-04T01:19:06.379Z"
   },
   {
    "duration": 6,
    "start_time": "2022-07-04T01:20:07.930Z"
   },
   {
    "duration": 9,
    "start_time": "2022-07-04T01:21:29.424Z"
   },
   {
    "duration": 13,
    "start_time": "2022-07-04T01:21:53.636Z"
   },
   {
    "duration": 6,
    "start_time": "2022-07-04T01:23:39.294Z"
   },
   {
    "duration": 19,
    "start_time": "2022-07-04T01:24:21.274Z"
   },
   {
    "duration": 9,
    "start_time": "2022-07-04T02:03:35.646Z"
   },
   {
    "duration": 3,
    "start_time": "2022-07-04T02:03:36.188Z"
   },
   {
    "duration": 16,
    "start_time": "2022-07-04T02:03:40.651Z"
   },
   {
    "duration": 10,
    "start_time": "2022-07-04T02:03:42.172Z"
   },
   {
    "duration": 10,
    "start_time": "2022-07-04T02:04:16.551Z"
   },
   {
    "duration": 32,
    "start_time": "2022-07-04T02:04:17.147Z"
   },
   {
    "duration": 13,
    "start_time": "2022-07-04T02:04:18.197Z"
   },
   {
    "duration": 8,
    "start_time": "2022-07-04T02:12:39.581Z"
   },
   {
    "duration": 6,
    "start_time": "2022-07-04T02:12:40.175Z"
   },
   {
    "duration": 59,
    "start_time": "2022-07-04T02:13:26.732Z"
   },
   {
    "duration": 43,
    "start_time": "2022-07-04T02:14:56.740Z"
   },
   {
    "duration": 8,
    "start_time": "2022-07-04T02:15:46.434Z"
   },
   {
    "duration": 16,
    "start_time": "2022-07-04T02:15:54.263Z"
   },
   {
    "duration": 21,
    "start_time": "2022-07-04T02:20:02.643Z"
   },
   {
    "duration": 32,
    "start_time": "2022-07-04T02:20:03.235Z"
   },
   {
    "duration": 192,
    "start_time": "2022-07-04T02:20:05.927Z"
   },
   {
    "duration": 197,
    "start_time": "2022-07-04T02:24:35.485Z"
   },
   {
    "duration": 210,
    "start_time": "2022-07-04T02:24:41.770Z"
   },
   {
    "duration": 111,
    "start_time": "2022-07-04T02:39:33.479Z"
   },
   {
    "duration": 12,
    "start_time": "2022-07-04T02:50:32.598Z"
   },
   {
    "duration": 7,
    "start_time": "2022-07-04T02:50:37.679Z"
   },
   {
    "duration": 12,
    "start_time": "2022-07-04T02:50:39.674Z"
   },
   {
    "duration": 13,
    "start_time": "2022-07-04T02:52:28.972Z"
   },
   {
    "duration": 5,
    "start_time": "2022-07-04T02:52:50.002Z"
   },
   {
    "duration": 12,
    "start_time": "2022-07-04T02:53:00.183Z"
   },
   {
    "duration": 10,
    "start_time": "2022-07-04T02:53:00.577Z"
   },
   {
    "duration": 8,
    "start_time": "2022-07-04T02:53:01.004Z"
   },
   {
    "duration": 17,
    "start_time": "2022-07-04T02:53:06.296Z"
   },
   {
    "duration": 13,
    "start_time": "2022-07-04T02:53:19.704Z"
   },
   {
    "duration": 426,
    "start_time": "2022-07-04T02:57:03.280Z"
   },
   {
    "duration": 281,
    "start_time": "2022-07-04T02:58:57.247Z"
   },
   {
    "duration": 296,
    "start_time": "2022-07-04T03:04:03.595Z"
   },
   {
    "duration": 291,
    "start_time": "2022-07-04T03:04:14.087Z"
   },
   {
    "duration": 247,
    "start_time": "2022-07-04T03:05:06.701Z"
   },
   {
    "duration": 326,
    "start_time": "2022-07-04T03:06:06.347Z"
   },
   {
    "duration": 293,
    "start_time": "2022-07-04T03:06:12.022Z"
   },
   {
    "duration": 8,
    "start_time": "2022-07-04T03:19:46.809Z"
   },
   {
    "duration": 15,
    "start_time": "2022-07-04T03:19:47.183Z"
   },
   {
    "duration": 4,
    "start_time": "2022-07-04T03:19:47.882Z"
   },
   {
    "duration": 7,
    "start_time": "2022-07-04T03:19:50.002Z"
   },
   {
    "duration": 5,
    "start_time": "2022-07-04T03:19:51.027Z"
   },
   {
    "duration": 6,
    "start_time": "2022-07-04T03:22:15.177Z"
   },
   {
    "duration": 5,
    "start_time": "2022-07-04T03:22:16.940Z"
   },
   {
    "duration": 262,
    "start_time": "2022-07-04T03:22:16.946Z"
   },
   {
    "duration": 5,
    "start_time": "2022-07-04T03:22:23.096Z"
   },
   {
    "duration": 142,
    "start_time": "2022-07-04T03:22:33.434Z"
   },
   {
    "duration": 172,
    "start_time": "2022-07-04T03:35:12.070Z"
   },
   {
    "duration": 6,
    "start_time": "2022-07-04T03:37:00.894Z"
   },
   {
    "duration": 10,
    "start_time": "2022-07-04T03:37:16.381Z"
   },
   {
    "duration": 6,
    "start_time": "2022-07-04T03:41:56.081Z"
   },
   {
    "duration": 5,
    "start_time": "2022-07-04T03:41:57.434Z"
   },
   {
    "duration": 5,
    "start_time": "2022-07-04T03:42:52.892Z"
   },
   {
    "duration": 4,
    "start_time": "2022-07-04T03:43:20.623Z"
   },
   {
    "duration": 1243,
    "start_time": "2022-07-05T02:19:06.684Z"
   },
   {
    "duration": 68,
    "start_time": "2022-07-05T02:19:07.929Z"
   },
   {
    "duration": 28,
    "start_time": "2022-07-05T02:19:07.998Z"
   },
   {
    "duration": 3,
    "start_time": "2022-07-05T02:19:08.348Z"
   },
   {
    "duration": 5,
    "start_time": "2022-07-05T02:19:08.913Z"
   },
   {
    "duration": 5,
    "start_time": "2022-07-05T02:19:09.135Z"
   },
   {
    "duration": 5,
    "start_time": "2022-07-05T02:19:09.468Z"
   },
   {
    "duration": 13,
    "start_time": "2022-07-05T02:19:09.851Z"
   },
   {
    "duration": 12,
    "start_time": "2022-07-05T02:19:10.501Z"
   },
   {
    "duration": 4,
    "start_time": "2022-07-05T02:19:10.985Z"
   },
   {
    "duration": 9,
    "start_time": "2022-07-05T02:19:11.198Z"
   },
   {
    "duration": 4,
    "start_time": "2022-07-05T02:19:12.183Z"
   },
   {
    "duration": 4,
    "start_time": "2022-07-05T02:19:12.532Z"
   },
   {
    "duration": 13,
    "start_time": "2022-07-05T02:19:13.149Z"
   },
   {
    "duration": 3,
    "start_time": "2022-07-05T02:19:14.042Z"
   },
   {
    "duration": 4,
    "start_time": "2022-07-05T02:19:14.468Z"
   },
   {
    "duration": 6,
    "start_time": "2022-07-05T02:19:15.470Z"
   },
   {
    "duration": 6,
    "start_time": "2022-07-05T02:19:15.815Z"
   },
   {
    "duration": 10,
    "start_time": "2022-07-05T02:19:16.204Z"
   },
   {
    "duration": 5,
    "start_time": "2022-07-05T02:19:16.567Z"
   },
   {
    "duration": 14,
    "start_time": "2022-07-05T02:19:17.021Z"
   },
   {
    "duration": 14,
    "start_time": "2022-07-05T02:19:17.341Z"
   },
   {
    "duration": 7,
    "start_time": "2022-07-05T02:19:17.761Z"
   },
   {
    "duration": 4,
    "start_time": "2022-07-05T02:19:18.028Z"
   },
   {
    "duration": 4,
    "start_time": "2022-07-05T02:19:18.687Z"
   },
   {
    "duration": 9,
    "start_time": "2022-07-05T02:19:19.023Z"
   },
   {
    "duration": 21,
    "start_time": "2022-07-05T02:19:19.297Z"
   },
   {
    "duration": 238,
    "start_time": "2022-07-05T02:19:19.545Z"
   },
   {
    "duration": 11,
    "start_time": "2022-07-05T02:19:19.983Z"
   },
   {
    "duration": 14,
    "start_time": "2022-07-05T02:19:20.475Z"
   },
   {
    "duration": 7,
    "start_time": "2022-07-05T02:19:21.100Z"
   },
   {
    "duration": 23,
    "start_time": "2022-07-05T02:19:21.317Z"
   },
   {
    "duration": 6,
    "start_time": "2022-07-05T02:19:21.656Z"
   },
   {
    "duration": 11,
    "start_time": "2022-07-05T02:19:22.228Z"
   },
   {
    "duration": 301,
    "start_time": "2022-07-05T02:19:22.484Z"
   },
   {
    "duration": 20,
    "start_time": "2022-07-05T02:19:22.787Z"
   },
   {
    "duration": 11,
    "start_time": "2022-07-05T02:19:23.132Z"
   },
   {
    "duration": 11,
    "start_time": "2022-07-05T02:19:23.835Z"
   },
   {
    "duration": 7,
    "start_time": "2022-07-05T02:19:24.459Z"
   },
   {
    "duration": 6,
    "start_time": "2022-07-05T02:19:24.732Z"
   },
   {
    "duration": 133,
    "start_time": "2022-07-05T02:19:25.208Z"
   },
   {
    "duration": 6,
    "start_time": "2022-07-05T02:19:25.446Z"
   },
   {
    "duration": 16,
    "start_time": "2022-07-05T02:19:26.014Z"
   },
   {
    "duration": 118,
    "start_time": "2022-07-05T02:19:26.595Z"
   },
   {
    "duration": 7,
    "start_time": "2022-07-05T02:19:26.857Z"
   },
   {
    "duration": 15,
    "start_time": "2022-07-05T02:19:27.113Z"
   },
   {
    "duration": 113,
    "start_time": "2022-07-05T02:19:27.776Z"
   },
   {
    "duration": 6,
    "start_time": "2022-07-05T02:19:28.751Z"
   },
   {
    "duration": 14,
    "start_time": "2022-07-05T02:19:32.677Z"
   },
   {
    "duration": 116,
    "start_time": "2022-07-05T02:19:33.945Z"
   },
   {
    "duration": 6,
    "start_time": "2022-07-05T02:19:34.382Z"
   },
   {
    "duration": 14,
    "start_time": "2022-07-05T02:19:34.960Z"
   },
   {
    "duration": 6,
    "start_time": "2022-07-05T02:19:37.018Z"
   },
   {
    "duration": 3,
    "start_time": "2022-07-05T02:19:37.382Z"
   },
   {
    "duration": 7,
    "start_time": "2022-07-05T02:19:37.714Z"
   },
   {
    "duration": 5,
    "start_time": "2022-07-05T02:19:38.090Z"
   },
   {
    "duration": 372,
    "start_time": "2022-07-05T02:19:38.425Z"
   },
   {
    "duration": 7,
    "start_time": "2022-07-05T02:19:39.585Z"
   },
   {
    "duration": 8,
    "start_time": "2022-07-05T02:19:39.981Z"
   },
   {
    "duration": 8,
    "start_time": "2022-07-05T02:19:40.334Z"
   },
   {
    "duration": 14,
    "start_time": "2022-07-05T02:19:40.649Z"
   },
   {
    "duration": 20,
    "start_time": "2022-07-05T02:19:40.970Z"
   },
   {
    "duration": 178,
    "start_time": "2022-07-05T02:19:41.268Z"
   },
   {
    "duration": 5,
    "start_time": "2022-07-05T02:19:48.221Z"
   },
   {
    "duration": 96,
    "start_time": "2022-07-05T02:19:49.283Z"
   },
   {
    "duration": 10,
    "start_time": "2022-07-05T02:19:49.740Z"
   },
   {
    "duration": 8,
    "start_time": "2022-07-05T02:20:03.414Z"
   },
   {
    "duration": 8,
    "start_time": "2022-07-05T02:20:06.245Z"
   },
   {
    "duration": 13,
    "start_time": "2022-07-05T02:20:11.393Z"
   },
   {
    "duration": 16,
    "start_time": "2022-07-05T02:20:11.814Z"
   },
   {
    "duration": 14,
    "start_time": "2022-07-05T02:20:12.221Z"
   },
   {
    "duration": 230,
    "start_time": "2022-07-05T02:20:14.024Z"
   },
   {
    "duration": 214,
    "start_time": "2022-07-05T02:20:44.207Z"
   },
   {
    "duration": 14,
    "start_time": "2022-07-05T02:25:25.157Z"
   },
   {
    "duration": 7,
    "start_time": "2022-07-05T02:25:53.950Z"
   },
   {
    "duration": 8,
    "start_time": "2022-07-05T02:26:30.164Z"
   },
   {
    "duration": 4,
    "start_time": "2022-07-05T02:26:41.387Z"
   },
   {
    "duration": 257,
    "start_time": "2022-07-05T02:30:21.339Z"
   },
   {
    "duration": 310,
    "start_time": "2022-07-05T02:30:45.866Z"
   },
   {
    "duration": 258,
    "start_time": "2022-07-05T02:30:58.121Z"
   },
   {
    "duration": 8,
    "start_time": "2022-07-05T02:39:57.233Z"
   },
   {
    "duration": 16,
    "start_time": "2022-07-05T02:39:57.399Z"
   },
   {
    "duration": 9,
    "start_time": "2022-07-05T02:39:57.564Z"
   },
   {
    "duration": 8,
    "start_time": "2022-07-05T02:39:58.078Z"
   },
   {
    "duration": 8,
    "start_time": "2022-07-05T02:39:58.355Z"
   },
   {
    "duration": 16,
    "start_time": "2022-07-05T02:40:06.596Z"
   },
   {
    "duration": 7,
    "start_time": "2022-07-05T02:40:06.770Z"
   },
   {
    "duration": 2,
    "start_time": "2022-07-05T02:40:07.113Z"
   },
   {
    "duration": 8,
    "start_time": "2022-07-05T02:40:07.660Z"
   },
   {
    "duration": 10,
    "start_time": "2022-07-05T02:40:07.834Z"
   },
   {
    "duration": 118,
    "start_time": "2022-07-05T02:40:08.008Z"
   },
   {
    "duration": 18,
    "start_time": "2022-07-05T02:40:08.694Z"
   },
   {
    "duration": 113,
    "start_time": "2022-07-05T02:40:08.929Z"
   },
   {
    "duration": 8,
    "start_time": "2022-07-05T02:40:09.146Z"
   },
   {
    "duration": 5,
    "start_time": "2022-07-05T02:40:09.920Z"
   },
   {
    "duration": 5,
    "start_time": "2022-07-05T02:40:10.151Z"
   },
   {
    "duration": 4,
    "start_time": "2022-07-05T02:40:10.634Z"
   },
   {
    "duration": 5,
    "start_time": "2022-07-05T02:40:11.244Z"
   },
   {
    "duration": 4,
    "start_time": "2022-07-05T02:40:11.442Z"
   },
   {
    "duration": 4,
    "start_time": "2022-07-05T02:40:11.668Z"
   },
   {
    "duration": 8,
    "start_time": "2022-07-05T02:44:23.442Z"
   },
   {
    "duration": 9,
    "start_time": "2022-07-05T02:44:27.545Z"
   },
   {
    "duration": 11,
    "start_time": "2022-07-05T02:44:32.115Z"
   },
   {
    "duration": 5,
    "start_time": "2022-07-05T02:44:34.777Z"
   },
   {
    "duration": 5,
    "start_time": "2022-07-05T02:44:35.582Z"
   },
   {
    "duration": 7,
    "start_time": "2022-07-05T02:44:36.264Z"
   },
   {
    "duration": 6,
    "start_time": "2022-07-05T02:44:37.229Z"
   },
   {
    "duration": 7,
    "start_time": "2022-07-05T02:44:37.647Z"
   },
   {
    "duration": 7,
    "start_time": "2022-07-05T02:44:38.082Z"
   },
   {
    "duration": 470,
    "start_time": "2022-07-05T02:44:39.360Z"
   },
   {
    "duration": 9,
    "start_time": "2022-07-05T02:44:45.149Z"
   },
   {
    "duration": 8,
    "start_time": "2022-07-05T02:44:45.485Z"
   },
   {
    "duration": 4,
    "start_time": "2022-07-05T02:44:46.574Z"
   },
   {
    "duration": 6,
    "start_time": "2022-07-05T02:44:48.431Z"
   },
   {
    "duration": 10,
    "start_time": "2022-07-05T02:44:51.843Z"
   },
   {
    "duration": 7,
    "start_time": "2022-07-05T02:44:52.588Z"
   },
   {
    "duration": 9,
    "start_time": "2022-07-05T02:44:53.602Z"
   },
   {
    "duration": 9,
    "start_time": "2022-07-05T02:44:57.519Z"
   },
   {
    "duration": 7,
    "start_time": "2022-07-05T02:44:58.480Z"
   },
   {
    "duration": 4,
    "start_time": "2022-07-05T02:44:59.484Z"
   },
   {
    "duration": 8,
    "start_time": "2022-07-05T02:45:01.178Z"
   },
   {
    "duration": 599,
    "start_time": "2022-07-05T02:45:01.877Z"
   },
   {
    "duration": 7,
    "start_time": "2022-07-05T02:45:13.199Z"
   },
   {
    "duration": 806,
    "start_time": "2022-07-05T03:10:26.469Z"
   },
   {
    "duration": 826,
    "start_time": "2022-07-05T03:11:22.954Z"
   },
   {
    "duration": 22,
    "start_time": "2022-07-05T03:11:44.072Z"
   },
   {
    "duration": 4,
    "start_time": "2022-07-05T03:11:58.089Z"
   },
   {
    "duration": 7,
    "start_time": "2022-07-05T03:12:56.380Z"
   },
   {
    "duration": 8,
    "start_time": "2022-07-05T03:13:03.514Z"
   },
   {
    "duration": 4,
    "start_time": "2022-07-05T03:18:12.068Z"
   },
   {
    "duration": 23,
    "start_time": "2022-07-05T03:18:24.596Z"
   },
   {
    "duration": 4,
    "start_time": "2022-07-05T03:29:57.684Z"
   },
   {
    "duration": 4,
    "start_time": "2022-07-05T03:29:58.164Z"
   },
   {
    "duration": 4,
    "start_time": "2022-07-05T03:29:58.534Z"
   },
   {
    "duration": 4,
    "start_time": "2022-07-05T03:29:58.874Z"
   },
   {
    "duration": 4,
    "start_time": "2022-07-05T03:29:59.413Z"
   },
   {
    "duration": 4,
    "start_time": "2022-07-05T03:30:00.555Z"
   },
   {
    "duration": 692,
    "start_time": "2022-07-05T03:31:58.861Z"
   },
   {
    "duration": 166,
    "start_time": "2022-07-05T03:32:13.323Z"
   },
   {
    "duration": 10,
    "start_time": "2022-07-05T03:34:32.197Z"
   },
   {
    "duration": 18,
    "start_time": "2022-07-05T03:34:45.393Z"
   },
   {
    "duration": 4,
    "start_time": "2022-07-05T03:35:03.833Z"
   },
   {
    "duration": 4,
    "start_time": "2022-07-05T03:35:29.483Z"
   },
   {
    "duration": 28,
    "start_time": "2022-07-05T03:36:19.654Z"
   },
   {
    "duration": 29,
    "start_time": "2022-07-05T03:36:37.092Z"
   },
   {
    "duration": 5,
    "start_time": "2022-07-05T03:36:50.080Z"
   },
   {
    "duration": 4,
    "start_time": "2022-07-05T03:37:20.595Z"
   },
   {
    "duration": 6,
    "start_time": "2022-07-05T03:38:56.075Z"
   },
   {
    "duration": 4,
    "start_time": "2022-07-05T03:38:56.645Z"
   },
   {
    "duration": 4,
    "start_time": "2022-07-05T03:39:21.136Z"
   },
   {
    "duration": 4,
    "start_time": "2022-07-05T03:40:06.418Z"
   },
   {
    "duration": 5,
    "start_time": "2022-07-05T03:40:28.921Z"
   },
   {
    "duration": 4,
    "start_time": "2022-07-05T03:40:37.852Z"
   },
   {
    "duration": 5,
    "start_time": "2022-07-05T03:41:00.595Z"
   },
   {
    "duration": 7,
    "start_time": "2022-07-05T03:42:25.289Z"
   },
   {
    "duration": 5,
    "start_time": "2022-07-05T03:42:25.959Z"
   },
   {
    "duration": 5,
    "start_time": "2022-07-05T03:43:02.119Z"
   },
   {
    "duration": 4,
    "start_time": "2022-07-05T03:43:02.733Z"
   },
   {
    "duration": 5,
    "start_time": "2022-07-05T03:43:03.748Z"
   },
   {
    "duration": 1511,
    "start_time": "2022-07-05T17:50:46.021Z"
   },
   {
    "duration": 517,
    "start_time": "2022-07-05T17:50:47.534Z"
   },
   {
    "duration": 42,
    "start_time": "2022-07-05T17:50:48.053Z"
   },
   {
    "duration": 4,
    "start_time": "2022-07-05T17:50:48.098Z"
   },
   {
    "duration": 31,
    "start_time": "2022-07-05T17:50:48.105Z"
   },
   {
    "duration": 11,
    "start_time": "2022-07-05T17:50:48.396Z"
   },
   {
    "duration": 8,
    "start_time": "2022-07-05T17:50:50.575Z"
   },
   {
    "duration": 21,
    "start_time": "2022-07-05T17:50:51.090Z"
   },
   {
    "duration": 14,
    "start_time": "2022-07-05T17:50:51.953Z"
   },
   {
    "duration": 5,
    "start_time": "2022-07-05T17:50:52.962Z"
   },
   {
    "duration": 5,
    "start_time": "2022-07-05T17:50:53.422Z"
   },
   {
    "duration": 4,
    "start_time": "2022-07-05T17:50:54.196Z"
   },
   {
    "duration": 4,
    "start_time": "2022-07-05T17:50:54.622Z"
   },
   {
    "duration": 29,
    "start_time": "2022-07-05T17:50:55.092Z"
   },
   {
    "duration": 4,
    "start_time": "2022-07-05T17:50:55.852Z"
   },
   {
    "duration": 6,
    "start_time": "2022-07-05T17:50:56.650Z"
   },
   {
    "duration": 7,
    "start_time": "2022-07-05T17:50:57.370Z"
   },
   {
    "duration": 7,
    "start_time": "2022-07-05T17:50:57.833Z"
   },
   {
    "duration": 5,
    "start_time": "2022-07-05T17:50:58.441Z"
   },
   {
    "duration": 5,
    "start_time": "2022-07-05T17:50:59.035Z"
   },
   {
    "duration": 14,
    "start_time": "2022-07-05T17:50:59.425Z"
   },
   {
    "duration": 22,
    "start_time": "2022-07-05T17:50:59.908Z"
   },
   {
    "duration": 14,
    "start_time": "2022-07-05T17:51:00.370Z"
   },
   {
    "duration": 6,
    "start_time": "2022-07-05T17:51:00.844Z"
   },
   {
    "duration": 7,
    "start_time": "2022-07-05T17:51:01.630Z"
   },
   {
    "duration": 10,
    "start_time": "2022-07-05T17:51:02.040Z"
   },
   {
    "duration": 19,
    "start_time": "2022-07-05T17:51:02.525Z"
   },
   {
    "duration": 276,
    "start_time": "2022-07-05T17:51:02.995Z"
   },
   {
    "duration": 15,
    "start_time": "2022-07-05T17:51:04.030Z"
   },
   {
    "duration": 28,
    "start_time": "2022-07-05T17:51:05.010Z"
   },
   {
    "duration": 9,
    "start_time": "2022-07-05T17:51:05.815Z"
   },
   {
    "duration": 34,
    "start_time": "2022-07-05T17:51:06.321Z"
   },
   {
    "duration": 6,
    "start_time": "2022-07-05T17:51:06.942Z"
   },
   {
    "duration": 18,
    "start_time": "2022-07-05T17:51:07.565Z"
   },
   {
    "duration": 345,
    "start_time": "2022-07-05T17:51:08.023Z"
   },
   {
    "duration": 25,
    "start_time": "2022-07-05T17:51:08.493Z"
   },
   {
    "duration": 12,
    "start_time": "2022-07-05T17:51:09.279Z"
   },
   {
    "duration": 11,
    "start_time": "2022-07-05T17:51:09.832Z"
   },
   {
    "duration": 8,
    "start_time": "2022-07-05T17:51:10.742Z"
   },
   {
    "duration": 8,
    "start_time": "2022-07-05T17:51:11.188Z"
   },
   {
    "duration": 131,
    "start_time": "2022-07-05T17:51:12.132Z"
   },
   {
    "duration": 9,
    "start_time": "2022-07-05T17:51:41.228Z"
   },
   {
    "duration": 25,
    "start_time": "2022-07-05T17:51:42.771Z"
   },
   {
    "duration": 120,
    "start_time": "2022-07-05T17:51:43.736Z"
   },
   {
    "duration": 7,
    "start_time": "2022-07-05T17:51:44.193Z"
   },
   {
    "duration": 24,
    "start_time": "2022-07-05T17:51:44.641Z"
   },
   {
    "duration": 170,
    "start_time": "2022-07-05T17:51:45.591Z"
   },
   {
    "duration": 9,
    "start_time": "2022-07-05T17:51:45.929Z"
   },
   {
    "duration": 20,
    "start_time": "2022-07-05T17:51:58.591Z"
   },
   {
    "duration": 106,
    "start_time": "2022-07-05T17:51:59.320Z"
   },
   {
    "duration": 8,
    "start_time": "2022-07-05T17:51:59.665Z"
   },
   {
    "duration": 19,
    "start_time": "2022-07-05T17:52:00.022Z"
   },
   {
    "duration": 9,
    "start_time": "2022-07-05T17:52:01.841Z"
   },
   {
    "duration": 10,
    "start_time": "2022-07-05T17:52:02.324Z"
   },
   {
    "duration": 7,
    "start_time": "2022-07-05T17:52:02.783Z"
   },
   {
    "duration": 7,
    "start_time": "2022-07-05T17:52:03.228Z"
   },
   {
    "duration": 475,
    "start_time": "2022-07-05T17:52:03.628Z"
   },
   {
    "duration": 7,
    "start_time": "2022-07-05T17:52:04.866Z"
   },
   {
    "duration": 11,
    "start_time": "2022-07-05T17:52:05.246Z"
   },
   {
    "duration": 11,
    "start_time": "2022-07-05T17:52:05.698Z"
   },
   {
    "duration": 17,
    "start_time": "2022-07-05T17:52:06.161Z"
   },
   {
    "duration": 36,
    "start_time": "2022-07-05T17:52:06.602Z"
   },
   {
    "duration": 253,
    "start_time": "2022-07-05T17:52:07.058Z"
   },
   {
    "duration": 9,
    "start_time": "2022-07-05T17:52:08.587Z"
   },
   {
    "duration": 7,
    "start_time": "2022-07-05T17:52:09.389Z"
   },
   {
    "duration": 12,
    "start_time": "2022-07-05T17:52:09.824Z"
   },
   {
    "duration": 13,
    "start_time": "2022-07-05T17:52:10.252Z"
   },
   {
    "duration": 22,
    "start_time": "2022-07-05T17:52:10.694Z"
   },
   {
    "duration": 18,
    "start_time": "2022-07-05T17:52:11.046Z"
   },
   {
    "duration": 270,
    "start_time": "2022-07-05T17:52:11.496Z"
   },
   {
    "duration": 369,
    "start_time": "2022-07-05T17:52:12.693Z"
   },
   {
    "duration": 13,
    "start_time": "2022-07-05T17:52:13.809Z"
   },
   {
    "duration": 8,
    "start_time": "2022-07-05T17:52:14.184Z"
   },
   {
    "duration": 3,
    "start_time": "2022-07-05T17:52:15.174Z"
   },
   {
    "duration": 7,
    "start_time": "2022-07-05T17:52:16.856Z"
   },
   {
    "duration": 6,
    "start_time": "2022-07-05T17:52:17.757Z"
   },
   {
    "duration": 153,
    "start_time": "2022-07-05T17:52:18.398Z"
   },
   {
    "duration": 5,
    "start_time": "2022-07-05T17:52:19.734Z"
   },
   {
    "duration": 139,
    "start_time": "2022-07-05T17:52:20.213Z"
   },
   {
    "duration": 5,
    "start_time": "2022-07-05T17:52:20.793Z"
   },
   {
    "duration": 8,
    "start_time": "2022-07-05T17:52:22.129Z"
   },
   {
    "duration": 10,
    "start_time": "2022-07-05T17:52:22.603Z"
   },
   {
    "duration": 5,
    "start_time": "2022-07-05T17:52:23.472Z"
   },
   {
    "duration": 6,
    "start_time": "2022-07-05T17:52:24.626Z"
   },
   {
    "duration": 5,
    "start_time": "2022-07-05T17:52:24.944Z"
   },
   {
    "duration": 5,
    "start_time": "2022-07-05T17:52:25.347Z"
   },
   {
    "duration": 16,
    "start_time": "2022-07-05T17:52:27.509Z"
   },
   {
    "duration": 13,
    "start_time": "2022-07-05T17:52:27.875Z"
   },
   {
    "duration": 19,
    "start_time": "2022-07-05T17:52:28.217Z"
   },
   {
    "duration": 8,
    "start_time": "2022-07-05T17:52:29.332Z"
   },
   {
    "duration": 9,
    "start_time": "2022-07-05T17:52:29.727Z"
   },
   {
    "duration": 7,
    "start_time": "2022-07-05T17:52:30.100Z"
   },
   {
    "duration": 10,
    "start_time": "2022-07-05T17:52:30.771Z"
   },
   {
    "duration": 7,
    "start_time": "2022-07-05T17:52:31.094Z"
   },
   {
    "duration": 9,
    "start_time": "2022-07-05T17:52:31.430Z"
   },
   {
    "duration": 616,
    "start_time": "2022-07-05T17:52:32.462Z"
   },
   {
    "duration": 9,
    "start_time": "2022-07-05T17:53:14.386Z"
   },
   {
    "duration": 11,
    "start_time": "2022-07-05T17:53:14.737Z"
   },
   {
    "duration": 4,
    "start_time": "2022-07-05T17:53:15.162Z"
   },
   {
    "duration": 8,
    "start_time": "2022-07-05T17:53:15.550Z"
   },
   {
    "duration": 12,
    "start_time": "2022-07-05T17:53:15.932Z"
   },
   {
    "duration": 10,
    "start_time": "2022-07-05T17:53:16.463Z"
   },
   {
    "duration": 4,
    "start_time": "2022-07-05T17:53:16.950Z"
   },
   {
    "duration": 8,
    "start_time": "2022-07-05T17:53:17.646Z"
   },
   {
    "duration": 11,
    "start_time": "2022-07-05T17:53:18.332Z"
   },
   {
    "duration": 7,
    "start_time": "2022-07-05T17:53:18.821Z"
   },
   {
    "duration": 5,
    "start_time": "2022-07-05T17:53:19.558Z"
   },
   {
    "duration": 8,
    "start_time": "2022-07-05T17:53:20.629Z"
   },
   {
    "duration": 614,
    "start_time": "2022-07-05T17:53:21.779Z"
   },
   {
    "duration": 3,
    "start_time": "2022-07-06T02:17:27.830Z"
   },
   {
    "duration": 49,
    "start_time": "2022-07-06T02:17:28.146Z"
   },
   {
    "duration": 22,
    "start_time": "2022-07-06T02:17:28.426Z"
   },
   {
    "duration": 4,
    "start_time": "2022-07-06T02:17:29.762Z"
   },
   {
    "duration": 5,
    "start_time": "2022-07-06T02:17:30.280Z"
   },
   {
    "duration": 5,
    "start_time": "2022-07-06T02:17:30.465Z"
   },
   {
    "duration": 6,
    "start_time": "2022-07-06T02:17:30.721Z"
   },
   {
    "duration": 13,
    "start_time": "2022-07-06T02:17:30.908Z"
   },
   {
    "duration": 9,
    "start_time": "2022-07-06T02:17:31.291Z"
   },
   {
    "duration": 5,
    "start_time": "2022-07-06T02:17:31.595Z"
   },
   {
    "duration": 6,
    "start_time": "2022-07-06T02:17:31.773Z"
   },
   {
    "duration": 4,
    "start_time": "2022-07-06T02:17:32.158Z"
   },
   {
    "duration": 4,
    "start_time": "2022-07-06T02:17:32.373Z"
   },
   {
    "duration": 13,
    "start_time": "2022-07-06T02:17:32.571Z"
   },
   {
    "duration": 4,
    "start_time": "2022-07-06T02:17:32.953Z"
   },
   {
    "duration": 5,
    "start_time": "2022-07-06T02:17:33.137Z"
   },
   {
    "duration": 6,
    "start_time": "2022-07-06T02:17:33.537Z"
   },
   {
    "duration": 5,
    "start_time": "2022-07-06T02:17:33.732Z"
   },
   {
    "duration": 5,
    "start_time": "2022-07-06T02:17:33.912Z"
   },
   {
    "duration": 6,
    "start_time": "2022-07-06T02:17:34.142Z"
   },
   {
    "duration": 13,
    "start_time": "2022-07-06T02:17:34.329Z"
   },
   {
    "duration": 17,
    "start_time": "2022-07-06T02:17:34.585Z"
   },
   {
    "duration": 9,
    "start_time": "2022-07-06T02:17:34.848Z"
   },
   {
    "duration": 4,
    "start_time": "2022-07-06T02:17:35.036Z"
   },
   {
    "duration": 5,
    "start_time": "2022-07-06T02:17:35.412Z"
   },
   {
    "duration": 11,
    "start_time": "2022-07-06T02:17:35.592Z"
   },
   {
    "duration": 16,
    "start_time": "2022-07-06T02:17:35.776Z"
   },
   {
    "duration": 262,
    "start_time": "2022-07-06T02:17:35.973Z"
   },
   {
    "duration": 12,
    "start_time": "2022-07-06T02:17:36.389Z"
   },
   {
    "duration": 22,
    "start_time": "2022-07-06T02:17:36.799Z"
   },
   {
    "duration": 7,
    "start_time": "2022-07-06T02:17:37.195Z"
   },
   {
    "duration": 25,
    "start_time": "2022-07-06T02:17:37.380Z"
   },
   {
    "duration": 7,
    "start_time": "2022-07-06T02:17:37.570Z"
   },
   {
    "duration": 11,
    "start_time": "2022-07-06T02:17:37.755Z"
   },
   {
    "duration": 348,
    "start_time": "2022-07-06T02:17:37.942Z"
   },
   {
    "duration": 15,
    "start_time": "2022-07-06T02:17:38.292Z"
   },
   {
    "duration": 12,
    "start_time": "2022-07-06T02:17:38.749Z"
   },
   {
    "duration": 11,
    "start_time": "2022-07-06T02:17:39.108Z"
   },
   {
    "duration": 6,
    "start_time": "2022-07-06T02:17:39.728Z"
   },
   {
    "duration": 7,
    "start_time": "2022-07-06T02:17:39.981Z"
   },
   {
    "duration": 118,
    "start_time": "2022-07-06T02:17:40.469Z"
   },
   {
    "duration": 7,
    "start_time": "2022-07-06T02:17:40.654Z"
   },
   {
    "duration": 17,
    "start_time": "2022-07-06T02:17:41.058Z"
   },
   {
    "duration": 111,
    "start_time": "2022-07-06T02:17:41.485Z"
   },
   {
    "duration": 7,
    "start_time": "2022-07-06T02:17:41.734Z"
   },
   {
    "duration": 16,
    "start_time": "2022-07-06T02:17:41.924Z"
   },
   {
    "duration": 103,
    "start_time": "2022-07-06T02:17:42.349Z"
   },
   {
    "duration": 6,
    "start_time": "2022-07-06T02:17:42.608Z"
   },
   {
    "duration": 15,
    "start_time": "2022-07-06T02:17:43.008Z"
   },
   {
    "duration": 112,
    "start_time": "2022-07-06T02:17:43.440Z"
   },
   {
    "duration": 7,
    "start_time": "2022-07-06T02:17:43.653Z"
   },
   {
    "duration": 17,
    "start_time": "2022-07-06T02:17:43.844Z"
   },
   {
    "duration": 7,
    "start_time": "2022-07-06T02:17:45.131Z"
   },
   {
    "duration": 4,
    "start_time": "2022-07-06T02:17:45.418Z"
   },
   {
    "duration": 6,
    "start_time": "2022-07-06T02:17:45.655Z"
   },
   {
    "duration": 5,
    "start_time": "2022-07-06T02:17:45.903Z"
   },
   {
    "duration": 388,
    "start_time": "2022-07-06T02:17:46.141Z"
   },
   {
    "duration": 9,
    "start_time": "2022-07-06T02:17:46.834Z"
   },
   {
    "duration": 9,
    "start_time": "2022-07-06T02:17:47.087Z"
   },
   {
    "duration": 10,
    "start_time": "2022-07-06T02:17:47.332Z"
   },
   {
    "duration": 16,
    "start_time": "2022-07-06T02:17:47.587Z"
   },
   {
    "duration": 22,
    "start_time": "2022-07-06T02:17:47.820Z"
   },
   {
    "duration": 190,
    "start_time": "2022-07-06T02:17:48.081Z"
   },
   {
    "duration": 6,
    "start_time": "2022-07-06T02:17:49.124Z"
   },
   {
    "duration": 6,
    "start_time": "2022-07-06T02:17:49.624Z"
   },
   {
    "duration": 9,
    "start_time": "2022-07-06T02:17:49.843Z"
   },
   {
    "duration": 8,
    "start_time": "2022-07-06T02:17:50.185Z"
   },
   {
    "duration": 16,
    "start_time": "2022-07-06T02:17:50.467Z"
   },
   {
    "duration": 14,
    "start_time": "2022-07-06T02:17:50.739Z"
   },
   {
    "duration": 258,
    "start_time": "2022-07-06T02:17:50.992Z"
   },
   {
    "duration": 364,
    "start_time": "2022-07-06T02:17:51.804Z"
   },
   {
    "duration": 8,
    "start_time": "2022-07-06T02:30:05.179Z"
   },
   {
    "duration": 8,
    "start_time": "2022-07-06T02:30:05.549Z"
   },
   {
    "duration": 2,
    "start_time": "2022-07-06T02:30:06.153Z"
   },
   {
    "duration": 6,
    "start_time": "2022-07-06T02:30:13.586Z"
   },
   {
    "duration": 5,
    "start_time": "2022-07-06T02:30:13.872Z"
   },
   {
    "duration": 135,
    "start_time": "2022-07-06T02:30:14.232Z"
   },
   {
    "duration": 5,
    "start_time": "2022-07-06T02:30:15.137Z"
   },
   {
    "duration": 147,
    "start_time": "2022-07-06T02:30:15.775Z"
   },
   {
    "duration": 5,
    "start_time": "2022-07-06T02:30:16.569Z"
   },
   {
    "duration": 6,
    "start_time": "2022-07-06T02:30:19.214Z"
   },
   {
    "duration": 5,
    "start_time": "2022-07-06T02:30:19.660Z"
   },
   {
    "duration": 4,
    "start_time": "2022-07-06T02:30:20.351Z"
   },
   {
    "duration": 5,
    "start_time": "2022-07-06T02:30:21.162Z"
   },
   {
    "duration": 5,
    "start_time": "2022-07-06T02:30:21.439Z"
   },
   {
    "duration": 4,
    "start_time": "2022-07-06T02:30:21.811Z"
   },
   {
    "duration": 10,
    "start_time": "2022-07-06T02:30:24.446Z"
   },
   {
    "duration": 10,
    "start_time": "2022-07-06T02:30:25.011Z"
   },
   {
    "duration": 10,
    "start_time": "2022-07-06T02:30:29.711Z"
   },
   {
    "duration": 5,
    "start_time": "2022-07-06T02:30:30.663Z"
   },
   {
    "duration": 5,
    "start_time": "2022-07-06T02:30:31.182Z"
   },
   {
    "duration": 4,
    "start_time": "2022-07-06T02:30:31.591Z"
   },
   {
    "duration": 19,
    "start_time": "2022-07-06T02:30:32.397Z"
   },
   {
    "duration": 7,
    "start_time": "2022-07-06T02:30:32.751Z"
   },
   {
    "duration": 7,
    "start_time": "2022-07-06T02:30:33.111Z"
   },
   {
    "duration": 551,
    "start_time": "2022-07-06T02:30:33.886Z"
   },
   {
    "duration": 12,
    "start_time": "2022-07-06T03:19:34.667Z"
   },
   {
    "duration": 7,
    "start_time": "2022-07-06T03:19:34.891Z"
   },
   {
    "duration": 5,
    "start_time": "2022-07-06T03:19:35.082Z"
   },
   {
    "duration": 7,
    "start_time": "2022-07-06T03:19:35.513Z"
   },
   {
    "duration": 11,
    "start_time": "2022-07-06T03:19:35.880Z"
   },
   {
    "duration": 8,
    "start_time": "2022-07-06T03:19:36.358Z"
   },
   {
    "duration": 6,
    "start_time": "2022-07-06T03:19:36.758Z"
   },
   {
    "duration": 7,
    "start_time": "2022-07-06T03:19:37.135Z"
   },
   {
    "duration": 10,
    "start_time": "2022-07-06T03:19:37.538Z"
   },
   {
    "duration": 8,
    "start_time": "2022-07-06T03:19:37.972Z"
   },
   {
    "duration": 5,
    "start_time": "2022-07-06T03:19:38.394Z"
   },
   {
    "duration": 10,
    "start_time": "2022-07-06T03:19:38.763Z"
   },
   {
    "duration": 589,
    "start_time": "2022-07-06T03:19:39.229Z"
   },
   {
    "duration": 5,
    "start_time": "2022-07-06T03:29:00.890Z"
   },
   {
    "duration": 5,
    "start_time": "2022-07-06T03:29:01.483Z"
   },
   {
    "duration": 6,
    "start_time": "2022-07-06T03:29:01.790Z"
   },
   {
    "duration": 5,
    "start_time": "2022-07-06T03:29:02.168Z"
   },
   {
    "duration": 6,
    "start_time": "2022-07-06T03:29:02.534Z"
   },
   {
    "duration": 5,
    "start_time": "2022-07-06T03:29:03.026Z"
   },
   {
    "duration": 16,
    "start_time": "2022-07-06T03:39:51.153Z"
   },
   {
    "duration": 5,
    "start_time": "2022-07-06T03:40:37.228Z"
   },
   {
    "duration": 6,
    "start_time": "2022-07-06T03:40:37.765Z"
   },
   {
    "duration": 6,
    "start_time": "2022-07-06T03:40:38.547Z"
   },
   {
    "duration": 5,
    "start_time": "2022-07-06T03:40:39.282Z"
   },
   {
    "duration": 12,
    "start_time": "2022-07-06T03:40:40.025Z"
   },
   {
    "duration": 6,
    "start_time": "2022-07-06T03:40:40.578Z"
   },
   {
    "duration": 5,
    "start_time": "2022-07-06T03:40:57.553Z"
   },
   {
    "duration": 5,
    "start_time": "2022-07-06T03:40:58.103Z"
   },
   {
    "duration": 5,
    "start_time": "2022-07-06T03:40:58.440Z"
   },
   {
    "duration": 6,
    "start_time": "2022-07-06T03:40:58.753Z"
   },
   {
    "duration": 6,
    "start_time": "2022-07-06T03:40:59.006Z"
   },
   {
    "duration": 5,
    "start_time": "2022-07-06T03:40:59.436Z"
   },
   {
    "duration": 5,
    "start_time": "2022-07-06T03:40:59.877Z"
   },
   {
    "duration": 6,
    "start_time": "2022-07-06T03:41:40.922Z"
   },
   {
    "duration": 5,
    "start_time": "2022-07-06T03:41:41.761Z"
   },
   {
    "duration": 5,
    "start_time": "2022-07-06T03:41:42.163Z"
   },
   {
    "duration": 4,
    "start_time": "2022-07-06T03:41:42.523Z"
   },
   {
    "duration": 4,
    "start_time": "2022-07-06T03:41:42.859Z"
   },
   {
    "duration": 9,
    "start_time": "2022-07-06T03:42:08.988Z"
   },
   {
    "duration": 13,
    "start_time": "2022-07-06T03:42:31.970Z"
   },
   {
    "duration": 13,
    "start_time": "2022-07-06T03:44:17.512Z"
   },
   {
    "duration": 4,
    "start_time": "2022-07-06T03:44:49.919Z"
   },
   {
    "duration": 25,
    "start_time": "2022-07-06T03:45:06.494Z"
   },
   {
    "duration": 2,
    "start_time": "2022-07-06T03:45:27.281Z"
   },
   {
    "duration": 11,
    "start_time": "2022-07-06T03:45:48.872Z"
   },
   {
    "duration": 9,
    "start_time": "2022-07-06T03:46:10.632Z"
   },
   {
    "duration": 10,
    "start_time": "2022-07-06T03:46:17.042Z"
   },
   {
    "duration": 10,
    "start_time": "2022-07-06T03:46:36.905Z"
   },
   {
    "duration": 8,
    "start_time": "2022-07-06T03:46:56.161Z"
   },
   {
    "duration": 8,
    "start_time": "2022-07-06T03:49:31.793Z"
   },
   {
    "duration": 8,
    "start_time": "2022-07-06T03:49:55.086Z"
   },
   {
    "duration": 9,
    "start_time": "2022-07-06T03:50:41.912Z"
   },
   {
    "duration": 9,
    "start_time": "2022-07-06T03:50:53.127Z"
   },
   {
    "duration": 9,
    "start_time": "2022-07-06T03:51:22.835Z"
   },
   {
    "duration": 8,
    "start_time": "2022-07-06T03:51:31.087Z"
   },
   {
    "duration": 82,
    "start_time": "2022-07-06T03:54:01.266Z"
   },
   {
    "duration": 9,
    "start_time": "2022-07-06T03:54:07.319Z"
   },
   {
    "duration": 9,
    "start_time": "2022-07-06T03:54:52.618Z"
   },
   {
    "duration": 74,
    "start_time": "2022-07-06T03:56:18.266Z"
   },
   {
    "duration": 11,
    "start_time": "2022-07-06T03:56:31.642Z"
   },
   {
    "duration": 9,
    "start_time": "2022-07-06T04:06:37.421Z"
   },
   {
    "duration": 10,
    "start_time": "2022-07-06T04:07:10.077Z"
   },
   {
    "duration": 14,
    "start_time": "2022-07-06T04:09:15.594Z"
   },
   {
    "duration": 4,
    "start_time": "2022-07-06T04:09:29.804Z"
   },
   {
    "duration": 6,
    "start_time": "2022-07-06T04:09:40.492Z"
   },
   {
    "duration": 4,
    "start_time": "2022-07-06T04:10:45.223Z"
   },
   {
    "duration": 7,
    "start_time": "2022-07-06T04:11:00.746Z"
   },
   {
    "duration": 5,
    "start_time": "2022-07-06T04:11:21.404Z"
   },
   {
    "duration": 5,
    "start_time": "2022-07-06T04:11:31.782Z"
   },
   {
    "duration": 3,
    "start_time": "2022-07-06T17:44:33.190Z"
   },
   {
    "duration": 49,
    "start_time": "2022-07-06T17:44:35.397Z"
   },
   {
    "duration": 25,
    "start_time": "2022-07-06T17:44:35.845Z"
   },
   {
    "duration": 4,
    "start_time": "2022-07-06T17:44:37.417Z"
   },
   {
    "duration": 5,
    "start_time": "2022-07-06T17:44:38.585Z"
   },
   {
    "duration": 6,
    "start_time": "2022-07-06T17:44:39.143Z"
   },
   {
    "duration": 4,
    "start_time": "2022-07-06T17:44:39.772Z"
   },
   {
    "duration": 14,
    "start_time": "2022-07-06T17:44:40.363Z"
   },
   {
    "duration": 9,
    "start_time": "2022-07-06T17:44:41.743Z"
   },
   {
    "duration": 5,
    "start_time": "2022-07-06T17:44:42.528Z"
   },
   {
    "duration": 6,
    "start_time": "2022-07-06T17:44:43.654Z"
   },
   {
    "duration": 4,
    "start_time": "2022-07-06T17:44:44.493Z"
   },
   {
    "duration": 5,
    "start_time": "2022-07-06T17:44:45.536Z"
   },
   {
    "duration": 14,
    "start_time": "2022-07-06T17:44:45.981Z"
   },
   {
    "duration": 5,
    "start_time": "2022-07-06T17:44:46.807Z"
   },
   {
    "duration": 5,
    "start_time": "2022-07-06T17:44:47.597Z"
   },
   {
    "duration": 6,
    "start_time": "2022-07-06T17:44:48.227Z"
   },
   {
    "duration": 5,
    "start_time": "2022-07-06T17:44:48.592Z"
   },
   {
    "duration": 4,
    "start_time": "2022-07-06T17:44:48.989Z"
   },
   {
    "duration": 6,
    "start_time": "2022-07-06T17:44:49.345Z"
   },
   {
    "duration": 16,
    "start_time": "2022-07-06T17:44:49.727Z"
   },
   {
    "duration": 14,
    "start_time": "2022-07-06T17:44:50.084Z"
   },
   {
    "duration": 12,
    "start_time": "2022-07-06T17:44:52.659Z"
   },
   {
    "duration": 5,
    "start_time": "2022-07-06T17:44:53.013Z"
   },
   {
    "duration": 6,
    "start_time": "2022-07-06T17:44:53.764Z"
   },
   {
    "duration": 9,
    "start_time": "2022-07-06T17:44:54.123Z"
   },
   {
    "duration": 15,
    "start_time": "2022-07-06T17:44:54.478Z"
   },
   {
    "duration": 267,
    "start_time": "2022-07-06T17:44:54.868Z"
   },
   {
    "duration": 12,
    "start_time": "2022-07-06T17:44:55.625Z"
   },
   {
    "duration": 18,
    "start_time": "2022-07-06T17:44:56.257Z"
   },
   {
    "duration": 8,
    "start_time": "2022-07-06T17:44:57.017Z"
   },
   {
    "duration": 25,
    "start_time": "2022-07-06T17:44:57.516Z"
   },
   {
    "duration": 13,
    "start_time": "2022-07-06T17:44:57.900Z"
   },
   {
    "duration": 10,
    "start_time": "2022-07-06T17:44:58.273Z"
   },
   {
    "duration": 321,
    "start_time": "2022-07-06T17:44:59.996Z"
   },
   {
    "duration": 11,
    "start_time": "2022-07-06T17:45:00.472Z"
   },
   {
    "duration": 10,
    "start_time": "2022-07-06T17:45:01.183Z"
   },
   {
    "duration": 11,
    "start_time": "2022-07-06T17:45:01.527Z"
   },
   {
    "duration": 7,
    "start_time": "2022-07-06T17:45:02.426Z"
   },
   {
    "duration": 6,
    "start_time": "2022-07-06T17:45:02.916Z"
   },
   {
    "duration": 140,
    "start_time": "2022-07-06T17:45:03.892Z"
   },
   {
    "duration": 7,
    "start_time": "2022-07-06T17:45:04.368Z"
   },
   {
    "duration": 22,
    "start_time": "2022-07-06T17:45:05.169Z"
   },
   {
    "duration": 112,
    "start_time": "2022-07-06T17:45:05.976Z"
   },
   {
    "duration": 9,
    "start_time": "2022-07-06T17:45:06.342Z"
   },
   {
    "duration": 23,
    "start_time": "2022-07-06T17:45:06.839Z"
   },
   {
    "duration": 126,
    "start_time": "2022-07-06T17:45:07.684Z"
   },
   {
    "duration": 7,
    "start_time": "2022-07-06T17:45:08.243Z"
   },
   {
    "duration": 19,
    "start_time": "2022-07-06T17:45:09.208Z"
   },
   {
    "duration": 102,
    "start_time": "2022-07-06T17:45:10.166Z"
   },
   {
    "duration": 6,
    "start_time": "2022-07-06T17:45:10.560Z"
   },
   {
    "duration": 17,
    "start_time": "2022-07-06T17:45:11.057Z"
   },
   {
    "duration": 7,
    "start_time": "2022-07-06T17:45:14.352Z"
   },
   {
    "duration": 4,
    "start_time": "2022-07-06T17:45:14.840Z"
   },
   {
    "duration": 6,
    "start_time": "2022-07-06T17:45:15.235Z"
   },
   {
    "duration": 6,
    "start_time": "2022-07-06T17:45:15.744Z"
   },
   {
    "duration": 404,
    "start_time": "2022-07-06T17:45:16.133Z"
   },
   {
    "duration": 10,
    "start_time": "2022-07-06T17:45:17.509Z"
   },
   {
    "duration": 11,
    "start_time": "2022-07-06T17:45:17.967Z"
   },
   {
    "duration": 13,
    "start_time": "2022-07-06T17:45:18.349Z"
   },
   {
    "duration": 15,
    "start_time": "2022-07-06T17:45:18.728Z"
   },
   {
    "duration": 24,
    "start_time": "2022-07-06T17:45:19.099Z"
   },
   {
    "duration": 205,
    "start_time": "2022-07-06T17:45:19.466Z"
   },
   {
    "duration": 6,
    "start_time": "2022-07-06T17:45:21.191Z"
   },
   {
    "duration": 6,
    "start_time": "2022-07-06T17:45:28.680Z"
   },
   {
    "duration": 10,
    "start_time": "2022-07-06T17:45:29.314Z"
   },
   {
    "duration": 8,
    "start_time": "2022-07-06T17:45:29.727Z"
   },
   {
    "duration": 14,
    "start_time": "2022-07-06T17:45:30.281Z"
   },
   {
    "duration": 15,
    "start_time": "2022-07-06T17:45:30.715Z"
   },
   {
    "duration": 258,
    "start_time": "2022-07-06T17:45:31.117Z"
   },
   {
    "duration": 374,
    "start_time": "2022-07-06T17:45:32.188Z"
   },
   {
    "duration": 8,
    "start_time": "2022-07-06T17:45:33.440Z"
   },
   {
    "duration": 15,
    "start_time": "2022-07-06T17:45:33.897Z"
   },
   {
    "duration": 8,
    "start_time": "2022-07-06T17:45:35.617Z"
   },
   {
    "duration": 7,
    "start_time": "2022-07-06T17:45:36.034Z"
   },
   {
    "duration": 140,
    "start_time": "2022-07-06T17:45:36.488Z"
   },
   {
    "duration": 6,
    "start_time": "2022-07-06T17:45:37.326Z"
   },
   {
    "duration": 158,
    "start_time": "2022-07-06T17:45:37.687Z"
   },
   {
    "duration": 4,
    "start_time": "2022-07-06T17:45:38.124Z"
   },
   {
    "duration": 9,
    "start_time": "2022-07-06T17:45:39.404Z"
   },
   {
    "duration": 6,
    "start_time": "2022-07-06T17:45:39.836Z"
   },
   {
    "duration": 4,
    "start_time": "2022-07-06T17:45:40.671Z"
   },
   {
    "duration": 6,
    "start_time": "2022-07-06T17:45:41.890Z"
   },
   {
    "duration": 5,
    "start_time": "2022-07-06T17:45:42.318Z"
   },
   {
    "duration": 5,
    "start_time": "2022-07-06T17:45:42.756Z"
   },
   {
    "duration": 10,
    "start_time": "2022-07-06T17:45:45.169Z"
   },
   {
    "duration": 14,
    "start_time": "2022-07-06T17:45:45.590Z"
   },
   {
    "duration": 11,
    "start_time": "2022-07-06T17:45:46.163Z"
   },
   {
    "duration": 4,
    "start_time": "2022-07-06T17:45:47.676Z"
   },
   {
    "duration": 6,
    "start_time": "2022-07-06T17:45:48.296Z"
   },
   {
    "duration": 5,
    "start_time": "2022-07-06T17:45:48.752Z"
   },
   {
    "duration": 8,
    "start_time": "2022-07-06T17:45:49.525Z"
   },
   {
    "duration": 8,
    "start_time": "2022-07-06T17:45:49.943Z"
   },
   {
    "duration": 7,
    "start_time": "2022-07-06T17:45:50.392Z"
   },
   {
    "duration": 525,
    "start_time": "2022-07-06T17:45:51.234Z"
   },
   {
    "duration": 11,
    "start_time": "2022-07-06T17:45:53.227Z"
   },
   {
    "duration": 8,
    "start_time": "2022-07-06T17:45:53.591Z"
   },
   {
    "duration": 5,
    "start_time": "2022-07-06T17:45:55.122Z"
   },
   {
    "duration": 7,
    "start_time": "2022-07-06T17:45:55.642Z"
   },
   {
    "duration": 12,
    "start_time": "2022-07-06T17:45:56.058Z"
   },
   {
    "duration": 10,
    "start_time": "2022-07-06T17:45:56.398Z"
   },
   {
    "duration": 6,
    "start_time": "2022-07-06T17:46:17.724Z"
   },
   {
    "duration": 7,
    "start_time": "2022-07-06T17:46:18.714Z"
   },
   {
    "duration": 9,
    "start_time": "2022-07-06T17:46:19.548Z"
   },
   {
    "duration": 8,
    "start_time": "2022-07-06T17:46:25.389Z"
   },
   {
    "duration": 9,
    "start_time": "2022-07-06T17:46:32.606Z"
   },
   {
    "duration": 7,
    "start_time": "2022-07-06T17:46:33.186Z"
   },
   {
    "duration": 585,
    "start_time": "2022-07-06T17:46:33.723Z"
   },
   {
    "duration": 5,
    "start_time": "2022-07-06T17:46:45.596Z"
   },
   {
    "duration": 5,
    "start_time": "2022-07-06T17:46:46.924Z"
   },
   {
    "duration": 6,
    "start_time": "2022-07-06T17:46:47.618Z"
   },
   {
    "duration": 5,
    "start_time": "2022-07-06T17:46:48.288Z"
   },
   {
    "duration": 7,
    "start_time": "2022-07-06T17:46:49.117Z"
   },
   {
    "duration": 4,
    "start_time": "2022-07-06T17:47:06.153Z"
   },
   {
    "duration": 15,
    "start_time": "2022-07-06T17:47:06.911Z"
   },
   {
    "duration": 96,
    "start_time": "2022-07-06T18:07:36.813Z"
   },
   {
    "duration": 11,
    "start_time": "2022-07-06T18:07:37.229Z"
   },
   {
    "duration": 10,
    "start_time": "2022-07-06T18:07:37.650Z"
   },
   {
    "duration": 8,
    "start_time": "2022-07-06T18:07:38.104Z"
   },
   {
    "duration": 9,
    "start_time": "2022-07-06T18:07:38.652Z"
   },
   {
    "duration": 7,
    "start_time": "2022-07-06T18:07:55.566Z"
   },
   {
    "duration": 6,
    "start_time": "2022-07-06T18:07:55.956Z"
   },
   {
    "duration": 3,
    "start_time": "2022-07-06T18:07:56.370Z"
   },
   {
    "duration": 3,
    "start_time": "2022-07-06T18:07:56.825Z"
   },
   {
    "duration": 5,
    "start_time": "2022-07-06T18:07:57.643Z"
   },
   {
    "duration": 5,
    "start_time": "2022-07-06T18:08:06.655Z"
   },
   {
    "duration": 5,
    "start_time": "2022-07-06T18:19:43.427Z"
   },
   {
    "duration": 6,
    "start_time": "2022-07-06T18:21:13.919Z"
   },
   {
    "duration": 6,
    "start_time": "2022-07-06T18:21:15.018Z"
   },
   {
    "duration": 6,
    "start_time": "2022-07-06T18:21:16.183Z"
   },
   {
    "duration": 1148,
    "start_time": "2022-07-07T06:33:24.661Z"
   },
   {
    "duration": 75,
    "start_time": "2022-07-07T06:33:25.810Z"
   },
   {
    "duration": 23,
    "start_time": "2022-07-07T06:33:25.886Z"
   },
   {
    "duration": 3,
    "start_time": "2022-07-07T06:33:25.911Z"
   },
   {
    "duration": 11,
    "start_time": "2022-07-07T06:33:25.916Z"
   },
   {
    "duration": 10,
    "start_time": "2022-07-07T06:33:25.928Z"
   },
   {
    "duration": 11,
    "start_time": "2022-07-07T06:33:25.939Z"
   },
   {
    "duration": 17,
    "start_time": "2022-07-07T06:33:25.952Z"
   },
   {
    "duration": 9,
    "start_time": "2022-07-07T06:33:25.971Z"
   },
   {
    "duration": 8,
    "start_time": "2022-07-07T06:33:25.982Z"
   },
   {
    "duration": 9,
    "start_time": "2022-07-07T06:33:25.991Z"
   },
   {
    "duration": 7,
    "start_time": "2022-07-07T06:33:26.001Z"
   },
   {
    "duration": 6,
    "start_time": "2022-07-07T06:33:26.009Z"
   },
   {
    "duration": 18,
    "start_time": "2022-07-07T06:33:26.016Z"
   },
   {
    "duration": 28,
    "start_time": "2022-07-07T06:33:26.035Z"
   },
   {
    "duration": 4,
    "start_time": "2022-07-07T06:33:26.065Z"
   },
   {
    "duration": 12,
    "start_time": "2022-07-07T06:33:26.070Z"
   },
   {
    "duration": 7,
    "start_time": "2022-07-07T06:33:26.083Z"
   },
   {
    "duration": 7,
    "start_time": "2022-07-07T06:33:26.091Z"
   },
   {
    "duration": 11,
    "start_time": "2022-07-07T06:33:26.100Z"
   },
   {
    "duration": 14,
    "start_time": "2022-07-07T06:33:26.112Z"
   },
   {
    "duration": 14,
    "start_time": "2022-07-07T06:33:26.128Z"
   },
   {
    "duration": 24,
    "start_time": "2022-07-07T06:33:26.144Z"
   },
   {
    "duration": 4,
    "start_time": "2022-07-07T06:33:26.170Z"
   },
   {
    "duration": 6,
    "start_time": "2022-07-07T06:33:26.175Z"
   },
   {
    "duration": 10,
    "start_time": "2022-07-07T06:33:26.182Z"
   },
   {
    "duration": 14,
    "start_time": "2022-07-07T06:33:26.194Z"
   },
   {
    "duration": 257,
    "start_time": "2022-07-07T06:33:26.212Z"
   },
   {
    "duration": 9,
    "start_time": "2022-07-07T06:33:26.471Z"
   },
   {
    "duration": 14,
    "start_time": "2022-07-07T06:33:26.482Z"
   },
   {
    "duration": 6,
    "start_time": "2022-07-07T06:33:26.497Z"
   },
   {
    "duration": 22,
    "start_time": "2022-07-07T06:33:26.504Z"
   },
   {
    "duration": 5,
    "start_time": "2022-07-07T06:33:26.527Z"
   },
   {
    "duration": 37,
    "start_time": "2022-07-07T06:33:26.534Z"
   },
   {
    "duration": 316,
    "start_time": "2022-07-07T06:33:26.573Z"
   },
   {
    "duration": 10,
    "start_time": "2022-07-07T06:33:26.891Z"
   },
   {
    "duration": 9,
    "start_time": "2022-07-07T06:33:26.903Z"
   },
   {
    "duration": 10,
    "start_time": "2022-07-07T06:33:26.914Z"
   },
   {
    "duration": 5,
    "start_time": "2022-07-07T06:33:26.925Z"
   },
   {
    "duration": 33,
    "start_time": "2022-07-07T06:33:26.931Z"
   },
   {
    "duration": 110,
    "start_time": "2022-07-07T06:33:26.966Z"
   },
   {
    "duration": 7,
    "start_time": "2022-07-07T06:33:27.077Z"
   },
   {
    "duration": 23,
    "start_time": "2022-07-07T06:33:27.085Z"
   },
   {
    "duration": 109,
    "start_time": "2022-07-07T06:33:27.109Z"
   },
   {
    "duration": 6,
    "start_time": "2022-07-07T06:33:27.220Z"
   },
   {
    "duration": 14,
    "start_time": "2022-07-07T06:33:27.228Z"
   },
   {
    "duration": 105,
    "start_time": "2022-07-07T06:33:27.263Z"
   },
   {
    "duration": 6,
    "start_time": "2022-07-07T06:33:27.369Z"
   },
   {
    "duration": 14,
    "start_time": "2022-07-07T06:33:27.377Z"
   },
   {
    "duration": 117,
    "start_time": "2022-07-07T06:33:27.393Z"
   },
   {
    "duration": 6,
    "start_time": "2022-07-07T06:33:27.512Z"
   },
   {
    "duration": 15,
    "start_time": "2022-07-07T06:33:27.520Z"
   },
   {
    "duration": 6,
    "start_time": "2022-07-07T06:33:27.537Z"
   },
   {
    "duration": 20,
    "start_time": "2022-07-07T06:33:27.544Z"
   },
   {
    "duration": 10,
    "start_time": "2022-07-07T06:33:27.565Z"
   },
   {
    "duration": 9,
    "start_time": "2022-07-07T06:33:27.576Z"
   },
   {
    "duration": 345,
    "start_time": "2022-07-07T06:33:27.587Z"
   },
   {
    "duration": 7,
    "start_time": "2022-07-07T06:33:27.934Z"
   },
   {
    "duration": 22,
    "start_time": "2022-07-07T06:33:27.942Z"
   },
   {
    "duration": 10,
    "start_time": "2022-07-07T06:33:27.966Z"
   },
   {
    "duration": 15,
    "start_time": "2022-07-07T06:33:27.977Z"
   },
   {
    "duration": 20,
    "start_time": "2022-07-07T06:33:27.994Z"
   },
   {
    "duration": 196,
    "start_time": "2022-07-07T06:33:28.016Z"
   },
   {
    "duration": 6,
    "start_time": "2022-07-07T06:33:28.213Z"
   },
   {
    "duration": 8,
    "start_time": "2022-07-07T06:33:28.220Z"
   },
   {
    "duration": 10,
    "start_time": "2022-07-07T06:33:28.230Z"
   },
   {
    "duration": 25,
    "start_time": "2022-07-07T06:33:28.242Z"
   },
   {
    "duration": 15,
    "start_time": "2022-07-07T06:33:28.269Z"
   },
   {
    "duration": 12,
    "start_time": "2022-07-07T06:33:28.285Z"
   },
   {
    "duration": 256,
    "start_time": "2022-07-07T06:33:28.299Z"
   },
   {
    "duration": 358,
    "start_time": "2022-07-07T06:33:28.557Z"
   },
   {
    "duration": 7,
    "start_time": "2022-07-07T06:33:28.916Z"
   },
   {
    "duration": 21,
    "start_time": "2022-07-07T06:33:28.925Z"
   },
   {
    "duration": 8,
    "start_time": "2022-07-07T06:33:28.948Z"
   },
   {
    "duration": 5,
    "start_time": "2022-07-07T06:33:28.957Z"
   },
   {
    "duration": 114,
    "start_time": "2022-07-07T06:33:28.964Z"
   },
   {
    "duration": 4,
    "start_time": "2022-07-07T06:33:29.080Z"
   },
   {
    "duration": 132,
    "start_time": "2022-07-07T06:33:29.085Z"
   },
   {
    "duration": 3,
    "start_time": "2022-07-07T06:33:29.219Z"
   },
   {
    "duration": 9,
    "start_time": "2022-07-07T06:33:29.224Z"
   },
   {
    "duration": 7,
    "start_time": "2022-07-07T06:33:29.235Z"
   },
   {
    "duration": 4,
    "start_time": "2022-07-07T06:33:29.263Z"
   },
   {
    "duration": 7,
    "start_time": "2022-07-07T06:33:29.269Z"
   },
   {
    "duration": 6,
    "start_time": "2022-07-07T06:33:29.277Z"
   },
   {
    "duration": 8,
    "start_time": "2022-07-07T06:33:29.284Z"
   },
   {
    "duration": 13,
    "start_time": "2022-07-07T06:33:29.293Z"
   },
   {
    "duration": 7,
    "start_time": "2022-07-07T06:33:29.308Z"
   },
   {
    "duration": 7,
    "start_time": "2022-07-07T06:33:29.316Z"
   },
   {
    "duration": 11,
    "start_time": "2022-07-07T06:33:29.324Z"
   },
   {
    "duration": 27,
    "start_time": "2022-07-07T06:33:29.337Z"
   },
   {
    "duration": 11,
    "start_time": "2022-07-07T06:33:29.365Z"
   },
   {
    "duration": 10,
    "start_time": "2022-07-07T06:33:29.378Z"
   },
   {
    "duration": 12,
    "start_time": "2022-07-07T06:33:29.390Z"
   },
   {
    "duration": 7,
    "start_time": "2022-07-07T06:33:29.403Z"
   },
   {
    "duration": 12,
    "start_time": "2022-07-07T06:33:29.411Z"
   },
   {
    "duration": 9,
    "start_time": "2022-07-07T06:33:29.425Z"
   },
   {
    "duration": 11,
    "start_time": "2022-07-07T06:33:29.435Z"
   },
   {
    "duration": 491,
    "start_time": "2022-07-07T06:33:29.447Z"
   },
   {
    "duration": 9,
    "start_time": "2022-07-07T06:33:29.940Z"
   },
   {
    "duration": 20,
    "start_time": "2022-07-07T06:33:29.951Z"
   },
   {
    "duration": 7,
    "start_time": "2022-07-07T06:33:29.973Z"
   },
   {
    "duration": 10,
    "start_time": "2022-07-07T06:33:29.981Z"
   },
   {
    "duration": 10,
    "start_time": "2022-07-07T06:33:29.993Z"
   },
   {
    "duration": 7,
    "start_time": "2022-07-07T06:33:30.005Z"
   },
   {
    "duration": 7,
    "start_time": "2022-07-07T06:33:30.013Z"
   },
   {
    "duration": 10,
    "start_time": "2022-07-07T06:33:30.022Z"
   },
   {
    "duration": 29,
    "start_time": "2022-07-07T06:33:30.034Z"
   },
   {
    "duration": 7,
    "start_time": "2022-07-07T06:33:30.065Z"
   },
   {
    "duration": 12,
    "start_time": "2022-07-07T06:33:30.074Z"
   },
   {
    "duration": 17,
    "start_time": "2022-07-07T06:33:30.087Z"
   },
   {
    "duration": 534,
    "start_time": "2022-07-07T06:33:30.106Z"
   },
   {
    "duration": 5,
    "start_time": "2022-07-07T06:33:30.642Z"
   },
   {
    "duration": 31,
    "start_time": "2022-07-07T06:33:30.649Z"
   },
   {
    "duration": 30,
    "start_time": "2022-07-07T06:33:30.682Z"
   },
   {
    "duration": 17,
    "start_time": "2022-07-07T06:33:30.714Z"
   },
   {
    "duration": 16,
    "start_time": "2022-07-07T06:33:30.733Z"
   },
   {
    "duration": 21,
    "start_time": "2022-07-07T06:33:30.751Z"
   },
   {
    "duration": 11,
    "start_time": "2022-07-07T06:33:30.774Z"
   },
   {
    "duration": 132,
    "start_time": "2022-07-07T06:33:30.787Z"
   },
   {
    "duration": 0,
    "start_time": "2022-07-07T06:33:30.921Z"
   },
   {
    "duration": 0,
    "start_time": "2022-07-07T06:33:30.922Z"
   },
   {
    "duration": 0,
    "start_time": "2022-07-07T06:33:30.923Z"
   },
   {
    "duration": 0,
    "start_time": "2022-07-07T06:33:30.925Z"
   },
   {
    "duration": 0,
    "start_time": "2022-07-07T06:33:30.925Z"
   },
   {
    "duration": 0,
    "start_time": "2022-07-07T06:33:30.927Z"
   },
   {
    "duration": 0,
    "start_time": "2022-07-07T06:33:30.928Z"
   },
   {
    "duration": 0,
    "start_time": "2022-07-07T06:33:30.929Z"
   },
   {
    "duration": 0,
    "start_time": "2022-07-07T06:33:30.929Z"
   },
   {
    "duration": 0,
    "start_time": "2022-07-07T06:33:30.930Z"
   },
   {
    "duration": 0,
    "start_time": "2022-07-07T06:33:30.932Z"
   },
   {
    "duration": 1,
    "start_time": "2022-07-07T06:33:30.932Z"
   },
   {
    "duration": 4,
    "start_time": "2022-07-07T07:27:46.106Z"
   },
   {
    "duration": 44,
    "start_time": "2022-07-07T07:27:46.116Z"
   },
   {
    "duration": 30,
    "start_time": "2022-07-07T07:27:46.162Z"
   },
   {
    "duration": 9,
    "start_time": "2022-07-07T07:27:46.194Z"
   },
   {
    "duration": 7,
    "start_time": "2022-07-07T07:27:46.206Z"
   },
   {
    "duration": 8,
    "start_time": "2022-07-07T07:27:46.215Z"
   },
   {
    "duration": 9,
    "start_time": "2022-07-07T07:27:46.225Z"
   },
   {
    "duration": 40,
    "start_time": "2022-07-07T07:27:46.236Z"
   },
   {
    "duration": 18,
    "start_time": "2022-07-07T07:27:46.278Z"
   },
   {
    "duration": 8,
    "start_time": "2022-07-07T07:27:46.300Z"
   },
   {
    "duration": 8,
    "start_time": "2022-07-07T07:27:46.310Z"
   },
   {
    "duration": 6,
    "start_time": "2022-07-07T07:27:46.319Z"
   },
   {
    "duration": 9,
    "start_time": "2022-07-07T07:27:46.327Z"
   },
   {
    "duration": 44,
    "start_time": "2022-07-07T07:27:46.338Z"
   },
   {
    "duration": 18,
    "start_time": "2022-07-07T07:27:46.383Z"
   },
   {
    "duration": 6,
    "start_time": "2022-07-07T07:27:46.403Z"
   },
   {
    "duration": 9,
    "start_time": "2022-07-07T07:27:46.410Z"
   },
   {
    "duration": 14,
    "start_time": "2022-07-07T07:27:46.420Z"
   },
   {
    "duration": 6,
    "start_time": "2022-07-07T07:27:46.436Z"
   },
   {
    "duration": 10,
    "start_time": "2022-07-07T07:27:46.444Z"
   },
   {
    "duration": 25,
    "start_time": "2022-07-07T07:27:46.456Z"
   },
   {
    "duration": 32,
    "start_time": "2022-07-07T07:27:46.482Z"
   },
   {
    "duration": 10,
    "start_time": "2022-07-07T07:27:46.518Z"
   },
   {
    "duration": 5,
    "start_time": "2022-07-07T07:27:46.530Z"
   },
   {
    "duration": 12,
    "start_time": "2022-07-07T07:27:46.537Z"
   },
   {
    "duration": 20,
    "start_time": "2022-07-07T07:27:46.551Z"
   },
   {
    "duration": 41,
    "start_time": "2022-07-07T07:27:46.572Z"
   },
   {
    "duration": 277,
    "start_time": "2022-07-07T07:27:46.615Z"
   },
   {
    "duration": 14,
    "start_time": "2022-07-07T07:27:46.894Z"
   },
   {
    "duration": 15,
    "start_time": "2022-07-07T07:27:46.910Z"
   },
   {
    "duration": 7,
    "start_time": "2022-07-07T07:27:46.927Z"
   },
   {
    "duration": 59,
    "start_time": "2022-07-07T07:27:46.936Z"
   },
   {
    "duration": 6,
    "start_time": "2022-07-07T07:27:46.997Z"
   },
   {
    "duration": 18,
    "start_time": "2022-07-07T07:27:47.005Z"
   },
   {
    "duration": 344,
    "start_time": "2022-07-07T07:27:47.025Z"
   },
   {
    "duration": 18,
    "start_time": "2022-07-07T07:27:47.374Z"
   },
   {
    "duration": 25,
    "start_time": "2022-07-07T07:27:47.393Z"
   },
   {
    "duration": 12,
    "start_time": "2022-07-07T07:27:47.419Z"
   },
   {
    "duration": 5,
    "start_time": "2022-07-07T07:27:47.433Z"
   },
   {
    "duration": 9,
    "start_time": "2022-07-07T07:27:47.440Z"
   },
   {
    "duration": 131,
    "start_time": "2022-07-07T07:27:47.463Z"
   },
   {
    "duration": 6,
    "start_time": "2022-07-07T07:27:47.596Z"
   },
   {
    "duration": 15,
    "start_time": "2022-07-07T07:27:47.604Z"
   },
   {
    "duration": 129,
    "start_time": "2022-07-07T07:27:47.621Z"
   },
   {
    "duration": 33,
    "start_time": "2022-07-07T07:27:47.752Z"
   },
   {
    "duration": 19,
    "start_time": "2022-07-07T07:27:47.789Z"
   },
   {
    "duration": 109,
    "start_time": "2022-07-07T07:27:47.810Z"
   },
   {
    "duration": 7,
    "start_time": "2022-07-07T07:27:47.921Z"
   },
   {
    "duration": 18,
    "start_time": "2022-07-07T07:27:47.929Z"
   },
   {
    "duration": 245,
    "start_time": "2022-07-07T07:27:47.949Z"
   },
   {
    "duration": 7,
    "start_time": "2022-07-07T07:27:48.196Z"
   },
   {
    "duration": 15,
    "start_time": "2022-07-07T07:27:48.205Z"
   },
   {
    "duration": 7,
    "start_time": "2022-07-07T07:27:48.222Z"
   },
   {
    "duration": 6,
    "start_time": "2022-07-07T07:27:48.230Z"
   },
   {
    "duration": 13,
    "start_time": "2022-07-07T07:27:48.237Z"
   },
   {
    "duration": 7,
    "start_time": "2022-07-07T07:27:48.265Z"
   },
   {
    "duration": 407,
    "start_time": "2022-07-07T07:27:48.273Z"
   },
   {
    "duration": 10,
    "start_time": "2022-07-07T07:27:48.681Z"
   },
   {
    "duration": 26,
    "start_time": "2022-07-07T07:27:48.695Z"
   },
   {
    "duration": 13,
    "start_time": "2022-07-07T07:27:48.722Z"
   },
   {
    "duration": 14,
    "start_time": "2022-07-07T07:27:48.739Z"
   },
   {
    "duration": 36,
    "start_time": "2022-07-07T07:27:48.754Z"
   },
   {
    "duration": 188,
    "start_time": "2022-07-07T07:27:48.793Z"
   },
   {
    "duration": 6,
    "start_time": "2022-07-07T07:27:48.983Z"
   },
   {
    "duration": 10,
    "start_time": "2022-07-07T07:27:48.990Z"
   },
   {
    "duration": 10,
    "start_time": "2022-07-07T07:27:49.002Z"
   },
   {
    "duration": 12,
    "start_time": "2022-07-07T07:27:49.013Z"
   },
   {
    "duration": 18,
    "start_time": "2022-07-07T07:27:49.026Z"
   },
   {
    "duration": 32,
    "start_time": "2022-07-07T07:27:49.046Z"
   },
   {
    "duration": 250,
    "start_time": "2022-07-07T07:27:49.084Z"
   },
   {
    "duration": 295,
    "start_time": "2022-07-07T07:27:49.336Z"
   },
   {
    "duration": 7,
    "start_time": "2022-07-07T07:27:49.633Z"
   },
   {
    "duration": 12,
    "start_time": "2022-07-07T07:27:49.642Z"
   },
   {
    "duration": 34,
    "start_time": "2022-07-07T07:27:49.663Z"
   },
   {
    "duration": 9,
    "start_time": "2022-07-07T07:27:49.699Z"
   },
   {
    "duration": 135,
    "start_time": "2022-07-07T07:27:49.710Z"
   },
   {
    "duration": 117,
    "start_time": "2022-07-07T07:28:27.249Z"
   },
   {
    "duration": 1189,
    "start_time": "2022-07-07T07:35:57.001Z"
   },
   {
    "duration": 40,
    "start_time": "2022-07-07T07:35:58.193Z"
   },
   {
    "duration": 22,
    "start_time": "2022-07-07T07:35:58.235Z"
   },
   {
    "duration": 5,
    "start_time": "2022-07-07T07:35:58.259Z"
   },
   {
    "duration": 13,
    "start_time": "2022-07-07T07:35:58.265Z"
   },
   {
    "duration": 9,
    "start_time": "2022-07-07T07:35:58.279Z"
   },
   {
    "duration": 11,
    "start_time": "2022-07-07T07:35:58.290Z"
   },
   {
    "duration": 18,
    "start_time": "2022-07-07T07:35:58.302Z"
   },
   {
    "duration": 8,
    "start_time": "2022-07-07T07:35:58.322Z"
   },
   {
    "duration": 6,
    "start_time": "2022-07-07T07:35:58.333Z"
   },
   {
    "duration": 7,
    "start_time": "2022-07-07T07:35:58.340Z"
   },
   {
    "duration": 17,
    "start_time": "2022-07-07T07:35:58.348Z"
   },
   {
    "duration": 5,
    "start_time": "2022-07-07T07:35:58.366Z"
   },
   {
    "duration": 16,
    "start_time": "2022-07-07T07:35:58.373Z"
   },
   {
    "duration": 5,
    "start_time": "2022-07-07T07:35:58.391Z"
   },
   {
    "duration": 6,
    "start_time": "2022-07-07T07:35:58.397Z"
   },
   {
    "duration": 9,
    "start_time": "2022-07-07T07:35:58.404Z"
   },
   {
    "duration": 8,
    "start_time": "2022-07-07T07:35:58.415Z"
   },
   {
    "duration": 6,
    "start_time": "2022-07-07T07:35:58.424Z"
   },
   {
    "duration": 7,
    "start_time": "2022-07-07T07:35:58.432Z"
   },
   {
    "duration": 33,
    "start_time": "2022-07-07T07:35:58.441Z"
   },
   {
    "duration": 14,
    "start_time": "2022-07-07T07:35:58.476Z"
   },
   {
    "duration": 11,
    "start_time": "2022-07-07T07:35:58.491Z"
   },
   {
    "duration": 8,
    "start_time": "2022-07-07T07:35:58.503Z"
   },
   {
    "duration": 15,
    "start_time": "2022-07-07T07:35:58.519Z"
   },
   {
    "duration": 12,
    "start_time": "2022-07-07T07:35:58.536Z"
   },
   {
    "duration": 24,
    "start_time": "2022-07-07T07:35:58.549Z"
   },
   {
    "duration": 238,
    "start_time": "2022-07-07T07:35:58.577Z"
   },
   {
    "duration": 12,
    "start_time": "2022-07-07T07:35:58.817Z"
   },
   {
    "duration": 34,
    "start_time": "2022-07-07T07:35:58.830Z"
   },
   {
    "duration": 7,
    "start_time": "2022-07-07T07:35:58.866Z"
   },
   {
    "duration": 25,
    "start_time": "2022-07-07T07:35:58.874Z"
   },
   {
    "duration": 6,
    "start_time": "2022-07-07T07:35:58.900Z"
   },
   {
    "duration": 13,
    "start_time": "2022-07-07T07:35:58.907Z"
   },
   {
    "duration": 348,
    "start_time": "2022-07-07T07:35:58.922Z"
   },
   {
    "duration": 12,
    "start_time": "2022-07-07T07:35:59.271Z"
   },
   {
    "duration": 12,
    "start_time": "2022-07-07T07:35:59.284Z"
   },
   {
    "duration": 11,
    "start_time": "2022-07-07T07:35:59.297Z"
   },
   {
    "duration": 5,
    "start_time": "2022-07-07T07:35:59.309Z"
   },
   {
    "duration": 8,
    "start_time": "2022-07-07T07:35:59.316Z"
   },
   {
    "duration": 150,
    "start_time": "2022-07-07T07:35:59.326Z"
   },
   {
    "duration": 7,
    "start_time": "2022-07-07T07:35:59.478Z"
   },
   {
    "duration": 29,
    "start_time": "2022-07-07T07:35:59.486Z"
   },
   {
    "duration": 111,
    "start_time": "2022-07-07T07:35:59.517Z"
   },
   {
    "duration": 7,
    "start_time": "2022-07-07T07:35:59.630Z"
   },
   {
    "duration": 29,
    "start_time": "2022-07-07T07:35:59.639Z"
   },
   {
    "duration": 108,
    "start_time": "2022-07-07T07:35:59.670Z"
   },
   {
    "duration": 7,
    "start_time": "2022-07-07T07:35:59.779Z"
   },
   {
    "duration": 17,
    "start_time": "2022-07-07T07:35:59.787Z"
   },
   {
    "duration": 111,
    "start_time": "2022-07-07T07:35:59.805Z"
   },
   {
    "duration": 6,
    "start_time": "2022-07-07T07:35:59.918Z"
   },
   {
    "duration": 16,
    "start_time": "2022-07-07T07:35:59.925Z"
   },
   {
    "duration": 25,
    "start_time": "2022-07-07T07:35:59.943Z"
   },
   {
    "duration": 6,
    "start_time": "2022-07-07T07:35:59.970Z"
   },
   {
    "duration": 12,
    "start_time": "2022-07-07T07:35:59.977Z"
   },
   {
    "duration": 8,
    "start_time": "2022-07-07T07:35:59.991Z"
   },
   {
    "duration": 380,
    "start_time": "2022-07-07T07:36:00.001Z"
   },
   {
    "duration": 9,
    "start_time": "2022-07-07T07:36:00.384Z"
   },
   {
    "duration": 28,
    "start_time": "2022-07-07T07:36:00.395Z"
   },
   {
    "duration": 26,
    "start_time": "2022-07-07T07:36:00.424Z"
   },
   {
    "duration": 27,
    "start_time": "2022-07-07T07:36:00.453Z"
   },
   {
    "duration": 30,
    "start_time": "2022-07-07T07:36:00.482Z"
   },
   {
    "duration": 210,
    "start_time": "2022-07-07T07:36:00.513Z"
   },
   {
    "duration": 10,
    "start_time": "2022-07-07T07:36:00.725Z"
   },
   {
    "duration": 19,
    "start_time": "2022-07-07T07:36:00.736Z"
   },
   {
    "duration": 17,
    "start_time": "2022-07-07T07:36:00.757Z"
   },
   {
    "duration": 38,
    "start_time": "2022-07-07T07:36:00.775Z"
   },
   {
    "duration": 32,
    "start_time": "2022-07-07T07:36:00.815Z"
   },
   {
    "duration": 39,
    "start_time": "2022-07-07T07:36:00.849Z"
   },
   {
    "duration": 251,
    "start_time": "2022-07-07T07:36:00.890Z"
   },
   {
    "duration": 376,
    "start_time": "2022-07-07T07:36:01.143Z"
   },
   {
    "duration": 8,
    "start_time": "2022-07-07T07:36:01.522Z"
   },
   {
    "duration": 67,
    "start_time": "2022-07-07T07:36:01.532Z"
   },
   {
    "duration": 26,
    "start_time": "2022-07-07T07:36:01.601Z"
   },
   {
    "duration": 16,
    "start_time": "2022-07-07T07:36:01.628Z"
   },
   {
    "duration": 131,
    "start_time": "2022-07-07T07:36:01.646Z"
   },
   {
    "duration": 6,
    "start_time": "2022-07-07T07:36:01.778Z"
   },
   {
    "duration": 187,
    "start_time": "2022-07-07T07:36:01.785Z"
   },
   {
    "duration": 9,
    "start_time": "2022-07-07T07:36:01.976Z"
   },
   {
    "duration": 25,
    "start_time": "2022-07-07T07:36:01.987Z"
   },
   {
    "duration": 60,
    "start_time": "2022-07-07T07:36:02.014Z"
   },
   {
    "duration": 17,
    "start_time": "2022-07-07T07:36:02.081Z"
   },
   {
    "duration": 32,
    "start_time": "2022-07-07T07:36:02.100Z"
   },
   {
    "duration": 35,
    "start_time": "2022-07-07T07:36:02.133Z"
   },
   {
    "duration": 56,
    "start_time": "2022-07-07T07:36:02.170Z"
   },
   {
    "duration": 10,
    "start_time": "2022-07-07T07:36:02.228Z"
   },
   {
    "duration": 13,
    "start_time": "2022-07-07T07:36:02.240Z"
   },
   {
    "duration": 13,
    "start_time": "2022-07-07T07:36:02.255Z"
   },
   {
    "duration": 31,
    "start_time": "2022-07-07T07:36:02.269Z"
   },
   {
    "duration": 18,
    "start_time": "2022-07-07T07:36:02.301Z"
   },
   {
    "duration": 25,
    "start_time": "2022-07-07T07:36:02.321Z"
   },
   {
    "duration": 26,
    "start_time": "2022-07-07T07:36:02.349Z"
   },
   {
    "duration": 13,
    "start_time": "2022-07-07T07:36:02.376Z"
   },
   {
    "duration": 16,
    "start_time": "2022-07-07T07:36:02.391Z"
   },
   {
    "duration": 19,
    "start_time": "2022-07-07T07:36:02.409Z"
   },
   {
    "duration": 34,
    "start_time": "2022-07-07T07:36:02.430Z"
   },
   {
    "duration": 21,
    "start_time": "2022-07-07T07:36:02.466Z"
   },
   {
    "duration": 605,
    "start_time": "2022-07-07T07:36:02.489Z"
   },
   {
    "duration": 9,
    "start_time": "2022-07-07T07:36:03.096Z"
   },
   {
    "duration": 14,
    "start_time": "2022-07-07T07:36:03.106Z"
   },
   {
    "duration": 9,
    "start_time": "2022-07-07T07:36:03.122Z"
   },
   {
    "duration": 10,
    "start_time": "2022-07-07T07:36:03.133Z"
   },
   {
    "duration": 21,
    "start_time": "2022-07-07T07:36:03.144Z"
   },
   {
    "duration": 15,
    "start_time": "2022-07-07T07:36:03.166Z"
   },
   {
    "duration": 8,
    "start_time": "2022-07-07T07:36:03.183Z"
   },
   {
    "duration": 10,
    "start_time": "2022-07-07T07:36:03.193Z"
   },
   {
    "duration": 12,
    "start_time": "2022-07-07T07:36:03.205Z"
   },
   {
    "duration": 7,
    "start_time": "2022-07-07T07:36:03.219Z"
   },
   {
    "duration": 8,
    "start_time": "2022-07-07T07:36:03.228Z"
   },
   {
    "duration": 9,
    "start_time": "2022-07-07T07:36:03.237Z"
   },
   {
    "duration": 562,
    "start_time": "2022-07-07T07:36:03.247Z"
   },
   {
    "duration": 4,
    "start_time": "2022-07-07T07:36:03.811Z"
   },
   {
    "duration": 8,
    "start_time": "2022-07-07T07:36:03.817Z"
   },
   {
    "duration": 10,
    "start_time": "2022-07-07T07:36:03.827Z"
   },
   {
    "duration": 7,
    "start_time": "2022-07-07T07:36:03.839Z"
   },
   {
    "duration": 19,
    "start_time": "2022-07-07T07:36:03.848Z"
   },
   {
    "duration": 7,
    "start_time": "2022-07-07T07:36:03.868Z"
   },
   {
    "duration": 8,
    "start_time": "2022-07-07T07:36:03.876Z"
   },
   {
    "duration": 15,
    "start_time": "2022-07-07T07:36:03.886Z"
   },
   {
    "duration": 8,
    "start_time": "2022-07-07T07:36:03.903Z"
   },
   {
    "duration": 9,
    "start_time": "2022-07-07T07:36:03.913Z"
   },
   {
    "duration": 11,
    "start_time": "2022-07-07T07:36:03.924Z"
   },
   {
    "duration": 6,
    "start_time": "2022-07-07T07:36:03.937Z"
   },
   {
    "duration": 19,
    "start_time": "2022-07-07T07:36:03.945Z"
   },
   {
    "duration": 4,
    "start_time": "2022-07-07T07:36:03.967Z"
   },
   {
    "duration": 20,
    "start_time": "2022-07-07T07:36:03.973Z"
   },
   {
    "duration": 17,
    "start_time": "2022-07-07T07:36:03.995Z"
   },
   {
    "duration": 12,
    "start_time": "2022-07-07T07:36:04.014Z"
   },
   {
    "duration": 13,
    "start_time": "2022-07-07T07:36:04.028Z"
   },
   {
    "duration": 12,
    "start_time": "2022-07-07T07:36:04.043Z"
   },
   {
    "duration": 25,
    "start_time": "2022-07-07T07:36:04.057Z"
   },
   {
    "duration": 1347,
    "start_time": "2022-07-09T01:42:30.250Z"
   },
   {
    "duration": 78,
    "start_time": "2022-07-09T01:42:32.257Z"
   },
   {
    "duration": 40,
    "start_time": "2022-07-09T01:42:33.904Z"
   },
   {
    "duration": 13,
    "start_time": "2022-07-09T01:43:38.400Z"
   },
   {
    "duration": 7,
    "start_time": "2022-07-09T01:45:54.404Z"
   },
   {
    "duration": 41,
    "start_time": "2022-07-09T01:45:55.236Z"
   },
   {
    "duration": 13,
    "start_time": "2022-07-09T01:45:55.641Z"
   },
   {
    "duration": 105,
    "start_time": "2022-07-09T01:45:59.014Z"
   },
   {
    "duration": 4,
    "start_time": "2022-07-09T01:47:03.255Z"
   },
   {
    "duration": 789,
    "start_time": "2022-07-09T01:48:08.818Z"
   },
   {
    "duration": 0,
    "start_time": "2022-07-09T01:48:09.610Z"
   },
   {
    "duration": 730,
    "start_time": "2022-07-09T01:48:09.835Z"
   },
   {
    "duration": 0,
    "start_time": "2022-07-09T01:48:10.566Z"
   },
   {
    "duration": 934,
    "start_time": "2022-07-09T01:49:06.501Z"
   },
   {
    "duration": 4,
    "start_time": "2022-07-09T01:49:30.991Z"
   },
   {
    "duration": 6,
    "start_time": "2022-07-09T01:49:33.824Z"
   },
   {
    "duration": 6,
    "start_time": "2022-07-09T01:49:35.423Z"
   },
   {
    "duration": 829,
    "start_time": "2022-07-09T01:49:36.725Z"
   },
   {
    "duration": 5,
    "start_time": "2022-07-09T01:49:41.289Z"
   },
   {
    "duration": 10,
    "start_time": "2022-07-09T01:50:49.676Z"
   },
   {
    "duration": 7,
    "start_time": "2022-07-09T01:57:35.034Z"
   },
   {
    "duration": 4,
    "start_time": "2022-07-09T01:57:44.903Z"
   },
   {
    "duration": 5,
    "start_time": "2022-07-09T02:01:01.131Z"
   },
   {
    "duration": 5,
    "start_time": "2022-07-09T02:01:01.995Z"
   },
   {
    "duration": 3,
    "start_time": "2022-07-09T02:01:03.296Z"
   },
   {
    "duration": 4,
    "start_time": "2022-07-09T02:01:03.695Z"
   },
   {
    "duration": 13,
    "start_time": "2022-07-09T02:01:04.166Z"
   },
   {
    "duration": 5,
    "start_time": "2022-07-09T02:01:05.311Z"
   },
   {
    "duration": 4,
    "start_time": "2022-07-09T02:01:05.781Z"
   },
   {
    "duration": 6,
    "start_time": "2022-07-09T02:01:08.506Z"
   },
   {
    "duration": 7,
    "start_time": "2022-07-09T02:01:09.401Z"
   },
   {
    "duration": 5,
    "start_time": "2022-07-09T02:01:12.505Z"
   },
   {
    "duration": 4,
    "start_time": "2022-07-09T02:01:38.592Z"
   },
   {
    "duration": 13,
    "start_time": "2022-07-09T02:01:40.059Z"
   },
   {
    "duration": 13,
    "start_time": "2022-07-09T02:01:41.373Z"
   },
   {
    "duration": 9,
    "start_time": "2022-07-09T02:03:19.551Z"
   },
   {
    "duration": 11,
    "start_time": "2022-07-09T02:03:36.221Z"
   },
   {
    "duration": 14,
    "start_time": "2022-07-09T02:03:56.027Z"
   },
   {
    "duration": 18,
    "start_time": "2022-07-09T02:08:50.733Z"
   },
   {
    "duration": 8,
    "start_time": "2022-07-09T02:10:07.968Z"
   },
   {
    "duration": 4,
    "start_time": "2022-07-09T02:10:08.483Z"
   },
   {
    "duration": 5,
    "start_time": "2022-07-09T02:10:10.160Z"
   },
   {
    "duration": 9,
    "start_time": "2022-07-09T02:10:10.920Z"
   },
   {
    "duration": 12,
    "start_time": "2022-07-09T02:10:43.653Z"
   },
   {
    "duration": 4,
    "start_time": "2022-07-09T02:11:12.855Z"
   },
   {
    "duration": 3,
    "start_time": "2022-07-09T02:12:37.302Z"
   },
   {
    "duration": 39,
    "start_time": "2022-07-09T02:12:37.929Z"
   },
   {
    "duration": 13,
    "start_time": "2022-07-09T02:12:38.320Z"
   },
   {
    "duration": 3,
    "start_time": "2022-07-09T02:12:39.686Z"
   },
   {
    "duration": 5,
    "start_time": "2022-07-09T02:12:41.185Z"
   },
   {
    "duration": 5,
    "start_time": "2022-07-09T02:12:41.546Z"
   },
   {
    "duration": 5,
    "start_time": "2022-07-09T02:12:42.055Z"
   },
   {
    "duration": 14,
    "start_time": "2022-07-09T02:12:42.554Z"
   },
   {
    "duration": 9,
    "start_time": "2022-07-09T02:12:43.901Z"
   },
   {
    "duration": 4,
    "start_time": "2022-07-09T02:12:44.436Z"
   },
   {
    "duration": 4,
    "start_time": "2022-07-09T02:12:46.801Z"
   },
   {
    "duration": 5,
    "start_time": "2022-07-09T02:12:48.531Z"
   },
   {
    "duration": 3,
    "start_time": "2022-07-09T02:12:50.500Z"
   },
   {
    "duration": 4,
    "start_time": "2022-07-09T02:12:51.018Z"
   },
   {
    "duration": 15,
    "start_time": "2022-07-09T02:12:51.431Z"
   },
   {
    "duration": 3,
    "start_time": "2022-07-09T02:12:52.448Z"
   },
   {
    "duration": 3,
    "start_time": "2022-07-09T02:12:52.965Z"
   },
   {
    "duration": 6,
    "start_time": "2022-07-09T02:12:53.922Z"
   },
   {
    "duration": 4,
    "start_time": "2022-07-09T02:12:54.439Z"
   },
   {
    "duration": 6,
    "start_time": "2022-07-09T02:12:55.360Z"
   },
   {
    "duration": 4,
    "start_time": "2022-07-09T02:12:56.706Z"
   },
   {
    "duration": 12,
    "start_time": "2022-07-09T02:12:57.293Z"
   },
   {
    "duration": 13,
    "start_time": "2022-07-09T02:12:57.860Z"
   },
   {
    "duration": 8,
    "start_time": "2022-07-09T02:12:58.522Z"
   },
   {
    "duration": 17,
    "start_time": "2022-07-09T02:12:59.019Z"
   },
   {
    "duration": 8,
    "start_time": "2022-07-09T02:13:00.100Z"
   },
   {
    "duration": 5,
    "start_time": "2022-07-09T02:13:01.798Z"
   },
   {
    "duration": 5,
    "start_time": "2022-07-09T02:13:03.759Z"
   },
   {
    "duration": 13,
    "start_time": "2022-07-09T02:13:18.394Z"
   },
   {
    "duration": 9,
    "start_time": "2022-07-09T02:13:53.983Z"
   },
   {
    "duration": 15,
    "start_time": "2022-07-09T02:13:55.206Z"
   },
   {
    "duration": 8,
    "start_time": "2022-07-09T02:15:11.522Z"
   },
   {
    "duration": 12,
    "start_time": "2022-07-09T02:15:19.613Z"
   },
   {
    "duration": 245,
    "start_time": "2022-07-09T02:15:21.229Z"
   },
   {
    "duration": 8,
    "start_time": "2022-07-09T02:16:20.121Z"
   },
   {
    "duration": 11,
    "start_time": "2022-07-09T02:16:38.013Z"
   },
   {
    "duration": 15,
    "start_time": "2022-07-09T02:16:48.199Z"
   },
   {
    "duration": 270,
    "start_time": "2022-07-09T02:17:00.371Z"
   },
   {
    "duration": 10,
    "start_time": "2022-07-09T02:17:01.759Z"
   },
   {
    "duration": 16,
    "start_time": "2022-07-09T02:17:02.552Z"
   },
   {
    "duration": 6,
    "start_time": "2022-07-09T02:17:03.350Z"
   },
   {
    "duration": 25,
    "start_time": "2022-07-09T02:17:03.765Z"
   },
   {
    "duration": 8,
    "start_time": "2022-07-09T02:17:04.127Z"
   },
   {
    "duration": 10,
    "start_time": "2022-07-09T02:18:26.056Z"
   },
   {
    "duration": 340,
    "start_time": "2022-07-09T02:18:26.575Z"
   },
   {
    "duration": 17,
    "start_time": "2022-07-09T02:18:27.094Z"
   },
   {
    "duration": 11,
    "start_time": "2022-07-09T02:18:50.517Z"
   },
   {
    "duration": 11,
    "start_time": "2022-07-09T02:18:51.017Z"
   },
   {
    "duration": 7,
    "start_time": "2022-07-09T02:18:52.213Z"
   },
   {
    "duration": 9,
    "start_time": "2022-07-09T02:18:52.873Z"
   },
   {
    "duration": 110,
    "start_time": "2022-07-09T02:18:54.149Z"
   },
   {
    "duration": 8,
    "start_time": "2022-07-09T02:19:17.470Z"
   },
   {
    "duration": 16,
    "start_time": "2022-07-09T02:19:18.644Z"
   },
   {
    "duration": 105,
    "start_time": "2022-07-09T02:19:21.378Z"
   },
   {
    "duration": 7,
    "start_time": "2022-07-09T02:19:21.935Z"
   },
   {
    "duration": 16,
    "start_time": "2022-07-09T02:19:22.513Z"
   },
   {
    "duration": 143,
    "start_time": "2022-07-09T02:19:23.504Z"
   },
   {
    "duration": 7,
    "start_time": "2022-07-09T02:19:24.390Z"
   },
   {
    "duration": 15,
    "start_time": "2022-07-09T02:19:26.043Z"
   },
   {
    "duration": 111,
    "start_time": "2022-07-09T02:19:27.396Z"
   },
   {
    "duration": 8,
    "start_time": "2022-07-09T02:19:28.080Z"
   },
   {
    "duration": 16,
    "start_time": "2022-07-09T02:19:28.814Z"
   },
   {
    "duration": 6,
    "start_time": "2022-07-09T02:19:48.136Z"
   },
   {
    "duration": 4,
    "start_time": "2022-07-09T02:20:12.550Z"
   },
   {
    "duration": 8,
    "start_time": "2022-07-09T02:20:13.028Z"
   },
   {
    "duration": 5,
    "start_time": "2022-07-09T02:20:13.528Z"
   },
   {
    "duration": 13,
    "start_time": "2022-07-09T02:20:14.189Z"
   },
   {
    "duration": 371,
    "start_time": "2022-07-09T02:20:32.446Z"
   },
   {
    "duration": 338,
    "start_time": "2022-07-09T02:22:18.339Z"
   },
   {
    "duration": 1208,
    "start_time": "2022-07-10T02:57:27.924Z"
   },
   {
    "duration": 68,
    "start_time": "2022-07-10T02:57:29.133Z"
   },
   {
    "duration": 17,
    "start_time": "2022-07-10T02:57:29.203Z"
   },
   {
    "duration": 3,
    "start_time": "2022-07-10T02:57:30.511Z"
   },
   {
    "duration": 5,
    "start_time": "2022-07-10T02:57:31.876Z"
   },
   {
    "duration": 4,
    "start_time": "2022-07-10T02:57:32.676Z"
   },
   {
    "duration": 5,
    "start_time": "2022-07-10T02:57:33.285Z"
   },
   {
    "duration": 15,
    "start_time": "2022-07-10T02:57:33.830Z"
   },
   {
    "duration": 8,
    "start_time": "2022-07-10T02:57:35.411Z"
   },
   {
    "duration": 4,
    "start_time": "2022-07-10T02:57:35.963Z"
   },
   {
    "duration": 4,
    "start_time": "2022-07-10T02:58:18.120Z"
   },
   {
    "duration": 5,
    "start_time": "2022-07-10T02:58:19.054Z"
   },
   {
    "duration": 3,
    "start_time": "2022-07-10T02:58:20.391Z"
   },
   {
    "duration": 4,
    "start_time": "2022-07-10T02:58:20.759Z"
   },
   {
    "duration": 12,
    "start_time": "2022-07-10T02:58:21.139Z"
   },
   {
    "duration": 3,
    "start_time": "2022-07-10T02:58:22.259Z"
   },
   {
    "duration": 4,
    "start_time": "2022-07-10T02:58:22.671Z"
   },
   {
    "duration": 5,
    "start_time": "2022-07-10T02:58:23.999Z"
   },
   {
    "duration": 5,
    "start_time": "2022-07-10T02:58:24.401Z"
   },
   {
    "duration": 5,
    "start_time": "2022-07-10T02:58:25.489Z"
   },
   {
    "duration": 5,
    "start_time": "2022-07-10T02:58:28.938Z"
   },
   {
    "duration": 13,
    "start_time": "2022-07-10T02:58:40.243Z"
   },
   {
    "duration": 13,
    "start_time": "2022-07-10T02:58:40.584Z"
   },
   {
    "duration": 8,
    "start_time": "2022-07-10T02:58:41.009Z"
   },
   {
    "duration": 20,
    "start_time": "2022-07-10T02:58:41.412Z"
   },
   {
    "duration": 8,
    "start_time": "2022-07-10T02:58:42.082Z"
   },
   {
    "duration": 4,
    "start_time": "2022-07-10T02:58:42.489Z"
   },
   {
    "duration": 8,
    "start_time": "2022-07-10T02:58:43.313Z"
   },
   {
    "duration": 12,
    "start_time": "2022-07-10T02:58:44.072Z"
   },
   {
    "duration": 225,
    "start_time": "2022-07-10T02:58:44.538Z"
   },
   {
    "duration": 10,
    "start_time": "2022-07-10T02:58:45.783Z"
   },
   {
    "duration": 14,
    "start_time": "2022-07-10T02:58:46.858Z"
   },
   {
    "duration": 5,
    "start_time": "2022-07-10T02:58:47.708Z"
   },
   {
    "duration": 21,
    "start_time": "2022-07-10T02:58:48.124Z"
   },
   {
    "duration": 6,
    "start_time": "2022-07-10T02:58:48.573Z"
   },
   {
    "duration": 10,
    "start_time": "2022-07-10T02:58:49.829Z"
   },
   {
    "duration": 307,
    "start_time": "2022-07-10T02:58:50.311Z"
   },
   {
    "duration": 11,
    "start_time": "2022-07-10T02:58:50.752Z"
   },
   {
    "duration": 11,
    "start_time": "2022-07-10T02:58:51.975Z"
   },
   {
    "duration": 11,
    "start_time": "2022-07-10T02:58:52.387Z"
   },
   {
    "duration": 6,
    "start_time": "2022-07-10T02:58:53.126Z"
   },
   {
    "duration": 6,
    "start_time": "2022-07-10T02:58:53.557Z"
   },
   {
    "duration": 129,
    "start_time": "2022-07-10T02:58:54.336Z"
   },
   {
    "duration": 6,
    "start_time": "2022-07-10T02:58:55.092Z"
   },
   {
    "duration": 15,
    "start_time": "2022-07-10T02:58:55.793Z"
   },
   {
    "duration": 95,
    "start_time": "2022-07-10T02:58:56.955Z"
   },
   {
    "duration": 7,
    "start_time": "2022-07-10T02:58:57.318Z"
   },
   {
    "duration": 15,
    "start_time": "2022-07-10T02:58:57.749Z"
   },
   {
    "duration": 96,
    "start_time": "2022-07-10T02:58:58.546Z"
   },
   {
    "duration": 6,
    "start_time": "2022-07-10T02:58:59.060Z"
   },
   {
    "duration": 14,
    "start_time": "2022-07-10T02:58:59.802Z"
   },
   {
    "duration": 94,
    "start_time": "2022-07-10T02:59:00.552Z"
   },
   {
    "duration": 7,
    "start_time": "2022-07-10T02:59:00.975Z"
   },
   {
    "duration": 15,
    "start_time": "2022-07-10T02:59:01.369Z"
   },
   {
    "duration": 6,
    "start_time": "2022-07-10T02:59:06.103Z"
   },
   {
    "duration": 992,
    "start_time": "2022-07-10T03:03:50.154Z"
   },
   {
    "duration": 3,
    "start_time": "2022-07-10T03:13:19.055Z"
   },
   {
    "duration": 50,
    "start_time": "2022-07-10T03:13:19.726Z"
   },
   {
    "duration": 15,
    "start_time": "2022-07-10T03:13:20.071Z"
   },
   {
    "duration": 3,
    "start_time": "2022-07-10T03:13:21.789Z"
   },
   {
    "duration": 5,
    "start_time": "2022-07-10T03:13:22.985Z"
   },
   {
    "duration": 5,
    "start_time": "2022-07-10T03:13:23.440Z"
   },
   {
    "duration": 5,
    "start_time": "2022-07-10T03:13:23.727Z"
   },
   {
    "duration": 15,
    "start_time": "2022-07-10T03:13:24.012Z"
   },
   {
    "duration": 11,
    "start_time": "2022-07-10T03:13:25.356Z"
   },
   {
    "duration": 4,
    "start_time": "2022-07-10T03:13:25.807Z"
   },
   {
    "duration": 5,
    "start_time": "2022-07-10T03:13:27.809Z"
   },
   {
    "duration": 5,
    "start_time": "2022-07-10T03:13:29.210Z"
   },
   {
    "duration": 4,
    "start_time": "2022-07-10T03:13:31.308Z"
   },
   {
    "duration": 4,
    "start_time": "2022-07-10T03:13:32.018Z"
   },
   {
    "duration": 13,
    "start_time": "2022-07-10T03:13:32.793Z"
   },
   {
    "duration": 4,
    "start_time": "2022-07-10T03:13:34.292Z"
   },
   {
    "duration": 4,
    "start_time": "2022-07-10T03:13:34.750Z"
   },
   {
    "duration": 5,
    "start_time": "2022-07-10T03:13:36.289Z"
   },
   {
    "duration": 5,
    "start_time": "2022-07-10T03:13:37.351Z"
   },
   {
    "duration": 4,
    "start_time": "2022-07-10T03:13:39.149Z"
   },
   {
    "duration": 7,
    "start_time": "2022-07-10T03:13:40.811Z"
   },
   {
    "duration": 13,
    "start_time": "2022-07-10T03:13:42.084Z"
   },
   {
    "duration": 15,
    "start_time": "2022-07-10T03:13:43.827Z"
   },
   {
    "duration": 11,
    "start_time": "2022-07-10T03:13:45.073Z"
   },
   {
    "duration": 52576,
    "start_time": "2022-07-10T03:13:46.303Z"
   },
   {
    "duration": 3,
    "start_time": "2022-07-10T03:22:58.286Z"
   },
   {
    "duration": 36,
    "start_time": "2022-07-10T03:22:59.077Z"
   },
   {
    "duration": 14,
    "start_time": "2022-07-10T03:22:59.419Z"
   },
   {
    "duration": 4,
    "start_time": "2022-07-10T03:23:00.655Z"
   },
   {
    "duration": 4,
    "start_time": "2022-07-10T03:23:01.846Z"
   },
   {
    "duration": 5,
    "start_time": "2022-07-10T03:23:02.186Z"
   },
   {
    "duration": 4,
    "start_time": "2022-07-10T03:23:02.485Z"
   },
   {
    "duration": 13,
    "start_time": "2022-07-10T03:23:02.779Z"
   },
   {
    "duration": 8,
    "start_time": "2022-07-10T03:23:03.770Z"
   },
   {
    "duration": 4,
    "start_time": "2022-07-10T03:23:04.055Z"
   },
   {
    "duration": 4,
    "start_time": "2022-07-10T03:23:05.488Z"
   },
   {
    "duration": 5,
    "start_time": "2022-07-10T03:23:06.315Z"
   },
   {
    "duration": 4,
    "start_time": "2022-07-10T03:23:07.349Z"
   },
   {
    "duration": 4,
    "start_time": "2022-07-10T03:23:07.689Z"
   },
   {
    "duration": 13,
    "start_time": "2022-07-10T03:23:08.007Z"
   },
   {
    "duration": 3,
    "start_time": "2022-07-10T03:23:08.645Z"
   },
   {
    "duration": 4,
    "start_time": "2022-07-10T03:23:08.976Z"
   },
   {
    "duration": 5,
    "start_time": "2022-07-10T03:23:10.007Z"
   },
   {
    "duration": 5,
    "start_time": "2022-07-10T03:23:10.572Z"
   },
   {
    "duration": 5,
    "start_time": "2022-07-10T03:23:11.278Z"
   },
   {
    "duration": 5,
    "start_time": "2022-07-10T03:23:11.904Z"
   },
   {
    "duration": 13,
    "start_time": "2022-07-10T03:23:12.242Z"
   },
   {
    "duration": 13,
    "start_time": "2022-07-10T03:23:12.744Z"
   },
   {
    "duration": 9,
    "start_time": "2022-07-10T03:23:13.185Z"
   },
   {
    "duration": 9,
    "start_time": "2022-07-10T03:23:14.895Z"
   },
   {
    "duration": 4,
    "start_time": "2022-07-10T03:25:47.099Z"
   },
   {
    "duration": 3,
    "start_time": "2022-07-10T03:25:59.822Z"
   },
   {
    "duration": 4,
    "start_time": "2022-07-10T03:26:09.938Z"
   },
   {
    "duration": 3,
    "start_time": "2022-07-10T03:27:02.107Z"
   },
   {
    "duration": 4,
    "start_time": "2022-07-10T03:27:02.791Z"
   },
   {
    "duration": 18,
    "start_time": "2022-07-10T03:27:15.098Z"
   },
   {
    "duration": 8,
    "start_time": "2022-07-10T03:27:15.772Z"
   },
   {
    "duration": 4,
    "start_time": "2022-07-10T03:27:16.085Z"
   },
   {
    "duration": 8,
    "start_time": "2022-07-10T03:27:16.996Z"
   },
   {
    "duration": 12,
    "start_time": "2022-07-10T03:27:17.053Z"
   },
   {
    "duration": 242,
    "start_time": "2022-07-10T03:27:17.267Z"
   },
   {
    "duration": 10,
    "start_time": "2022-07-10T03:27:18.208Z"
   },
   {
    "duration": 15,
    "start_time": "2022-07-10T03:27:18.839Z"
   },
   {
    "duration": 7,
    "start_time": "2022-07-10T03:27:19.473Z"
   },
   {
    "duration": 22,
    "start_time": "2022-07-10T03:27:19.773Z"
   },
   {
    "duration": 7,
    "start_time": "2022-07-10T03:27:20.053Z"
   },
   {
    "duration": 10,
    "start_time": "2022-07-10T03:27:21.216Z"
   },
   {
    "duration": 320,
    "start_time": "2022-07-10T03:27:21.604Z"
   },
   {
    "duration": 10,
    "start_time": "2022-07-10T03:27:21.925Z"
   },
   {
    "duration": 10,
    "start_time": "2022-07-10T03:27:22.751Z"
   },
   {
    "duration": 10,
    "start_time": "2022-07-10T03:27:23.045Z"
   },
   {
    "duration": 8,
    "start_time": "2022-07-10T03:27:23.653Z"
   },
   {
    "duration": 9,
    "start_time": "2022-07-10T03:27:23.970Z"
   },
   {
    "duration": 89,
    "start_time": "2022-07-10T03:27:24.672Z"
   },
   {
    "duration": 6,
    "start_time": "2022-07-10T03:27:25.361Z"
   },
   {
    "duration": 15,
    "start_time": "2022-07-10T03:27:25.912Z"
   },
   {
    "duration": 97,
    "start_time": "2022-07-10T03:27:27.108Z"
   },
   {
    "duration": 6,
    "start_time": "2022-07-10T03:27:27.439Z"
   },
   {
    "duration": 14,
    "start_time": "2022-07-10T03:27:27.718Z"
   },
   {
    "duration": 91,
    "start_time": "2022-07-10T03:27:28.396Z"
   },
   {
    "duration": 7,
    "start_time": "2022-07-10T03:27:28.704Z"
   },
   {
    "duration": 13,
    "start_time": "2022-07-10T03:27:29.375Z"
   },
   {
    "duration": 99,
    "start_time": "2022-07-10T03:27:30.189Z"
   },
   {
    "duration": 6,
    "start_time": "2022-07-10T03:27:30.586Z"
   },
   {
    "duration": 13,
    "start_time": "2022-07-10T03:27:30.980Z"
   },
   {
    "duration": 6,
    "start_time": "2022-07-10T03:27:33.993Z"
   },
   {
    "duration": 3,
    "start_time": "2022-07-10T03:28:11.912Z"
   },
   {
    "duration": 5,
    "start_time": "2022-07-10T03:28:23.371Z"
   },
   {
    "duration": 9,
    "start_time": "2022-07-10T03:29:25.928Z"
   },
   {
    "duration": 5,
    "start_time": "2022-07-10T03:29:26.577Z"
   },
   {
    "duration": 15,
    "start_time": "2022-07-10T03:29:35.499Z"
   },
   {
    "duration": 1100,
    "start_time": "2022-07-10T03:31:49.962Z"
   },
   {
    "duration": 39,
    "start_time": "2022-07-10T03:31:51.064Z"
   },
   {
    "duration": 20,
    "start_time": "2022-07-10T03:31:51.104Z"
   },
   {
    "duration": 3,
    "start_time": "2022-07-10T03:31:52.115Z"
   },
   {
    "duration": 6,
    "start_time": "2022-07-10T03:31:53.365Z"
   },
   {
    "duration": 4,
    "start_time": "2022-07-10T03:31:53.754Z"
   },
   {
    "duration": 4,
    "start_time": "2022-07-10T03:31:54.081Z"
   },
   {
    "duration": 13,
    "start_time": "2022-07-10T03:31:54.365Z"
   },
   {
    "duration": 8,
    "start_time": "2022-07-10T03:31:55.395Z"
   },
   {
    "duration": 3,
    "start_time": "2022-07-10T03:31:55.723Z"
   },
   {
    "duration": 4,
    "start_time": "2022-07-10T03:31:56.936Z"
   },
   {
    "duration": 7,
    "start_time": "2022-07-10T03:31:57.466Z"
   },
   {
    "duration": 4,
    "start_time": "2022-07-10T03:31:58.572Z"
   },
   {
    "duration": 4,
    "start_time": "2022-07-10T03:31:58.957Z"
   },
   {
    "duration": 18,
    "start_time": "2022-07-10T03:31:59.237Z"
   },
   {
    "duration": 5,
    "start_time": "2022-07-10T03:31:59.828Z"
   },
   {
    "duration": 5,
    "start_time": "2022-07-10T03:32:00.315Z"
   },
   {
    "duration": 7,
    "start_time": "2022-07-10T03:32:00.942Z"
   },
   {
    "duration": 7,
    "start_time": "2022-07-10T03:32:01.477Z"
   },
   {
    "duration": 6,
    "start_time": "2022-07-10T03:32:02.233Z"
   },
   {
    "duration": 7,
    "start_time": "2022-07-10T03:32:02.765Z"
   },
   {
    "duration": 20,
    "start_time": "2022-07-10T03:32:03.030Z"
   },
   {
    "duration": 15,
    "start_time": "2022-07-10T03:32:03.300Z"
   },
   {
    "duration": 9,
    "start_time": "2022-07-10T03:32:03.574Z"
   },
   {
    "duration": 25,
    "start_time": "2022-07-10T03:32:03.917Z"
   },
   {
    "duration": 8,
    "start_time": "2022-07-10T03:32:05.079Z"
   },
   {
    "duration": 5,
    "start_time": "2022-07-10T03:32:05.470Z"
   },
   {
    "duration": 10,
    "start_time": "2022-07-10T03:32:06.091Z"
   },
   {
    "duration": 12,
    "start_time": "2022-07-10T03:32:07.596Z"
   },
   {
    "duration": 230,
    "start_time": "2022-07-10T03:32:08.613Z"
   },
   {
    "duration": 11,
    "start_time": "2022-07-10T03:32:11.372Z"
   },
   {
    "duration": 15,
    "start_time": "2022-07-10T03:32:12.889Z"
   },
   {
    "duration": 6,
    "start_time": "2022-07-10T03:32:14.449Z"
   },
   {
    "duration": 31,
    "start_time": "2022-07-10T03:32:15.308Z"
   },
   {
    "duration": 6,
    "start_time": "2022-07-10T03:32:16.316Z"
   },
   {
    "duration": 11,
    "start_time": "2022-07-10T03:32:18.508Z"
   },
   {
    "duration": 315,
    "start_time": "2022-07-10T03:32:19.344Z"
   },
   {
    "duration": 12,
    "start_time": "2022-07-10T03:32:20.275Z"
   },
   {
    "duration": 10,
    "start_time": "2022-07-10T03:32:22.777Z"
   },
   {
    "duration": 10,
    "start_time": "2022-07-10T03:32:23.449Z"
   },
   {
    "duration": 5,
    "start_time": "2022-07-10T03:32:24.899Z"
   },
   {
    "duration": 7,
    "start_time": "2022-07-10T03:32:25.628Z"
   },
   {
    "duration": 103,
    "start_time": "2022-07-10T03:32:26.979Z"
   },
   {
    "duration": 8,
    "start_time": "2022-07-10T03:32:28.439Z"
   },
   {
    "duration": 1475,
    "start_time": "2022-07-23T21:56:08.075Z"
   },
   {
    "duration": 185,
    "start_time": "2022-07-23T21:56:09.552Z"
   },
   {
    "duration": 20,
    "start_time": "2022-07-23T21:56:09.739Z"
   },
   {
    "duration": 4,
    "start_time": "2022-07-23T21:56:14.242Z"
   },
   {
    "duration": 6,
    "start_time": "2022-07-23T21:56:23.223Z"
   },
   {
    "duration": 5,
    "start_time": "2022-07-23T21:56:23.698Z"
   },
   {
    "duration": 5,
    "start_time": "2022-07-23T21:56:24.028Z"
   },
   {
    "duration": 17,
    "start_time": "2022-07-23T21:56:24.444Z"
   },
   {
    "duration": 12,
    "start_time": "2022-07-23T21:56:25.264Z"
   },
   {
    "duration": 4,
    "start_time": "2022-07-23T21:56:25.578Z"
   },
   {
    "duration": 5,
    "start_time": "2022-07-23T21:56:28.141Z"
   },
   {
    "duration": 6,
    "start_time": "2022-07-23T21:56:29.227Z"
   },
   {
    "duration": 4,
    "start_time": "2022-07-23T21:56:31.785Z"
   },
   {
    "duration": 4,
    "start_time": "2022-07-23T21:56:32.266Z"
   },
   {
    "duration": 19,
    "start_time": "2022-07-23T21:56:33.093Z"
   },
   {
    "duration": 5,
    "start_time": "2022-07-23T21:56:34.686Z"
   },
   {
    "duration": 4,
    "start_time": "2022-07-23T21:56:35.041Z"
   },
   {
    "duration": 6,
    "start_time": "2022-07-23T21:56:36.606Z"
   },
   {
    "duration": 5,
    "start_time": "2022-07-23T21:56:37.798Z"
   },
   {
    "duration": 4,
    "start_time": "2022-07-23T21:56:39.104Z"
   },
   {
    "duration": 6,
    "start_time": "2022-07-23T21:56:40.952Z"
   },
   {
    "duration": 16,
    "start_time": "2022-07-23T21:56:41.801Z"
   },
   {
    "duration": 17,
    "start_time": "2022-07-23T21:56:43.366Z"
   },
   {
    "duration": 10,
    "start_time": "2022-07-23T21:56:44.346Z"
   },
   {
    "duration": 22,
    "start_time": "2022-07-23T21:56:52.260Z"
   },
   {
    "duration": 9,
    "start_time": "2022-07-23T21:56:54.341Z"
   },
   {
    "duration": 5,
    "start_time": "2022-07-23T21:56:55.357Z"
   },
   {
    "duration": 11,
    "start_time": "2022-07-23T21:56:58.968Z"
   },
   {
    "duration": 15,
    "start_time": "2022-07-23T21:57:07.493Z"
   },
   {
    "duration": 4,
    "start_time": "2022-07-23T21:59:36.705Z"
   },
   {
    "duration": 3,
    "start_time": "2022-07-23T21:59:48.226Z"
   },
   {
    "duration": 4,
    "start_time": "2022-07-23T22:00:07.745Z"
   },
   {
    "duration": 22,
    "start_time": "2022-07-23T22:11:27.885Z"
   },
   {
    "duration": 82,
    "start_time": "2022-07-23T22:11:53.486Z"
   },
   {
    "duration": 1405,
    "start_time": "2022-07-23T22:12:02.567Z"
   },
   {
    "duration": 1655,
    "start_time": "2022-07-23T22:12:17.305Z"
   },
   {
    "duration": 279,
    "start_time": "2022-07-23T22:14:59.727Z"
   },
   {
    "duration": 12,
    "start_time": "2022-07-23T22:15:04.442Z"
   },
   {
    "duration": 24,
    "start_time": "2022-07-23T22:15:57.255Z"
   },
   {
    "duration": 7,
    "start_time": "2022-07-23T22:15:57.906Z"
   },
   {
    "duration": 28,
    "start_time": "2022-07-23T22:15:58.142Z"
   },
   {
    "duration": 9,
    "start_time": "2022-07-23T22:15:58.373Z"
   },
   {
    "duration": 18,
    "start_time": "2022-07-23T22:16:03.466Z"
   },
   {
    "duration": 351,
    "start_time": "2022-07-23T22:16:04.365Z"
   },
   {
    "duration": 18,
    "start_time": "2022-07-23T22:16:04.958Z"
   },
   {
    "duration": 14,
    "start_time": "2022-07-23T22:16:12.966Z"
   },
   {
    "duration": 12,
    "start_time": "2022-07-23T22:16:13.645Z"
   },
   {
    "duration": 9,
    "start_time": "2022-07-23T22:16:15.226Z"
   },
   {
    "duration": 9,
    "start_time": "2022-07-23T22:16:15.914Z"
   },
   {
    "duration": 122,
    "start_time": "2022-07-23T22:16:17.346Z"
   },
   {
    "duration": 123,
    "start_time": "2022-07-23T22:18:07.814Z"
   },
   {
    "duration": 113,
    "start_time": "2022-07-23T22:19:03.825Z"
   },
   {
    "duration": 146,
    "start_time": "2022-07-23T22:19:21.466Z"
   },
   {
    "duration": 123,
    "start_time": "2022-07-23T22:20:48.525Z"
   },
   {
    "duration": 123,
    "start_time": "2022-07-23T22:22:05.945Z"
   },
   {
    "duration": 123,
    "start_time": "2022-07-23T22:23:41.105Z"
   },
   {
    "duration": 9,
    "start_time": "2022-07-23T22:25:47.008Z"
   },
   {
    "duration": 8,
    "start_time": "2022-07-23T22:28:00.265Z"
   },
   {
    "duration": 7,
    "start_time": "2022-07-23T22:56:51.240Z"
   },
   {
    "duration": 17,
    "start_time": "2022-07-23T22:57:14.833Z"
   },
   {
    "duration": 124,
    "start_time": "2022-07-23T22:57:16.012Z"
   },
   {
    "duration": 8,
    "start_time": "2022-07-23T22:57:19.348Z"
   },
   {
    "duration": 33,
    "start_time": "2022-07-23T22:57:20.501Z"
   },
   {
    "duration": 126,
    "start_time": "2022-07-23T22:57:21.993Z"
   },
   {
    "duration": 7,
    "start_time": "2022-07-23T22:57:22.713Z"
   },
   {
    "duration": 187,
    "start_time": "2022-07-23T22:59:37.013Z"
   },
   {
    "duration": 7,
    "start_time": "2022-07-23T23:00:45.658Z"
   },
   {
    "duration": 141,
    "start_time": "2022-07-23T23:04:44.353Z"
   },
   {
    "duration": 135,
    "start_time": "2022-07-23T23:08:46.850Z"
   },
   {
    "duration": 21,
    "start_time": "2022-07-23T23:11:05.288Z"
   },
   {
    "duration": 9,
    "start_time": "2022-07-23T23:11:08.447Z"
   },
   {
    "duration": 10,
    "start_time": "2022-07-23T23:11:40.515Z"
   },
   {
    "duration": 16,
    "start_time": "2022-07-23T23:11:48.115Z"
   },
   {
    "duration": 11,
    "start_time": "2022-07-23T23:13:34.587Z"
   },
   {
    "duration": 8,
    "start_time": "2022-07-23T23:13:45.822Z"
   },
   {
    "duration": 11,
    "start_time": "2022-07-23T23:13:46.087Z"
   },
   {
    "duration": 13,
    "start_time": "2022-07-23T23:13:46.387Z"
   },
   {
    "duration": 17,
    "start_time": "2022-07-23T23:13:46.707Z"
   },
   {
    "duration": 22,
    "start_time": "2022-07-23T23:13:47.387Z"
   },
   {
    "duration": 371,
    "start_time": "2022-07-23T23:13:47.867Z"
   },
   {
    "duration": 276,
    "start_time": "2022-07-23T23:13:59.187Z"
   },
   {
    "duration": 17,
    "start_time": "2022-07-23T23:15:36.975Z"
   },
   {
    "duration": 77,
    "start_time": "2022-07-23T23:15:54.547Z"
   },
   {
    "duration": 10,
    "start_time": "2022-07-23T23:16:12.687Z"
   },
   {
    "duration": 41,
    "start_time": "2022-07-23T23:18:06.667Z"
   },
   {
    "duration": 5,
    "start_time": "2022-07-23T23:18:20.967Z"
   },
   {
    "duration": 6,
    "start_time": "2022-07-23T23:19:19.232Z"
   },
   {
    "duration": 10,
    "start_time": "2022-07-23T23:19:19.532Z"
   },
   {
    "duration": 9,
    "start_time": "2022-07-23T23:19:19.872Z"
   },
   {
    "duration": 17,
    "start_time": "2022-07-23T23:19:20.252Z"
   },
   {
    "duration": 11,
    "start_time": "2022-07-23T23:19:21.539Z"
   },
   {
    "duration": 254,
    "start_time": "2022-07-23T23:19:22.452Z"
   },
   {
    "duration": 328,
    "start_time": "2022-07-23T23:20:04.130Z"
   },
   {
    "duration": 313,
    "start_time": "2022-07-23T23:20:15.250Z"
   },
   {
    "duration": 311,
    "start_time": "2022-07-23T23:20:27.490Z"
   },
   {
    "duration": 365,
    "start_time": "2022-07-23T23:20:40.510Z"
   },
   {
    "duration": 274,
    "start_time": "2022-07-23T23:20:52.190Z"
   },
   {
    "duration": 1504,
    "start_time": "2022-07-24T12:35:47.692Z"
   },
   {
    "duration": 188,
    "start_time": "2022-07-24T12:35:49.198Z"
   },
   {
    "duration": 20,
    "start_time": "2022-07-24T12:35:49.387Z"
   },
   {
    "duration": 4,
    "start_time": "2022-07-24T12:35:51.438Z"
   },
   {
    "duration": 5,
    "start_time": "2022-07-24T12:35:53.256Z"
   },
   {
    "duration": 5,
    "start_time": "2022-07-24T12:35:53.603Z"
   },
   {
    "duration": 5,
    "start_time": "2022-07-24T12:35:54.000Z"
   },
   {
    "duration": 16,
    "start_time": "2022-07-24T12:35:54.521Z"
   },
   {
    "duration": 10,
    "start_time": "2022-07-24T12:35:57.371Z"
   },
   {
    "duration": 4,
    "start_time": "2022-07-24T12:35:58.074Z"
   },
   {
    "duration": 5,
    "start_time": "2022-07-24T12:36:01.442Z"
   },
   {
    "duration": 5,
    "start_time": "2022-07-24T12:36:03.443Z"
   },
   {
    "duration": 3,
    "start_time": "2022-07-24T12:36:06.963Z"
   },
   {
    "duration": 4,
    "start_time": "2022-07-24T12:36:12.289Z"
   },
   {
    "duration": 16,
    "start_time": "2022-07-24T12:36:13.258Z"
   },
   {
    "duration": 3,
    "start_time": "2022-07-24T12:36:15.041Z"
   },
   {
    "duration": 8,
    "start_time": "2022-07-24T12:36:15.561Z"
   },
   {
    "duration": 6,
    "start_time": "2022-07-24T12:36:16.213Z"
   },
   {
    "duration": 7,
    "start_time": "2022-07-24T12:36:16.663Z"
   },
   {
    "duration": 5,
    "start_time": "2022-07-24T12:36:17.574Z"
   },
   {
    "duration": 6,
    "start_time": "2022-07-24T12:36:19.270Z"
   },
   {
    "duration": 15,
    "start_time": "2022-07-24T12:36:20.148Z"
   },
   {
    "duration": 17,
    "start_time": "2022-07-24T12:36:21.188Z"
   },
   {
    "duration": 10,
    "start_time": "2022-07-24T12:36:22.757Z"
   },
   {
    "duration": 23,
    "start_time": "2022-07-24T12:36:23.540Z"
   },
   {
    "duration": 11,
    "start_time": "2022-07-24T12:36:25.373Z"
   },
   {
    "duration": 5,
    "start_time": "2022-07-24T12:36:26.290Z"
   },
   {
    "duration": 10,
    "start_time": "2022-07-24T12:36:27.991Z"
   },
   {
    "duration": 14,
    "start_time": "2022-07-24T12:36:29.390Z"
   },
   {
    "duration": 31,
    "start_time": "2022-07-24T12:37:56.222Z"
   },
   {
    "duration": 6,
    "start_time": "2022-07-24T12:38:22.440Z"
   },
   {
    "duration": 1303,
    "start_time": "2022-07-24T12:38:35.718Z"
   },
   {
    "duration": 13,
    "start_time": "2022-07-24T12:38:49.209Z"
   },
   {
    "duration": 14,
    "start_time": "2022-07-24T12:40:06.816Z"
   },
   {
    "duration": 6,
    "start_time": "2022-07-24T12:41:07.139Z"
   },
   {
    "duration": 6,
    "start_time": "2022-07-24T12:41:25.579Z"
   },
   {
    "duration": 6,
    "start_time": "2022-07-24T12:41:37.507Z"
   },
   {
    "duration": 12,
    "start_time": "2022-07-24T12:41:53.440Z"
   },
   {
    "duration": 6,
    "start_time": "2022-07-24T12:42:03.315Z"
   },
   {
    "duration": 10,
    "start_time": "2022-07-24T12:42:21.147Z"
   },
   {
    "duration": 882,
    "start_time": "2022-07-24T12:42:27.689Z"
   },
   {
    "duration": 12,
    "start_time": "2022-07-24T12:43:52.319Z"
   },
   {
    "duration": 8,
    "start_time": "2022-07-24T12:44:05.292Z"
   },
   {
    "duration": 11,
    "start_time": "2022-07-24T12:44:44.997Z"
   },
   {
    "duration": 303,
    "start_time": "2022-07-24T12:45:51.940Z"
   },
   {
    "duration": 13,
    "start_time": "2022-07-24T12:45:58.946Z"
   },
   {
    "duration": 17,
    "start_time": "2022-07-24T12:46:00.413Z"
   },
   {
    "duration": 8,
    "start_time": "2022-07-24T12:46:02.142Z"
   },
   {
    "duration": 36,
    "start_time": "2022-07-24T12:46:02.797Z"
   },
   {
    "duration": 6,
    "start_time": "2022-07-24T12:46:03.637Z"
   },
   {
    "duration": 16,
    "start_time": "2022-07-24T12:46:08.047Z"
   },
   {
    "duration": 467,
    "start_time": "2022-07-24T12:46:08.908Z"
   },
   {
    "duration": 14,
    "start_time": "2022-07-24T12:46:09.913Z"
   },
   {
    "duration": 12,
    "start_time": "2022-07-24T12:46:12.300Z"
   },
   {
    "duration": 17,
    "start_time": "2022-07-24T12:46:13.224Z"
   },
   {
    "duration": 9,
    "start_time": "2022-07-24T12:46:15.213Z"
   },
   {
    "duration": 7,
    "start_time": "2022-07-24T12:46:16.152Z"
   },
   {
    "duration": 150,
    "start_time": "2022-07-24T12:46:18.352Z"
   },
   {
    "duration": 13,
    "start_time": "2022-07-24T12:50:38.465Z"
   },
   {
    "duration": 22,
    "start_time": "2022-07-24T12:53:42.472Z"
   },
   {
    "duration": 1677,
    "start_time": "2022-07-24T18:52:36.482Z"
   },
   {
    "duration": 215,
    "start_time": "2022-07-24T18:52:38.162Z"
   },
   {
    "duration": 27,
    "start_time": "2022-07-24T18:52:38.379Z"
   },
   {
    "duration": 4,
    "start_time": "2022-07-24T18:52:38.633Z"
   },
   {
    "duration": 8,
    "start_time": "2022-07-24T18:52:39.786Z"
   },
   {
    "duration": 13,
    "start_time": "2022-07-24T18:52:40.123Z"
   },
   {
    "duration": 13,
    "start_time": "2022-07-24T18:52:40.426Z"
   },
   {
    "duration": 23,
    "start_time": "2022-07-24T18:52:40.708Z"
   },
   {
    "duration": 12,
    "start_time": "2022-07-24T18:52:42.734Z"
   },
   {
    "duration": 4,
    "start_time": "2022-07-24T18:52:43.377Z"
   },
   {
    "duration": 8,
    "start_time": "2022-07-24T18:52:44.735Z"
   },
   {
    "duration": 9,
    "start_time": "2022-07-24T18:52:45.364Z"
   },
   {
    "duration": 7,
    "start_time": "2022-07-24T18:52:46.489Z"
   },
   {
    "duration": 5,
    "start_time": "2022-07-24T18:52:46.831Z"
   },
   {
    "duration": 16,
    "start_time": "2022-07-24T18:52:47.082Z"
   },
   {
    "duration": 5,
    "start_time": "2022-07-24T18:52:47.691Z"
   },
   {
    "duration": 4,
    "start_time": "2022-07-24T18:52:47.991Z"
   },
   {
    "duration": 9,
    "start_time": "2022-07-24T18:52:48.551Z"
   },
   {
    "duration": 7,
    "start_time": "2022-07-24T18:52:48.858Z"
   },
   {
    "duration": 7,
    "start_time": "2022-07-24T18:52:49.433Z"
   },
   {
    "duration": 9,
    "start_time": "2022-07-24T18:52:52.038Z"
   },
   {
    "duration": 25,
    "start_time": "2022-07-24T18:52:52.531Z"
   },
   {
    "duration": 24,
    "start_time": "2022-07-24T18:52:53.179Z"
   },
   {
    "duration": 16,
    "start_time": "2022-07-24T18:52:54.052Z"
   },
   {
    "duration": 39,
    "start_time": "2022-07-24T18:52:54.498Z"
   },
   {
    "duration": 11,
    "start_time": "2022-07-24T19:07:30.636Z"
   },
   {
    "duration": 1434,
    "start_time": "2022-07-25T15:36:26.414Z"
   },
   {
    "duration": 274,
    "start_time": "2022-07-25T15:36:27.850Z"
   },
   {
    "duration": 20,
    "start_time": "2022-07-25T15:36:28.126Z"
   },
   {
    "duration": 4,
    "start_time": "2022-07-25T15:36:28.367Z"
   },
   {
    "duration": 7,
    "start_time": "2022-07-25T15:36:29.374Z"
   },
   {
    "duration": 6,
    "start_time": "2022-07-25T15:36:29.693Z"
   },
   {
    "duration": 5,
    "start_time": "2022-07-25T15:36:30.120Z"
   },
   {
    "duration": 15,
    "start_time": "2022-07-25T15:36:30.410Z"
   },
   {
    "duration": 9,
    "start_time": "2022-07-25T15:36:31.219Z"
   },
   {
    "duration": 5,
    "start_time": "2022-07-25T15:36:31.511Z"
   },
   {
    "duration": 6,
    "start_time": "2022-07-25T15:36:32.586Z"
   },
   {
    "duration": 5,
    "start_time": "2022-07-25T15:36:33.277Z"
   },
   {
    "duration": 3,
    "start_time": "2022-07-25T15:36:34.137Z"
   },
   {
    "duration": 3,
    "start_time": "2022-07-25T15:36:34.432Z"
   },
   {
    "duration": 15,
    "start_time": "2022-07-25T15:36:34.725Z"
   },
   {
    "duration": 3,
    "start_time": "2022-07-25T15:36:35.469Z"
   },
   {
    "duration": 4,
    "start_time": "2022-07-25T15:36:35.738Z"
   },
   {
    "duration": 5,
    "start_time": "2022-07-25T15:36:37.131Z"
   },
   {
    "duration": 6,
    "start_time": "2022-07-25T15:36:37.139Z"
   },
   {
    "duration": 5,
    "start_time": "2022-07-25T15:36:37.531Z"
   },
   {
    "duration": 5,
    "start_time": "2022-07-25T15:36:38.207Z"
   },
   {
    "duration": 12,
    "start_time": "2022-07-25T15:36:38.538Z"
   },
   {
    "duration": 17,
    "start_time": "2022-07-25T15:36:38.933Z"
   },
   {
    "duration": 9,
    "start_time": "2022-07-25T15:36:39.241Z"
   },
   {
    "duration": 30,
    "start_time": "2022-07-25T15:36:39.642Z"
   },
   {
    "duration": 8,
    "start_time": "2022-07-25T15:36:40.246Z"
   },
   {
    "duration": 8,
    "start_time": "2022-07-25T15:36:42.705Z"
   },
   {
    "duration": 11,
    "start_time": "2022-07-25T15:36:47.447Z"
   },
   {
    "duration": 4,
    "start_time": "2022-07-25T15:36:47.771Z"
   },
   {
    "duration": 17,
    "start_time": "2022-07-25T15:36:48.434Z"
   },
   {
    "duration": 6,
    "start_time": "2022-07-25T15:36:48.827Z"
   },
   {
    "duration": 13,
    "start_time": "2022-07-25T15:36:53.084Z"
   },
   {
    "duration": 11,
    "start_time": "2022-07-25T15:36:54.747Z"
   },
   {
    "duration": 8,
    "start_time": "2022-07-25T15:37:08.624Z"
   },
   {
    "duration": 33,
    "start_time": "2022-07-25T15:37:09.481Z"
   },
   {
    "duration": 161,
    "start_time": "2022-07-25T15:38:15.218Z"
   },
   {
    "duration": 9,
    "start_time": "2022-07-25T15:38:50.271Z"
   },
   {
    "duration": 12,
    "start_time": "2022-07-25T15:38:51.577Z"
   },
   {
    "duration": 9,
    "start_time": "2022-07-25T15:38:53.398Z"
   },
   {
    "duration": 9,
    "start_time": "2022-07-25T15:38:53.726Z"
   },
   {
    "duration": 9,
    "start_time": "2022-07-25T15:38:54.056Z"
   },
   {
    "duration": 13,
    "start_time": "2022-07-25T15:38:54.797Z"
   },
   {
    "duration": 5,
    "start_time": "2022-07-25T15:38:55.128Z"
   },
   {
    "duration": 8,
    "start_time": "2022-07-25T15:38:56.829Z"
   },
   {
    "duration": 12,
    "start_time": "2022-07-25T15:38:57.917Z"
   },
   {
    "duration": 9,
    "start_time": "2022-07-25T15:40:09.327Z"
   },
   {
    "duration": 6,
    "start_time": "2022-07-25T15:40:09.699Z"
   },
   {
    "duration": 11,
    "start_time": "2022-07-25T15:40:27.771Z"
   },
   {
    "duration": 92,
    "start_time": "2022-07-25T15:40:28.089Z"
   },
   {
    "duration": 17,
    "start_time": "2022-07-25T15:40:28.443Z"
   },
   {
    "duration": 10,
    "start_time": "2022-07-25T15:40:30.071Z"
   },
   {
    "duration": 10,
    "start_time": "2022-07-25T15:40:30.671Z"
   },
   {
    "duration": 5,
    "start_time": "2022-07-25T15:40:32.242Z"
   },
   {
    "duration": 6,
    "start_time": "2022-07-25T15:40:32.770Z"
   },
   {
    "duration": 124,
    "start_time": "2022-07-25T15:40:33.715Z"
   },
   {
    "duration": 109,
    "start_time": "2022-07-25T15:40:34.398Z"
   },
   {
    "duration": 7,
    "start_time": "2022-07-25T15:40:36.621Z"
   },
   {
    "duration": 26,
    "start_time": "2022-07-25T15:40:36.662Z"
   },
   {
    "duration": 119,
    "start_time": "2022-07-25T15:40:38.947Z"
   },
   {
    "duration": 104,
    "start_time": "2022-07-25T15:40:39.573Z"
   },
   {
    "duration": 8,
    "start_time": "2022-07-25T15:40:40.983Z"
   },
   {
    "duration": 14,
    "start_time": "2022-07-25T15:40:41.533Z"
   },
   {
    "duration": 108,
    "start_time": "2022-07-25T15:40:42.992Z"
   },
   {
    "duration": 119,
    "start_time": "2022-07-25T15:40:43.486Z"
   },
   {
    "duration": 6,
    "start_time": "2022-07-25T15:40:44.711Z"
   },
   {
    "duration": 21,
    "start_time": "2022-07-25T15:40:46.023Z"
   },
   {
    "duration": 137,
    "start_time": "2022-07-25T15:40:47.878Z"
   },
   {
    "duration": 175,
    "start_time": "2022-07-25T15:40:48.590Z"
   },
   {
    "duration": 12,
    "start_time": "2022-07-25T15:40:49.848Z"
   },
   {
    "duration": 20,
    "start_time": "2022-07-25T15:40:50.668Z"
   },
   {
    "duration": 9,
    "start_time": "2022-07-25T15:41:02.436Z"
   },
   {
    "duration": 32,
    "start_time": "2022-07-25T15:48:06.199Z"
   },
   {
    "duration": 18,
    "start_time": "2022-07-25T15:48:08.910Z"
   },
   {
    "duration": 26,
    "start_time": "2022-07-25T15:48:54.745Z"
   },
   {
    "duration": 9,
    "start_time": "2022-07-25T15:48:56.236Z"
   },
   {
    "duration": 37458,
    "start_time": "2022-07-25T15:50:52.583Z"
   },
   {
    "duration": 180360,
    "start_time": "2022-07-25T15:53:30.077Z"
   },
   {
    "duration": 4,
    "start_time": "2022-07-25T16:11:25.348Z"
   },
   {
    "duration": 3,
    "start_time": "2022-07-25T16:24:14.760Z"
   },
   {
    "duration": 22,
    "start_time": "2022-07-25T16:24:48.896Z"
   },
   {
    "duration": 17,
    "start_time": "2022-07-25T16:25:31.587Z"
   },
   {
    "duration": 25,
    "start_time": "2022-07-25T16:25:54.308Z"
   },
   {
    "duration": 27,
    "start_time": "2022-07-25T16:26:31.758Z"
   },
   {
    "duration": 27,
    "start_time": "2022-07-25T16:29:36.275Z"
   },
   {
    "duration": 27,
    "start_time": "2022-07-25T16:30:37.379Z"
   },
   {
    "duration": 16,
    "start_time": "2022-07-25T16:30:43.454Z"
   },
   {
    "duration": 83,
    "start_time": "2022-07-25T16:32:14.616Z"
   },
   {
    "duration": 9,
    "start_time": "2022-07-25T16:33:00.578Z"
   },
   {
    "duration": 5,
    "start_time": "2022-07-25T16:34:25.579Z"
   },
   {
    "duration": 6,
    "start_time": "2022-07-25T16:35:37.807Z"
   },
   {
    "duration": 9,
    "start_time": "2022-07-25T16:36:04.939Z"
   },
   {
    "duration": 35,
    "start_time": "2022-07-25T16:49:51.366Z"
   },
   {
    "duration": 101,
    "start_time": "2022-07-25T16:55:31.780Z"
   },
   {
    "duration": 23,
    "start_time": "2022-07-25T16:55:37.723Z"
   },
   {
    "duration": 9,
    "start_time": "2022-07-25T16:56:07.613Z"
   },
   {
    "duration": 22,
    "start_time": "2022-07-25T16:56:33.372Z"
   },
   {
    "duration": 8,
    "start_time": "2022-07-25T16:56:46.890Z"
   },
   {
    "duration": 23,
    "start_time": "2022-07-25T16:56:53.982Z"
   },
   {
    "duration": 39,
    "start_time": "2022-07-25T17:00:16.692Z"
   },
   {
    "duration": 40,
    "start_time": "2022-07-25T17:00:20.770Z"
   },
   {
    "duration": 8,
    "start_time": "2022-07-25T17:00:37.674Z"
   },
   {
    "duration": 24,
    "start_time": "2022-07-25T17:00:39.656Z"
   },
   {
    "duration": 18,
    "start_time": "2022-07-25T17:03:30.189Z"
   },
   {
    "duration": 12,
    "start_time": "2022-07-25T17:03:58.771Z"
   },
   {
    "duration": 14,
    "start_time": "2022-07-25T17:04:00.427Z"
   },
   {
    "duration": 10,
    "start_time": "2022-07-25T17:04:18.787Z"
   },
   {
    "duration": 12,
    "start_time": "2022-07-25T17:04:19.117Z"
   },
   {
    "duration": 5,
    "start_time": "2022-07-25T17:04:21.200Z"
   },
   {
    "duration": 14,
    "start_time": "2022-07-25T17:04:22.253Z"
   },
   {
    "duration": 34,
    "start_time": "2022-07-25T17:04:48.630Z"
   },
   {
    "duration": 10,
    "start_time": "2022-07-25T17:04:57.339Z"
   },
   {
    "duration": 8,
    "start_time": "2022-07-25T17:04:58.076Z"
   },
   {
    "duration": 6,
    "start_time": "2022-07-25T17:05:13.066Z"
   },
   {
    "duration": 7,
    "start_time": "2022-07-25T17:05:13.668Z"
   },
   {
    "duration": 4,
    "start_time": "2022-07-25T17:05:25.500Z"
   },
   {
    "duration": 8,
    "start_time": "2022-07-25T17:05:27.777Z"
   },
   {
    "duration": 25,
    "start_time": "2022-07-25T17:05:39.879Z"
   },
   {
    "duration": 9,
    "start_time": "2022-07-25T17:06:22.896Z"
   },
   {
    "duration": 13,
    "start_time": "2022-07-25T17:06:47.742Z"
   },
   {
    "duration": 22,
    "start_time": "2022-07-25T17:06:48.145Z"
   },
   {
    "duration": 13,
    "start_time": "2022-07-25T17:06:58.262Z"
   },
   {
    "duration": 7,
    "start_time": "2022-07-25T17:06:58.702Z"
   },
   {
    "duration": 91,
    "start_time": "2022-07-25T17:07:57.289Z"
   },
   {
    "duration": 7,
    "start_time": "2022-07-25T17:09:34.267Z"
   },
   {
    "duration": 12,
    "start_time": "2022-07-25T17:09:38.171Z"
   },
   {
    "duration": 8,
    "start_time": "2022-07-25T17:09:45.885Z"
   },
   {
    "duration": 4,
    "start_time": "2022-07-25T17:09:47.377Z"
   },
   {
    "duration": 7,
    "start_time": "2022-07-25T17:09:48.071Z"
   },
   {
    "duration": 15,
    "start_time": "2022-07-25T17:09:49.150Z"
   },
   {
    "duration": 414,
    "start_time": "2022-07-25T17:09:49.952Z"
   },
   {
    "duration": 11,
    "start_time": "2022-07-25T17:17:59.565Z"
   },
   {
    "duration": 7,
    "start_time": "2022-07-25T17:18:00.073Z"
   },
   {
    "duration": 7,
    "start_time": "2022-07-25T17:18:00.374Z"
   },
   {
    "duration": 3,
    "start_time": "2022-07-25T17:18:01.280Z"
   },
   {
    "duration": 324,
    "start_time": "2022-07-25T18:40:59.569Z"
   },
   {
    "duration": 382,
    "start_time": "2022-07-25T18:44:54.997Z"
   },
   {
    "duration": 347,
    "start_time": "2022-07-25T18:45:11.070Z"
   },
   {
    "duration": 740,
    "start_time": "2022-07-25T18:50:47.567Z"
   },
   {
    "duration": 6,
    "start_time": "2022-07-25T18:51:35.876Z"
   },
   {
    "duration": 9,
    "start_time": "2022-07-25T18:51:36.467Z"
   },
   {
    "duration": 8,
    "start_time": "2022-07-25T18:51:37.513Z"
   },
   {
    "duration": 14,
    "start_time": "2022-07-25T18:51:39.079Z"
   },
   {
    "duration": 17,
    "start_time": "2022-07-25T18:51:41.194Z"
   },
   {
    "duration": 241,
    "start_time": "2022-07-25T18:51:41.683Z"
   },
   {
    "duration": 3,
    "start_time": "2022-07-25T23:51:39.264Z"
   },
   {
    "duration": 204,
    "start_time": "2022-07-25T23:51:40.334Z"
   },
   {
    "duration": 12,
    "start_time": "2022-07-25T23:51:40.604Z"
   },
   {
    "duration": 3,
    "start_time": "2022-07-25T23:51:41.850Z"
   },
   {
    "duration": 5,
    "start_time": "2022-07-25T23:51:43.027Z"
   },
   {
    "duration": 4,
    "start_time": "2022-07-25T23:51:43.310Z"
   },
   {
    "duration": 4,
    "start_time": "2022-07-25T23:51:43.571Z"
   },
   {
    "duration": 12,
    "start_time": "2022-07-25T23:51:43.895Z"
   },
   {
    "duration": 8,
    "start_time": "2022-07-25T23:51:44.806Z"
   },
   {
    "duration": 3,
    "start_time": "2022-07-25T23:51:45.128Z"
   },
   {
    "duration": 4,
    "start_time": "2022-07-25T23:51:46.277Z"
   },
   {
    "duration": 5,
    "start_time": "2022-07-25T23:51:46.840Z"
   },
   {
    "duration": 3,
    "start_time": "2022-07-25T23:51:47.711Z"
   },
   {
    "duration": 3,
    "start_time": "2022-07-25T23:51:48.201Z"
   },
   {
    "duration": 13,
    "start_time": "2022-07-25T23:51:48.526Z"
   },
   {
    "duration": 3,
    "start_time": "2022-07-25T23:51:49.287Z"
   },
   {
    "duration": 4,
    "start_time": "2022-07-25T23:51:49.591Z"
   },
   {
    "duration": 5,
    "start_time": "2022-07-25T23:51:50.192Z"
   },
   {
    "duration": 4,
    "start_time": "2022-07-25T23:51:54.452Z"
   },
   {
    "duration": 4,
    "start_time": "2022-07-25T23:51:55.315Z"
   },
   {
    "duration": 4,
    "start_time": "2022-07-25T23:51:56.168Z"
   },
   {
    "duration": 13,
    "start_time": "2022-07-25T23:51:56.504Z"
   },
   {
    "duration": 13,
    "start_time": "2022-07-25T23:51:56.792Z"
   },
   {
    "duration": 9,
    "start_time": "2022-07-25T23:51:57.121Z"
   },
   {
    "duration": 20,
    "start_time": "2022-07-25T23:51:57.422Z"
   },
   {
    "duration": 8,
    "start_time": "2022-07-25T23:51:57.858Z"
   },
   {
    "duration": 7,
    "start_time": "2022-07-25T23:51:58.149Z"
   },
   {
    "duration": 7,
    "start_time": "2022-07-25T23:51:58.672Z"
   },
   {
    "duration": 7,
    "start_time": "2022-07-25T23:51:59.001Z"
   },
   {
    "duration": 3,
    "start_time": "2022-07-25T23:51:59.310Z"
   },
   {
    "duration": 10,
    "start_time": "2022-07-25T23:51:59.908Z"
   },
   {
    "duration": 4,
    "start_time": "2022-07-25T23:52:00.156Z"
   },
   {
    "duration": 8,
    "start_time": "2022-07-25T23:52:01.534Z"
   },
   {
    "duration": 10,
    "start_time": "2022-07-25T23:52:02.695Z"
   },
   {
    "duration": 6,
    "start_time": "2022-07-25T23:52:03.304Z"
   },
   {
    "duration": 8,
    "start_time": "2022-07-25T23:52:04.918Z"
   },
   {
    "duration": 72,
    "start_time": "2022-07-25T23:52:05.424Z"
   },
   {
    "duration": 10,
    "start_time": "2022-07-25T23:52:06.018Z"
   },
   {
    "duration": 9,
    "start_time": "2022-07-25T23:52:07.372Z"
   },
   {
    "duration": 10,
    "start_time": "2022-07-25T23:52:07.831Z"
   },
   {
    "duration": 5,
    "start_time": "2022-07-25T23:52:08.998Z"
   },
   {
    "duration": 6,
    "start_time": "2022-07-25T23:52:09.491Z"
   },
   {
    "duration": 85,
    "start_time": "2022-07-25T23:52:10.798Z"
   },
   {
    "duration": 90,
    "start_time": "2022-07-25T23:52:11.084Z"
   },
   {
    "duration": 5,
    "start_time": "2022-07-25T23:52:12.353Z"
   },
   {
    "duration": 13,
    "start_time": "2022-07-25T23:52:12.876Z"
   },
   {
    "duration": 90,
    "start_time": "2022-07-25T23:52:13.708Z"
   },
   {
    "duration": 86,
    "start_time": "2022-07-25T23:52:13.985Z"
   },
   {
    "duration": 6,
    "start_time": "2022-07-25T23:52:14.547Z"
   },
   {
    "duration": 13,
    "start_time": "2022-07-25T23:52:14.830Z"
   },
   {
    "duration": 83,
    "start_time": "2022-07-25T23:52:15.344Z"
   },
   {
    "duration": 101,
    "start_time": "2022-07-25T23:52:15.615Z"
   },
   {
    "duration": 7,
    "start_time": "2022-07-25T23:52:16.218Z"
   },
   {
    "duration": 13,
    "start_time": "2022-07-25T23:52:17.028Z"
   },
   {
    "duration": 87,
    "start_time": "2022-07-25T23:52:17.630Z"
   },
   {
    "duration": 96,
    "start_time": "2022-07-25T23:52:17.964Z"
   },
   {
    "duration": 6,
    "start_time": "2022-07-25T23:52:18.719Z"
   },
   {
    "duration": 12,
    "start_time": "2022-07-25T23:52:19.086Z"
   },
   {
    "duration": 23,
    "start_time": "2022-07-25T23:52:22.725Z"
   },
   {
    "duration": 7,
    "start_time": "2022-07-25T23:52:23.150Z"
   },
   {
    "duration": 6,
    "start_time": "2022-07-25T23:52:23.638Z"
   },
   {
    "duration": 3,
    "start_time": "2022-07-25T23:52:24.778Z"
   },
   {
    "duration": 6,
    "start_time": "2022-07-25T23:52:25.345Z"
   },
   {
    "duration": 4,
    "start_time": "2022-07-25T23:52:25.824Z"
   },
   {
    "duration": 297,
    "start_time": "2022-07-25T23:52:33.527Z"
   },
   {
    "duration": 5,
    "start_time": "2022-07-25T23:52:35.869Z"
   },
   {
    "duration": 9,
    "start_time": "2022-07-25T23:52:36.151Z"
   },
   {
    "duration": 8,
    "start_time": "2022-07-25T23:52:36.646Z"
   },
   {
    "duration": 12,
    "start_time": "2022-07-25T23:52:37.128Z"
   },
   {
    "duration": 17,
    "start_time": "2022-07-25T23:52:42.328Z"
   },
   {
    "duration": 221,
    "start_time": "2022-07-25T23:52:42.878Z"
   },
   {
    "duration": 6,
    "start_time": "2022-07-25T23:52:50.307Z"
   },
   {
    "duration": 7,
    "start_time": "2022-07-25T23:52:56.043Z"
   },
   {
    "duration": 6,
    "start_time": "2022-07-26T00:00:24.229Z"
   },
   {
    "duration": 12,
    "start_time": "2022-07-26T00:00:24.578Z"
   },
   {
    "duration": 8,
    "start_time": "2022-07-26T00:00:25.138Z"
   },
   {
    "duration": 12,
    "start_time": "2022-07-26T00:00:25.947Z"
   },
   {
    "duration": 18,
    "start_time": "2022-07-26T00:00:28.021Z"
   },
   {
    "duration": 258,
    "start_time": "2022-07-26T00:00:28.536Z"
   },
   {
    "duration": 5,
    "start_time": "2022-07-26T00:00:33.628Z"
   },
   {
    "duration": 5,
    "start_time": "2022-07-26T00:00:35.489Z"
   },
   {
    "duration": 8,
    "start_time": "2022-07-26T00:00:47.815Z"
   },
   {
    "duration": 8,
    "start_time": "2022-07-26T00:00:53.503Z"
   },
   {
    "duration": 14,
    "start_time": "2022-07-26T00:00:54.277Z"
   },
   {
    "duration": 7,
    "start_time": "2022-07-26T00:01:03.294Z"
   },
   {
    "duration": 230,
    "start_time": "2022-07-26T00:01:53.122Z"
   },
   {
    "duration": 258,
    "start_time": "2022-07-26T00:03:07.785Z"
   },
   {
    "duration": 235,
    "start_time": "2022-07-26T00:03:56.172Z"
   },
   {
    "duration": 268,
    "start_time": "2022-07-26T00:06:58.065Z"
   },
   {
    "duration": 239,
    "start_time": "2022-07-26T00:07:16.160Z"
   },
   {
    "duration": 228,
    "start_time": "2022-07-26T00:07:26.352Z"
   },
   {
    "duration": 136,
    "start_time": "2022-07-26T00:08:16.584Z"
   },
   {
    "duration": 156,
    "start_time": "2022-07-26T00:10:02.637Z"
   },
   {
    "duration": 142,
    "start_time": "2022-07-26T00:10:11.447Z"
   },
   {
    "duration": 241,
    "start_time": "2022-07-26T00:12:28.016Z"
   },
   {
    "duration": 231,
    "start_time": "2022-07-26T00:12:55.807Z"
   },
   {
    "duration": 209,
    "start_time": "2022-07-26T00:13:20.165Z"
   },
   {
    "duration": 240,
    "start_time": "2022-07-26T00:16:59.068Z"
   },
   {
    "duration": 224,
    "start_time": "2022-07-26T00:23:05.184Z"
   },
   {
    "duration": 218,
    "start_time": "2022-07-26T00:25:20.442Z"
   },
   {
    "duration": 1278,
    "start_time": "2022-07-26T13:48:54.319Z"
   },
   {
    "duration": 200,
    "start_time": "2022-07-26T13:48:56.083Z"
   },
   {
    "duration": 16,
    "start_time": "2022-07-26T13:48:56.862Z"
   },
   {
    "duration": 3,
    "start_time": "2022-07-26T13:48:58.649Z"
   },
   {
    "duration": 5,
    "start_time": "2022-07-26T13:48:59.978Z"
   },
   {
    "duration": 5,
    "start_time": "2022-07-26T13:49:00.513Z"
   },
   {
    "duration": 4,
    "start_time": "2022-07-26T13:49:00.931Z"
   },
   {
    "duration": 14,
    "start_time": "2022-07-26T13:49:01.270Z"
   },
   {
    "duration": 9,
    "start_time": "2022-07-26T13:49:02.473Z"
   },
   {
    "duration": 3,
    "start_time": "2022-07-26T13:49:02.823Z"
   },
   {
    "duration": 5,
    "start_time": "2022-07-26T13:49:04.381Z"
   },
   {
    "duration": 5,
    "start_time": "2022-07-26T13:49:05.264Z"
   },
   {
    "duration": 3,
    "start_time": "2022-07-26T13:49:22.916Z"
   },
   {
    "duration": 4,
    "start_time": "2022-07-26T13:49:23.562Z"
   },
   {
    "duration": 12,
    "start_time": "2022-07-26T13:49:23.954Z"
   },
   {
    "duration": 3,
    "start_time": "2022-07-26T13:49:25.083Z"
   },
   {
    "duration": 4,
    "start_time": "2022-07-26T13:49:25.774Z"
   },
   {
    "duration": 14,
    "start_time": "2022-07-26T13:49:26.400Z"
   },
   {
    "duration": 5,
    "start_time": "2022-07-26T13:49:26.928Z"
   },
   {
    "duration": 5,
    "start_time": "2022-07-26T13:49:27.529Z"
   },
   {
    "duration": 4,
    "start_time": "2022-07-26T13:49:28.145Z"
   },
   {
    "duration": 24,
    "start_time": "2022-07-26T13:49:28.489Z"
   },
   {
    "duration": 13,
    "start_time": "2022-07-26T13:49:28.734Z"
   },
   {
    "duration": 8,
    "start_time": "2022-07-26T13:49:29.224Z"
   },
   {
    "duration": 26,
    "start_time": "2022-07-26T13:49:29.581Z"
   },
   {
    "duration": 8,
    "start_time": "2022-07-26T13:49:30.186Z"
   },
   {
    "duration": 14,
    "start_time": "2022-07-26T13:49:30.493Z"
   },
   {
    "duration": 7,
    "start_time": "2022-07-26T13:49:31.085Z"
   },
   {
    "duration": 6,
    "start_time": "2022-07-26T13:49:31.389Z"
   },
   {
    "duration": 4,
    "start_time": "2022-07-26T13:49:31.689Z"
   },
   {
    "duration": 11,
    "start_time": "2022-07-26T13:49:32.256Z"
   },
   {
    "duration": 5,
    "start_time": "2022-07-26T13:49:32.513Z"
   },
   {
    "duration": 8,
    "start_time": "2022-07-26T13:49:33.236Z"
   },
   {
    "duration": 9,
    "start_time": "2022-07-26T13:49:33.752Z"
   },
   {
    "duration": 6,
    "start_time": "2022-07-26T13:49:34.225Z"
   },
   {
    "duration": 8,
    "start_time": "2022-07-26T13:49:35.159Z"
   },
   {
    "duration": 97,
    "start_time": "2022-07-26T13:49:35.417Z"
   },
   {
    "duration": 9,
    "start_time": "2022-07-26T13:49:35.675Z"
   },
   {
    "duration": 9,
    "start_time": "2022-07-26T13:49:36.413Z"
   },
   {
    "duration": 9,
    "start_time": "2022-07-26T13:49:36.645Z"
   },
   {
    "duration": 5,
    "start_time": "2022-07-26T13:49:37.168Z"
   },
   {
    "duration": 8,
    "start_time": "2022-07-26T13:49:37.413Z"
   },
   {
    "duration": 108,
    "start_time": "2022-07-26T13:49:38.156Z"
   },
   {
    "duration": 111,
    "start_time": "2022-07-26T13:50:06.702Z"
   },
   {
    "duration": 7,
    "start_time": "2022-07-26T13:50:07.544Z"
   },
   {
    "duration": 14,
    "start_time": "2022-07-26T13:50:08.148Z"
   },
   {
    "duration": 106,
    "start_time": "2022-07-26T13:50:09.185Z"
   },
   {
    "duration": 97,
    "start_time": "2022-07-26T13:50:09.559Z"
   },
   {
    "duration": 6,
    "start_time": "2022-07-26T13:50:10.294Z"
   },
   {
    "duration": 14,
    "start_time": "2022-07-26T13:50:10.718Z"
   },
   {
    "duration": 99,
    "start_time": "2022-07-26T13:50:11.532Z"
   },
   {
    "duration": 110,
    "start_time": "2022-07-26T13:50:11.845Z"
   },
   {
    "duration": 7,
    "start_time": "2022-07-26T13:50:12.416Z"
   },
   {
    "duration": 13,
    "start_time": "2022-07-26T13:50:13.017Z"
   },
   {
    "duration": 96,
    "start_time": "2022-07-26T13:50:13.599Z"
   },
   {
    "duration": 110,
    "start_time": "2022-07-26T13:50:13.910Z"
   },
   {
    "duration": 6,
    "start_time": "2022-07-26T13:50:14.459Z"
   },
   {
    "duration": 14,
    "start_time": "2022-07-26T13:50:14.733Z"
   },
   {
    "duration": 25,
    "start_time": "2022-07-26T13:50:16.413Z"
   },
   {
    "duration": 6,
    "start_time": "2022-07-26T13:50:16.985Z"
   },
   {
    "duration": 7,
    "start_time": "2022-07-26T13:50:17.518Z"
   },
   {
    "duration": 3,
    "start_time": "2022-07-26T13:50:18.351Z"
   },
   {
    "duration": 5,
    "start_time": "2022-07-26T13:50:18.961Z"
   },
   {
    "duration": 5,
    "start_time": "2022-07-26T13:50:19.376Z"
   },
   {
    "duration": 391,
    "start_time": "2022-07-26T13:50:19.927Z"
   },
   {
    "duration": 5,
    "start_time": "2022-07-26T13:51:17.325Z"
   },
   {
    "duration": 9,
    "start_time": "2022-07-26T13:51:17.693Z"
   },
   {
    "duration": 8,
    "start_time": "2022-07-26T13:51:18.072Z"
   },
   {
    "duration": 13,
    "start_time": "2022-07-26T13:51:18.355Z"
   },
   {
    "duration": 16,
    "start_time": "2022-07-26T13:51:18.941Z"
   },
   {
    "duration": 246,
    "start_time": "2022-07-26T13:51:19.338Z"
   },
   {
    "duration": 5,
    "start_time": "2022-07-26T13:51:21.338Z"
   },
   {
    "duration": 5,
    "start_time": "2022-07-26T13:51:22.235Z"
   },
   {
    "duration": 8,
    "start_time": "2022-07-26T13:51:22.554Z"
   },
   {
    "duration": 8,
    "start_time": "2022-07-26T13:51:22.945Z"
   },
   {
    "duration": 14,
    "start_time": "2022-07-26T13:51:23.244Z"
   },
   {
    "duration": 9,
    "start_time": "2022-07-26T13:51:23.520Z"
   },
   {
    "duration": 236,
    "start_time": "2022-07-26T13:51:23.790Z"
   },
   {
    "duration": 88,
    "start_time": "2022-07-26T13:51:25.822Z"
   },
   {
    "duration": 200,
    "start_time": "2022-07-26T13:51:34.213Z"
   },
   {
    "duration": 7,
    "start_time": "2022-07-26T13:51:46.788Z"
   },
   {
    "duration": 8,
    "start_time": "2022-07-26T13:53:28.496Z"
   },
   {
    "duration": 8,
    "start_time": "2022-07-26T13:53:28.985Z"
   },
   {
    "duration": 6,
    "start_time": "2022-07-26T13:53:39.150Z"
   },
   {
    "duration": 6,
    "start_time": "2022-07-26T13:53:39.455Z"
   },
   {
    "duration": 8,
    "start_time": "2022-07-26T13:54:11.895Z"
   },
   {
    "duration": 8,
    "start_time": "2022-07-26T13:54:12.290Z"
   },
   {
    "duration": 19,
    "start_time": "2022-07-26T14:03:11.465Z"
   },
   {
    "duration": 4,
    "start_time": "2022-07-26T14:03:59.073Z"
   },
   {
    "duration": 5,
    "start_time": "2022-07-26T14:29:20.403Z"
   },
   {
    "duration": 4,
    "start_time": "2022-07-26T14:29:22.144Z"
   },
   {
    "duration": 3,
    "start_time": "2022-07-26T14:31:48.113Z"
   },
   {
    "duration": 46,
    "start_time": "2022-07-26T14:31:49.115Z"
   },
   {
    "duration": 23,
    "start_time": "2022-07-26T14:31:49.694Z"
   },
   {
    "duration": 3,
    "start_time": "2022-07-26T14:31:51.064Z"
   },
   {
    "duration": 5,
    "start_time": "2022-07-26T14:31:52.195Z"
   },
   {
    "duration": 4,
    "start_time": "2022-07-26T14:31:52.495Z"
   },
   {
    "duration": 5,
    "start_time": "2022-07-26T14:31:52.766Z"
   },
   {
    "duration": 12,
    "start_time": "2022-07-26T14:31:53.048Z"
   },
   {
    "duration": 8,
    "start_time": "2022-07-26T14:31:53.888Z"
   },
   {
    "duration": 3,
    "start_time": "2022-07-26T14:31:54.286Z"
   },
   {
    "duration": 5,
    "start_time": "2022-07-26T14:31:55.818Z"
   },
   {
    "duration": 4,
    "start_time": "2022-07-26T14:31:56.540Z"
   },
   {
    "duration": 6,
    "start_time": "2022-07-26T14:31:57.414Z"
   },
   {
    "duration": 3,
    "start_time": "2022-07-26T14:31:57.708Z"
   },
   {
    "duration": 14,
    "start_time": "2022-07-26T14:31:58.198Z"
   },
   {
    "duration": 4,
    "start_time": "2022-07-26T14:31:59.355Z"
   },
   {
    "duration": 4,
    "start_time": "2022-07-26T14:31:59.761Z"
   },
   {
    "duration": 6,
    "start_time": "2022-07-26T14:32:00.937Z"
   },
   {
    "duration": 2,
    "start_time": "2022-07-26T14:32:57.613Z"
   },
   {
    "duration": 49,
    "start_time": "2022-07-26T14:32:58.393Z"
   },
   {
    "duration": 13,
    "start_time": "2022-07-26T14:32:58.887Z"
   },
   {
    "duration": 4,
    "start_time": "2022-07-26T14:33:00.822Z"
   },
   {
    "duration": 5,
    "start_time": "2022-07-26T14:33:02.650Z"
   },
   {
    "duration": 5,
    "start_time": "2022-07-26T14:33:03.027Z"
   },
   {
    "duration": 4,
    "start_time": "2022-07-26T14:33:03.337Z"
   },
   {
    "duration": 15,
    "start_time": "2022-07-26T14:33:03.828Z"
   },
   {
    "duration": 10,
    "start_time": "2022-07-26T14:33:05.180Z"
   },
   {
    "duration": 3,
    "start_time": "2022-07-26T14:33:05.756Z"
   },
   {
    "duration": 5,
    "start_time": "2022-07-26T14:33:08.497Z"
   },
   {
    "duration": 8,
    "start_time": "2022-07-26T14:33:45.802Z"
   },
   {
    "duration": 8,
    "start_time": "2022-07-26T14:34:08.204Z"
   },
   {
    "duration": 10,
    "start_time": "2022-07-26T14:36:13.928Z"
   },
   {
    "duration": 10,
    "start_time": "2022-07-26T14:37:49.929Z"
   },
   {
    "duration": 15,
    "start_time": "2022-07-26T14:38:42.437Z"
   },
   {
    "duration": 7,
    "start_time": "2022-07-26T14:39:13.691Z"
   },
   {
    "duration": 8,
    "start_time": "2022-07-26T14:39:27.133Z"
   },
   {
    "duration": 10,
    "start_time": "2022-07-26T14:39:56.784Z"
   },
   {
    "duration": 9,
    "start_time": "2022-07-26T14:40:02.221Z"
   },
   {
    "duration": 7,
    "start_time": "2022-07-26T14:42:08.136Z"
   },
   {
    "duration": 6,
    "start_time": "2022-07-26T14:42:26.299Z"
   },
   {
    "duration": 3,
    "start_time": "2022-07-26T14:44:28.450Z"
   },
   {
    "duration": 21,
    "start_time": "2022-07-26T14:45:06.646Z"
   },
   {
    "duration": 10,
    "start_time": "2022-07-26T14:45:16.756Z"
   },
   {
    "duration": 4,
    "start_time": "2022-07-26T14:45:35.595Z"
   },
   {
    "duration": 3,
    "start_time": "2022-07-26T14:46:02.521Z"
   },
   {
    "duration": 10,
    "start_time": "2022-07-26T14:46:12.539Z"
   },
   {
    "duration": 3,
    "start_time": "2022-07-26T14:49:51.900Z"
   },
   {
    "duration": 50,
    "start_time": "2022-07-26T14:49:52.898Z"
   },
   {
    "duration": 14,
    "start_time": "2022-07-26T14:49:53.228Z"
   },
   {
    "duration": 3,
    "start_time": "2022-07-26T14:49:54.614Z"
   },
   {
    "duration": 5,
    "start_time": "2022-07-26T14:49:55.945Z"
   },
   {
    "duration": 4,
    "start_time": "2022-07-26T14:49:56.373Z"
   },
   {
    "duration": 5,
    "start_time": "2022-07-26T14:49:56.963Z"
   },
   {
    "duration": 14,
    "start_time": "2022-07-26T14:49:57.314Z"
   },
   {
    "duration": 8,
    "start_time": "2022-07-26T14:49:58.344Z"
   },
   {
    "duration": 4,
    "start_time": "2022-07-26T14:49:58.699Z"
   },
   {
    "duration": 7,
    "start_time": "2022-07-26T14:50:00.104Z"
   },
   {
    "duration": 5,
    "start_time": "2022-07-26T14:50:00.785Z"
   },
   {
    "duration": 3,
    "start_time": "2022-07-26T14:50:01.814Z"
   },
   {
    "duration": 3,
    "start_time": "2022-07-26T14:50:02.231Z"
   },
   {
    "duration": 14,
    "start_time": "2022-07-26T14:50:02.536Z"
   },
   {
    "duration": 4,
    "start_time": "2022-07-26T14:50:03.506Z"
   },
   {
    "duration": 4,
    "start_time": "2022-07-26T14:50:03.824Z"
   },
   {
    "duration": 4,
    "start_time": "2022-07-26T14:50:04.477Z"
   },
   {
    "duration": 5,
    "start_time": "2022-07-26T14:50:04.836Z"
   },
   {
    "duration": 5,
    "start_time": "2022-07-26T14:50:05.482Z"
   },
   {
    "duration": 4,
    "start_time": "2022-07-26T14:50:06.629Z"
   },
   {
    "duration": 11,
    "start_time": "2022-07-26T14:50:07.035Z"
   },
   {
    "duration": 15,
    "start_time": "2022-07-26T14:50:07.413Z"
   },
   {
    "duration": 8,
    "start_time": "2022-07-26T14:50:07.748Z"
   },
   {
    "duration": 18,
    "start_time": "2022-07-26T14:50:08.214Z"
   },
   {
    "duration": 8,
    "start_time": "2022-07-26T14:50:08.862Z"
   },
   {
    "duration": 11,
    "start_time": "2022-07-26T14:50:09.426Z"
   },
   {
    "duration": 8,
    "start_time": "2022-07-26T14:50:10.088Z"
   },
   {
    "duration": 8,
    "start_time": "2022-07-26T14:50:10.429Z"
   },
   {
    "duration": 4,
    "start_time": "2022-07-26T14:50:10.786Z"
   },
   {
    "duration": 11,
    "start_time": "2022-07-26T14:50:11.436Z"
   },
   {
    "duration": 9,
    "start_time": "2022-07-26T14:50:11.716Z"
   },
   {
    "duration": 8,
    "start_time": "2022-07-26T14:50:12.717Z"
   },
   {
    "duration": 10,
    "start_time": "2022-07-26T14:50:13.412Z"
   },
   {
    "duration": 14,
    "start_time": "2022-07-26T14:50:13.797Z"
   },
   {
    "duration": 9,
    "start_time": "2022-07-26T14:50:14.879Z"
   },
   {
    "duration": 76,
    "start_time": "2022-07-26T14:50:15.543Z"
   },
   {
    "duration": 9,
    "start_time": "2022-07-26T14:50:15.882Z"
   },
   {
    "duration": 9,
    "start_time": "2022-07-26T14:50:17.193Z"
   },
   {
    "duration": 10,
    "start_time": "2022-07-26T14:50:17.617Z"
   },
   {
    "duration": 5,
    "start_time": "2022-07-26T14:50:18.956Z"
   },
   {
    "duration": 7,
    "start_time": "2022-07-26T14:50:19.563Z"
   },
   {
    "duration": 97,
    "start_time": "2022-07-26T14:50:20.586Z"
   },
   {
    "duration": 113,
    "start_time": "2022-07-26T14:50:21.008Z"
   },
   {
    "duration": 6,
    "start_time": "2022-07-26T14:50:22.245Z"
   },
   {
    "duration": 14,
    "start_time": "2022-07-26T14:50:22.973Z"
   },
   {
    "duration": 101,
    "start_time": "2022-07-26T14:50:24.294Z"
   },
   {
    "duration": 106,
    "start_time": "2022-07-26T14:50:24.639Z"
   },
   {
    "duration": 7,
    "start_time": "2022-07-26T14:50:25.326Z"
   },
   {
    "duration": 15,
    "start_time": "2022-07-26T14:50:25.625Z"
   },
   {
    "duration": 96,
    "start_time": "2022-07-26T14:50:26.522Z"
   },
   {
    "duration": 114,
    "start_time": "2022-07-26T14:50:26.858Z"
   },
   {
    "duration": 8,
    "start_time": "2022-07-26T14:50:27.507Z"
   },
   {
    "duration": 16,
    "start_time": "2022-07-26T14:50:28.188Z"
   },
   {
    "duration": 98,
    "start_time": "2022-07-26T14:50:28.785Z"
   },
   {
    "duration": 200,
    "start_time": "2022-07-26T14:50:29.117Z"
   },
   {
    "duration": 6,
    "start_time": "2022-07-26T14:50:29.945Z"
   },
   {
    "duration": 14,
    "start_time": "2022-07-26T14:50:30.280Z"
   },
   {
    "duration": 26,
    "start_time": "2022-07-26T14:50:32.201Z"
   },
   {
    "duration": 7,
    "start_time": "2022-07-26T14:50:32.529Z"
   },
   {
    "duration": 5,
    "start_time": "2022-07-26T14:50:32.882Z"
   },
   {
    "duration": 4,
    "start_time": "2022-07-26T14:50:33.736Z"
   },
   {
    "duration": 6,
    "start_time": "2022-07-26T14:50:34.058Z"
   },
   {
    "duration": 5,
    "start_time": "2022-07-26T14:50:34.417Z"
   },
   {
    "duration": 372,
    "start_time": "2022-07-26T14:50:34.797Z"
   },
   {
    "duration": 5,
    "start_time": "2022-07-26T14:50:37.174Z"
   },
   {
    "duration": 9,
    "start_time": "2022-07-26T14:50:37.574Z"
   },
   {
    "duration": 8,
    "start_time": "2022-07-26T14:50:37.970Z"
   },
   {
    "duration": 16,
    "start_time": "2022-07-26T14:50:38.513Z"
   },
   {
    "duration": 18,
    "start_time": "2022-07-26T14:50:39.235Z"
   },
   {
    "duration": 243,
    "start_time": "2022-07-26T14:50:39.753Z"
   },
   {
    "duration": 6,
    "start_time": "2022-07-26T14:50:43.069Z"
   },
   {
    "duration": 6,
    "start_time": "2022-07-26T14:50:44.669Z"
   },
   {
    "duration": 9,
    "start_time": "2022-07-26T14:50:45.512Z"
   },
   {
    "duration": 8,
    "start_time": "2022-07-26T14:50:45.945Z"
   },
   {
    "duration": 15,
    "start_time": "2022-07-26T14:50:46.748Z"
   },
   {
    "duration": 9,
    "start_time": "2022-07-26T14:50:47.165Z"
   },
   {
    "duration": 323,
    "start_time": "2022-07-26T14:50:47.537Z"
   },
   {
    "duration": 225,
    "start_time": "2022-07-26T14:50:49.613Z"
   },
   {
    "duration": 7,
    "start_time": "2022-07-26T14:50:51.367Z"
   },
   {
    "duration": 8,
    "start_time": "2022-07-26T14:50:51.713Z"
   },
   {
    "duration": 5,
    "start_time": "2022-07-26T14:50:55.954Z"
   },
   {
    "duration": 10,
    "start_time": "2022-07-26T14:50:56.800Z"
   },
   {
    "duration": 4,
    "start_time": "2022-07-26T14:51:05.456Z"
   },
   {
    "duration": 5,
    "start_time": "2022-07-26T14:51:05.761Z"
   },
   {
    "duration": 47,
    "start_time": "2022-07-26T14:55:12.208Z"
   },
   {
    "duration": 4,
    "start_time": "2022-07-26T14:55:26.662Z"
   },
   {
    "duration": 126,
    "start_time": "2022-07-26T15:39:39.683Z"
   },
   {
    "duration": 5,
    "start_time": "2022-07-26T15:39:40.124Z"
   },
   {
    "duration": 1349,
    "start_time": "2022-07-26T17:46:58.517Z"
   },
   {
    "duration": 102,
    "start_time": "2022-07-26T17:46:59.868Z"
   },
   {
    "duration": 16,
    "start_time": "2022-07-26T17:46:59.972Z"
   },
   {
    "duration": 3,
    "start_time": "2022-07-26T17:47:00.596Z"
   },
   {
    "duration": 5,
    "start_time": "2022-07-26T17:47:02.818Z"
   },
   {
    "duration": 4,
    "start_time": "2022-07-26T17:47:03.117Z"
   },
   {
    "duration": 5,
    "start_time": "2022-07-26T17:47:03.490Z"
   },
   {
    "duration": 15,
    "start_time": "2022-07-26T17:47:03.782Z"
   },
   {
    "duration": 11,
    "start_time": "2022-07-26T17:47:04.621Z"
   },
   {
    "duration": 4,
    "start_time": "2022-07-26T17:47:04.989Z"
   },
   {
    "duration": 6,
    "start_time": "2022-07-26T17:47:06.008Z"
   },
   {
    "duration": 7,
    "start_time": "2022-07-26T17:47:06.533Z"
   },
   {
    "duration": 3,
    "start_time": "2022-07-26T17:47:07.456Z"
   },
   {
    "duration": 4,
    "start_time": "2022-07-26T17:47:07.760Z"
   },
   {
    "duration": 15,
    "start_time": "2022-07-26T17:47:08.006Z"
   },
   {
    "duration": 5,
    "start_time": "2022-07-26T17:47:08.813Z"
   },
   {
    "duration": 4,
    "start_time": "2022-07-26T17:47:09.063Z"
   },
   {
    "duration": 6,
    "start_time": "2022-07-26T17:47:09.656Z"
   },
   {
    "duration": 5,
    "start_time": "2022-07-26T17:47:10.099Z"
   },
   {
    "duration": 5,
    "start_time": "2022-07-26T17:47:10.718Z"
   },
   {
    "duration": 7,
    "start_time": "2022-07-26T17:47:11.232Z"
   },
   {
    "duration": 18,
    "start_time": "2022-07-26T17:47:11.531Z"
   },
   {
    "duration": 16,
    "start_time": "2022-07-26T17:47:11.877Z"
   },
   {
    "duration": 8,
    "start_time": "2022-07-26T17:47:12.150Z"
   },
   {
    "duration": 30,
    "start_time": "2022-07-26T17:47:12.514Z"
   },
   {
    "duration": 8,
    "start_time": "2022-07-26T17:47:13.137Z"
   },
   {
    "duration": 9,
    "start_time": "2022-07-26T17:47:13.554Z"
   },
   {
    "duration": 9,
    "start_time": "2022-07-26T17:47:15.355Z"
   },
   {
    "duration": 8,
    "start_time": "2022-07-26T17:47:15.617Z"
   },
   {
    "duration": 4,
    "start_time": "2022-07-26T17:47:16.218Z"
   },
   {
    "duration": 13,
    "start_time": "2022-07-26T17:47:17.089Z"
   },
   {
    "duration": 5,
    "start_time": "2022-07-26T17:47:17.437Z"
   },
   {
    "duration": 9,
    "start_time": "2022-07-26T17:47:18.681Z"
   },
   {
    "duration": 11,
    "start_time": "2022-07-26T17:47:19.220Z"
   },
   {
    "duration": 6,
    "start_time": "2022-07-26T17:47:19.537Z"
   },
   {
    "duration": 9,
    "start_time": "2022-07-26T17:47:20.435Z"
   },
   {
    "duration": 79,
    "start_time": "2022-07-26T17:47:20.731Z"
   },
   {
    "duration": 11,
    "start_time": "2022-07-26T17:47:21.586Z"
   },
   {
    "duration": 10,
    "start_time": "2022-07-26T17:47:22.927Z"
   },
   {
    "duration": 12,
    "start_time": "2022-07-26T17:47:23.205Z"
   },
   {
    "duration": 6,
    "start_time": "2022-07-26T17:47:23.775Z"
   },
   {
    "duration": 7,
    "start_time": "2022-07-26T17:47:24.073Z"
   },
   {
    "duration": 119,
    "start_time": "2022-07-26T17:47:24.945Z"
   },
   {
    "duration": 108,
    "start_time": "2022-07-26T17:47:25.266Z"
   },
   {
    "duration": 6,
    "start_time": "2022-07-26T17:47:26.125Z"
   },
   {
    "duration": 16,
    "start_time": "2022-07-26T17:47:26.701Z"
   },
   {
    "duration": 96,
    "start_time": "2022-07-26T17:47:27.757Z"
   },
   {
    "duration": 97,
    "start_time": "2022-07-26T17:47:28.048Z"
   },
   {
    "duration": 6,
    "start_time": "2022-07-26T17:47:28.771Z"
   },
   {
    "duration": 17,
    "start_time": "2022-07-26T17:47:29.046Z"
   },
   {
    "duration": 94,
    "start_time": "2022-07-26T17:47:29.872Z"
   },
   {
    "duration": 111,
    "start_time": "2022-07-26T17:47:30.156Z"
   },
   {
    "duration": 6,
    "start_time": "2022-07-26T17:47:30.785Z"
   },
   {
    "duration": 15,
    "start_time": "2022-07-26T17:47:32.650Z"
   },
   {
    "duration": 96,
    "start_time": "2022-07-26T17:47:33.708Z"
   },
   {
    "duration": 117,
    "start_time": "2022-07-26T17:47:34.792Z"
   },
   {
    "duration": 7,
    "start_time": "2022-07-26T17:47:34.957Z"
   },
   {
    "duration": 15,
    "start_time": "2022-07-26T17:47:35.378Z"
   },
   {
    "duration": 25,
    "start_time": "2022-07-26T17:47:38.102Z"
   },
   {
    "duration": 8,
    "start_time": "2022-07-26T17:47:38.310Z"
   },
   {
    "duration": 6,
    "start_time": "2022-07-26T17:47:38.639Z"
   },
   {
    "duration": 4,
    "start_time": "2022-07-26T17:47:39.325Z"
   },
   {
    "duration": 7,
    "start_time": "2022-07-26T17:47:39.662Z"
   },
   {
    "duration": 5,
    "start_time": "2022-07-26T17:47:39.962Z"
   },
   {
    "duration": 476,
    "start_time": "2022-07-26T17:47:40.260Z"
   },
   {
    "duration": 6,
    "start_time": "2022-07-26T17:47:41.702Z"
   },
   {
    "duration": 13,
    "start_time": "2022-07-26T17:47:41.997Z"
   },
   {
    "duration": 11,
    "start_time": "2022-07-26T17:47:42.248Z"
   },
   {
    "duration": 16,
    "start_time": "2022-07-26T17:47:42.556Z"
   },
   {
    "duration": 23,
    "start_time": "2022-07-26T17:47:43.390Z"
   },
   {
    "duration": 301,
    "start_time": "2022-07-26T17:47:43.688Z"
   },
   {
    "duration": 5,
    "start_time": "2022-07-26T17:47:46.120Z"
   },
   {
    "duration": 10,
    "start_time": "2022-07-26T17:47:47.175Z"
   },
   {
    "duration": 9,
    "start_time": "2022-07-26T17:47:47.484Z"
   },
   {
    "duration": 8,
    "start_time": "2022-07-26T17:47:47.915Z"
   },
   {
    "duration": 15,
    "start_time": "2022-07-26T17:47:48.249Z"
   },
   {
    "duration": 10,
    "start_time": "2022-07-26T17:47:48.715Z"
   },
   {
    "duration": 265,
    "start_time": "2022-07-26T17:47:49.008Z"
   },
   {
    "duration": 215,
    "start_time": "2022-07-26T17:47:51.326Z"
   },
   {
    "duration": 9,
    "start_time": "2022-07-26T17:47:53.028Z"
   },
   {
    "duration": 8,
    "start_time": "2022-07-26T17:47:54.000Z"
   },
   {
    "duration": 6,
    "start_time": "2022-07-26T17:47:56.406Z"
   },
   {
    "duration": 5,
    "start_time": "2022-07-26T17:47:57.047Z"
   },
   {
    "duration": 5,
    "start_time": "2022-07-26T17:47:58.483Z"
   },
   {
    "duration": 131,
    "start_time": "2022-07-26T17:47:58.932Z"
   },
   {
    "duration": 147,
    "start_time": "2022-07-26T17:48:05.065Z"
   },
   {
    "duration": 158,
    "start_time": "2022-07-26T17:48:19.998Z"
   },
   {
    "duration": 59,
    "start_time": "2022-07-26T17:48:38.216Z"
   },
   {
    "duration": 147,
    "start_time": "2022-07-26T17:49:02.434Z"
   },
   {
    "duration": 157,
    "start_time": "2022-07-26T17:49:09.458Z"
   },
   {
    "duration": 4,
    "start_time": "2022-07-26T17:50:30.993Z"
   },
   {
    "duration": 50,
    "start_time": "2022-07-26T17:50:31.821Z"
   },
   {
    "duration": 13,
    "start_time": "2022-07-26T17:50:32.084Z"
   },
   {
    "duration": 3,
    "start_time": "2022-07-26T17:50:33.319Z"
   },
   {
    "duration": 5,
    "start_time": "2022-07-26T17:50:34.530Z"
   },
   {
    "duration": 6,
    "start_time": "2022-07-26T17:50:34.851Z"
   },
   {
    "duration": 5,
    "start_time": "2022-07-26T17:50:35.172Z"
   },
   {
    "duration": 15,
    "start_time": "2022-07-26T17:50:35.517Z"
   },
   {
    "duration": 10,
    "start_time": "2022-07-26T17:50:36.597Z"
   },
   {
    "duration": 4,
    "start_time": "2022-07-26T17:50:37.070Z"
   },
   {
    "duration": 5,
    "start_time": "2022-07-26T17:50:38.310Z"
   },
   {
    "duration": 6,
    "start_time": "2022-07-26T17:50:39.571Z"
   },
   {
    "duration": 8,
    "start_time": "2022-07-26T17:51:14.621Z"
   },
   {
    "duration": 3,
    "start_time": "2022-07-26T18:03:05.084Z"
   },
   {
    "duration": 52,
    "start_time": "2022-07-26T18:03:05.618Z"
   },
   {
    "duration": 15,
    "start_time": "2022-07-26T18:03:06.006Z"
   },
   {
    "duration": 4,
    "start_time": "2022-07-26T18:03:07.123Z"
   },
   {
    "duration": 5,
    "start_time": "2022-07-26T18:03:08.537Z"
   },
   {
    "duration": 7,
    "start_time": "2022-07-26T18:03:08.742Z"
   },
   {
    "duration": 5,
    "start_time": "2022-07-26T18:03:08.988Z"
   },
   {
    "duration": 14,
    "start_time": "2022-07-26T18:03:09.360Z"
   },
   {
    "duration": 10,
    "start_time": "2022-07-26T18:03:10.183Z"
   },
   {
    "duration": 4,
    "start_time": "2022-07-26T18:03:10.387Z"
   },
   {
    "duration": 5,
    "start_time": "2022-07-26T18:03:11.862Z"
   },
   {
    "duration": 6,
    "start_time": "2022-07-26T18:03:12.854Z"
   },
   {
    "duration": 3,
    "start_time": "2022-07-26T18:03:15.855Z"
   },
   {
    "duration": 4,
    "start_time": "2022-07-26T18:03:16.309Z"
   },
   {
    "duration": 15,
    "start_time": "2022-07-26T18:03:16.980Z"
   },
   {
    "duration": 5,
    "start_time": "2022-07-26T18:03:19.702Z"
   },
   {
    "duration": 4,
    "start_time": "2022-07-26T18:03:20.327Z"
   },
   {
    "duration": 5,
    "start_time": "2022-07-26T18:03:22.972Z"
   },
   {
    "duration": 7,
    "start_time": "2022-07-26T18:03:48.678Z"
   },
   {
    "duration": 5,
    "start_time": "2022-07-26T18:05:17.602Z"
   },
   {
    "duration": 5,
    "start_time": "2022-07-26T18:05:23.503Z"
   },
   {
    "duration": 6,
    "start_time": "2022-07-26T18:05:23.913Z"
   },
   {
    "duration": 14,
    "start_time": "2022-07-26T18:05:24.131Z"
   },
   {
    "duration": 14,
    "start_time": "2022-07-26T18:05:24.533Z"
   },
   {
    "duration": 9,
    "start_time": "2022-07-26T18:05:24.752Z"
   },
   {
    "duration": 23,
    "start_time": "2022-07-26T18:05:24.951Z"
   },
   {
    "duration": 9,
    "start_time": "2022-07-26T18:05:25.351Z"
   },
   {
    "duration": 10,
    "start_time": "2022-07-26T18:05:25.578Z"
   },
   {
    "duration": 9,
    "start_time": "2022-07-26T18:05:26.172Z"
   },
   {
    "duration": 8,
    "start_time": "2022-07-26T18:05:26.379Z"
   },
   {
    "duration": 5,
    "start_time": "2022-07-26T18:05:26.584Z"
   },
   {
    "duration": 14,
    "start_time": "2022-07-26T18:05:27.070Z"
   },
   {
    "duration": 6,
    "start_time": "2022-07-26T18:05:27.336Z"
   },
   {
    "duration": 11,
    "start_time": "2022-07-26T18:05:28.035Z"
   },
   {
    "duration": 10,
    "start_time": "2022-07-26T18:05:28.540Z"
   },
   {
    "duration": 6,
    "start_time": "2022-07-26T18:05:28.770Z"
   },
   {
    "duration": 10,
    "start_time": "2022-07-26T18:05:29.454Z"
   },
   {
    "duration": 83,
    "start_time": "2022-07-26T18:05:29.821Z"
   },
   {
    "duration": 11,
    "start_time": "2022-07-26T18:05:30.066Z"
   },
   {
    "duration": 11,
    "start_time": "2022-07-26T18:05:31.007Z"
   },
   {
    "duration": 11,
    "start_time": "2022-07-26T18:05:31.257Z"
   },
   {
    "duration": 6,
    "start_time": "2022-07-26T18:06:51.188Z"
   },
   {
    "duration": 7,
    "start_time": "2022-07-26T18:06:53.306Z"
   },
   {
    "duration": 99,
    "start_time": "2022-07-26T18:06:55.387Z"
   },
   {
    "duration": 122,
    "start_time": "2022-07-26T18:06:55.770Z"
   },
   {
    "duration": 8,
    "start_time": "2022-07-26T18:06:56.848Z"
   },
   {
    "duration": 22,
    "start_time": "2022-07-26T18:06:57.397Z"
   },
   {
    "duration": 199,
    "start_time": "2022-07-26T18:06:58.237Z"
   },
   {
    "duration": 98,
    "start_time": "2022-07-26T18:06:58.541Z"
   },
   {
    "duration": 8,
    "start_time": "2022-07-26T18:06:59.131Z"
   },
   {
    "duration": 15,
    "start_time": "2022-07-26T18:06:59.478Z"
   },
   {
    "duration": 106,
    "start_time": "2022-07-26T18:07:05.024Z"
   },
   {
    "duration": 120,
    "start_time": "2022-07-26T18:07:05.335Z"
   },
   {
    "duration": 7,
    "start_time": "2022-07-26T18:07:06.035Z"
   },
   {
    "duration": 14,
    "start_time": "2022-07-26T18:07:06.500Z"
   },
   {
    "duration": 151,
    "start_time": "2022-07-26T18:07:07.134Z"
   },
   {
    "duration": 142,
    "start_time": "2022-07-26T18:07:07.370Z"
   },
   {
    "duration": 7,
    "start_time": "2022-07-26T18:07:07.993Z"
   },
   {
    "duration": 17,
    "start_time": "2022-07-26T18:07:08.360Z"
   },
   {
    "duration": 25,
    "start_time": "2022-07-26T18:07:10.209Z"
   },
   {
    "duration": 6,
    "start_time": "2022-07-26T18:07:10.430Z"
   },
   {
    "duration": 7,
    "start_time": "2022-07-26T18:07:10.824Z"
   },
   {
    "duration": 3,
    "start_time": "2022-07-26T18:07:11.237Z"
   },
   {
    "duration": 9,
    "start_time": "2022-07-26T18:07:11.485Z"
   },
   {
    "duration": 5,
    "start_time": "2022-07-26T18:07:11.762Z"
   },
   {
    "duration": 356,
    "start_time": "2022-07-26T18:07:12.052Z"
   },
   {
    "duration": 9,
    "start_time": "2022-07-26T18:07:14.000Z"
   },
   {
    "duration": 8,
    "start_time": "2022-07-26T18:07:14.277Z"
   },
   {
    "duration": 10,
    "start_time": "2022-07-26T18:07:14.588Z"
   },
   {
    "duration": 14,
    "start_time": "2022-07-26T18:07:14.867Z"
   },
   {
    "duration": 19,
    "start_time": "2022-07-26T18:07:15.443Z"
   },
   {
    "duration": 259,
    "start_time": "2022-07-26T18:07:15.711Z"
   },
   {
    "duration": 6,
    "start_time": "2022-07-26T18:07:17.869Z"
   },
   {
    "duration": 6,
    "start_time": "2022-07-26T18:07:19.789Z"
   },
   {
    "duration": 9,
    "start_time": "2022-07-26T18:07:20.086Z"
   },
   {
    "duration": 8,
    "start_time": "2022-07-26T18:07:20.578Z"
   },
   {
    "duration": 17,
    "start_time": "2022-07-26T18:07:21.191Z"
   },
   {
    "duration": 10,
    "start_time": "2022-07-26T18:07:21.448Z"
   },
   {
    "duration": 280,
    "start_time": "2022-07-26T18:07:21.653Z"
   },
   {
    "duration": 211,
    "start_time": "2022-07-26T18:07:23.762Z"
   },
   {
    "duration": 7,
    "start_time": "2022-07-26T18:07:25.364Z"
   },
   {
    "duration": 8,
    "start_time": "2022-07-26T18:07:25.569Z"
   },
   {
    "duration": 6,
    "start_time": "2022-07-26T18:07:28.270Z"
   },
   {
    "duration": 4,
    "start_time": "2022-07-26T18:07:29.117Z"
   },
   {
    "duration": 7,
    "start_time": "2022-07-26T18:08:06.935Z"
   },
   {
    "duration": 197,
    "start_time": "2022-07-26T18:09:07.554Z"
   },
   {
    "duration": 258,
    "start_time": "2022-07-26T18:09:13.469Z"
   },
   {
    "duration": 159,
    "start_time": "2022-07-26T18:12:33.227Z"
   },
   {
    "duration": 4,
    "start_time": "2022-07-26T18:12:34.193Z"
   },
   {
    "duration": 139,
    "start_time": "2022-07-26T18:12:35.177Z"
   },
   {
    "duration": 4,
    "start_time": "2022-07-26T18:12:55.856Z"
   },
   {
    "duration": 7,
    "start_time": "2022-07-26T19:01:38.963Z"
   },
   {
    "duration": 5,
    "start_time": "2022-07-26T19:01:40.197Z"
   },
   {
    "duration": 6,
    "start_time": "2022-07-26T19:02:27.263Z"
   },
   {
    "duration": 5,
    "start_time": "2022-07-26T19:06:27.940Z"
   },
   {
    "duration": 4,
    "start_time": "2022-07-26T19:06:31.440Z"
   },
   {
    "duration": 4,
    "start_time": "2022-07-26T19:06:32.461Z"
   },
   {
    "duration": 5,
    "start_time": "2022-07-26T19:11:34.473Z"
   },
   {
    "duration": 4,
    "start_time": "2022-07-26T19:11:35.218Z"
   },
   {
    "duration": 7,
    "start_time": "2022-07-26T19:11:36.874Z"
   },
   {
    "duration": 10,
    "start_time": "2022-07-26T19:15:28.056Z"
   },
   {
    "duration": 10,
    "start_time": "2022-07-26T19:15:28.562Z"
   },
   {
    "duration": 9,
    "start_time": "2022-07-26T19:15:28.967Z"
   },
   {
    "duration": 4,
    "start_time": "2022-07-26T19:15:30.755Z"
   },
   {
    "duration": 4,
    "start_time": "2022-07-26T19:15:32.133Z"
   },
   {
    "duration": 4,
    "start_time": "2022-07-26T19:15:32.795Z"
   },
   {
    "duration": 7,
    "start_time": "2022-07-26T19:15:36.696Z"
   },
   {
    "duration": 7,
    "start_time": "2022-07-26T19:15:37.723Z"
   },
   {
    "duration": 8,
    "start_time": "2022-07-26T19:15:38.146Z"
   },
   {
    "duration": 156,
    "start_time": "2022-07-26T19:16:21.019Z"
   },
   {
    "duration": 433,
    "start_time": "2022-07-26T19:16:40.003Z"
   },
   {
    "duration": 6,
    "start_time": "2022-07-26T19:20:17.811Z"
   },
   {
    "duration": 5,
    "start_time": "2022-07-26T19:20:19.283Z"
   },
   {
    "duration": 4,
    "start_time": "2022-07-26T19:20:20.861Z"
   },
   {
    "duration": 5,
    "start_time": "2022-07-26T19:20:26.449Z"
   },
   {
    "duration": 5,
    "start_time": "2022-07-26T19:21:00.132Z"
   },
   {
    "duration": 4,
    "start_time": "2022-07-26T19:21:02.846Z"
   },
   {
    "duration": 4,
    "start_time": "2022-07-26T19:21:03.563Z"
   },
   {
    "duration": 5,
    "start_time": "2022-07-26T20:42:39.999Z"
   },
   {
    "duration": 7,
    "start_time": "2022-07-26T20:42:40.205Z"
   },
   {
    "duration": 5,
    "start_time": "2022-07-26T20:42:41.136Z"
   },
   {
    "duration": 5,
    "start_time": "2022-07-26T20:42:42.854Z"
   },
   {
    "duration": 349,
    "start_time": "2022-07-26T20:47:58.230Z"
   },
   {
    "duration": 372,
    "start_time": "2022-07-26T20:53:50.525Z"
   },
   {
    "duration": 373,
    "start_time": "2022-07-26T20:55:23.128Z"
   },
   {
    "duration": 512,
    "start_time": "2022-07-26T20:55:42.715Z"
   },
   {
    "duration": 337,
    "start_time": "2022-07-26T20:57:23.972Z"
   },
   {
    "duration": 370,
    "start_time": "2022-07-26T20:57:44.120Z"
   },
   {
    "duration": 427,
    "start_time": "2022-07-26T20:58:06.940Z"
   },
   {
    "duration": 359,
    "start_time": "2022-07-26T20:58:41.667Z"
   },
   {
    "duration": 373,
    "start_time": "2022-07-26T21:01:52.728Z"
   },
   {
    "duration": 318,
    "start_time": "2022-07-26T21:02:49.175Z"
   },
   {
    "duration": 562,
    "start_time": "2022-07-26T21:03:06.246Z"
   },
   {
    "duration": 382,
    "start_time": "2022-07-26T21:04:11.596Z"
   },
   {
    "duration": 140,
    "start_time": "2022-07-26T21:05:36.290Z"
   },
   {
    "duration": 360,
    "start_time": "2022-07-26T21:05:43.155Z"
   },
   {
    "duration": 407,
    "start_time": "2022-07-26T21:08:08.999Z"
   },
   {
    "duration": 381,
    "start_time": "2022-07-26T21:08:17.765Z"
   },
   {
    "duration": 12,
    "start_time": "2022-07-26T21:18:29.667Z"
   },
   {
    "duration": 416,
    "start_time": "2022-07-26T21:18:37.279Z"
   },
   {
    "duration": 450,
    "start_time": "2022-07-26T21:24:00.113Z"
   },
   {
    "duration": 580,
    "start_time": "2022-07-26T21:24:07.537Z"
   },
   {
    "duration": 355,
    "start_time": "2022-07-26T21:24:35.681Z"
   },
   {
    "duration": 389,
    "start_time": "2022-07-26T21:27:05.016Z"
   },
   {
    "duration": 1316,
    "start_time": "2022-07-27T16:28:56.218Z"
   },
   {
    "duration": 107,
    "start_time": "2022-07-27T16:28:57.536Z"
   },
   {
    "duration": 18,
    "start_time": "2022-07-27T16:28:57.645Z"
   },
   {
    "duration": 4,
    "start_time": "2022-07-27T16:28:58.772Z"
   },
   {
    "duration": 6,
    "start_time": "2022-07-27T16:29:00.115Z"
   },
   {
    "duration": 6,
    "start_time": "2022-07-27T16:29:00.657Z"
   },
   {
    "duration": 5,
    "start_time": "2022-07-27T16:29:01.129Z"
   },
   {
    "duration": 15,
    "start_time": "2022-07-27T16:29:01.742Z"
   },
   {
    "duration": 9,
    "start_time": "2022-07-27T16:29:03.176Z"
   },
   {
    "duration": 4,
    "start_time": "2022-07-27T16:29:03.550Z"
   },
   {
    "duration": 5,
    "start_time": "2022-07-27T16:29:04.835Z"
   },
   {
    "duration": 6,
    "start_time": "2022-07-27T16:29:05.515Z"
   },
   {
    "duration": 4,
    "start_time": "2022-07-27T16:29:06.563Z"
   },
   {
    "duration": 4,
    "start_time": "2022-07-27T16:29:06.956Z"
   },
   {
    "duration": 16,
    "start_time": "2022-07-27T16:29:07.357Z"
   },
   {
    "duration": 4,
    "start_time": "2022-07-27T16:29:08.421Z"
   },
   {
    "duration": 5,
    "start_time": "2022-07-27T16:29:08.851Z"
   },
   {
    "duration": 6,
    "start_time": "2022-07-27T16:29:09.678Z"
   },
   {
    "duration": 9,
    "start_time": "2022-07-27T16:29:10.318Z"
   },
   {
    "duration": 5,
    "start_time": "2022-07-27T16:29:11.121Z"
   },
   {
    "duration": 21,
    "start_time": "2022-07-27T16:29:11.945Z"
   },
   {
    "duration": 6,
    "start_time": "2022-07-27T16:29:13.511Z"
   },
   {
    "duration": 15,
    "start_time": "2022-07-27T16:29:13.827Z"
   },
   {
    "duration": 18,
    "start_time": "2022-07-27T16:29:14.242Z"
   },
   {
    "duration": 9,
    "start_time": "2022-07-27T16:29:14.657Z"
   },
   {
    "duration": 27,
    "start_time": "2022-07-27T16:29:15.142Z"
   },
   {
    "duration": 11,
    "start_time": "2022-07-27T16:29:16.015Z"
   },
   {
    "duration": 10,
    "start_time": "2022-07-27T16:29:16.344Z"
   },
   {
    "duration": 9,
    "start_time": "2022-07-27T16:29:17.247Z"
   },
   {
    "duration": 10,
    "start_time": "2022-07-27T16:29:17.581Z"
   },
   {
    "duration": 4,
    "start_time": "2022-07-27T16:29:18.115Z"
   },
   {
    "duration": 18,
    "start_time": "2022-07-27T16:29:18.854Z"
   },
   {
    "duration": 7,
    "start_time": "2022-07-27T16:29:19.170Z"
   },
   {
    "duration": 11,
    "start_time": "2022-07-27T16:29:20.242Z"
   },
   {
    "duration": 13,
    "start_time": "2022-07-27T16:29:21.024Z"
   },
   {
    "duration": 10,
    "start_time": "2022-07-27T16:29:21.357Z"
   },
   {
    "duration": 13,
    "start_time": "2022-07-27T16:29:22.387Z"
   },
   {
    "duration": 102,
    "start_time": "2022-07-27T16:29:22.710Z"
   },
   {
    "duration": 16,
    "start_time": "2022-07-27T16:29:23.275Z"
   },
   {
    "duration": 12,
    "start_time": "2022-07-27T16:29:25.122Z"
   },
   {
    "duration": 14,
    "start_time": "2022-07-27T16:29:25.945Z"
   },
   {
    "duration": 6,
    "start_time": "2022-07-27T16:29:26.578Z"
   },
   {
    "duration": 8,
    "start_time": "2022-07-27T16:29:26.972Z"
   },
   {
    "duration": 118,
    "start_time": "2022-07-27T16:29:28.214Z"
   },
   {
    "duration": 132,
    "start_time": "2022-07-27T16:29:28.656Z"
   },
   {
    "duration": 8,
    "start_time": "2022-07-27T16:29:30.813Z"
   },
   {
    "duration": 17,
    "start_time": "2022-07-27T16:29:35.714Z"
   },
   {
    "duration": 125,
    "start_time": "2022-07-27T16:29:38.022Z"
   },
   {
    "duration": 157,
    "start_time": "2022-07-27T16:29:38.840Z"
   },
   {
    "duration": 7,
    "start_time": "2022-07-27T16:29:39.501Z"
   },
   {
    "duration": 20,
    "start_time": "2022-07-27T16:29:39.869Z"
   },
   {
    "duration": 128,
    "start_time": "2022-07-27T16:29:40.516Z"
   },
   {
    "duration": 128,
    "start_time": "2022-07-27T16:29:41.314Z"
   },
   {
    "duration": 7,
    "start_time": "2022-07-27T16:29:41.921Z"
   },
   {
    "duration": 21,
    "start_time": "2022-07-27T16:29:42.742Z"
   },
   {
    "duration": 111,
    "start_time": "2022-07-27T16:29:44.557Z"
   },
   {
    "duration": 153,
    "start_time": "2022-07-27T16:29:44.928Z"
   },
   {
    "duration": 9,
    "start_time": "2022-07-27T16:29:45.583Z"
   },
   {
    "duration": 18,
    "start_time": "2022-07-27T16:29:45.919Z"
   },
   {
    "duration": 27,
    "start_time": "2022-07-27T16:29:48.388Z"
   },
   {
    "duration": 7,
    "start_time": "2022-07-27T16:29:48.722Z"
   },
   {
    "duration": 8,
    "start_time": "2022-07-27T16:29:49.114Z"
   },
   {
    "duration": 4,
    "start_time": "2022-07-27T16:29:49.757Z"
   },
   {
    "duration": 6,
    "start_time": "2022-07-27T16:29:50.031Z"
   },
   {
    "duration": 5,
    "start_time": "2022-07-27T16:29:50.335Z"
   },
   {
    "duration": 469,
    "start_time": "2022-07-27T16:29:50.624Z"
   },
   {
    "duration": 8,
    "start_time": "2022-07-27T16:29:52.183Z"
   },
   {
    "duration": 14,
    "start_time": "2022-07-27T16:29:52.476Z"
   },
   {
    "duration": 15,
    "start_time": "2022-07-27T16:29:52.681Z"
   },
   {
    "duration": 17,
    "start_time": "2022-07-27T16:29:53.056Z"
   },
   {
    "duration": 28,
    "start_time": "2022-07-27T16:29:53.713Z"
   },
   {
    "duration": 330,
    "start_time": "2022-07-27T16:29:54.284Z"
   },
   {
    "duration": 7,
    "start_time": "2022-07-27T16:29:56.558Z"
   },
   {
    "duration": 6,
    "start_time": "2022-07-27T16:29:57.585Z"
   },
   {
    "duration": 9,
    "start_time": "2022-07-27T16:29:57.813Z"
   },
   {
    "duration": 9,
    "start_time": "2022-07-27T16:29:58.270Z"
   },
   {
    "duration": 18,
    "start_time": "2022-07-27T16:29:58.548Z"
   },
   {
    "duration": 9,
    "start_time": "2022-07-27T16:29:58.862Z"
   },
   {
    "duration": 281,
    "start_time": "2022-07-27T16:29:59.238Z"
   },
   {
    "duration": 230,
    "start_time": "2022-07-27T16:30:01.443Z"
   },
   {
    "duration": 8,
    "start_time": "2022-07-27T16:30:02.714Z"
   },
   {
    "duration": 8,
    "start_time": "2022-07-27T16:30:02.986Z"
   },
   {
    "duration": 5,
    "start_time": "2022-07-27T16:30:04.437Z"
   },
   {
    "duration": 5,
    "start_time": "2022-07-27T16:30:04.814Z"
   },
   {
    "duration": 6,
    "start_time": "2022-07-27T16:30:05.385Z"
   },
   {
    "duration": 165,
    "start_time": "2022-07-27T16:30:05.683Z"
   },
   {
    "duration": 4,
    "start_time": "2022-07-27T16:30:06.226Z"
   },
   {
    "duration": 143,
    "start_time": "2022-07-27T16:30:07.149Z"
   },
   {
    "duration": 4,
    "start_time": "2022-07-27T16:30:07.613Z"
   },
   {
    "duration": 5,
    "start_time": "2022-07-27T16:30:10.487Z"
   },
   {
    "duration": 6,
    "start_time": "2022-07-27T16:30:11.113Z"
   },
   {
    "duration": 5,
    "start_time": "2022-07-27T16:30:11.924Z"
   },
   {
    "duration": 5,
    "start_time": "2022-07-27T16:30:12.852Z"
   },
   {
    "duration": 6,
    "start_time": "2022-07-27T16:30:14.917Z"
   },
   {
    "duration": 5,
    "start_time": "2022-07-27T16:30:15.224Z"
   },
   {
    "duration": 4,
    "start_time": "2022-07-27T16:30:15.517Z"
   },
   {
    "duration": 4,
    "start_time": "2022-07-27T16:30:17.522Z"
   },
   {
    "duration": 5,
    "start_time": "2022-07-27T16:30:18.083Z"
   },
   {
    "duration": 4,
    "start_time": "2022-07-27T16:30:18.514Z"
   },
   {
    "duration": 10,
    "start_time": "2022-07-27T16:30:25.376Z"
   },
   {
    "duration": 10,
    "start_time": "2022-07-27T16:30:25.747Z"
   },
   {
    "duration": 12,
    "start_time": "2022-07-27T16:30:25.951Z"
   },
   {
    "duration": 5,
    "start_time": "2022-07-27T16:30:26.567Z"
   },
   {
    "duration": 4,
    "start_time": "2022-07-27T16:30:26.818Z"
   },
   {
    "duration": 4,
    "start_time": "2022-07-27T16:30:27.183Z"
   },
   {
    "duration": 7,
    "start_time": "2022-07-27T16:30:27.619Z"
   },
   {
    "duration": 7,
    "start_time": "2022-07-27T16:30:27.917Z"
   },
   {
    "duration": 7,
    "start_time": "2022-07-27T16:30:28.214Z"
   },
   {
    "duration": 519,
    "start_time": "2022-07-27T16:30:28.814Z"
   },
   {
    "duration": 528,
    "start_time": "2022-07-27T16:31:44.628Z"
   },
   {
    "duration": 504,
    "start_time": "2022-07-27T16:31:55.860Z"
   },
   {
    "duration": 403,
    "start_time": "2022-07-27T16:32:07.614Z"
   },
   {
    "duration": 430,
    "start_time": "2022-07-27T16:32:56.930Z"
   },
   {
    "duration": 218,
    "start_time": "2022-07-27T16:33:44.972Z"
   },
   {
    "duration": 423,
    "start_time": "2022-07-27T16:33:51.309Z"
   },
   {
    "duration": 10,
    "start_time": "2022-07-27T16:58:34.500Z"
   },
   {
    "duration": 8,
    "start_time": "2022-07-27T16:58:34.761Z"
   },
   {
    "duration": 5,
    "start_time": "2022-07-27T16:58:35.031Z"
   },
   {
    "duration": 7,
    "start_time": "2022-07-27T16:58:35.301Z"
   },
   {
    "duration": 9,
    "start_time": "2022-07-27T16:58:35.911Z"
   },
   {
    "duration": 8,
    "start_time": "2022-07-27T16:58:36.855Z"
   },
   {
    "duration": 6,
    "start_time": "2022-07-27T16:58:37.152Z"
   },
   {
    "duration": 9,
    "start_time": "2022-07-27T16:58:39.256Z"
   },
   {
    "duration": 9,
    "start_time": "2022-07-27T16:58:39.873Z"
   },
   {
    "duration": 10,
    "start_time": "2022-07-27T16:58:40.354Z"
   },
   {
    "duration": 4,
    "start_time": "2022-07-27T16:58:41.106Z"
   },
   {
    "duration": 6,
    "start_time": "2022-07-27T16:58:42.796Z"
   },
   {
    "duration": 644,
    "start_time": "2022-07-27T17:03:48.266Z"
   },
   {
    "duration": 478,
    "start_time": "2022-07-27T17:04:25.069Z"
   },
   {
    "duration": 4,
    "start_time": "2022-07-27T17:25:54.404Z"
   },
   {
    "duration": 5,
    "start_time": "2022-07-27T17:26:03.735Z"
   },
   {
    "duration": 5,
    "start_time": "2022-07-27T17:26:05.445Z"
   },
   {
    "duration": 4,
    "start_time": "2022-07-27T17:28:03.082Z"
   },
   {
    "duration": 5,
    "start_time": "2022-07-27T17:28:03.951Z"
   },
   {
    "duration": 19,
    "start_time": "2022-07-27T17:29:11.023Z"
   },
   {
    "duration": 8,
    "start_time": "2022-07-27T17:29:16.788Z"
   },
   {
    "duration": 4,
    "start_time": "2022-07-27T17:29:52.005Z"
   },
   {
    "duration": 5,
    "start_time": "2022-07-27T17:29:52.675Z"
   },
   {
    "duration": 4,
    "start_time": "2022-07-27T17:30:15.357Z"
   },
   {
    "duration": 5,
    "start_time": "2022-07-27T17:30:20.585Z"
   },
   {
    "duration": 10,
    "start_time": "2022-07-27T17:32:06.575Z"
   },
   {
    "duration": 6,
    "start_time": "2022-07-27T17:32:09.398Z"
   },
   {
    "duration": 7,
    "start_time": "2022-07-27T17:32:10.015Z"
   },
   {
    "duration": 5,
    "start_time": "2022-07-27T17:32:45.472Z"
   },
   {
    "duration": 6,
    "start_time": "2022-07-27T17:32:46.048Z"
   },
   {
    "duration": 6,
    "start_time": "2022-07-27T17:33:51.624Z"
   },
   {
    "duration": 4,
    "start_time": "2022-07-27T17:33:52.245Z"
   },
   {
    "duration": 6,
    "start_time": "2022-07-27T17:33:52.942Z"
   },
   {
    "duration": 4,
    "start_time": "2022-07-27T17:33:53.539Z"
   },
   {
    "duration": 4,
    "start_time": "2022-07-27T17:33:54.773Z"
   },
   {
    "duration": 5,
    "start_time": "2022-07-27T17:34:03.250Z"
   },
   {
    "duration": 5,
    "start_time": "2022-07-27T17:34:33.177Z"
   },
   {
    "duration": 5,
    "start_time": "2022-07-27T17:34:33.674Z"
   },
   {
    "duration": 5,
    "start_time": "2022-07-27T17:35:36.403Z"
   },
   {
    "duration": 5,
    "start_time": "2022-07-27T17:35:36.833Z"
   },
   {
    "duration": 5,
    "start_time": "2022-07-27T17:35:37.477Z"
   },
   {
    "duration": 4,
    "start_time": "2022-07-27T17:35:38.718Z"
   },
   {
    "duration": 3,
    "start_time": "2022-07-27T17:35:39.341Z"
   },
   {
    "duration": 4,
    "start_time": "2022-07-27T17:35:40.585Z"
   },
   {
    "duration": 5,
    "start_time": "2022-07-27T17:35:46.680Z"
   },
   {
    "duration": 3,
    "start_time": "2022-07-27T18:45:05.530Z"
   },
   {
    "duration": 50,
    "start_time": "2022-07-27T18:45:07.287Z"
   },
   {
    "duration": 17,
    "start_time": "2022-07-27T18:45:08.820Z"
   },
   {
    "duration": 3,
    "start_time": "2022-07-27T18:45:10.843Z"
   },
   {
    "duration": 6,
    "start_time": "2022-07-27T18:45:12.121Z"
   },
   {
    "duration": 5,
    "start_time": "2022-07-27T18:45:12.486Z"
   },
   {
    "duration": 6,
    "start_time": "2022-07-27T18:45:12.696Z"
   },
   {
    "duration": 13,
    "start_time": "2022-07-27T18:45:13.017Z"
   },
   {
    "duration": 10,
    "start_time": "2022-07-27T18:45:14.220Z"
   },
   {
    "duration": 4,
    "start_time": "2022-07-27T18:45:14.728Z"
   },
   {
    "duration": 7,
    "start_time": "2022-07-27T18:45:18.218Z"
   },
   {
    "duration": 6,
    "start_time": "2022-07-27T18:45:23.217Z"
   },
   {
    "duration": 4,
    "start_time": "2022-07-27T18:45:24.438Z"
   },
   {
    "duration": 5,
    "start_time": "2022-07-27T18:45:24.644Z"
   },
   {
    "duration": 14,
    "start_time": "2022-07-27T18:45:24.867Z"
   },
   {
    "duration": 5,
    "start_time": "2022-07-27T18:45:25.464Z"
   },
   {
    "duration": 4,
    "start_time": "2022-07-27T18:45:25.724Z"
   },
   {
    "duration": 5,
    "start_time": "2022-07-27T18:45:26.330Z"
   },
   {
    "duration": 8,
    "start_time": "2022-07-27T18:45:26.920Z"
   },
   {
    "duration": 5,
    "start_time": "2022-07-27T18:45:27.549Z"
   },
   {
    "duration": 4,
    "start_time": "2022-07-27T18:45:28.155Z"
   },
   {
    "duration": 5,
    "start_time": "2022-07-27T18:45:32.259Z"
   },
   {
    "duration": 14,
    "start_time": "2022-07-27T18:45:32.562Z"
   },
   {
    "duration": 15,
    "start_time": "2022-07-27T18:45:33.145Z"
   },
   {
    "duration": 9,
    "start_time": "2022-07-27T18:45:33.621Z"
   },
   {
    "duration": 22,
    "start_time": "2022-07-27T18:45:34.206Z"
   },
   {
    "duration": 9,
    "start_time": "2022-07-27T18:45:35.516Z"
   },
   {
    "duration": 9,
    "start_time": "2022-07-27T18:45:44.429Z"
   },
   {
    "duration": 8,
    "start_time": "2022-07-27T18:45:45.345Z"
   },
   {
    "duration": 8,
    "start_time": "2022-07-27T18:45:45.728Z"
   },
   {
    "duration": 5,
    "start_time": "2022-07-27T18:45:46.053Z"
   },
   {
    "duration": 13,
    "start_time": "2022-07-27T18:45:47.278Z"
   },
   {
    "duration": 6,
    "start_time": "2022-07-27T18:47:21.850Z"
   },
   {
    "duration": 10,
    "start_time": "2022-07-27T18:47:22.821Z"
   },
   {
    "duration": 12,
    "start_time": "2022-07-27T18:47:23.449Z"
   },
   {
    "duration": 7,
    "start_time": "2022-07-27T18:47:23.855Z"
   },
   {
    "duration": 10,
    "start_time": "2022-07-27T18:47:51.945Z"
   },
   {
    "duration": 92,
    "start_time": "2022-07-27T18:47:52.386Z"
   },
   {
    "duration": 10,
    "start_time": "2022-07-27T18:47:52.624Z"
   },
   {
    "duration": 10,
    "start_time": "2022-07-27T18:47:53.245Z"
   },
   {
    "duration": 9,
    "start_time": "2022-07-27T18:47:53.654Z"
   },
   {
    "duration": 6,
    "start_time": "2022-07-27T18:47:54.065Z"
   },
   {
    "duration": 6,
    "start_time": "2022-07-27T18:47:54.272Z"
   },
   {
    "duration": 110,
    "start_time": "2022-07-27T18:47:54.905Z"
   },
   {
    "duration": 111,
    "start_time": "2022-07-27T18:47:55.139Z"
   },
   {
    "duration": 8,
    "start_time": "2022-07-27T18:47:55.925Z"
   },
   {
    "duration": 16,
    "start_time": "2022-07-27T18:47:56.529Z"
   },
   {
    "duration": 104,
    "start_time": "2022-07-27T18:47:57.190Z"
   },
   {
    "duration": 105,
    "start_time": "2022-07-27T18:47:57.762Z"
   },
   {
    "duration": 6,
    "start_time": "2022-07-27T18:47:58.289Z"
   },
   {
    "duration": 16,
    "start_time": "2022-07-27T18:47:58.591Z"
   },
   {
    "duration": 120,
    "start_time": "2022-07-27T18:47:59.079Z"
   },
   {
    "duration": 125,
    "start_time": "2022-07-27T18:47:59.366Z"
   },
   {
    "duration": 7,
    "start_time": "2022-07-27T18:48:00.120Z"
   },
   {
    "duration": 17,
    "start_time": "2022-07-27T18:48:00.642Z"
   },
   {
    "duration": 122,
    "start_time": "2022-07-27T18:48:01.551Z"
   },
   {
    "duration": 127,
    "start_time": "2022-07-27T18:48:01.822Z"
   },
   {
    "duration": 8,
    "start_time": "2022-07-27T18:48:02.359Z"
   },
   {
    "duration": 15,
    "start_time": "2022-07-27T18:48:02.683Z"
   },
   {
    "duration": 26,
    "start_time": "2022-07-27T18:48:04.444Z"
   },
   {
    "duration": 7,
    "start_time": "2022-07-27T18:48:04.768Z"
   },
   {
    "duration": 7,
    "start_time": "2022-07-27T18:48:05.059Z"
   },
   {
    "duration": 3,
    "start_time": "2022-07-27T18:48:05.729Z"
   },
   {
    "duration": 7,
    "start_time": "2022-07-27T18:49:20.852Z"
   },
   {
    "duration": 5,
    "start_time": "2022-07-27T18:49:21.170Z"
   },
   {
    "duration": 377,
    "start_time": "2022-07-27T18:49:21.476Z"
   },
   {
    "duration": 6,
    "start_time": "2022-07-27T18:49:22.984Z"
   },
   {
    "duration": 9,
    "start_time": "2022-07-27T18:49:23.323Z"
   },
   {
    "duration": 9,
    "start_time": "2022-07-27T18:49:23.588Z"
   },
   {
    "duration": 15,
    "start_time": "2022-07-27T18:49:23.987Z"
   },
   {
    "duration": 20,
    "start_time": "2022-07-27T18:49:24.433Z"
   },
   {
    "duration": 294,
    "start_time": "2022-07-27T18:49:24.817Z"
   },
   {
    "duration": 6,
    "start_time": "2022-07-27T18:49:27.081Z"
   },
   {
    "duration": 6,
    "start_time": "2022-07-27T18:49:27.864Z"
   },
   {
    "duration": 9,
    "start_time": "2022-07-27T18:49:28.130Z"
   },
   {
    "duration": 8,
    "start_time": "2022-07-27T18:49:28.379Z"
   },
   {
    "duration": 16,
    "start_time": "2022-07-27T18:49:28.654Z"
   },
   {
    "duration": 11,
    "start_time": "2022-07-27T18:49:28.954Z"
   },
   {
    "duration": 420,
    "start_time": "2022-07-27T18:49:29.232Z"
   },
   {
    "duration": 240,
    "start_time": "2022-07-27T18:49:31.060Z"
   },
   {
    "duration": 9,
    "start_time": "2022-07-27T18:49:32.364Z"
   },
   {
    "duration": 8,
    "start_time": "2022-07-27T18:49:32.619Z"
   },
   {
    "duration": 5,
    "start_time": "2022-07-27T18:49:33.919Z"
   },
   {
    "duration": 5,
    "start_time": "2022-07-27T18:49:34.194Z"
   },
   {
    "duration": 6,
    "start_time": "2022-07-27T18:49:34.771Z"
   },
   {
    "duration": 169,
    "start_time": "2022-07-27T18:49:35.069Z"
   },
   {
    "duration": 4,
    "start_time": "2022-07-27T18:49:35.335Z"
   },
   {
    "duration": 163,
    "start_time": "2022-07-27T18:49:35.869Z"
   },
   {
    "duration": 5,
    "start_time": "2022-07-27T18:49:36.191Z"
   },
   {
    "duration": 5,
    "start_time": "2022-07-27T18:49:38.436Z"
   },
   {
    "duration": 6,
    "start_time": "2022-07-27T18:49:38.821Z"
   },
   {
    "duration": 5,
    "start_time": "2022-07-27T18:49:39.437Z"
   },
   {
    "duration": 4,
    "start_time": "2022-07-27T18:49:39.854Z"
   },
   {
    "duration": 5,
    "start_time": "2022-07-27T18:49:40.683Z"
   },
   {
    "duration": 5,
    "start_time": "2022-07-27T18:49:40.891Z"
   },
   {
    "duration": 5,
    "start_time": "2022-07-27T18:49:41.117Z"
   },
   {
    "duration": 5,
    "start_time": "2022-07-27T18:49:42.137Z"
   },
   {
    "duration": 4,
    "start_time": "2022-07-27T18:49:42.552Z"
   },
   {
    "duration": 4,
    "start_time": "2022-07-27T18:49:42.759Z"
   },
   {
    "duration": 13,
    "start_time": "2022-07-27T18:49:44.249Z"
   },
   {
    "duration": 10,
    "start_time": "2022-07-27T18:49:44.495Z"
   },
   {
    "duration": 11,
    "start_time": "2022-07-27T18:49:44.758Z"
   },
   {
    "duration": 5,
    "start_time": "2022-07-27T18:49:45.265Z"
   },
   {
    "duration": 4,
    "start_time": "2022-07-27T18:49:45.522Z"
   },
   {
    "duration": 5,
    "start_time": "2022-07-27T18:49:45.783Z"
   },
   {
    "duration": 9,
    "start_time": "2022-07-27T18:49:46.277Z"
   },
   {
    "duration": 7,
    "start_time": "2022-07-27T18:49:46.531Z"
   },
   {
    "duration": 7,
    "start_time": "2022-07-27T18:49:46.775Z"
   },
   {
    "duration": 417,
    "start_time": "2022-07-27T18:49:47.321Z"
   },
   {
    "duration": 12,
    "start_time": "2022-07-27T18:49:52.955Z"
   },
   {
    "duration": 7,
    "start_time": "2022-07-27T18:49:53.160Z"
   },
   {
    "duration": 4,
    "start_time": "2022-07-27T18:49:53.368Z"
   },
   {
    "duration": 6,
    "start_time": "2022-07-27T18:49:53.772Z"
   },
   {
    "duration": 9,
    "start_time": "2022-07-27T18:49:56.269Z"
   },
   {
    "duration": 4,
    "start_time": "2022-07-27T18:51:05.285Z"
   },
   {
    "duration": 6,
    "start_time": "2022-07-27T18:51:06.026Z"
   },
   {
    "duration": 6,
    "start_time": "2022-07-27T18:51:06.302Z"
   },
   {
    "duration": 5,
    "start_time": "2022-07-27T18:51:06.818Z"
   },
   {
    "duration": 5,
    "start_time": "2022-07-27T18:51:07.126Z"
   },
   {
    "duration": 4,
    "start_time": "2022-07-27T18:51:07.604Z"
   },
   {
    "duration": 5,
    "start_time": "2022-07-27T18:51:07.818Z"
   },
   {
    "duration": 6,
    "start_time": "2022-07-27T18:51:09.875Z"
   },
   {
    "duration": 5,
    "start_time": "2022-07-27T18:51:10.087Z"
   },
   {
    "duration": 5,
    "start_time": "2022-07-27T18:51:10.292Z"
   },
   {
    "duration": 6,
    "start_time": "2022-07-27T18:51:10.733Z"
   },
   {
    "duration": 4,
    "start_time": "2022-07-27T18:51:11.141Z"
   },
   {
    "duration": 4,
    "start_time": "2022-07-27T18:51:11.530Z"
   },
   {
    "duration": 3,
    "start_time": "2022-07-27T18:51:11.732Z"
   },
   {
    "duration": 4,
    "start_time": "2022-07-27T18:51:12.144Z"
   },
   {
    "duration": 5,
    "start_time": "2022-07-27T18:51:12.556Z"
   },
   {
    "duration": 5,
    "start_time": "2022-07-27T18:51:15.473Z"
   },
   {
    "duration": 5,
    "start_time": "2022-07-27T18:51:15.766Z"
   },
   {
    "duration": 6,
    "start_time": "2022-07-27T18:51:16.031Z"
   },
   {
    "duration": 6,
    "start_time": "2022-07-27T18:51:16.285Z"
   },
   {
    "duration": 3,
    "start_time": "2022-07-27T18:51:16.503Z"
   },
   {
    "duration": 3,
    "start_time": "2022-07-27T18:51:16.748Z"
   },
   {
    "duration": 4,
    "start_time": "2022-07-27T18:51:16.984Z"
   },
   {
    "duration": 5,
    "start_time": "2022-07-27T18:51:17.232Z"
   },
   {
    "duration": 19,
    "start_time": "2022-07-27T19:18:20.904Z"
   },
   {
    "duration": 18,
    "start_time": "2022-07-27T19:18:42.319Z"
   },
   {
    "duration": 5,
    "start_time": "2022-07-27T19:19:27.065Z"
   },
   {
    "duration": 18,
    "start_time": "2022-07-27T19:19:59.432Z"
   },
   {
    "duration": 3,
    "start_time": "2022-07-27T19:20:05.911Z"
   },
   {
    "duration": 51,
    "start_time": "2022-07-27T19:20:06.410Z"
   },
   {
    "duration": 18,
    "start_time": "2022-07-27T19:20:06.627Z"
   },
   {
    "duration": 4,
    "start_time": "2022-07-27T19:20:07.606Z"
   },
   {
    "duration": 6,
    "start_time": "2022-07-27T19:20:08.631Z"
   },
   {
    "duration": 7,
    "start_time": "2022-07-27T19:20:08.856Z"
   },
   {
    "duration": 7,
    "start_time": "2022-07-27T19:20:09.246Z"
   },
   {
    "duration": 18,
    "start_time": "2022-07-27T19:20:09.449Z"
   },
   {
    "duration": 11,
    "start_time": "2022-07-27T19:20:10.083Z"
   },
   {
    "duration": 5,
    "start_time": "2022-07-27T19:20:10.477Z"
   },
   {
    "duration": 5,
    "start_time": "2022-07-27T19:20:11.298Z"
   },
   {
    "duration": 6,
    "start_time": "2022-07-27T19:20:11.914Z"
   },
   {
    "duration": 4,
    "start_time": "2022-07-27T19:20:12.536Z"
   },
   {
    "duration": 4,
    "start_time": "2022-07-27T19:20:12.780Z"
   },
   {
    "duration": 17,
    "start_time": "2022-07-27T19:20:13.029Z"
   },
   {
    "duration": 3,
    "start_time": "2022-07-27T19:20:13.527Z"
   },
   {
    "duration": 4,
    "start_time": "2022-07-27T19:20:13.826Z"
   },
   {
    "duration": 6,
    "start_time": "2022-07-27T19:20:14.507Z"
   },
   {
    "duration": 11,
    "start_time": "2022-07-27T19:20:15.258Z"
   },
   {
    "duration": 7,
    "start_time": "2022-07-27T19:20:15.777Z"
   },
   {
    "duration": 6,
    "start_time": "2022-07-27T19:20:16.303Z"
   },
   {
    "duration": 5,
    "start_time": "2022-07-27T19:20:16.848Z"
   },
   {
    "duration": 15,
    "start_time": "2022-07-27T19:20:17.111Z"
   },
   {
    "duration": 20,
    "start_time": "2022-07-27T19:20:17.414Z"
   },
   {
    "duration": 13,
    "start_time": "2022-07-27T19:20:17.678Z"
   },
   {
    "duration": 30,
    "start_time": "2022-07-27T19:20:17.967Z"
   },
   {
    "duration": 9,
    "start_time": "2022-07-27T19:20:18.489Z"
   },
   {
    "duration": 11,
    "start_time": "2022-07-27T19:20:19.010Z"
   },
   {
    "duration": 13,
    "start_time": "2022-07-27T19:20:19.551Z"
   },
   {
    "duration": 9,
    "start_time": "2022-07-27T19:20:19.818Z"
   },
   {
    "duration": 5,
    "start_time": "2022-07-27T19:20:20.109Z"
   },
   {
    "duration": 17,
    "start_time": "2022-07-27T19:20:20.633Z"
   },
   {
    "duration": 7,
    "start_time": "2022-07-27T19:20:20.949Z"
   },
   {
    "duration": 15,
    "start_time": "2022-07-27T19:20:21.769Z"
   },
   {
    "duration": 12,
    "start_time": "2022-07-27T19:20:22.292Z"
   },
   {
    "duration": 9,
    "start_time": "2022-07-27T19:20:22.965Z"
   },
   {
    "duration": 10,
    "start_time": "2022-07-27T19:20:23.784Z"
   },
   {
    "duration": 94,
    "start_time": "2022-07-27T19:20:24.009Z"
   },
   {
    "duration": 14,
    "start_time": "2022-07-27T19:20:24.404Z"
   },
   {
    "duration": 14,
    "start_time": "2022-07-27T19:20:25.222Z"
   },
   {
    "duration": 15,
    "start_time": "2022-07-27T19:20:25.427Z"
   },
   {
    "duration": 8,
    "start_time": "2022-07-27T19:20:26.044Z"
   },
   {
    "duration": 8,
    "start_time": "2022-07-27T19:20:26.249Z"
   },
   {
    "duration": 121,
    "start_time": "2022-07-27T19:20:26.866Z"
   },
   {
    "duration": 133,
    "start_time": "2022-07-27T19:20:27.076Z"
   },
   {
    "duration": 8,
    "start_time": "2022-07-27T19:20:27.798Z"
   },
   {
    "duration": 25,
    "start_time": "2022-07-27T19:20:28.589Z"
   },
   {
    "duration": 126,
    "start_time": "2022-07-27T19:20:29.425Z"
   },
   {
    "duration": 139,
    "start_time": "2022-07-27T19:20:29.746Z"
   },
   {
    "duration": 7,
    "start_time": "2022-07-27T19:20:30.288Z"
   },
   {
    "duration": 18,
    "start_time": "2022-07-27T19:20:30.825Z"
   },
   {
    "duration": 110,
    "start_time": "2022-07-27T19:20:31.351Z"
   },
   {
    "duration": 126,
    "start_time": "2022-07-27T19:20:31.644Z"
   },
   {
    "duration": 8,
    "start_time": "2022-07-27T19:20:32.198Z"
   },
   {
    "duration": 21,
    "start_time": "2022-07-27T19:20:32.707Z"
   },
   {
    "duration": 115,
    "start_time": "2022-07-27T19:20:33.266Z"
   },
   {
    "duration": 134,
    "start_time": "2022-07-27T19:20:33.537Z"
   },
   {
    "duration": 8,
    "start_time": "2022-07-27T19:20:34.115Z"
   },
   {
    "duration": 18,
    "start_time": "2022-07-27T19:20:34.371Z"
   },
   {
    "duration": 33,
    "start_time": "2022-07-27T19:20:36.230Z"
   },
   {
    "duration": 9,
    "start_time": "2022-07-27T19:20:36.512Z"
   },
   {
    "duration": 9,
    "start_time": "2022-07-27T19:20:36.757Z"
   },
   {
    "duration": 4,
    "start_time": "2022-07-27T19:20:37.596Z"
   },
   {
    "duration": 7,
    "start_time": "2022-07-27T19:20:37.803Z"
   },
   {
    "duration": 6,
    "start_time": "2022-07-27T19:20:38.225Z"
   },
   {
    "duration": 611,
    "start_time": "2022-07-27T19:20:38.358Z"
   },
   {
    "duration": 7,
    "start_time": "2022-07-27T19:20:39.864Z"
   },
   {
    "duration": 12,
    "start_time": "2022-07-27T19:20:40.921Z"
   },
   {
    "duration": 9,
    "start_time": "2022-07-27T19:20:41.097Z"
   },
   {
    "duration": 17,
    "start_time": "2022-07-27T19:20:41.508Z"
   },
   {
    "duration": 28,
    "start_time": "2022-07-27T19:20:42.533Z"
   },
   {
    "duration": 344,
    "start_time": "2022-07-27T19:20:42.846Z"
   },
   {
    "duration": 6,
    "start_time": "2022-07-27T19:20:45.681Z"
   },
   {
    "duration": 8,
    "start_time": "2022-07-27T19:20:46.888Z"
   },
   {
    "duration": 9,
    "start_time": "2022-07-27T19:20:47.274Z"
   },
   {
    "duration": 8,
    "start_time": "2022-07-27T19:20:47.594Z"
   },
   {
    "duration": 17,
    "start_time": "2022-07-27T19:20:47.966Z"
   },
   {
    "duration": 10,
    "start_time": "2022-07-27T19:20:48.422Z"
   },
   {
    "duration": 326,
    "start_time": "2022-07-27T19:20:49.057Z"
   },
   {
    "duration": 240,
    "start_time": "2022-07-27T19:20:51.266Z"
   },
   {
    "duration": 254,
    "start_time": "2022-07-27T19:21:03.712Z"
   },
   {
    "duration": 8,
    "start_time": "2022-07-27T19:21:04.727Z"
   },
   {
    "duration": 9,
    "start_time": "2022-07-27T19:21:04.984Z"
   },
   {
    "duration": 7,
    "start_time": "2022-07-27T19:21:06.235Z"
   },
   {
    "duration": 5,
    "start_time": "2022-07-27T19:21:06.517Z"
   },
   {
    "duration": 8,
    "start_time": "2022-07-27T19:21:07.133Z"
   },
   {
    "duration": 165,
    "start_time": "2022-07-27T19:21:07.340Z"
   },
   {
    "duration": 4,
    "start_time": "2022-07-27T19:21:07.818Z"
   },
   {
    "duration": 174,
    "start_time": "2022-07-27T19:21:08.316Z"
   },
   {
    "duration": 5,
    "start_time": "2022-07-27T19:21:08.641Z"
   },
   {
    "duration": 6,
    "start_time": "2022-07-27T19:21:10.491Z"
   },
   {
    "duration": 18,
    "start_time": "2022-07-27T19:21:11.107Z"
   },
   {
    "duration": 6,
    "start_time": "2022-07-27T19:21:26.464Z"
   },
   {
    "duration": 7,
    "start_time": "2022-07-27T19:21:29.169Z"
   },
   {
    "duration": 4,
    "start_time": "2022-07-27T19:21:31.764Z"
   },
   {
    "duration": 4,
    "start_time": "2022-07-27T19:21:33.121Z"
   },
   {
    "duration": 6,
    "start_time": "2022-07-27T19:25:30.359Z"
   },
   {
    "duration": 6,
    "start_time": "2022-07-27T19:25:30.612Z"
   },
   {
    "duration": 5,
    "start_time": "2022-07-27T19:25:30.835Z"
   },
   {
    "duration": 4,
    "start_time": "2022-07-27T19:25:31.412Z"
   },
   {
    "duration": 7,
    "start_time": "2022-07-27T20:24:41.458Z"
   },
   {
    "duration": 4,
    "start_time": "2022-07-27T20:24:51.277Z"
   },
   {
    "duration": 5,
    "start_time": "2022-07-27T20:24:54.130Z"
   },
   {
    "duration": 7,
    "start_time": "2022-07-27T20:24:54.940Z"
   },
   {
    "duration": 5,
    "start_time": "2022-07-27T20:24:55.283Z"
   },
   {
    "duration": 4,
    "start_time": "2022-07-27T20:24:55.823Z"
   },
   {
    "duration": 5,
    "start_time": "2022-07-27T20:24:56.452Z"
   },
   {
    "duration": 6,
    "start_time": "2022-07-27T20:24:56.814Z"
   },
   {
    "duration": 4,
    "start_time": "2022-07-27T20:24:57.060Z"
   },
   {
    "duration": 4,
    "start_time": "2022-07-27T20:24:57.372Z"
   },
   {
    "duration": 7,
    "start_time": "2022-07-27T20:24:57.865Z"
   },
   {
    "duration": 6,
    "start_time": "2022-07-27T20:24:58.534Z"
   },
   {
    "duration": 5,
    "start_time": "2022-07-27T20:24:59.061Z"
   },
   {
    "duration": 4,
    "start_time": "2022-07-27T20:24:59.571Z"
   },
   {
    "duration": 5,
    "start_time": "2022-07-27T20:25:00.805Z"
   },
   {
    "duration": 7,
    "start_time": "2022-07-27T20:25:01.626Z"
   },
   {
    "duration": 3,
    "start_time": "2022-07-27T20:25:02.464Z"
   },
   {
    "duration": 4,
    "start_time": "2022-07-27T20:25:14.727Z"
   },
   {
    "duration": 8,
    "start_time": "2022-07-27T20:25:31.872Z"
   },
   {
    "duration": 3,
    "start_time": "2022-07-27T20:25:49.630Z"
   },
   {
    "duration": 54,
    "start_time": "2022-07-27T20:25:50.159Z"
   },
   {
    "duration": 15,
    "start_time": "2022-07-27T20:25:50.633Z"
   },
   {
    "duration": 3,
    "start_time": "2022-07-27T20:25:51.661Z"
   },
   {
    "duration": 5,
    "start_time": "2022-07-27T20:25:52.910Z"
   },
   {
    "duration": 5,
    "start_time": "2022-07-27T20:25:53.181Z"
   },
   {
    "duration": 6,
    "start_time": "2022-07-27T20:25:53.459Z"
   },
   {
    "duration": 15,
    "start_time": "2022-07-27T20:25:53.752Z"
   },
   {
    "duration": 10,
    "start_time": "2022-07-27T20:25:54.538Z"
   },
   {
    "duration": 4,
    "start_time": "2022-07-27T20:25:54.807Z"
   },
   {
    "duration": 5,
    "start_time": "2022-07-27T20:25:55.851Z"
   },
   {
    "duration": 5,
    "start_time": "2022-07-27T20:25:56.394Z"
   },
   {
    "duration": 4,
    "start_time": "2022-07-27T20:25:57.241Z"
   },
   {
    "duration": 4,
    "start_time": "2022-07-27T20:25:57.456Z"
   },
   {
    "duration": 14,
    "start_time": "2022-07-27T20:25:58.075Z"
   },
   {
    "duration": 4,
    "start_time": "2022-07-27T20:25:58.537Z"
   },
   {
    "duration": 4,
    "start_time": "2022-07-27T20:25:58.758Z"
   },
   {
    "duration": 6,
    "start_time": "2022-07-27T20:25:59.382Z"
   },
   {
    "duration": 8,
    "start_time": "2022-07-27T20:25:59.992Z"
   },
   {
    "duration": 4,
    "start_time": "2022-07-27T20:26:00.606Z"
   },
   {
    "duration": 4,
    "start_time": "2022-07-27T20:26:01.427Z"
   },
   {
    "duration": 6,
    "start_time": "2022-07-27T20:26:01.845Z"
   },
   {
    "duration": 14,
    "start_time": "2022-07-27T20:26:02.250Z"
   },
   {
    "duration": 15,
    "start_time": "2022-07-27T20:26:02.454Z"
   },
   {
    "duration": 20,
    "start_time": "2022-07-27T20:26:02.661Z"
   },
   {
    "duration": 21,
    "start_time": "2022-07-27T20:26:03.069Z"
   },
   {
    "duration": 8,
    "start_time": "2022-07-27T20:26:03.480Z"
   },
   {
    "duration": 8,
    "start_time": "2022-07-27T20:26:03.798Z"
   },
   {
    "duration": 8,
    "start_time": "2022-07-27T20:26:04.300Z"
   },
   {
    "duration": 8,
    "start_time": "2022-07-27T20:26:04.552Z"
   },
   {
    "duration": 4,
    "start_time": "2022-07-27T20:26:04.817Z"
   },
   {
    "duration": 16,
    "start_time": "2022-07-27T20:26:05.394Z"
   },
   {
    "duration": 6,
    "start_time": "2022-07-27T20:26:05.658Z"
   },
   {
    "duration": 9,
    "start_time": "2022-07-27T20:26:06.534Z"
   },
   {
    "duration": 10,
    "start_time": "2022-07-27T20:26:07.063Z"
   },
   {
    "duration": 8,
    "start_time": "2022-07-27T20:26:07.353Z"
   },
   {
    "duration": 10,
    "start_time": "2022-07-27T20:26:08.131Z"
   },
   {
    "duration": 89,
    "start_time": "2022-07-27T20:26:08.411Z"
   },
   {
    "duration": 11,
    "start_time": "2022-07-27T20:26:09.015Z"
   },
   {
    "duration": 10,
    "start_time": "2022-07-27T20:26:09.851Z"
   },
   {
    "duration": 12,
    "start_time": "2022-07-27T20:26:10.168Z"
   },
   {
    "duration": 6,
    "start_time": "2022-07-27T20:26:10.782Z"
   },
   {
    "duration": 8,
    "start_time": "2022-07-27T20:26:11.052Z"
   },
   {
    "duration": 108,
    "start_time": "2022-07-27T20:26:11.600Z"
   },
   {
    "duration": 116,
    "start_time": "2022-07-27T20:26:11.806Z"
   },
   {
    "duration": 6,
    "start_time": "2022-07-27T20:26:12.631Z"
   },
   {
    "duration": 19,
    "start_time": "2022-07-27T20:26:13.303Z"
   },
   {
    "duration": 109,
    "start_time": "2022-07-27T20:26:14.030Z"
   },
   {
    "duration": 121,
    "start_time": "2022-07-27T20:26:14.324Z"
   },
   {
    "duration": 8,
    "start_time": "2022-07-27T20:26:14.941Z"
   },
   {
    "duration": 16,
    "start_time": "2022-07-27T20:26:15.146Z"
   },
   {
    "duration": 104,
    "start_time": "2022-07-27T20:26:15.762Z"
   },
   {
    "duration": 135,
    "start_time": "2022-07-27T20:26:15.968Z"
   },
   {
    "duration": 7,
    "start_time": "2022-07-27T20:26:16.583Z"
   },
   {
    "duration": 15,
    "start_time": "2022-07-27T20:26:16.994Z"
   },
   {
    "duration": 102,
    "start_time": "2022-07-27T20:26:17.610Z"
   },
   {
    "duration": 129,
    "start_time": "2022-07-27T20:26:17.815Z"
   },
   {
    "duration": 7,
    "start_time": "2022-07-27T20:26:18.226Z"
   },
   {
    "duration": 16,
    "start_time": "2022-07-27T20:26:18.456Z"
   },
   {
    "duration": 27,
    "start_time": "2022-07-27T20:26:20.211Z"
   },
   {
    "duration": 7,
    "start_time": "2022-07-27T20:26:20.462Z"
   },
   {
    "duration": 6,
    "start_time": "2022-07-27T20:26:20.772Z"
   },
   {
    "duration": 4,
    "start_time": "2022-07-27T20:26:21.274Z"
   },
   {
    "duration": 6,
    "start_time": "2022-07-27T20:26:21.534Z"
   },
   {
    "duration": 5,
    "start_time": "2022-07-27T20:26:21.795Z"
   },
   {
    "duration": 360,
    "start_time": "2022-07-27T20:26:22.065Z"
   },
   {
    "duration": 6,
    "start_time": "2022-07-27T20:26:23.312Z"
   },
   {
    "duration": 10,
    "start_time": "2022-07-27T20:26:23.557Z"
   },
   {
    "duration": 8,
    "start_time": "2022-07-27T20:26:23.834Z"
   },
   {
    "duration": 15,
    "start_time": "2022-07-27T20:26:24.084Z"
   },
   {
    "duration": 20,
    "start_time": "2022-07-27T20:26:24.658Z"
   },
   {
    "duration": 442,
    "start_time": "2022-07-27T20:26:24.919Z"
   },
   {
    "duration": 6,
    "start_time": "2022-07-27T20:26:27.562Z"
   },
   {
    "duration": 7,
    "start_time": "2022-07-27T20:26:28.775Z"
   },
   {
    "duration": 11,
    "start_time": "2022-07-27T20:26:29.031Z"
   },
   {
    "duration": 9,
    "start_time": "2022-07-27T20:26:29.356Z"
   },
   {
    "duration": 17,
    "start_time": "2022-07-27T20:26:29.607Z"
   },
   {
    "duration": 9,
    "start_time": "2022-07-27T20:26:29.973Z"
   },
   {
    "duration": 276,
    "start_time": "2022-07-27T20:26:30.383Z"
   },
   {
    "duration": 235,
    "start_time": "2022-07-27T20:26:32.248Z"
   },
   {
    "duration": 7,
    "start_time": "2022-07-27T20:26:33.486Z"
   },
   {
    "duration": 8,
    "start_time": "2022-07-27T20:26:33.796Z"
   },
   {
    "duration": 6,
    "start_time": "2022-07-27T20:26:35.209Z"
   },
   {
    "duration": 5,
    "start_time": "2022-07-27T20:26:35.495Z"
   },
   {
    "duration": 7,
    "start_time": "2022-07-27T20:26:36.093Z"
   },
   {
    "duration": 175,
    "start_time": "2022-07-27T20:26:36.385Z"
   },
   {
    "duration": 4,
    "start_time": "2022-07-27T20:26:37.472Z"
   },
   {
    "duration": 147,
    "start_time": "2022-07-27T20:26:38.397Z"
   },
   {
    "duration": 6,
    "start_time": "2022-07-27T20:26:38.776Z"
   },
   {
    "duration": 6,
    "start_time": "2022-07-27T20:26:58.794Z"
   },
   {
    "duration": 6,
    "start_time": "2022-07-27T20:27:12.008Z"
   },
   {
    "duration": 7,
    "start_time": "2022-07-27T20:27:12.245Z"
   },
   {
    "duration": 4,
    "start_time": "2022-07-27T20:27:12.829Z"
   },
   {
    "duration": 4,
    "start_time": "2022-07-27T20:27:13.061Z"
   },
   {
    "duration": 5,
    "start_time": "2022-07-27T20:27:13.702Z"
   },
   {
    "duration": 6,
    "start_time": "2022-07-27T20:27:13.923Z"
   },
   {
    "duration": 4,
    "start_time": "2022-07-27T20:27:14.164Z"
   },
   {
    "duration": 5,
    "start_time": "2022-07-27T20:27:14.559Z"
   },
   {
    "duration": 5,
    "start_time": "2022-07-27T20:27:14.742Z"
   },
   {
    "duration": 6,
    "start_time": "2022-07-27T20:27:15.153Z"
   },
   {
    "duration": 4,
    "start_time": "2022-07-27T20:27:15.769Z"
   },
   {
    "duration": 5,
    "start_time": "2022-07-27T20:27:15.978Z"
   },
   {
    "duration": 6,
    "start_time": "2022-07-27T20:27:16.216Z"
   },
   {
    "duration": 6,
    "start_time": "2022-07-27T20:27:16.592Z"
   },
   {
    "duration": 5,
    "start_time": "2022-07-27T20:27:16.801Z"
   },
   {
    "duration": 4,
    "start_time": "2022-07-27T20:27:17.207Z"
   },
   {
    "duration": 5,
    "start_time": "2022-07-27T20:27:17.414Z"
   },
   {
    "duration": 6,
    "start_time": "2022-07-27T20:27:17.823Z"
   },
   {
    "duration": 4,
    "start_time": "2022-07-27T20:27:18.069Z"
   },
   {
    "duration": 5,
    "start_time": "2022-07-27T20:27:18.438Z"
   },
   {
    "duration": 6,
    "start_time": "2022-07-27T20:27:18.938Z"
   },
   {
    "duration": 6,
    "start_time": "2022-07-27T20:27:19.518Z"
   },
   {
    "duration": 3,
    "start_time": "2022-07-27T20:27:21.010Z"
   },
   {
    "duration": 3,
    "start_time": "2022-07-27T20:27:21.653Z"
   },
   {
    "duration": 4,
    "start_time": "2022-07-27T20:27:23.165Z"
   },
   {
    "duration": 4,
    "start_time": "2022-07-27T20:27:23.587Z"
   },
   {
    "duration": 3,
    "start_time": "2022-07-27T20:27:24.287Z"
   },
   {
    "duration": 5,
    "start_time": "2022-07-27T20:32:18.478Z"
   },
   {
    "duration": 5,
    "start_time": "2022-07-27T20:32:19.864Z"
   },
   {
    "duration": 5,
    "start_time": "2022-07-27T20:32:21.174Z"
   },
   {
    "duration": 5,
    "start_time": "2022-07-27T20:33:53.523Z"
   },
   {
    "duration": 6,
    "start_time": "2022-07-27T20:33:54.564Z"
   },
   {
    "duration": 4,
    "start_time": "2022-07-27T20:33:56.031Z"
   },
   {
    "duration": 4,
    "start_time": "2022-07-27T20:33:56.800Z"
   },
   {
    "duration": 6,
    "start_time": "2022-07-27T20:35:27.569Z"
   },
   {
    "duration": 4,
    "start_time": "2022-07-27T20:35:27.852Z"
   },
   {
    "duration": 3,
    "start_time": "2022-07-27T20:35:29.960Z"
   },
   {
    "duration": 4,
    "start_time": "2022-07-27T20:36:41.786Z"
   },
   {
    "duration": 5,
    "start_time": "2022-07-27T20:36:43.481Z"
   },
   {
    "duration": 6,
    "start_time": "2022-07-27T20:36:44.066Z"
   },
   {
    "duration": 4,
    "start_time": "2022-07-27T20:36:44.709Z"
   },
   {
    "duration": 4,
    "start_time": "2022-07-27T20:36:48.247Z"
   },
   {
    "duration": 5,
    "start_time": "2022-07-27T20:37:29.971Z"
   },
   {
    "duration": 6,
    "start_time": "2022-07-27T20:37:30.175Z"
   },
   {
    "duration": 5,
    "start_time": "2022-07-27T20:37:31.408Z"
   },
   {
    "duration": 4,
    "start_time": "2022-07-27T20:37:33.840Z"
   },
   {
    "duration": 5,
    "start_time": "2022-07-27T20:38:20.349Z"
   },
   {
    "duration": 6,
    "start_time": "2022-07-27T20:38:20.863Z"
   },
   {
    "duration": 5,
    "start_time": "2022-07-27T20:38:21.492Z"
   },
   {
    "duration": 5,
    "start_time": "2022-07-27T20:38:22.384Z"
   },
   {
    "duration": 5,
    "start_time": "2022-07-27T20:39:40.290Z"
   },
   {
    "duration": 6,
    "start_time": "2022-07-27T20:39:40.566Z"
   },
   {
    "duration": 4,
    "start_time": "2022-07-27T20:39:41.158Z"
   },
   {
    "duration": 4,
    "start_time": "2022-07-27T20:39:41.831Z"
   },
   {
    "duration": 1176,
    "start_time": "2022-07-28T08:53:23.040Z"
   },
   {
    "duration": 62,
    "start_time": "2022-07-28T08:53:24.218Z"
   },
   {
    "duration": 19,
    "start_time": "2022-07-28T08:53:24.283Z"
   },
   {
    "duration": 4,
    "start_time": "2022-07-28T08:53:24.306Z"
   },
   {
    "duration": 11,
    "start_time": "2022-07-28T08:53:24.312Z"
   },
   {
    "duration": 8,
    "start_time": "2022-07-28T08:53:24.325Z"
   },
   {
    "duration": 30,
    "start_time": "2022-07-28T08:53:24.335Z"
   },
   {
    "duration": 20,
    "start_time": "2022-07-28T08:53:24.373Z"
   },
   {
    "duration": 17,
    "start_time": "2022-07-28T08:53:24.395Z"
   },
   {
    "duration": 4,
    "start_time": "2022-07-28T08:53:24.415Z"
   },
   {
    "duration": 10,
    "start_time": "2022-07-28T08:53:24.421Z"
   },
   {
    "duration": 18,
    "start_time": "2022-07-28T08:53:24.432Z"
   },
   {
    "duration": 11,
    "start_time": "2022-07-28T08:53:24.452Z"
   },
   {
    "duration": 18,
    "start_time": "2022-07-28T08:53:24.471Z"
   },
   {
    "duration": 16,
    "start_time": "2022-07-28T08:53:24.491Z"
   },
   {
    "duration": 4,
    "start_time": "2022-07-28T08:53:24.509Z"
   },
   {
    "duration": 6,
    "start_time": "2022-07-28T08:53:24.514Z"
   },
   {
    "duration": 11,
    "start_time": "2022-07-28T08:53:24.522Z"
   },
   {
    "duration": 14,
    "start_time": "2022-07-28T08:53:24.535Z"
   },
   {
    "duration": 19,
    "start_time": "2022-07-28T08:53:24.551Z"
   },
   {
    "duration": 11,
    "start_time": "2022-07-28T08:53:24.576Z"
   },
   {
    "duration": 8,
    "start_time": "2022-07-28T08:53:24.588Z"
   },
   {
    "duration": 17,
    "start_time": "2022-07-28T08:53:24.598Z"
   },
   {
    "duration": 20,
    "start_time": "2022-07-28T08:53:24.616Z"
   },
   {
    "duration": 10,
    "start_time": "2022-07-28T08:53:24.639Z"
   },
   {
    "duration": 51,
    "start_time": "2022-07-28T08:53:24.650Z"
   },
   {
    "duration": 11,
    "start_time": "2022-07-28T08:53:24.703Z"
   },
   {
    "duration": 9,
    "start_time": "2022-07-28T08:53:24.721Z"
   },
   {
    "duration": 16,
    "start_time": "2022-07-28T08:53:24.732Z"
   },
   {
    "duration": 21,
    "start_time": "2022-07-28T08:53:24.750Z"
   },
   {
    "duration": 10,
    "start_time": "2022-07-28T08:53:24.780Z"
   },
   {
    "duration": 22,
    "start_time": "2022-07-28T08:53:24.791Z"
   },
   {
    "duration": 5,
    "start_time": "2022-07-28T08:53:24.815Z"
   },
   {
    "duration": 21,
    "start_time": "2022-07-28T08:53:24.821Z"
   },
   {
    "duration": 23,
    "start_time": "2022-07-28T08:53:24.843Z"
   },
   {
    "duration": 7,
    "start_time": "2022-07-28T08:53:24.867Z"
   },
   {
    "duration": 15,
    "start_time": "2022-07-28T08:53:24.877Z"
   },
   {
    "duration": 98,
    "start_time": "2022-07-28T08:53:24.894Z"
   },
   {
    "duration": 11,
    "start_time": "2022-07-28T08:53:24.993Z"
   },
   {
    "duration": 9,
    "start_time": "2022-07-28T08:53:25.006Z"
   },
   {
    "duration": 12,
    "start_time": "2022-07-28T08:53:25.017Z"
   },
   {
    "duration": 40,
    "start_time": "2022-07-28T08:53:25.031Z"
   },
   {
    "duration": 12,
    "start_time": "2022-07-28T08:53:25.076Z"
   },
   {
    "duration": 115,
    "start_time": "2022-07-28T08:53:25.090Z"
   },
   {
    "duration": 145,
    "start_time": "2022-07-28T08:53:25.207Z"
   },
   {
    "duration": 18,
    "start_time": "2022-07-28T08:53:25.354Z"
   },
   {
    "duration": 31,
    "start_time": "2022-07-28T08:53:25.374Z"
   },
   {
    "duration": 138,
    "start_time": "2022-07-28T08:53:25.407Z"
   },
   {
    "duration": 134,
    "start_time": "2022-07-28T08:53:25.547Z"
   },
   {
    "duration": 9,
    "start_time": "2022-07-28T08:53:25.684Z"
   },
   {
    "duration": 21,
    "start_time": "2022-07-28T08:53:25.695Z"
   },
   {
    "duration": 121,
    "start_time": "2022-07-28T08:53:25.718Z"
   },
   {
    "duration": 129,
    "start_time": "2022-07-28T08:53:25.841Z"
   },
   {
    "duration": 9,
    "start_time": "2022-07-28T08:53:25.973Z"
   },
   {
    "duration": 20,
    "start_time": "2022-07-28T08:53:25.984Z"
   },
   {
    "duration": 120,
    "start_time": "2022-07-28T08:53:26.006Z"
   },
   {
    "duration": 164,
    "start_time": "2022-07-28T08:53:26.128Z"
   },
   {
    "duration": 11,
    "start_time": "2022-07-28T08:53:26.294Z"
   },
   {
    "duration": 36,
    "start_time": "2022-07-28T08:53:26.307Z"
   },
   {
    "duration": 68,
    "start_time": "2022-07-28T08:53:26.346Z"
   },
   {
    "duration": 21,
    "start_time": "2022-07-28T08:53:26.416Z"
   },
   {
    "duration": 12,
    "start_time": "2022-07-28T08:53:26.441Z"
   },
   {
    "duration": 6,
    "start_time": "2022-07-28T08:53:26.455Z"
   },
   {
    "duration": 45,
    "start_time": "2022-07-28T08:53:26.464Z"
   },
   {
    "duration": 23,
    "start_time": "2022-07-28T08:53:26.512Z"
   },
   {
    "duration": 498,
    "start_time": "2022-07-28T08:53:26.537Z"
   },
   {
    "duration": 8,
    "start_time": "2022-07-28T08:53:27.037Z"
   },
   {
    "duration": 32,
    "start_time": "2022-07-28T08:53:27.046Z"
   },
   {
    "duration": 12,
    "start_time": "2022-07-28T08:53:27.080Z"
   },
   {
    "duration": 17,
    "start_time": "2022-07-28T08:53:27.094Z"
   },
   {
    "duration": 19,
    "start_time": "2022-07-28T08:53:27.113Z"
   },
   {
    "duration": 304,
    "start_time": "2022-07-28T08:53:27.134Z"
   },
   {
    "duration": 6,
    "start_time": "2022-07-28T08:53:27.440Z"
   },
   {
    "duration": 53,
    "start_time": "2022-07-28T08:53:27.448Z"
   },
   {
    "duration": 16,
    "start_time": "2022-07-28T08:53:27.503Z"
   },
   {
    "duration": 25,
    "start_time": "2022-07-28T08:53:27.521Z"
   },
   {
    "duration": 65,
    "start_time": "2022-07-28T08:53:27.547Z"
   },
   {
    "duration": 20,
    "start_time": "2022-07-28T08:53:27.614Z"
   },
   {
    "duration": 301,
    "start_time": "2022-07-28T08:53:27.637Z"
   },
   {
    "duration": 311,
    "start_time": "2022-07-28T08:54:07.750Z"
   },
   {
    "duration": 265,
    "start_time": "2022-07-28T08:56:08.204Z"
   },
   {
    "duration": 113,
    "start_time": "2022-07-28T09:03:18.713Z"
   },
   {
    "duration": 4,
    "start_time": "2022-07-28T09:03:22.993Z"
   },
   {
    "duration": 67,
    "start_time": "2022-07-28T09:03:23.009Z"
   },
   {
    "duration": 14,
    "start_time": "2022-07-28T09:03:23.080Z"
   },
   {
    "duration": 29,
    "start_time": "2022-07-28T09:03:23.095Z"
   },
   {
    "duration": 22,
    "start_time": "2022-07-28T09:03:23.127Z"
   },
   {
    "duration": 50,
    "start_time": "2022-07-28T09:03:23.151Z"
   },
   {
    "duration": 19,
    "start_time": "2022-07-28T09:03:23.203Z"
   },
   {
    "duration": 40,
    "start_time": "2022-07-28T09:03:23.224Z"
   },
   {
    "duration": 63,
    "start_time": "2022-07-28T09:03:23.265Z"
   },
   {
    "duration": 33,
    "start_time": "2022-07-28T09:03:23.329Z"
   },
   {
    "duration": 34,
    "start_time": "2022-07-28T09:03:23.365Z"
   },
   {
    "duration": 31,
    "start_time": "2022-07-28T09:03:23.401Z"
   },
   {
    "duration": 19,
    "start_time": "2022-07-28T09:03:23.434Z"
   },
   {
    "duration": 39,
    "start_time": "2022-07-28T09:03:23.455Z"
   },
   {
    "duration": 44,
    "start_time": "2022-07-28T09:03:23.496Z"
   },
   {
    "duration": 9,
    "start_time": "2022-07-28T09:03:23.541Z"
   },
   {
    "duration": 49,
    "start_time": "2022-07-28T09:03:23.552Z"
   },
   {
    "duration": 25,
    "start_time": "2022-07-28T09:03:23.603Z"
   },
   {
    "duration": 23,
    "start_time": "2022-07-28T09:03:23.630Z"
   },
   {
    "duration": 44,
    "start_time": "2022-07-28T09:03:23.655Z"
   },
   {
    "duration": 23,
    "start_time": "2022-07-28T09:03:23.701Z"
   },
   {
    "duration": 36,
    "start_time": "2022-07-28T09:03:23.726Z"
   },
   {
    "duration": 60,
    "start_time": "2022-07-28T09:03:23.766Z"
   },
   {
    "duration": 19,
    "start_time": "2022-07-28T09:03:23.829Z"
   },
   {
    "duration": 10,
    "start_time": "2022-07-28T09:03:23.850Z"
   },
   {
    "duration": 53,
    "start_time": "2022-07-28T09:03:23.862Z"
   },
   {
    "duration": 11,
    "start_time": "2022-07-28T09:03:23.917Z"
   },
   {
    "duration": 13,
    "start_time": "2022-07-28T09:03:23.930Z"
   },
   {
    "duration": 15,
    "start_time": "2022-07-28T09:03:23.947Z"
   },
   {
    "duration": 34,
    "start_time": "2022-07-28T09:03:23.966Z"
   },
   {
    "duration": 7,
    "start_time": "2022-07-28T09:03:24.002Z"
   },
   {
    "duration": 20,
    "start_time": "2022-07-28T09:03:24.011Z"
   },
   {
    "duration": 5,
    "start_time": "2022-07-28T09:03:24.033Z"
   },
   {
    "duration": 37,
    "start_time": "2022-07-28T09:03:24.040Z"
   },
   {
    "duration": 20,
    "start_time": "2022-07-28T09:03:24.080Z"
   },
   {
    "duration": 12,
    "start_time": "2022-07-28T09:03:24.101Z"
   },
   {
    "duration": 10,
    "start_time": "2022-07-28T09:03:24.115Z"
   },
   {
    "duration": 87,
    "start_time": "2022-07-28T09:03:24.127Z"
   },
   {
    "duration": 11,
    "start_time": "2022-07-28T09:03:24.216Z"
   },
   {
    "duration": 19,
    "start_time": "2022-07-28T09:03:24.229Z"
   },
   {
    "duration": 18,
    "start_time": "2022-07-28T09:03:24.250Z"
   },
   {
    "duration": 22,
    "start_time": "2022-07-28T09:03:24.269Z"
   },
   {
    "duration": 17,
    "start_time": "2022-07-28T09:03:24.294Z"
   },
   {
    "duration": 131,
    "start_time": "2022-07-28T09:03:24.313Z"
   },
   {
    "duration": 159,
    "start_time": "2022-07-28T09:03:24.446Z"
   },
   {
    "duration": 8,
    "start_time": "2022-07-28T09:03:24.606Z"
   },
   {
    "duration": 30,
    "start_time": "2022-07-28T09:03:24.616Z"
   },
   {
    "duration": 125,
    "start_time": "2022-07-28T09:03:24.648Z"
   },
   {
    "duration": 115,
    "start_time": "2022-07-28T09:03:24.775Z"
   },
   {
    "duration": 7,
    "start_time": "2022-07-28T09:03:24.891Z"
   },
   {
    "duration": 16,
    "start_time": "2022-07-28T09:03:24.899Z"
   },
   {
    "duration": 140,
    "start_time": "2022-07-28T09:03:24.917Z"
   },
   {
    "duration": 257,
    "start_time": "2022-07-28T09:03:25.060Z"
   },
   {
    "duration": 10,
    "start_time": "2022-07-28T09:03:25.319Z"
   },
   {
    "duration": 40,
    "start_time": "2022-07-28T09:03:25.332Z"
   },
   {
    "duration": 135,
    "start_time": "2022-07-28T09:03:25.374Z"
   },
   {
    "duration": 133,
    "start_time": "2022-07-28T09:03:25.513Z"
   },
   {
    "duration": 21,
    "start_time": "2022-07-28T09:03:25.648Z"
   },
   {
    "duration": 17,
    "start_time": "2022-07-28T09:03:25.671Z"
   },
   {
    "duration": 25,
    "start_time": "2022-07-28T09:03:25.692Z"
   },
   {
    "duration": 7,
    "start_time": "2022-07-28T09:03:25.718Z"
   },
   {
    "duration": 8,
    "start_time": "2022-07-28T09:03:25.726Z"
   },
   {
    "duration": 32,
    "start_time": "2022-07-28T09:03:25.736Z"
   },
   {
    "duration": 8,
    "start_time": "2022-07-28T09:03:25.771Z"
   },
   {
    "duration": 15,
    "start_time": "2022-07-28T09:03:25.781Z"
   },
   {
    "duration": 387,
    "start_time": "2022-07-28T09:03:25.797Z"
   },
   {
    "duration": 8,
    "start_time": "2022-07-28T09:03:26.185Z"
   },
   {
    "duration": 20,
    "start_time": "2022-07-28T09:03:26.203Z"
   },
   {
    "duration": 21,
    "start_time": "2022-07-28T09:03:26.225Z"
   },
   {
    "duration": 44,
    "start_time": "2022-07-28T09:03:26.248Z"
   },
   {
    "duration": 34,
    "start_time": "2022-07-28T09:03:26.295Z"
   },
   {
    "duration": 399,
    "start_time": "2022-07-28T09:03:26.332Z"
   },
   {
    "duration": 7,
    "start_time": "2022-07-28T09:03:26.734Z"
   },
   {
    "duration": 18,
    "start_time": "2022-07-28T09:03:26.744Z"
   },
   {
    "duration": 26,
    "start_time": "2022-07-28T09:03:26.768Z"
   },
   {
    "duration": 12,
    "start_time": "2022-07-28T09:03:26.796Z"
   },
   {
    "duration": 16,
    "start_time": "2022-07-28T09:03:26.811Z"
   },
   {
    "duration": 8,
    "start_time": "2022-07-28T09:03:26.829Z"
   },
   {
    "duration": 299,
    "start_time": "2022-07-28T09:03:26.839Z"
   },
   {
    "duration": 275,
    "start_time": "2022-07-28T09:03:27.140Z"
   },
   {
    "duration": 261,
    "start_time": "2022-07-28T09:03:27.417Z"
   },
   {
    "duration": 9,
    "start_time": "2022-07-28T09:03:27.682Z"
   },
   {
    "duration": 10,
    "start_time": "2022-07-28T09:03:27.697Z"
   },
   {
    "duration": 11,
    "start_time": "2022-07-28T09:03:27.709Z"
   },
   {
    "duration": 7,
    "start_time": "2022-07-28T09:03:27.722Z"
   },
   {
    "duration": 7,
    "start_time": "2022-07-28T09:03:27.731Z"
   },
   {
    "duration": 169,
    "start_time": "2022-07-28T09:03:27.762Z"
   },
   {
    "duration": 5,
    "start_time": "2022-07-28T09:03:27.933Z"
   },
   {
    "duration": 173,
    "start_time": "2022-07-28T09:03:27.940Z"
   },
   {
    "duration": 4,
    "start_time": "2022-07-28T09:03:28.115Z"
   },
   {
    "duration": 37,
    "start_time": "2022-07-28T09:03:28.120Z"
   },
   {
    "duration": 57,
    "start_time": "2022-07-28T09:03:28.159Z"
   },
   {
    "duration": 37,
    "start_time": "2022-07-28T09:03:28.219Z"
   },
   {
    "duration": 62,
    "start_time": "2022-07-28T09:03:28.259Z"
   },
   {
    "duration": 60,
    "start_time": "2022-07-28T09:03:28.323Z"
   },
   {
    "duration": 24,
    "start_time": "2022-07-28T09:03:28.385Z"
   },
   {
    "duration": 31,
    "start_time": "2022-07-28T09:03:28.411Z"
   },
   {
    "duration": 23,
    "start_time": "2022-07-28T09:03:28.444Z"
   },
   {
    "duration": 32,
    "start_time": "2022-07-28T09:03:28.468Z"
   },
   {
    "duration": 36,
    "start_time": "2022-07-28T09:03:28.502Z"
   },
   {
    "duration": 16,
    "start_time": "2022-07-28T09:03:28.540Z"
   },
   {
    "duration": 30,
    "start_time": "2022-07-28T09:03:28.558Z"
   },
   {
    "duration": 16,
    "start_time": "2022-07-28T09:03:28.590Z"
   },
   {
    "duration": 15,
    "start_time": "2022-07-28T09:03:28.607Z"
   },
   {
    "duration": 131,
    "start_time": "2022-07-28T09:03:28.624Z"
   },
   {
    "duration": 41,
    "start_time": "2022-07-28T09:03:28.757Z"
   },
   {
    "duration": 30,
    "start_time": "2022-07-28T09:03:28.800Z"
   },
   {
    "duration": 47,
    "start_time": "2022-07-28T09:03:28.832Z"
   },
   {
    "duration": 24,
    "start_time": "2022-07-28T09:03:28.881Z"
   },
   {
    "duration": 26,
    "start_time": "2022-07-28T09:03:28.907Z"
   },
   {
    "duration": 25,
    "start_time": "2022-07-28T09:03:28.934Z"
   },
   {
    "duration": 33,
    "start_time": "2022-07-28T09:03:28.960Z"
   },
   {
    "duration": 33,
    "start_time": "2022-07-28T09:03:28.994Z"
   },
   {
    "duration": 16,
    "start_time": "2022-07-28T09:03:29.029Z"
   },
   {
    "duration": 37,
    "start_time": "2022-07-28T09:03:29.047Z"
   },
   {
    "duration": 19,
    "start_time": "2022-07-28T09:03:29.086Z"
   },
   {
    "duration": 0,
    "start_time": "2022-07-28T09:03:29.107Z"
   },
   {
    "duration": 0,
    "start_time": "2022-07-28T09:03:29.108Z"
   },
   {
    "duration": 0,
    "start_time": "2022-07-28T09:03:29.110Z"
   },
   {
    "duration": 0,
    "start_time": "2022-07-28T09:03:29.112Z"
   },
   {
    "duration": 0,
    "start_time": "2022-07-28T09:03:29.114Z"
   },
   {
    "duration": 0,
    "start_time": "2022-07-28T09:03:29.116Z"
   },
   {
    "duration": 0,
    "start_time": "2022-07-28T09:03:29.117Z"
   },
   {
    "duration": 0,
    "start_time": "2022-07-28T09:03:29.118Z"
   },
   {
    "duration": 0,
    "start_time": "2022-07-28T09:03:29.120Z"
   },
   {
    "duration": 0,
    "start_time": "2022-07-28T09:03:29.121Z"
   },
   {
    "duration": 0,
    "start_time": "2022-07-28T09:03:29.122Z"
   },
   {
    "duration": 0,
    "start_time": "2022-07-28T09:03:29.124Z"
   },
   {
    "duration": 0,
    "start_time": "2022-07-28T09:03:29.125Z"
   },
   {
    "duration": 0,
    "start_time": "2022-07-28T09:03:29.127Z"
   },
   {
    "duration": 0,
    "start_time": "2022-07-28T09:03:29.129Z"
   },
   {
    "duration": 16,
    "start_time": "2022-07-28T09:04:10.156Z"
   },
   {
    "duration": 4,
    "start_time": "2022-07-28T09:04:11.380Z"
   },
   {
    "duration": 5,
    "start_time": "2022-07-28T09:04:12.445Z"
   },
   {
    "duration": 1221,
    "start_time": "2022-07-28T09:04:19.002Z"
   },
   {
    "duration": 59,
    "start_time": "2022-07-28T09:04:20.225Z"
   },
   {
    "duration": 18,
    "start_time": "2022-07-28T09:04:20.285Z"
   },
   {
    "duration": 3,
    "start_time": "2022-07-28T09:04:20.305Z"
   },
   {
    "duration": 8,
    "start_time": "2022-07-28T09:04:20.310Z"
   },
   {
    "duration": 12,
    "start_time": "2022-07-28T09:04:20.320Z"
   },
   {
    "duration": 8,
    "start_time": "2022-07-28T09:04:20.334Z"
   },
   {
    "duration": 37,
    "start_time": "2022-07-28T09:04:20.363Z"
   },
   {
    "duration": 15,
    "start_time": "2022-07-28T09:04:20.402Z"
   },
   {
    "duration": 17,
    "start_time": "2022-07-28T09:04:20.420Z"
   },
   {
    "duration": 11,
    "start_time": "2022-07-28T09:04:20.439Z"
   },
   {
    "duration": 16,
    "start_time": "2022-07-28T09:04:20.452Z"
   },
   {
    "duration": 13,
    "start_time": "2022-07-28T09:04:20.477Z"
   },
   {
    "duration": 7,
    "start_time": "2022-07-28T09:04:20.492Z"
   },
   {
    "duration": 16,
    "start_time": "2022-07-28T09:04:20.501Z"
   },
   {
    "duration": 4,
    "start_time": "2022-07-28T09:04:20.519Z"
   },
   {
    "duration": 7,
    "start_time": "2022-07-28T09:04:20.524Z"
   },
   {
    "duration": 10,
    "start_time": "2022-07-28T09:04:20.533Z"
   },
   {
    "duration": 28,
    "start_time": "2022-07-28T09:04:20.545Z"
   },
   {
    "duration": 19,
    "start_time": "2022-07-28T09:04:20.575Z"
   },
   {
    "duration": 8,
    "start_time": "2022-07-28T09:04:20.596Z"
   },
   {
    "duration": 7,
    "start_time": "2022-07-28T09:04:20.606Z"
   },
   {
    "duration": 18,
    "start_time": "2022-07-28T09:04:20.615Z"
   },
   {
    "duration": 15,
    "start_time": "2022-07-28T09:04:20.635Z"
   },
   {
    "duration": 17,
    "start_time": "2022-07-28T09:04:20.652Z"
   },
   {
    "duration": 51,
    "start_time": "2022-07-28T09:04:20.671Z"
   },
   {
    "duration": 9,
    "start_time": "2022-07-28T09:04:20.724Z"
   },
   {
    "duration": 11,
    "start_time": "2022-07-28T09:04:20.739Z"
   },
   {
    "duration": 10,
    "start_time": "2022-07-28T09:04:20.752Z"
   },
   {
    "duration": 24,
    "start_time": "2022-07-28T09:04:20.763Z"
   },
   {
    "duration": 7,
    "start_time": "2022-07-28T09:04:20.789Z"
   },
   {
    "duration": 27,
    "start_time": "2022-07-28T09:04:20.798Z"
   },
   {
    "duration": 5,
    "start_time": "2022-07-28T09:04:20.827Z"
   },
   {
    "duration": 14,
    "start_time": "2022-07-28T09:04:20.834Z"
   },
   {
    "duration": 12,
    "start_time": "2022-07-28T09:04:20.850Z"
   },
   {
    "duration": 25,
    "start_time": "2022-07-28T09:04:20.868Z"
   },
   {
    "duration": 11,
    "start_time": "2022-07-28T09:04:20.896Z"
   },
   {
    "duration": 97,
    "start_time": "2022-07-28T09:04:20.909Z"
   },
   {
    "duration": 11,
    "start_time": "2022-07-28T09:04:21.008Z"
   },
   {
    "duration": 15,
    "start_time": "2022-07-28T09:04:21.022Z"
   },
   {
    "duration": 30,
    "start_time": "2022-07-28T09:04:21.039Z"
   },
   {
    "duration": 8,
    "start_time": "2022-07-28T09:04:21.078Z"
   },
   {
    "duration": 9,
    "start_time": "2022-07-28T09:04:21.088Z"
   },
   {
    "duration": 171,
    "start_time": "2022-07-28T09:04:21.100Z"
   },
   {
    "duration": 139,
    "start_time": "2022-07-28T09:04:21.272Z"
   },
   {
    "duration": 10,
    "start_time": "2022-07-28T09:04:21.412Z"
   },
   {
    "duration": 23,
    "start_time": "2022-07-28T09:04:21.425Z"
   },
   {
    "duration": 128,
    "start_time": "2022-07-28T09:04:21.450Z"
   },
   {
    "duration": 122,
    "start_time": "2022-07-28T09:04:21.580Z"
   },
   {
    "duration": 7,
    "start_time": "2022-07-28T09:04:21.704Z"
   },
   {
    "duration": 20,
    "start_time": "2022-07-28T09:04:21.712Z"
   },
   {
    "duration": 131,
    "start_time": "2022-07-28T09:04:21.733Z"
   },
   {
    "duration": 137,
    "start_time": "2022-07-28T09:04:21.865Z"
   },
   {
    "duration": 7,
    "start_time": "2022-07-28T09:04:22.004Z"
   },
   {
    "duration": 18,
    "start_time": "2022-07-28T09:04:22.013Z"
   },
   {
    "duration": 119,
    "start_time": "2022-07-28T09:04:22.032Z"
   },
   {
    "duration": 148,
    "start_time": "2022-07-28T09:04:22.152Z"
   },
   {
    "duration": 8,
    "start_time": "2022-07-28T09:04:22.302Z"
   },
   {
    "duration": 17,
    "start_time": "2022-07-28T09:04:22.312Z"
   },
   {
    "duration": 54,
    "start_time": "2022-07-28T09:04:22.331Z"
   },
   {
    "duration": 7,
    "start_time": "2022-07-28T09:04:22.386Z"
   },
   {
    "duration": 10,
    "start_time": "2022-07-28T09:04:22.394Z"
   },
   {
    "duration": 7,
    "start_time": "2022-07-28T09:04:22.406Z"
   },
   {
    "duration": 11,
    "start_time": "2022-07-28T09:04:22.415Z"
   },
   {
    "duration": 9,
    "start_time": "2022-07-28T09:04:22.428Z"
   },
   {
    "duration": 483,
    "start_time": "2022-07-28T09:04:22.439Z"
   },
   {
    "duration": 8,
    "start_time": "2022-07-28T09:04:22.924Z"
   },
   {
    "duration": 16,
    "start_time": "2022-07-28T09:04:22.935Z"
   },
   {
    "duration": 23,
    "start_time": "2022-07-28T09:04:22.960Z"
   },
   {
    "duration": 20,
    "start_time": "2022-07-28T09:04:22.985Z"
   },
   {
    "duration": 19,
    "start_time": "2022-07-28T09:04:23.008Z"
   },
   {
    "duration": 293,
    "start_time": "2022-07-28T09:04:23.029Z"
   },
   {
    "duration": 7,
    "start_time": "2022-07-28T09:04:23.324Z"
   },
   {
    "duration": 16,
    "start_time": "2022-07-28T09:04:23.333Z"
   },
   {
    "duration": 11,
    "start_time": "2022-07-28T09:04:23.363Z"
   },
   {
    "duration": 20,
    "start_time": "2022-07-28T09:04:23.376Z"
   },
   {
    "duration": 21,
    "start_time": "2022-07-28T09:04:23.399Z"
   },
   {
    "duration": 12,
    "start_time": "2022-07-28T09:04:23.422Z"
   },
   {
    "duration": 345,
    "start_time": "2022-07-28T09:04:23.436Z"
   },
   {
    "duration": 273,
    "start_time": "2022-07-28T09:04:23.782Z"
   },
   {
    "duration": 240,
    "start_time": "2022-07-28T09:04:24.060Z"
   },
   {
    "duration": 8,
    "start_time": "2022-07-28T09:04:24.308Z"
   },
   {
    "duration": 13,
    "start_time": "2022-07-28T09:04:24.317Z"
   },
   {
    "duration": 10,
    "start_time": "2022-07-28T09:04:24.332Z"
   },
   {
    "duration": 12,
    "start_time": "2022-07-28T09:04:24.363Z"
   },
   {
    "duration": 13,
    "start_time": "2022-07-28T09:04:24.378Z"
   },
   {
    "duration": 171,
    "start_time": "2022-07-28T09:04:24.393Z"
   },
   {
    "duration": 7,
    "start_time": "2022-07-28T09:04:24.572Z"
   },
   {
    "duration": 164,
    "start_time": "2022-07-28T09:04:24.582Z"
   },
   {
    "duration": 6,
    "start_time": "2022-07-28T09:04:24.748Z"
   },
   {
    "duration": 37,
    "start_time": "2022-07-28T09:04:24.755Z"
   },
   {
    "duration": 7,
    "start_time": "2022-07-28T09:04:24.794Z"
   },
   {
    "duration": 8,
    "start_time": "2022-07-28T09:04:24.803Z"
   },
   {
    "duration": 6,
    "start_time": "2022-07-28T09:04:24.813Z"
   },
   {
    "duration": 11,
    "start_time": "2022-07-28T09:04:24.821Z"
   },
   {
    "duration": 12,
    "start_time": "2022-07-28T09:04:24.834Z"
   },
   {
    "duration": 26,
    "start_time": "2022-07-28T09:04:24.848Z"
   },
   {
    "duration": 9,
    "start_time": "2022-07-28T09:04:24.878Z"
   },
   {
    "duration": 5,
    "start_time": "2022-07-28T09:04:24.889Z"
   },
   {
    "duration": 14,
    "start_time": "2022-07-28T09:04:24.896Z"
   },
   {
    "duration": 8,
    "start_time": "2022-07-28T09:04:24.912Z"
   },
   {
    "duration": 5,
    "start_time": "2022-07-28T09:04:24.922Z"
   },
   {
    "duration": 7,
    "start_time": "2022-07-28T09:04:24.929Z"
   },
   {
    "duration": 8,
    "start_time": "2022-07-28T09:04:24.938Z"
   },
   {
    "duration": 8,
    "start_time": "2022-07-28T09:04:24.948Z"
   },
   {
    "duration": 27,
    "start_time": "2022-07-28T09:04:24.958Z"
   },
   {
    "duration": 6,
    "start_time": "2022-07-28T09:04:24.987Z"
   },
   {
    "duration": 8,
    "start_time": "2022-07-28T09:04:24.995Z"
   },
   {
    "duration": 18,
    "start_time": "2022-07-28T09:04:25.005Z"
   },
   {
    "duration": 9,
    "start_time": "2022-07-28T09:04:25.025Z"
   },
   {
    "duration": 10,
    "start_time": "2022-07-28T09:04:25.036Z"
   },
   {
    "duration": 11,
    "start_time": "2022-07-28T09:04:25.047Z"
   },
   {
    "duration": 42,
    "start_time": "2022-07-28T09:04:25.060Z"
   },
   {
    "duration": 8,
    "start_time": "2022-07-28T09:04:25.104Z"
   },
   {
    "duration": 7,
    "start_time": "2022-07-28T09:04:25.114Z"
   },
   {
    "duration": 10,
    "start_time": "2022-07-28T09:04:25.123Z"
   },
   {
    "duration": 8,
    "start_time": "2022-07-28T09:04:25.136Z"
   },
   {
    "duration": 6,
    "start_time": "2022-07-28T09:04:25.146Z"
   },
   {
    "duration": 28,
    "start_time": "2022-07-28T09:04:25.154Z"
   },
   {
    "duration": 7,
    "start_time": "2022-07-28T09:04:25.184Z"
   },
   {
    "duration": 7,
    "start_time": "2022-07-28T09:04:25.192Z"
   },
   {
    "duration": 15,
    "start_time": "2022-07-28T09:04:25.201Z"
   },
   {
    "duration": 12,
    "start_time": "2022-07-28T09:04:25.218Z"
   },
   {
    "duration": 15,
    "start_time": "2022-07-28T09:04:25.232Z"
   },
   {
    "duration": 37,
    "start_time": "2022-07-28T09:04:25.249Z"
   },
   {
    "duration": 9,
    "start_time": "2022-07-28T09:04:25.288Z"
   },
   {
    "duration": 7,
    "start_time": "2022-07-28T09:04:25.299Z"
   },
   {
    "duration": 21,
    "start_time": "2022-07-28T09:04:25.308Z"
   },
   {
    "duration": 15,
    "start_time": "2022-07-28T09:04:25.331Z"
   },
   {
    "duration": 11,
    "start_time": "2022-07-28T09:04:25.348Z"
   },
   {
    "duration": 417,
    "start_time": "2022-07-28T09:04:25.361Z"
   },
   {
    "duration": 10,
    "start_time": "2022-07-28T09:04:25.780Z"
   },
   {
    "duration": 10,
    "start_time": "2022-07-28T09:04:25.791Z"
   },
   {
    "duration": 9,
    "start_time": "2022-07-28T09:04:25.803Z"
   },
   {
    "duration": 12,
    "start_time": "2022-07-28T09:04:25.814Z"
   },
   {
    "duration": 11,
    "start_time": "2022-07-28T09:04:25.828Z"
   },
   {
    "duration": 26,
    "start_time": "2022-07-28T09:04:25.842Z"
   },
   {
    "duration": 17,
    "start_time": "2022-07-28T09:04:25.869Z"
   },
   {
    "duration": 15,
    "start_time": "2022-07-28T09:04:25.888Z"
   },
   {
    "duration": 11,
    "start_time": "2022-07-28T09:04:25.905Z"
   },
   {
    "duration": 8,
    "start_time": "2022-07-28T09:04:25.918Z"
   },
   {
    "duration": 6,
    "start_time": "2022-07-28T09:04:25.928Z"
   },
   {
    "duration": 12,
    "start_time": "2022-07-28T09:04:25.936Z"
   },
   {
    "duration": 667,
    "start_time": "2022-07-28T09:04:25.949Z"
   },
   {
    "duration": 5,
    "start_time": "2022-07-28T09:04:26.619Z"
   },
   {
    "duration": 21,
    "start_time": "2022-07-28T09:04:26.626Z"
   },
   {
    "duration": 43,
    "start_time": "2022-07-28T09:04:26.650Z"
   },
   {
    "duration": 22,
    "start_time": "2022-07-28T09:04:26.695Z"
   },
   {
    "duration": 12,
    "start_time": "2022-07-28T09:04:26.719Z"
   },
   {
    "duration": 14,
    "start_time": "2022-07-28T09:04:26.732Z"
   },
   {
    "duration": 14,
    "start_time": "2022-07-28T09:04:26.747Z"
   },
   {
    "duration": 25,
    "start_time": "2022-07-28T09:04:26.763Z"
   },
   {
    "duration": 8,
    "start_time": "2022-07-28T09:04:26.790Z"
   },
   {
    "duration": 20,
    "start_time": "2022-07-28T09:04:26.800Z"
   },
   {
    "duration": 19,
    "start_time": "2022-07-28T09:04:26.821Z"
   },
   {
    "duration": 13,
    "start_time": "2022-07-28T09:04:26.842Z"
   },
   {
    "duration": 33,
    "start_time": "2022-07-28T09:04:26.856Z"
   },
   {
    "duration": 20,
    "start_time": "2022-07-28T09:04:26.891Z"
   },
   {
    "duration": 25,
    "start_time": "2022-07-28T09:04:26.913Z"
   },
   {
    "duration": 19,
    "start_time": "2022-07-28T09:04:26.940Z"
   },
   {
    "duration": 33,
    "start_time": "2022-07-28T09:04:26.960Z"
   },
   {
    "duration": 30,
    "start_time": "2022-07-28T09:04:26.994Z"
   },
   {
    "duration": 32,
    "start_time": "2022-07-28T09:04:27.025Z"
   },
   {
    "duration": 30,
    "start_time": "2022-07-28T09:04:27.058Z"
   },
   {
    "duration": 14,
    "start_time": "2022-07-28T09:04:27.090Z"
   },
   {
    "duration": 25,
    "start_time": "2022-07-28T09:04:27.105Z"
   },
   {
    "duration": 18,
    "start_time": "2022-07-28T09:04:27.132Z"
   },
   {
    "duration": 27,
    "start_time": "2022-07-28T09:04:27.152Z"
   },
   {
    "duration": 420,
    "start_time": "2022-07-28T09:05:09.226Z"
   },
   {
    "duration": 1248,
    "start_time": "2022-07-28T09:05:54.933Z"
   },
   {
    "duration": 92,
    "start_time": "2022-07-28T09:05:56.183Z"
   },
   {
    "duration": 23,
    "start_time": "2022-07-28T09:05:56.281Z"
   },
   {
    "duration": 4,
    "start_time": "2022-07-28T09:05:56.310Z"
   },
   {
    "duration": 19,
    "start_time": "2022-07-28T09:05:56.317Z"
   },
   {
    "duration": 14,
    "start_time": "2022-07-28T09:05:56.339Z"
   },
   {
    "duration": 30,
    "start_time": "2022-07-28T09:05:56.355Z"
   },
   {
    "duration": 27,
    "start_time": "2022-07-28T09:05:56.387Z"
   },
   {
    "duration": 11,
    "start_time": "2022-07-28T09:05:56.416Z"
   },
   {
    "duration": 5,
    "start_time": "2022-07-28T09:05:56.431Z"
   },
   {
    "duration": 20,
    "start_time": "2022-07-28T09:05:56.437Z"
   },
   {
    "duration": 35,
    "start_time": "2022-07-28T09:05:56.459Z"
   },
   {
    "duration": 13,
    "start_time": "2022-07-28T09:05:56.496Z"
   },
   {
    "duration": 17,
    "start_time": "2022-07-28T09:05:56.512Z"
   },
   {
    "duration": 52,
    "start_time": "2022-07-28T09:05:56.532Z"
   },
   {
    "duration": 7,
    "start_time": "2022-07-28T09:05:56.586Z"
   },
   {
    "duration": 17,
    "start_time": "2022-07-28T09:05:56.595Z"
   },
   {
    "duration": 25,
    "start_time": "2022-07-28T09:05:56.615Z"
   },
   {
    "duration": 27,
    "start_time": "2022-07-28T09:05:56.642Z"
   },
   {
    "duration": 27,
    "start_time": "2022-07-28T09:05:56.671Z"
   },
   {
    "duration": 11,
    "start_time": "2022-07-28T09:05:56.700Z"
   },
   {
    "duration": 11,
    "start_time": "2022-07-28T09:05:56.713Z"
   },
   {
    "duration": 19,
    "start_time": "2022-07-28T09:05:56.726Z"
   },
   {
    "duration": 22,
    "start_time": "2022-07-28T09:05:56.746Z"
   },
   {
    "duration": 30,
    "start_time": "2022-07-28T09:05:56.771Z"
   },
   {
    "duration": 25,
    "start_time": "2022-07-28T09:05:56.804Z"
   },
   {
    "duration": 12,
    "start_time": "2022-07-28T09:05:56.831Z"
   },
   {
    "duration": 13,
    "start_time": "2022-07-28T09:05:56.849Z"
   },
   {
    "duration": 24,
    "start_time": "2022-07-28T09:05:56.870Z"
   },
   {
    "duration": 13,
    "start_time": "2022-07-28T09:05:56.897Z"
   },
   {
    "duration": 5,
    "start_time": "2022-07-28T09:05:56.912Z"
   },
   {
    "duration": 23,
    "start_time": "2022-07-28T09:05:56.919Z"
   },
   {
    "duration": 7,
    "start_time": "2022-07-28T09:05:56.944Z"
   },
   {
    "duration": 27,
    "start_time": "2022-07-28T09:05:56.953Z"
   },
   {
    "duration": 12,
    "start_time": "2022-07-28T09:05:56.983Z"
   },
   {
    "duration": 19,
    "start_time": "2022-07-28T09:05:56.997Z"
   },
   {
    "duration": 20,
    "start_time": "2022-07-28T09:05:57.019Z"
   },
   {
    "duration": 91,
    "start_time": "2022-07-28T09:05:57.041Z"
   },
   {
    "duration": 11,
    "start_time": "2022-07-28T09:05:57.134Z"
   },
   {
    "duration": 14,
    "start_time": "2022-07-28T09:05:57.162Z"
   },
   {
    "duration": 17,
    "start_time": "2022-07-28T09:05:57.177Z"
   },
   {
    "duration": 5,
    "start_time": "2022-07-28T09:05:57.196Z"
   },
   {
    "duration": 8,
    "start_time": "2022-07-28T09:05:57.203Z"
   },
   {
    "duration": 136,
    "start_time": "2022-07-28T09:05:57.213Z"
   },
   {
    "duration": 132,
    "start_time": "2022-07-28T09:05:57.351Z"
   },
   {
    "duration": 7,
    "start_time": "2022-07-28T09:05:57.484Z"
   },
   {
    "duration": 17,
    "start_time": "2022-07-28T09:05:57.493Z"
   },
   {
    "duration": 137,
    "start_time": "2022-07-28T09:05:57.511Z"
   },
   {
    "duration": 103,
    "start_time": "2022-07-28T09:05:57.650Z"
   },
   {
    "duration": 15,
    "start_time": "2022-07-28T09:05:57.755Z"
   },
   {
    "duration": 40,
    "start_time": "2022-07-28T09:05:57.771Z"
   },
   {
    "duration": 108,
    "start_time": "2022-07-28T09:05:57.813Z"
   },
   {
    "duration": 134,
    "start_time": "2022-07-28T09:05:57.923Z"
   },
   {
    "duration": 16,
    "start_time": "2022-07-28T09:05:58.063Z"
   },
   {
    "duration": 20,
    "start_time": "2022-07-28T09:05:58.081Z"
   },
   {
    "duration": 110,
    "start_time": "2022-07-28T09:05:58.103Z"
   },
   {
    "duration": 131,
    "start_time": "2022-07-28T09:05:58.216Z"
   },
   {
    "duration": 23,
    "start_time": "2022-07-28T09:05:58.349Z"
   },
   {
    "duration": 26,
    "start_time": "2022-07-28T09:05:58.377Z"
   },
   {
    "duration": 34,
    "start_time": "2022-07-28T09:05:58.406Z"
   },
   {
    "duration": 6,
    "start_time": "2022-07-28T09:05:58.442Z"
   },
   {
    "duration": 12,
    "start_time": "2022-07-28T09:05:58.450Z"
   },
   {
    "duration": 13,
    "start_time": "2022-07-28T09:05:58.464Z"
   },
   {
    "duration": 13,
    "start_time": "2022-07-28T09:05:58.479Z"
   },
   {
    "duration": 7,
    "start_time": "2022-07-28T09:05:58.493Z"
   },
   {
    "duration": 451,
    "start_time": "2022-07-28T09:05:58.502Z"
   },
   {
    "duration": 16,
    "start_time": "2022-07-28T09:05:58.955Z"
   },
   {
    "duration": 17,
    "start_time": "2022-07-28T09:05:58.976Z"
   },
   {
    "duration": 16,
    "start_time": "2022-07-28T09:05:58.995Z"
   },
   {
    "duration": 19,
    "start_time": "2022-07-28T09:05:59.012Z"
   },
   {
    "duration": 23,
    "start_time": "2022-07-28T09:05:59.032Z"
   },
   {
    "duration": 316,
    "start_time": "2022-07-28T09:05:59.063Z"
   },
   {
    "duration": 7,
    "start_time": "2022-07-28T09:05:59.381Z"
   },
   {
    "duration": 14,
    "start_time": "2022-07-28T09:05:59.390Z"
   },
   {
    "duration": 17,
    "start_time": "2022-07-28T09:05:59.405Z"
   },
   {
    "duration": 14,
    "start_time": "2022-07-28T09:05:59.424Z"
   },
   {
    "duration": 31,
    "start_time": "2022-07-28T09:05:59.439Z"
   },
   {
    "duration": 31,
    "start_time": "2022-07-28T09:05:59.475Z"
   },
   {
    "duration": 311,
    "start_time": "2022-07-28T09:05:59.509Z"
   },
   {
    "duration": 269,
    "start_time": "2022-07-28T09:05:59.822Z"
   },
   {
    "duration": 292,
    "start_time": "2022-07-28T09:06:00.093Z"
   },
   {
    "duration": 10,
    "start_time": "2022-07-28T09:06:00.400Z"
   },
   {
    "duration": 23,
    "start_time": "2022-07-28T09:06:00.412Z"
   },
   {
    "duration": 12,
    "start_time": "2022-07-28T09:06:00.437Z"
   },
   {
    "duration": 47,
    "start_time": "2022-07-28T09:06:00.452Z"
   },
   {
    "duration": 20,
    "start_time": "2022-07-28T09:06:00.501Z"
   },
   {
    "duration": 223,
    "start_time": "2022-07-28T09:06:00.524Z"
   },
   {
    "duration": 5,
    "start_time": "2022-07-28T09:06:00.749Z"
   },
   {
    "duration": 276,
    "start_time": "2022-07-28T09:06:00.763Z"
   },
   {
    "duration": 5,
    "start_time": "2022-07-28T09:06:01.041Z"
   },
   {
    "duration": 37,
    "start_time": "2022-07-28T09:06:01.060Z"
   },
   {
    "duration": 24,
    "start_time": "2022-07-28T09:06:01.099Z"
   },
   {
    "duration": 42,
    "start_time": "2022-07-28T09:06:01.125Z"
   },
   {
    "duration": 65,
    "start_time": "2022-07-28T09:06:01.169Z"
   },
   {
    "duration": 48,
    "start_time": "2022-07-28T09:06:01.236Z"
   },
   {
    "duration": 23,
    "start_time": "2022-07-28T09:06:01.286Z"
   },
   {
    "duration": 25,
    "start_time": "2022-07-28T09:06:01.311Z"
   },
   {
    "duration": 49,
    "start_time": "2022-07-28T09:06:01.337Z"
   },
   {
    "duration": 24,
    "start_time": "2022-07-28T09:06:01.388Z"
   },
   {
    "duration": 23,
    "start_time": "2022-07-28T09:06:01.414Z"
   },
   {
    "duration": 18,
    "start_time": "2022-07-28T09:06:01.439Z"
   },
   {
    "duration": 38,
    "start_time": "2022-07-28T09:06:01.460Z"
   },
   {
    "duration": 24,
    "start_time": "2022-07-28T09:06:01.500Z"
   },
   {
    "duration": 14,
    "start_time": "2022-07-28T09:06:01.525Z"
   },
   {
    "duration": 26,
    "start_time": "2022-07-28T09:06:01.541Z"
   },
   {
    "duration": 48,
    "start_time": "2022-07-28T09:06:01.569Z"
   },
   {
    "duration": 51,
    "start_time": "2022-07-28T09:06:01.619Z"
   },
   {
    "duration": 35,
    "start_time": "2022-07-28T09:06:01.672Z"
   },
   {
    "duration": 15,
    "start_time": "2022-07-28T09:06:01.708Z"
   },
   {
    "duration": 16,
    "start_time": "2022-07-28T09:06:01.725Z"
   },
   {
    "duration": 27,
    "start_time": "2022-07-28T09:06:01.743Z"
   },
   {
    "duration": 34,
    "start_time": "2022-07-28T09:06:01.772Z"
   },
   {
    "duration": 33,
    "start_time": "2022-07-28T09:06:01.808Z"
   },
   {
    "duration": 22,
    "start_time": "2022-07-28T09:06:01.843Z"
   },
   {
    "duration": 28,
    "start_time": "2022-07-28T09:06:01.867Z"
   },
   {
    "duration": 31,
    "start_time": "2022-07-28T09:06:01.896Z"
   },
   {
    "duration": 25,
    "start_time": "2022-07-28T09:06:01.929Z"
   },
   {
    "duration": 52,
    "start_time": "2022-07-28T09:06:01.956Z"
   },
   {
    "duration": 32,
    "start_time": "2022-07-28T09:06:02.009Z"
   },
   {
    "duration": 68,
    "start_time": "2022-07-28T09:06:02.042Z"
   },
   {
    "duration": 49,
    "start_time": "2022-07-28T09:06:02.113Z"
   },
   {
    "duration": 45,
    "start_time": "2022-07-28T09:06:02.164Z"
   },
   {
    "duration": 15,
    "start_time": "2022-07-28T09:06:02.211Z"
   },
   {
    "duration": 30,
    "start_time": "2022-07-28T09:06:02.227Z"
   },
   {
    "duration": 33,
    "start_time": "2022-07-28T09:06:02.266Z"
   },
   {
    "duration": 16,
    "start_time": "2022-07-28T09:06:02.301Z"
   },
   {
    "duration": 21,
    "start_time": "2022-07-28T09:06:02.319Z"
   },
   {
    "duration": 13,
    "start_time": "2022-07-28T09:06:02.342Z"
   },
   {
    "duration": 13,
    "start_time": "2022-07-28T09:06:02.357Z"
   },
   {
    "duration": 32,
    "start_time": "2022-07-28T09:06:02.372Z"
   },
   {
    "duration": 456,
    "start_time": "2022-07-28T09:06:02.406Z"
   },
   {
    "duration": 253,
    "start_time": "2022-07-28T09:06:02.865Z"
   },
   {
    "duration": 12,
    "start_time": "2022-07-28T09:06:03.120Z"
   },
   {
    "duration": 20,
    "start_time": "2022-07-28T09:06:03.134Z"
   },
   {
    "duration": 18,
    "start_time": "2022-07-28T09:06:03.161Z"
   },
   {
    "duration": 19,
    "start_time": "2022-07-28T09:06:03.186Z"
   },
   {
    "duration": 12,
    "start_time": "2022-07-28T09:06:03.207Z"
   },
   {
    "duration": 14,
    "start_time": "2022-07-28T09:06:03.221Z"
   },
   {
    "duration": 10,
    "start_time": "2022-07-28T09:06:03.237Z"
   },
   {
    "duration": 48,
    "start_time": "2022-07-28T09:06:03.248Z"
   },
   {
    "duration": 21,
    "start_time": "2022-07-28T09:06:03.300Z"
   },
   {
    "duration": 8,
    "start_time": "2022-07-28T09:06:03.323Z"
   },
   {
    "duration": 9,
    "start_time": "2022-07-28T09:06:03.334Z"
   },
   {
    "duration": 10,
    "start_time": "2022-07-28T09:06:03.345Z"
   },
   {
    "duration": 843,
    "start_time": "2022-07-28T09:06:03.357Z"
   },
   {
    "duration": 60,
    "start_time": "2022-07-28T09:06:04.202Z"
   },
   {
    "duration": 8,
    "start_time": "2022-07-28T09:06:04.270Z"
   },
   {
    "duration": 53,
    "start_time": "2022-07-28T09:06:04.285Z"
   },
   {
    "duration": 5,
    "start_time": "2022-07-28T09:06:04.364Z"
   },
   {
    "duration": 55,
    "start_time": "2022-07-28T09:06:04.371Z"
   },
   {
    "duration": 61,
    "start_time": "2022-07-28T09:06:04.429Z"
   },
   {
    "duration": 18,
    "start_time": "2022-07-28T09:06:04.492Z"
   },
   {
    "duration": 66,
    "start_time": "2022-07-28T09:06:04.512Z"
   },
   {
    "duration": 52,
    "start_time": "2022-07-28T09:06:04.581Z"
   },
   {
    "duration": 58,
    "start_time": "2022-07-28T09:06:04.635Z"
   },
   {
    "duration": 42,
    "start_time": "2022-07-28T09:06:04.696Z"
   },
   {
    "duration": 7,
    "start_time": "2022-07-28T09:06:04.760Z"
   },
   {
    "duration": 25,
    "start_time": "2022-07-28T09:06:04.768Z"
   },
   {
    "duration": 7,
    "start_time": "2022-07-28T09:06:04.794Z"
   },
   {
    "duration": 8,
    "start_time": "2022-07-28T09:06:04.803Z"
   },
   {
    "duration": 9,
    "start_time": "2022-07-28T09:06:04.813Z"
   },
   {
    "duration": 7,
    "start_time": "2022-07-28T09:06:04.867Z"
   },
   {
    "duration": 20,
    "start_time": "2022-07-28T09:06:04.876Z"
   },
   {
    "duration": 11,
    "start_time": "2022-07-28T09:06:04.898Z"
   },
   {
    "duration": 55,
    "start_time": "2022-07-28T09:06:04.911Z"
   },
   {
    "duration": 30,
    "start_time": "2022-07-28T09:06:04.968Z"
   },
   {
    "duration": 13,
    "start_time": "2022-07-28T09:06:05.000Z"
   },
   {
    "duration": 7,
    "start_time": "2022-07-28T09:06:05.015Z"
   },
   {
    "duration": 11,
    "start_time": "2022-07-28T09:06:05.023Z"
   }
  ],
  "kernelspec": {
   "display_name": "Python 3 (ipykernel)",
   "language": "python",
   "name": "python3"
  },
  "language_info": {
   "codemirror_mode": {
    "name": "ipython",
    "version": 3
   },
   "file_extension": ".py",
   "mimetype": "text/x-python",
   "name": "python",
   "nbconvert_exporter": "python",
   "pygments_lexer": "ipython3",
   "version": "3.9.5"
  },
  "toc": {
   "base_numbering": 1,
   "nav_menu": {},
   "number_sections": true,
   "sideBar": true,
   "skip_h1_title": true,
   "title_cell": "Table of Contents",
   "title_sidebar": "Contents",
   "toc_cell": false,
   "toc_position": {
    "height": "calc(100% - 180px)",
    "left": "10px",
    "top": "150px",
    "width": "165px"
   },
   "toc_section_display": true,
   "toc_window_display": true
  }
 },
 "nbformat": 4,
 "nbformat_minor": 2
}
